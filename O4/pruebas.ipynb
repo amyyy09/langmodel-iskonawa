{
 "cells": [
  {
   "cell_type": "code",
   "execution_count": 1,
   "metadata": {},
   "outputs": [],
   "source": [
    "def load_word_pairs(file_path):\n",
    "    \"\"\"\n",
    "    Load word pairs from a text file.\n",
    "\n",
    "    Args:\n",
    "        file_path (str): The relative path to the text file.\n",
    "\n",
    "    Returns:\n",
    "        tuple: Two lists, one for source words and one for target words.\n",
    "    \"\"\"\n",
    "    src_words = []\n",
    "    tgt_words = []\n",
    "\n",
    "    with open(file_path, 'r', encoding='utf-8') as file:\n",
    "        for line in file:\n",
    "            src_word, tgt_word = line.strip().split(' - ')\n",
    "            src_words.append(src_word)\n",
    "            tgt_words.append(tgt_word)\n",
    "\n",
    "    return src_words, tgt_words"
   ]
  },
  {
   "cell_type": "code",
   "execution_count": null,
   "metadata": {},
   "outputs": [],
   "source": [
    "file_path = \"bilingual_dict/model/data/traintest.txt\"\n",
    "src_words, tgt_words = load_word_pairs(file_path)"
   ]
  },
  {
   "cell_type": "code",
   "execution_count": null,
   "metadata": {},
   "outputs": [],
   "source": []
  }
 ],
 "metadata": {
  "kernelspec": {
   "display_name": ".venv",
   "language": "python",
   "name": "python3"
  },
  "language_info": {
   "codemirror_mode": {
    "name": "ipython",
    "version": 3
   },
   "file_extension": ".py",
   "mimetype": "text/x-python",
   "name": "python",
   "nbconvert_exporter": "python",
   "pygments_lexer": "ipython3",
   "version": "3.11.4"
  }
 },
 "nbformat": 4,
 "nbformat_minor": 2
}
