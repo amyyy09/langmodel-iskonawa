{
 "cells": [
  {
   "cell_type": "code",
   "execution_count": 3,
   "metadata": {},
   "outputs": [],
   "source": [
    "import pandas as pd\n",
    "import numpy as np\n",
    "import os\n",
    "import re"
   ]
  },
  {
   "cell_type": "code",
   "execution_count": 10,
   "metadata": {},
   "outputs": [
    {
     "name": "stdout",
     "output_type": "stream",
     "text": [
      "      Palabra  Cuenta\n",
      "0               59428\n",
      "1           i    1092\n",
      "2           a     900\n",
      "3          ka     694\n",
      "4          ik     593\n",
      "...       ...     ...\n",
      "1213   mashka       1\n",
      "1214    Cinco       1\n",
      "1215  faltaba       1\n",
      "1216  canasta       1\n",
      "1217   senean       1\n",
      "\n",
      "[1218 rows x 2 columns]\n"
     ]
    }
   ],
   "source": [
    "cuenta_dict = {}\n",
    "palabras_unicas = set()\n",
    "\n",
    "for filename in os.listdir('data'):\n",
    "    #Si el archivo es un .txt\n",
    "    if filename.endswith('.txt'):\n",
    "        #Se abre el archivo\n",
    "        #Saltar el archivo 'textos/DICCIONARIOISKONAWA7.txt' porque no es un archivo de texto\n",
    "        if filename == 'DICCIONARIOISKONAWA7.txt':\n",
    "            continue\n",
    "        with open('data/'+filename) as file:\n",
    "            #Se lee el archivo\n",
    "            texto = file.read()\n",
    "            #Por cada linea en el archivo\n",
    "            for line in texto.split('\\n'):\n",
    "                #Se busca la palabra '\\trs'\n",
    "                if re.search(r'\\\\mb', line):\n",
    "                    #obtener las palabras separadas por '\\t' o '\\s' en la linea\n",
    "                    palabras = re.split(r'\\\\mb', line)\n",
    "                    palabras = re.split(r'\\s|\\t', palabras[1])\n",
    "                    #Por cada palabra en la linea\n",
    "                    #quitar el '-' del inicio de la palabra si existe\n",
    "                    for palabra in palabras:\n",
    "                        palabra = re.sub(r'-', '', palabra)\n",
    "                        palabra = re.sub(r'=', '', palabra)\n",
    "                        palabra = palabra.strip()\n",
    "                        #Si la palabra no esta en el diccionario\n",
    "                        if palabra not in cuenta_dict:\n",
    "                            #Se agrega la palabra al diccionario\n",
    "                            cuenta_dict[palabra] = 1\n",
    "                        else:\n",
    "                            #Se incrementa la cuenta de la palabra\n",
    "                            cuenta_dict[palabra] += 1\n",
    "                        #Se agrega la palabra al conjunto de palabras unicas\n",
    "                        palabras_unicas.add(palabra)\n",
    "\n",
    "#Se crea un DataFrame con las palabras y sus cuentas\n",
    "df = pd.DataFrame(list(cuenta_dict.items()), columns=['Palabra', 'Cuenta'])\n",
    "#Se ordena el DataFrame por la cuenta de las palabras\n",
    "df = df.sort_values(by='Cuenta', ascending=False)\n",
    "#Se reinicia el indice del DataFrame\n",
    "df = df.reset_index(drop=True)\n",
    "#Se imprime el DataFrame\n",
    "print(df)"
   ]
  },
  {
   "cell_type": "code",
   "execution_count": 11,
   "metadata": {},
   "outputs": [],
   "source": [
    "df.to_csv('palabras.csv', index=False)"
   ]
  }
 ],
 "metadata": {
  "kernelspec": {
   "display_name": "Python 3",
   "language": "python",
   "name": "python3"
  },
  "language_info": {
   "codemirror_mode": {
    "name": "ipython",
    "version": 3
   },
   "file_extension": ".py",
   "mimetype": "text/x-python",
   "name": "python",
   "nbconvert_exporter": "python",
   "pygments_lexer": "ipython3",
   "version": "3.11.4"
  }
 },
 "nbformat": 4,
 "nbformat_minor": 2
}
