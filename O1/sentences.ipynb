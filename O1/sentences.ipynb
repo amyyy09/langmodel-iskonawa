{
 "cells": [
  {
   "cell_type": "code",
   "execution_count": 3,
   "metadata": {},
   "outputs": [],
   "source": [
    "import pandas as pd\n",
    "import os\n",
    "import re"
   ]
  },
  {
   "cell_type": "markdown",
   "metadata": {},
   "source": [
    "### Read the txt sentences"
   ]
  },
  {
   "cell_type": "code",
   "execution_count": 5,
   "metadata": {},
   "outputs": [],
   "source": [
    "def read_sentences(file):\n",
    "    with open(file, 'r') as f:\n",
    "        text = f.read()\n",
    "        # Extract all occurrences of text following \\trs\n",
    "        trs_texts = re.findall(r'\\\\trs\\s+(.*)', text)\n",
    "        return trs_texts"
   ]
  },
  {
   "cell_type": "code",
   "execution_count": 12,
   "metadata": {},
   "outputs": [],
   "source": [
    "for filename in os.listdir('data/transcripciones'):\n",
    "    if filename.endswith('.txt'):\n",
    "        # append the list of sentences to the dataframe\n",
    "        sentences = read_sentences(f'data/transcripciones/{filename}')\n",
    "        # write the sentences to a file\n",
    "        with open(f'data/sentences/sent-{filename}', 'w') as f:\n",
    "            for sentence in sentences:\n",
    "                f.write(f'{sentence}\\n')"
   ]
  },
  {
   "cell_type": "markdown",
   "metadata": {},
   "source": [
    "### Read the xml sentences"
   ]
  },
  {
   "cell_type": "code",
   "execution_count": 17,
   "metadata": {},
   "outputs": [],
   "source": [
    "def read_sentences_eaf(file):\n",
    "    with open(file, 'r') as f:\n",
    "        text = f.read()\n",
    "        # Extract all occurrences of text following \\trs\n",
    "        trs_texts = re.findall(r'trs@\\w*\\s+(.*)', text)\n",
    "        return trs_texts"
   ]
  },
  {
   "cell_type": "code",
   "execution_count": 18,
   "metadata": {},
   "outputs": [],
   "source": [
    "sent = 0\n",
    "for filename in os.listdir('data/transcripciones/eaf/txt'):\n",
    "    if filename.endswith('.txt'):\n",
    "        # append the list of sentences to the dataframe\n",
    "        sentences = read_sentences_eaf(f'data/transcripciones/eaf/txt/{filename}')\n",
    "        sent += len(sentences)\n",
    "        # write the sentences to a file\n",
    "        with open(f'data/sentences/sent-{filename}', 'w') as f:\n",
    "            for sentence in sentences:\n",
    "                f.write(f'{sentence}\\n')"
   ]
  },
  {
   "cell_type": "markdown",
   "metadata": {},
   "source": [
    "## Sentences collected"
   ]
  },
  {
   "cell_type": "code",
   "execution_count": 20,
   "metadata": {},
   "outputs": [],
   "source": [
    "def sentences_to_dataframe(directory_path):\n",
    "    sentences = []  # Initialize a list to store sentences from all files\n",
    "    for filename in os.listdir(directory_path):\n",
    "        if filename.endswith('.txt'):\n",
    "            file_path = os.path.join(directory_path, filename)\n",
    "            with open(file_path, 'r', encoding='utf-8') as file:\n",
    "                # Read lines from the file, strip newline characters, and append to the list\n",
    "                sentences.extend([line.strip() for line in file if line.strip()])\n",
    "    # Create a DataFrame from the list of sentences\n",
    "    df = pd.DataFrame(sentences, columns=['Sentence'])\n",
    "    return df"
   ]
  },
  {
   "cell_type": "code",
   "execution_count": 21,
   "metadata": {},
   "outputs": [],
   "source": [
    "df = sentences_to_dataframe('data/sentences')"
   ]
  },
  {
   "cell_type": "markdown",
   "metadata": {},
   "source": [
    "### Initial processing"
   ]
  },
  {
   "cell_type": "code",
   "execution_count": 13,
   "metadata": {},
   "outputs": [],
   "source": [
    "def clean_text(text):\n",
    "    # Remove leading and trailing whitespaces\n",
    "    text = text.strip()\n",
    "    # Remove any extra whitespaces\n",
    "    text = re.sub(r'\\s+', ' ', text)\n",
    "    return text"
   ]
  },
  {
   "cell_type": "code",
   "execution_count": 22,
   "metadata": {},
   "outputs": [],
   "source": [
    "df['Sentence'] = df['Sentence'].apply(clean_text)\n",
    "df.drop_duplicates(inplace=True)"
   ]
  }
 ],
 "metadata": {
  "kernelspec": {
   "display_name": "Python 3",
   "language": "python",
   "name": "python3"
  },
  "language_info": {
   "codemirror_mode": {
    "name": "ipython",
    "version": 3
   },
   "file_extension": ".py",
   "mimetype": "text/x-python",
   "name": "python",
   "nbconvert_exporter": "python",
   "pygments_lexer": "ipython3",
   "version": "3.11.4"
  }
 },
 "nbformat": 4,
 "nbformat_minor": 2
}
