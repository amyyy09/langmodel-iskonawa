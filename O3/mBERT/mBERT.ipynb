{
 "cells": [
  {
   "cell_type": "code",
   "execution_count": 1,
   "metadata": {},
   "outputs": [
    {
     "data": {
      "text/plain": [
       "True"
      ]
     },
     "execution_count": 1,
     "metadata": {},
     "output_type": "execute_result"
    }
   ],
   "source": [
    "import sentencepiece as spm\n",
    "\n",
    "# Load the trained BPE tokenizer\n",
    "bpe_tokenizer = spm.SentencePieceProcessor()\n",
    "bpe_tokenizer.load('../tokenizer/spbpe_isc.model')"
   ]
  },
  {
   "cell_type": "code",
   "execution_count": 2,
   "metadata": {},
   "outputs": [],
   "source": [
    "import morfessor\n",
    "\n",
    "io = morfessor.MorfessorIO()\n",
    "morfessor_model = morfessor.BaselineModel()\n",
    "\n",
    "# load Morfessor model \n",
    "morfessor_model = io.read_binary_model_file('../morfessor/morf_isc_model.bin')"
   ]
  },
  {
   "cell_type": "code",
   "execution_count": 3,
   "metadata": {},
   "outputs": [],
   "source": [
    "def segment_bpe(sentence, tokenizer):\n",
    "    # SentencePiece BPE segmentation\n",
    "    return tokenizer.encode(sentence, out_type=str)\n",
    "\n",
    "def segment_morfessor(sentence, model):\n",
    "    # Morfessor segmentation\n",
    "    words = sentence.split()\n",
    "    segmented_words = []\n",
    "    for word in words:\n",
    "        segments = model.viterbi_segment(word)[0]\n",
    "        segmented_words.extend(segments)\n",
    "    return segmented_words"
   ]
  },
  {
   "cell_type": "code",
   "execution_count": 4,
   "metadata": {},
   "outputs": [],
   "source": [
    "sentences = []\n",
    "\n",
    "with open('../data/isc_sentences.txt', 'r') as f:\n",
    "    sentences = f.readlines()"
   ]
  },
  {
   "cell_type": "code",
   "execution_count": 5,
   "metadata": {},
   "outputs": [],
   "source": [
    "sentences_bpe = [segment_bpe(sentence, bpe_tokenizer) for sentence in sentences]\n",
    "sentences_morfessor = [segment_morfessor(sentence, morfessor_model) for sentence in sentences]"
   ]
  },
  {
   "cell_type": "code",
   "execution_count": 7,
   "metadata": {},
   "outputs": [],
   "source": [
    "\n",
    "from sklearn.model_selection import train_test_split\n",
    "# Step 1: Split tokenized_bpe into train and test sets\n",
    "train_data, test_data = train_test_split(sentences_bpe, test_size=0.2)"
   ]
  },
  {
   "cell_type": "markdown",
   "metadata": {},
   "source": [
    "# Train"
   ]
  },
  {
   "cell_type": "code",
   "execution_count": 9,
   "metadata": {},
   "outputs": [],
   "source": [
    "from transformers import BertTokenizer\n",
    "\n",
    "# Initialize mBERT tokenizer\n",
    "mbert_tokenizerBPE = BertTokenizer.from_pretrained(\"bert-base-multilingual-uncased\")\n",
    "\n",
    "# Tokenize segmented sentences for mBERT\n",
    "def prepare_tokenized_inputs(sentences_segmented):\n",
    "    tokenized_data = []\n",
    "    for sentence in sentences_segmented:\n",
    "        # Join segments with space (as if reconstructing sentence with segmented tokens)\n",
    "        segmented_text = \" \".join(sentence)\n",
    "        tokenized_data.append(mbert_tokenizerBPE(segmented_text, padding=\"max_length\", truncation=True, max_length=128, return_tensors=\"pt\"))\n",
    "    return tokenized_data\n",
    "\n",
    "# Apply tokenization\n",
    "tokenized_bpe = prepare_tokenized_inputs(train_data)\n",
    "# tokenized_morfessor = prepare_tokenized_inputs(sentences_morfessor)"
   ]
  },
  {
   "cell_type": "code",
   "execution_count": 8,
   "metadata": {},
   "outputs": [
    {
     "name": "stderr",
     "output_type": "stream",
     "text": [
      "BertForMaskedLM has generative capabilities, as `prepare_inputs_for_generation` is explicitly overwritten. However, it doesn't directly inherit from `GenerationMixin`. From 👉v4.50👈 onwards, `PreTrainedModel` will NOT inherit from `GenerationMixin`, and this model will lose the ability to call `generate` and other related functions.\n",
      "  - If you're using `trust_remote_code=True`, you can get rid of this warning by loading the model with an auto class. See https://huggingface.co/docs/transformers/en/model_doc/auto#auto-classes\n",
      "  - If you are the owner of the model architecture code, please modify your model class such that it inherits from `GenerationMixin` (after `PreTrainedModel`, otherwise you'll get an exception).\n",
      "  - If you are not the owner of the model architecture class, please contact the model code owner to update it.\n",
      "Some weights of the model checkpoint at bert-base-multilingual-uncased were not used when initializing BertForMaskedLM: ['bert.pooler.dense.bias', 'bert.pooler.dense.weight', 'cls.seq_relationship.bias', 'cls.seq_relationship.weight']\n",
      "- This IS expected if you are initializing BertForMaskedLM from the checkpoint of a model trained on another task or with another architecture (e.g. initializing a BertForSequenceClassification model from a BertForPreTraining model).\n",
      "- This IS NOT expected if you are initializing BertForMaskedLM from the checkpoint of a model that you expect to be exactly identical (initializing a BertForSequenceClassification model from a BertForSequenceClassification model).\n",
      "/home/atrujillo/langmodels/lib/python3.12/site-packages/torch/nn/parallel/_functions.py:71: UserWarning: Was asked to gather along dimension 0, but all input tensors were scalars; will instead unsqueeze and return a vector.\n",
      "  warnings.warn(\n"
     ]
    },
    {
     "data": {
      "text/html": [
       "\n",
       "    <div>\n",
       "      \n",
       "      <progress value='5' max='1923' style='width:300px; height:20px; vertical-align: middle;'></progress>\n",
       "      [   5/1923 00:00 < 08:36, 3.72 it/s, Epoch 0.01/3]\n",
       "    </div>\n",
       "    <table border=\"1\" class=\"dataframe\">\n",
       "  <thead>\n",
       " <tr style=\"text-align: left;\">\n",
       "      <th>Step</th>\n",
       "      <th>Training Loss</th>\n",
       "    </tr>\n",
       "  </thead>\n",
       "  <tbody>\n",
       "  </tbody>\n",
       "</table><p>"
      ],
      "text/plain": [
       "<IPython.core.display.HTML object>"
      ]
     },
     "metadata": {},
     "output_type": "display_data"
    },
    {
     "ename": "KeyboardInterrupt",
     "evalue": "",
     "output_type": "error",
     "traceback": [
      "\u001b[0;31m---------------------------------------------------------------------------\u001b[0m",
      "\u001b[0;31mKeyboardInterrupt\u001b[0m                         Traceback (most recent call last)",
      "Cell \u001b[0;32mIn[8], line 41\u001b[0m\n\u001b[1;32m     33\u001b[0m trainer \u001b[38;5;241m=\u001b[39m Trainer(\n\u001b[1;32m     34\u001b[0m     model\u001b[38;5;241m=\u001b[39mmodelBPE,\n\u001b[1;32m     35\u001b[0m     args\u001b[38;5;241m=\u001b[39mtraining_args,\n\u001b[1;32m     36\u001b[0m     train_dataset\u001b[38;5;241m=\u001b[39mdataset,\n\u001b[1;32m     37\u001b[0m     data_collator\u001b[38;5;241m=\u001b[39mdata_collator,\n\u001b[1;32m     38\u001b[0m )\n\u001b[1;32m     40\u001b[0m \u001b[38;5;66;03m# Fine-tune the model (checkpoints will automatically be saved at specified steps)\u001b[39;00m\n\u001b[0;32m---> 41\u001b[0m \u001b[43mtrainer\u001b[49m\u001b[38;5;241;43m.\u001b[39;49m\u001b[43mtrain\u001b[49m\u001b[43m(\u001b[49m\u001b[43m)\u001b[49m\n\u001b[1;32m     43\u001b[0m \u001b[38;5;66;03m# Save the final model and tokenizer\u001b[39;00m\n\u001b[1;32m     44\u001b[0m modelBPE\u001b[38;5;241m.\u001b[39msave_pretrained(\u001b[38;5;124m\"\u001b[39m\u001b[38;5;124m./mbert_BPE\u001b[39m\u001b[38;5;124m\"\u001b[39m)\n",
      "File \u001b[0;32m~/langmodels/lib/python3.12/site-packages/transformers/trainer.py:2123\u001b[0m, in \u001b[0;36mTrainer.train\u001b[0;34m(self, resume_from_checkpoint, trial, ignore_keys_for_eval, **kwargs)\u001b[0m\n\u001b[1;32m   2121\u001b[0m         hf_hub_utils\u001b[38;5;241m.\u001b[39menable_progress_bars()\n\u001b[1;32m   2122\u001b[0m \u001b[38;5;28;01melse\u001b[39;00m:\n\u001b[0;32m-> 2123\u001b[0m     \u001b[38;5;28;01mreturn\u001b[39;00m \u001b[43minner_training_loop\u001b[49m\u001b[43m(\u001b[49m\n\u001b[1;32m   2124\u001b[0m \u001b[43m        \u001b[49m\u001b[43margs\u001b[49m\u001b[38;5;241;43m=\u001b[39;49m\u001b[43margs\u001b[49m\u001b[43m,\u001b[49m\n\u001b[1;32m   2125\u001b[0m \u001b[43m        \u001b[49m\u001b[43mresume_from_checkpoint\u001b[49m\u001b[38;5;241;43m=\u001b[39;49m\u001b[43mresume_from_checkpoint\u001b[49m\u001b[43m,\u001b[49m\n\u001b[1;32m   2126\u001b[0m \u001b[43m        \u001b[49m\u001b[43mtrial\u001b[49m\u001b[38;5;241;43m=\u001b[39;49m\u001b[43mtrial\u001b[49m\u001b[43m,\u001b[49m\n\u001b[1;32m   2127\u001b[0m \u001b[43m        \u001b[49m\u001b[43mignore_keys_for_eval\u001b[49m\u001b[38;5;241;43m=\u001b[39;49m\u001b[43mignore_keys_for_eval\u001b[49m\u001b[43m,\u001b[49m\n\u001b[1;32m   2128\u001b[0m \u001b[43m    \u001b[49m\u001b[43m)\u001b[49m\n",
      "File \u001b[0;32m~/langmodels/lib/python3.12/site-packages/transformers/trainer.py:2481\u001b[0m, in \u001b[0;36mTrainer._inner_training_loop\u001b[0;34m(self, batch_size, args, resume_from_checkpoint, trial, ignore_keys_for_eval)\u001b[0m\n\u001b[1;32m   2475\u001b[0m context \u001b[38;5;241m=\u001b[39m (\n\u001b[1;32m   2476\u001b[0m     functools\u001b[38;5;241m.\u001b[39mpartial(\u001b[38;5;28mself\u001b[39m\u001b[38;5;241m.\u001b[39maccelerator\u001b[38;5;241m.\u001b[39mno_sync, model\u001b[38;5;241m=\u001b[39mmodel)\n\u001b[1;32m   2477\u001b[0m     \u001b[38;5;28;01mif\u001b[39;00m i \u001b[38;5;241m==\u001b[39m \u001b[38;5;28mlen\u001b[39m(batch_samples) \u001b[38;5;241m-\u001b[39m \u001b[38;5;241m1\u001b[39m\n\u001b[1;32m   2478\u001b[0m     \u001b[38;5;28;01melse\u001b[39;00m contextlib\u001b[38;5;241m.\u001b[39mnullcontext\n\u001b[1;32m   2479\u001b[0m )\n\u001b[1;32m   2480\u001b[0m \u001b[38;5;28;01mwith\u001b[39;00m context():\n\u001b[0;32m-> 2481\u001b[0m     tr_loss_step \u001b[38;5;241m=\u001b[39m \u001b[38;5;28;43mself\u001b[39;49m\u001b[38;5;241;43m.\u001b[39;49m\u001b[43mtraining_step\u001b[49m\u001b[43m(\u001b[49m\u001b[43mmodel\u001b[49m\u001b[43m,\u001b[49m\u001b[43m \u001b[49m\u001b[43minputs\u001b[49m\u001b[43m,\u001b[49m\u001b[43m \u001b[49m\u001b[43mnum_items_in_batch\u001b[49m\u001b[43m)\u001b[49m\n\u001b[1;32m   2483\u001b[0m \u001b[38;5;28;01mif\u001b[39;00m (\n\u001b[1;32m   2484\u001b[0m     args\u001b[38;5;241m.\u001b[39mlogging_nan_inf_filter\n\u001b[1;32m   2485\u001b[0m     \u001b[38;5;129;01mand\u001b[39;00m \u001b[38;5;129;01mnot\u001b[39;00m is_torch_xla_available()\n\u001b[1;32m   2486\u001b[0m     \u001b[38;5;129;01mand\u001b[39;00m (torch\u001b[38;5;241m.\u001b[39misnan(tr_loss_step) \u001b[38;5;129;01mor\u001b[39;00m torch\u001b[38;5;241m.\u001b[39misinf(tr_loss_step))\n\u001b[1;32m   2487\u001b[0m ):\n\u001b[1;32m   2488\u001b[0m     \u001b[38;5;66;03m# if loss is nan or inf simply add the average of previous logged losses\u001b[39;00m\n\u001b[1;32m   2489\u001b[0m     tr_loss \u001b[38;5;241m=\u001b[39m tr_loss \u001b[38;5;241m+\u001b[39m tr_loss \u001b[38;5;241m/\u001b[39m (\u001b[38;5;241m1\u001b[39m \u001b[38;5;241m+\u001b[39m \u001b[38;5;28mself\u001b[39m\u001b[38;5;241m.\u001b[39mstate\u001b[38;5;241m.\u001b[39mglobal_step \u001b[38;5;241m-\u001b[39m \u001b[38;5;28mself\u001b[39m\u001b[38;5;241m.\u001b[39m_globalstep_last_logged)\n",
      "File \u001b[0;32m~/langmodels/lib/python3.12/site-packages/transformers/trainer.py:3579\u001b[0m, in \u001b[0;36mTrainer.training_step\u001b[0;34m(self, model, inputs, num_items_in_batch)\u001b[0m\n\u001b[1;32m   3576\u001b[0m     \u001b[38;5;28;01mreturn\u001b[39;00m loss_mb\u001b[38;5;241m.\u001b[39mreduce_mean()\u001b[38;5;241m.\u001b[39mdetach()\u001b[38;5;241m.\u001b[39mto(\u001b[38;5;28mself\u001b[39m\u001b[38;5;241m.\u001b[39margs\u001b[38;5;241m.\u001b[39mdevice)\n\u001b[1;32m   3578\u001b[0m \u001b[38;5;28;01mwith\u001b[39;00m \u001b[38;5;28mself\u001b[39m\u001b[38;5;241m.\u001b[39mcompute_loss_context_manager():\n\u001b[0;32m-> 3579\u001b[0m     loss \u001b[38;5;241m=\u001b[39m \u001b[38;5;28;43mself\u001b[39;49m\u001b[38;5;241;43m.\u001b[39;49m\u001b[43mcompute_loss\u001b[49m\u001b[43m(\u001b[49m\u001b[43mmodel\u001b[49m\u001b[43m,\u001b[49m\u001b[43m \u001b[49m\u001b[43minputs\u001b[49m\u001b[43m,\u001b[49m\u001b[43m \u001b[49m\u001b[43mnum_items_in_batch\u001b[49m\u001b[38;5;241;43m=\u001b[39;49m\u001b[43mnum_items_in_batch\u001b[49m\u001b[43m)\u001b[49m\n\u001b[1;32m   3581\u001b[0m \u001b[38;5;28;01mdel\u001b[39;00m inputs\n\u001b[1;32m   3582\u001b[0m \u001b[38;5;28;01mif\u001b[39;00m (\n\u001b[1;32m   3583\u001b[0m     \u001b[38;5;28mself\u001b[39m\u001b[38;5;241m.\u001b[39margs\u001b[38;5;241m.\u001b[39mtorch_empty_cache_steps \u001b[38;5;129;01mis\u001b[39;00m \u001b[38;5;129;01mnot\u001b[39;00m \u001b[38;5;28;01mNone\u001b[39;00m\n\u001b[1;32m   3584\u001b[0m     \u001b[38;5;129;01mand\u001b[39;00m \u001b[38;5;28mself\u001b[39m\u001b[38;5;241m.\u001b[39mstate\u001b[38;5;241m.\u001b[39mglobal_step \u001b[38;5;241m%\u001b[39m \u001b[38;5;28mself\u001b[39m\u001b[38;5;241m.\u001b[39margs\u001b[38;5;241m.\u001b[39mtorch_empty_cache_steps \u001b[38;5;241m==\u001b[39m \u001b[38;5;241m0\u001b[39m\n\u001b[1;32m   3585\u001b[0m ):\n",
      "File \u001b[0;32m~/langmodels/lib/python3.12/site-packages/transformers/trainer.py:3633\u001b[0m, in \u001b[0;36mTrainer.compute_loss\u001b[0;34m(self, model, inputs, return_outputs, num_items_in_batch)\u001b[0m\n\u001b[1;32m   3631\u001b[0m         loss_kwargs[\u001b[38;5;124m\"\u001b[39m\u001b[38;5;124mnum_items_in_batch\u001b[39m\u001b[38;5;124m\"\u001b[39m] \u001b[38;5;241m=\u001b[39m num_items_in_batch\n\u001b[1;32m   3632\u001b[0m     inputs \u001b[38;5;241m=\u001b[39m {\u001b[38;5;241m*\u001b[39m\u001b[38;5;241m*\u001b[39minputs, \u001b[38;5;241m*\u001b[39m\u001b[38;5;241m*\u001b[39mloss_kwargs}\n\u001b[0;32m-> 3633\u001b[0m outputs \u001b[38;5;241m=\u001b[39m \u001b[43mmodel\u001b[49m\u001b[43m(\u001b[49m\u001b[38;5;241;43m*\u001b[39;49m\u001b[38;5;241;43m*\u001b[39;49m\u001b[43minputs\u001b[49m\u001b[43m)\u001b[49m\n\u001b[1;32m   3634\u001b[0m \u001b[38;5;66;03m# Save past state if it exists\u001b[39;00m\n\u001b[1;32m   3635\u001b[0m \u001b[38;5;66;03m# TODO: this needs to be fixed and made cleaner later.\u001b[39;00m\n\u001b[1;32m   3636\u001b[0m \u001b[38;5;28;01mif\u001b[39;00m \u001b[38;5;28mself\u001b[39m\u001b[38;5;241m.\u001b[39margs\u001b[38;5;241m.\u001b[39mpast_index \u001b[38;5;241m>\u001b[39m\u001b[38;5;241m=\u001b[39m \u001b[38;5;241m0\u001b[39m:\n",
      "File \u001b[0;32m~/langmodels/lib/python3.12/site-packages/torch/nn/modules/module.py:1736\u001b[0m, in \u001b[0;36mModule._wrapped_call_impl\u001b[0;34m(self, *args, **kwargs)\u001b[0m\n\u001b[1;32m   1734\u001b[0m     \u001b[38;5;28;01mreturn\u001b[39;00m \u001b[38;5;28mself\u001b[39m\u001b[38;5;241m.\u001b[39m_compiled_call_impl(\u001b[38;5;241m*\u001b[39margs, \u001b[38;5;241m*\u001b[39m\u001b[38;5;241m*\u001b[39mkwargs)  \u001b[38;5;66;03m# type: ignore[misc]\u001b[39;00m\n\u001b[1;32m   1735\u001b[0m \u001b[38;5;28;01melse\u001b[39;00m:\n\u001b[0;32m-> 1736\u001b[0m     \u001b[38;5;28;01mreturn\u001b[39;00m \u001b[38;5;28;43mself\u001b[39;49m\u001b[38;5;241;43m.\u001b[39;49m\u001b[43m_call_impl\u001b[49m\u001b[43m(\u001b[49m\u001b[38;5;241;43m*\u001b[39;49m\u001b[43margs\u001b[49m\u001b[43m,\u001b[49m\u001b[43m \u001b[49m\u001b[38;5;241;43m*\u001b[39;49m\u001b[38;5;241;43m*\u001b[39;49m\u001b[43mkwargs\u001b[49m\u001b[43m)\u001b[49m\n",
      "File \u001b[0;32m~/langmodels/lib/python3.12/site-packages/torch/nn/modules/module.py:1747\u001b[0m, in \u001b[0;36mModule._call_impl\u001b[0;34m(self, *args, **kwargs)\u001b[0m\n\u001b[1;32m   1742\u001b[0m \u001b[38;5;66;03m# If we don't have any hooks, we want to skip the rest of the logic in\u001b[39;00m\n\u001b[1;32m   1743\u001b[0m \u001b[38;5;66;03m# this function, and just call forward.\u001b[39;00m\n\u001b[1;32m   1744\u001b[0m \u001b[38;5;28;01mif\u001b[39;00m \u001b[38;5;129;01mnot\u001b[39;00m (\u001b[38;5;28mself\u001b[39m\u001b[38;5;241m.\u001b[39m_backward_hooks \u001b[38;5;129;01mor\u001b[39;00m \u001b[38;5;28mself\u001b[39m\u001b[38;5;241m.\u001b[39m_backward_pre_hooks \u001b[38;5;129;01mor\u001b[39;00m \u001b[38;5;28mself\u001b[39m\u001b[38;5;241m.\u001b[39m_forward_hooks \u001b[38;5;129;01mor\u001b[39;00m \u001b[38;5;28mself\u001b[39m\u001b[38;5;241m.\u001b[39m_forward_pre_hooks\n\u001b[1;32m   1745\u001b[0m         \u001b[38;5;129;01mor\u001b[39;00m _global_backward_pre_hooks \u001b[38;5;129;01mor\u001b[39;00m _global_backward_hooks\n\u001b[1;32m   1746\u001b[0m         \u001b[38;5;129;01mor\u001b[39;00m _global_forward_hooks \u001b[38;5;129;01mor\u001b[39;00m _global_forward_pre_hooks):\n\u001b[0;32m-> 1747\u001b[0m     \u001b[38;5;28;01mreturn\u001b[39;00m \u001b[43mforward_call\u001b[49m\u001b[43m(\u001b[49m\u001b[38;5;241;43m*\u001b[39;49m\u001b[43margs\u001b[49m\u001b[43m,\u001b[49m\u001b[43m \u001b[49m\u001b[38;5;241;43m*\u001b[39;49m\u001b[38;5;241;43m*\u001b[39;49m\u001b[43mkwargs\u001b[49m\u001b[43m)\u001b[49m\n\u001b[1;32m   1749\u001b[0m result \u001b[38;5;241m=\u001b[39m \u001b[38;5;28;01mNone\u001b[39;00m\n\u001b[1;32m   1750\u001b[0m called_always_called_hooks \u001b[38;5;241m=\u001b[39m \u001b[38;5;28mset\u001b[39m()\n",
      "File \u001b[0;32m~/langmodels/lib/python3.12/site-packages/torch/nn/parallel/data_parallel.py:193\u001b[0m, in \u001b[0;36mDataParallel.forward\u001b[0;34m(self, *inputs, **kwargs)\u001b[0m\n\u001b[1;32m    191\u001b[0m     \u001b[38;5;28;01mreturn\u001b[39;00m \u001b[38;5;28mself\u001b[39m\u001b[38;5;241m.\u001b[39mmodule(\u001b[38;5;241m*\u001b[39minputs[\u001b[38;5;241m0\u001b[39m], \u001b[38;5;241m*\u001b[39m\u001b[38;5;241m*\u001b[39mmodule_kwargs[\u001b[38;5;241m0\u001b[39m])\n\u001b[1;32m    192\u001b[0m replicas \u001b[38;5;241m=\u001b[39m \u001b[38;5;28mself\u001b[39m\u001b[38;5;241m.\u001b[39mreplicate(\u001b[38;5;28mself\u001b[39m\u001b[38;5;241m.\u001b[39mmodule, \u001b[38;5;28mself\u001b[39m\u001b[38;5;241m.\u001b[39mdevice_ids[: \u001b[38;5;28mlen\u001b[39m(inputs)])\n\u001b[0;32m--> 193\u001b[0m outputs \u001b[38;5;241m=\u001b[39m \u001b[38;5;28;43mself\u001b[39;49m\u001b[38;5;241;43m.\u001b[39;49m\u001b[43mparallel_apply\u001b[49m\u001b[43m(\u001b[49m\u001b[43mreplicas\u001b[49m\u001b[43m,\u001b[49m\u001b[43m \u001b[49m\u001b[43minputs\u001b[49m\u001b[43m,\u001b[49m\u001b[43m \u001b[49m\u001b[43mmodule_kwargs\u001b[49m\u001b[43m)\u001b[49m\n\u001b[1;32m    194\u001b[0m \u001b[38;5;28;01mreturn\u001b[39;00m \u001b[38;5;28mself\u001b[39m\u001b[38;5;241m.\u001b[39mgather(outputs, \u001b[38;5;28mself\u001b[39m\u001b[38;5;241m.\u001b[39moutput_device)\n",
      "File \u001b[0;32m~/langmodels/lib/python3.12/site-packages/torch/nn/parallel/data_parallel.py:212\u001b[0m, in \u001b[0;36mDataParallel.parallel_apply\u001b[0;34m(self, replicas, inputs, kwargs)\u001b[0m\n\u001b[1;32m    209\u001b[0m \u001b[38;5;28;01mdef\u001b[39;00m \u001b[38;5;21mparallel_apply\u001b[39m(\n\u001b[1;32m    210\u001b[0m     \u001b[38;5;28mself\u001b[39m, replicas: Sequence[T], inputs: Sequence[Any], kwargs: Any\n\u001b[1;32m    211\u001b[0m ) \u001b[38;5;241m-\u001b[39m\u001b[38;5;241m>\u001b[39m List[Any]:\n\u001b[0;32m--> 212\u001b[0m     \u001b[38;5;28;01mreturn\u001b[39;00m \u001b[43mparallel_apply\u001b[49m\u001b[43m(\u001b[49m\n\u001b[1;32m    213\u001b[0m \u001b[43m        \u001b[49m\u001b[43mreplicas\u001b[49m\u001b[43m,\u001b[49m\u001b[43m \u001b[49m\u001b[43minputs\u001b[49m\u001b[43m,\u001b[49m\u001b[43m \u001b[49m\u001b[43mkwargs\u001b[49m\u001b[43m,\u001b[49m\u001b[43m \u001b[49m\u001b[38;5;28;43mself\u001b[39;49m\u001b[38;5;241;43m.\u001b[39;49m\u001b[43mdevice_ids\u001b[49m\u001b[43m[\u001b[49m\u001b[43m:\u001b[49m\u001b[43m \u001b[49m\u001b[38;5;28;43mlen\u001b[39;49m\u001b[43m(\u001b[49m\u001b[43mreplicas\u001b[49m\u001b[43m)\u001b[49m\u001b[43m]\u001b[49m\n\u001b[1;32m    214\u001b[0m \u001b[43m    \u001b[49m\u001b[43m)\u001b[49m\n",
      "File \u001b[0;32m~/langmodels/lib/python3.12/site-packages/torch/nn/parallel/parallel_apply.py:118\u001b[0m, in \u001b[0;36mparallel_apply\u001b[0;34m(modules, inputs, kwargs_tup, devices)\u001b[0m\n\u001b[1;32m    116\u001b[0m         thread\u001b[38;5;241m.\u001b[39mstart()\n\u001b[1;32m    117\u001b[0m     \u001b[38;5;28;01mfor\u001b[39;00m thread \u001b[38;5;129;01min\u001b[39;00m threads:\n\u001b[0;32m--> 118\u001b[0m         \u001b[43mthread\u001b[49m\u001b[38;5;241;43m.\u001b[39;49m\u001b[43mjoin\u001b[49m\u001b[43m(\u001b[49m\u001b[43m)\u001b[49m\n\u001b[1;32m    119\u001b[0m \u001b[38;5;28;01melse\u001b[39;00m:\n\u001b[1;32m    120\u001b[0m     _worker(\u001b[38;5;241m0\u001b[39m, modules[\u001b[38;5;241m0\u001b[39m], inputs[\u001b[38;5;241m0\u001b[39m], kwargs_tup[\u001b[38;5;241m0\u001b[39m], devices[\u001b[38;5;241m0\u001b[39m], streams[\u001b[38;5;241m0\u001b[39m])\n",
      "File \u001b[0;32m/usr/lib/python3.12/threading.py:1147\u001b[0m, in \u001b[0;36mThread.join\u001b[0;34m(self, timeout)\u001b[0m\n\u001b[1;32m   1144\u001b[0m     \u001b[38;5;28;01mraise\u001b[39;00m \u001b[38;5;167;01mRuntimeError\u001b[39;00m(\u001b[38;5;124m\"\u001b[39m\u001b[38;5;124mcannot join current thread\u001b[39m\u001b[38;5;124m\"\u001b[39m)\n\u001b[1;32m   1146\u001b[0m \u001b[38;5;28;01mif\u001b[39;00m timeout \u001b[38;5;129;01mis\u001b[39;00m \u001b[38;5;28;01mNone\u001b[39;00m:\n\u001b[0;32m-> 1147\u001b[0m     \u001b[38;5;28;43mself\u001b[39;49m\u001b[38;5;241;43m.\u001b[39;49m\u001b[43m_wait_for_tstate_lock\u001b[49m\u001b[43m(\u001b[49m\u001b[43m)\u001b[49m\n\u001b[1;32m   1148\u001b[0m \u001b[38;5;28;01melse\u001b[39;00m:\n\u001b[1;32m   1149\u001b[0m     \u001b[38;5;66;03m# the behavior of a negative timeout isn't documented, but\u001b[39;00m\n\u001b[1;32m   1150\u001b[0m     \u001b[38;5;66;03m# historically .join(timeout=x) for x<0 has acted as if timeout=0\u001b[39;00m\n\u001b[1;32m   1151\u001b[0m     \u001b[38;5;28mself\u001b[39m\u001b[38;5;241m.\u001b[39m_wait_for_tstate_lock(timeout\u001b[38;5;241m=\u001b[39m\u001b[38;5;28mmax\u001b[39m(timeout, \u001b[38;5;241m0\u001b[39m))\n",
      "File \u001b[0;32m/usr/lib/python3.12/threading.py:1167\u001b[0m, in \u001b[0;36mThread._wait_for_tstate_lock\u001b[0;34m(self, block, timeout)\u001b[0m\n\u001b[1;32m   1164\u001b[0m     \u001b[38;5;28;01mreturn\u001b[39;00m\n\u001b[1;32m   1166\u001b[0m \u001b[38;5;28;01mtry\u001b[39;00m:\n\u001b[0;32m-> 1167\u001b[0m     \u001b[38;5;28;01mif\u001b[39;00m \u001b[43mlock\u001b[49m\u001b[38;5;241;43m.\u001b[39;49m\u001b[43macquire\u001b[49m\u001b[43m(\u001b[49m\u001b[43mblock\u001b[49m\u001b[43m,\u001b[49m\u001b[43m \u001b[49m\u001b[43mtimeout\u001b[49m\u001b[43m)\u001b[49m:\n\u001b[1;32m   1168\u001b[0m         lock\u001b[38;5;241m.\u001b[39mrelease()\n\u001b[1;32m   1169\u001b[0m         \u001b[38;5;28mself\u001b[39m\u001b[38;5;241m.\u001b[39m_stop()\n",
      "\u001b[0;31mKeyboardInterrupt\u001b[0m: "
     ]
    }
   ],
   "source": [
    "from transformers import BertForMaskedLM, Trainer, TrainingArguments, DataCollatorForLanguageModeling\n",
    "from datasets import Dataset\n",
    "\n",
    "# Convert data to Hugging Face Dataset format for training\n",
    "dataset = Dataset.from_dict({\n",
    "    \"input_ids\": [data[\"input_ids\"].squeeze(0) for data in tokenized_bpe],\n",
    "    \"attention_mask\": [data[\"attention_mask\"].squeeze(0) for data in tokenized_bpe],\n",
    "})\n",
    "\n",
    "# Use DataCollatorForLanguageModeling\n",
    "data_collator = DataCollatorForLanguageModeling(\n",
    "    tokenizer=mbert_tokenizerBPE,\n",
    "    mlm_probability=0.15,  # 15% masking probability\n",
    ")\n",
    "\n",
    "# Load mBERT model\n",
    "modelBPE = BertForMaskedLM.from_pretrained(\"bert-base-multilingual-uncased\")\n",
    "\n",
    "# Define training arguments, with checkpoint-saving configurations\n",
    "training_args = TrainingArguments(\n",
    "    output_dir=\"./mbert_BPE\",\n",
    "    num_train_epochs=3,\n",
    "    per_device_train_batch_size=1,\n",
    "    gradient_accumulation_steps=2,  # Accumulate gradients over 2 steps\n",
    "    save_steps=500,\n",
    "    save_total_limit=2,\n",
    "    logging_dir='./logs',\n",
    "    fp16=True,\n",
    "    no_cuda=False  # This allows GPU if available, otherwise fall back to CPU\n",
    ")\n",
    "\n",
    "# Initialize the Trainer for fine-tuning\n",
    "trainer = Trainer(\n",
    "    model=modelBPE,\n",
    "    args=training_args,\n",
    "    train_dataset=dataset,\n",
    "    data_collator=data_collator,\n",
    ")\n",
    "\n",
    "# Fine-tune the model (checkpoints will automatically be saved at specified steps)\n",
    "trainer.train()\n",
    "\n",
    "# Save the final model and tokenizer\n",
    "modelBPE.save_pretrained(\"./mbert_BPE\")\n",
    "mbert_tokenizerBPE.save_pretrained(\"./mbert_BPE\")"
   ]
  },
  {
   "cell_type": "code",
   "execution_count": 7,
   "metadata": {},
   "outputs": [
    {
     "data": {
      "text/plain": [
       "0"
      ]
     },
     "execution_count": 7,
     "metadata": {},
     "output_type": "execute_result"
    }
   ],
   "source": [
    "import torch\n",
    "torch.cuda.memory_allocated()"
   ]
  },
  {
   "cell_type": "markdown",
   "metadata": {},
   "source": [
    "# Embeddings"
   ]
  },
  {
   "cell_type": "code",
   "execution_count": 16,
   "metadata": {},
   "outputs": [
    {
     "name": "stderr",
     "output_type": "stream",
     "text": [
      "/home/atrujillo/langmodels/lib/python3.12/site-packages/transformers/generation/configuration_utils.py:774: UserWarning: `return_dict_in_generate` is NOT set to `True`, but `output_hidden_states` is. When `return_dict_in_generate` is not `True`, `output_hidden_states` is ignored.\n",
      "  warnings.warn(\n"
     ]
    }
   ],
   "source": [
    "from transformers import BertForMaskedLM, BertTokenizer\n",
    "\n",
    "# Load the trained model and tokenizer\n",
    "model = BertForMaskedLM.from_pretrained(\"./mbert_BPE\", output_hidden_states=True)\n",
    "tokenizer = BertTokenizer.from_pretrained(\"./mbert_BPE\")"
   ]
  },
  {
   "cell_type": "code",
   "execution_count": 8,
   "metadata": {},
   "outputs": [],
   "source": [
    "words = [\" \".join(subwords) for subwords in sentences_bpe]"
   ]
  },
  {
   "cell_type": "code",
   "execution_count": null,
   "metadata": {},
   "outputs": [],
   "source": [
    "import torch\n",
    "\n",
    "# obtain embeddings for words\n",
    "def get_word_embedding_with_bpe(model, tokenizer, word, bpe_tokenizer, aggregation_method=\"sum\"):\n",
    "    \"\"\"\n",
    "    Get the embedding for a single word, segmented with BPE.\n",
    "    \n",
    "    Args:\n",
    "        model: Pretrained model used for embeddings.\n",
    "        tokenizer: Tokenizer corresponding to the model.\n",
    "        word (str): The word to be embedded.\n",
    "        bpe_tokenizer: SentencePiece or BPE tokenizer for segmentation.\n",
    "        aggregation_method (str): Method to aggregate subword embeddings.\n",
    "                                  Options: \"mean\" (default), \"sum\", \"max\".\n",
    "    \n",
    "    Returns:\n",
    "        torch.Tensor: Aggregated embedding for the input word.\n",
    "    \"\"\"\n",
    "    # Segment the word into subwords using BPE\n",
    "    bpe_subwords = bpe_tokenizer.encode(word, out_type=str)  # Segment using BPE\n",
    "    segmented_word = \" \".join(bpe_subwords)  # Join subwords into a single string\n",
    "\n",
    "    # Tokenize the segmented word for the model\n",
    "    inputs = tokenizer(segmented_word, return_tensors=\"pt\", truncation=True)\n",
    "    \n",
    "    with torch.no_grad():\n",
    "        # Get model outputs\n",
    "        outputs = model(**inputs)\n",
    "    \n",
    "    # Extract hidden states (last layer)\n",
    "    hidden_states = outputs.hidden_states[-1]  # Shape: (batch_size, seq_length, hidden_dim)\n",
    "\n",
    "    # Remove batch dimension\n",
    "    subword_embeddings = hidden_states.squeeze(0)  # Shape: (num_subwords, hidden_dim)\n",
    "    \n",
    "    # Aggregate subword embeddings\n",
    "    if aggregation_method == \"mean\":\n",
    "        word_embedding = subword_embeddings.mean(dim=0)  # Average pooling\n",
    "    elif aggregation_method == \"sum\":\n",
    "        word_embedding = subword_embeddings.sum(dim=0)  # Sum pooling\n",
    "    elif aggregation_method == \"max\":\n",
    "        word_embedding, _ = subword_embeddings.max(dim=0)  # Max pooling\n",
    "    else:\n",
    "        raise ValueError(f\"Unsupported aggregation method: {aggregation_method}\")\n",
    "    \n",
    "    return word_embedding"
   ]
  },
  {
   "cell_type": "code",
   "execution_count": 19,
   "metadata": {},
   "outputs": [
    {
     "name": "stdout",
     "output_type": "stream",
     "text": [
      "torch.Size([768])\n"
     ]
    }
   ],
   "source": [
    "word = \"haton\"\n",
    "\n",
    "# Get embedding for the word\n",
    "embedding = get_word_embedding_with_bpe(model, tokenizer, word, bpe_tokenizer, aggregation_method=\"sum\")\n",
    "\n",
    "print(embedding.shape)"
   ]
  },
  {
   "cell_type": "code",
   "execution_count": 50,
   "metadata": {},
   "outputs": [],
   "source": [
    "def get_unique_words(sentences):\n",
    "    words = set()\n",
    "    for sentence in sentences:\n",
    "        words.update(sentence.strip().split())\n",
    "    return list(words)\n",
    "\n",
    "unique_words = get_unique_words(sentences)\n",
    "\n",
    "# Select 20 random words\n",
    "import random\n",
    "selected_words = random.sample(unique_words, 20)\n",
    "\n",
    "# Get embeddings\n",
    "def get_word_embeddings(words, model, tokenizer):\n",
    "    embeddings = []\n",
    "    for word in words:\n",
    "        embedding = get_word_embedding_with_bpe(model, tokenizer, word, bpe_tokenizer, aggregation_method=\"max\")  # Assuming function is defined\n",
    "        embeddings.append(embedding)\n",
    "    return embeddings\n",
    "\n",
    "word_vectors = get_word_embeddings(selected_words, model, tokenizer)"
   ]
  },
  {
   "cell_type": "code",
   "execution_count": 51,
   "metadata": {},
   "outputs": [],
   "source": [
    "from sklearn.manifold import TSNE\n",
    "import matplotlib.pyplot as plt\n",
    "\n",
    "def visualize_embeddings_2D(words, vectors, dimension='tsne'):\n",
    "    \"\"\"Visualize word vectors in 2D using t-SNE or PCA.\"\"\"\n",
    "    # Reduce dimensionality using t-SNE\n",
    "    if dimension == 'tsne':\n",
    "        perplexity = min(30, len(words) - 1)  # Ensure perplexity is less than the number of samples\n",
    "        tsne = TSNE(n_components=2, perplexity=perplexity, random_state=0)\n",
    "        reduced_vectors = tsne.fit_transform(vectors)\n",
    "    # Reduce dimensionality using PCA\n",
    "    # elif dimension == 'pca':\n",
    "    #     pca = PCA(n_components=2)\n",
    "    #     reduced_vectors = pca.fit_transform(vectors)\n",
    "    else:\n",
    "        raise ValueError(\"Invalid dimension specified. Use 'tsne' or 'pca'.\")\n",
    "\n",
    "    # Create a scatter plot\n",
    "    plt.figure(figsize=(10, 8))\n",
    "    plt.scatter(reduced_vectors[:, 0], reduced_vectors[:, 1])\n",
    "\n",
    "    # Annotate each point with the corresponding word\n",
    "    for i, word in enumerate(words):\n",
    "        plt.annotate(word, (reduced_vectors[i, 0], reduced_vectors[i, 1]), fontsize=9)\n",
    "\n",
    "    plt.title(f'Visualización 2D de los vectores - mBERT ({dimension.upper()})')\n",
    "    plt.xlabel('Componente 1')\n",
    "    plt.ylabel('Componente 2')\n",
    "    plt.grid()\n",
    "    plt.show()"
   ]
  },
  {
   "cell_type": "code",
   "execution_count": 52,
   "metadata": {},
   "outputs": [],
   "source": [
    "import numpy as np\n",
    "\n",
    "# Convert word embeddings (list of tensors) to a 2D numpy array\n",
    "def embeddings_to_numpy(word_vectors):\n",
    "    # Stack tensors into a numpy array\n",
    "    return np.vstack([embedding.numpy() for embedding in word_vectors])\n",
    "\n",
    "# Convert word_vectors list into numpy array\n",
    "word_vectors_np = embeddings_to_numpy(word_vectors)"
   ]
  },
  {
   "cell_type": "code",
   "execution_count": 53,
   "metadata": {},
   "outputs": [
    {
     "data": {
      "image/png": "[encoded data removed]",
      "text/plain": [
       "<Figure size 1000x800 with 1 Axes>"
      ]
     },
     "metadata": {},
     "output_type": "display_data"
    }
   ],
   "source": [
    "visualize_embeddings_2D(selected_words, word_vectors_np, dimension='tsne')"
   ]
  },
  {
   "cell_type": "code",
   "execution_count": null,
   "metadata": {},
   "outputs": [],
   "source": [
    "'penen',\n",
    " 'xoxoai',\n",
    " 'ewekasai',"
   ]
  },
  {
   "cell_type": "code",
   "execution_count": 70,
   "metadata": {},
   "outputs": [
    {
     "name": "stdout",
     "output_type": "stream",
     "text": [
      "▁penen\n"
     ]
    }
   ],
   "source": [
    "embedding = get_word_embedding_with_bpe(model, tokenizer, 'penen', bpe_tokenizer, aggregation_method=\"sum\")"
   ]
  },
  {
   "cell_type": "code",
   "execution_count": 59,
   "metadata": {},
   "outputs": [
    {
     "data": {
      "text/plain": [
       "tensor([-2.5153e+00,  7.9027e-02,  2.3276e-01,  5.0219e-01, -1.2233e+00,\n",
       "         8.4892e-01,  4.2895e-01, -9.0510e-01, -1.7267e+00, -2.5598e-01,\n",
       "        -2.1635e+00,  1.3284e+00, -3.6679e-01, -1.1590e+00,  3.0493e-01,\n",
       "        -1.0857e+00,  1.5692e+00, -4.5965e-01,  4.2346e-01,  1.1239e+00,\n",
       "        -9.6299e-01,  3.5491e-01,  9.1542e-01, -8.3450e-01, -2.3617e-01,\n",
       "        -2.5464e-01, -7.6568e-01,  1.1846e+00,  3.0013e-02, -1.7850e-01,\n",
       "        -1.8626e+00, -5.1124e-01, -4.3504e-01,  3.0020e-01,  2.0993e+00,\n",
       "        -1.5453e+00, -2.0496e+00,  1.2942e+00,  1.1990e+00, -1.3655e+00,\n",
       "        -1.5062e+00,  2.7977e-02,  7.2432e-01, -3.3029e-01, -1.2466e+00,\n",
       "         1.3549e+00,  7.7492e-01,  2.6575e-01,  8.3675e-01,  6.6842e-01,\n",
       "        -1.3062e+00,  1.0206e+00,  1.0181e+00, -1.5628e+00, -8.0260e-01,\n",
       "        -2.0211e-01,  1.8361e+00, -1.1098e-04, -1.0661e+00, -4.2372e-01,\n",
       "         2.8513e+00, -1.3714e+00,  8.4333e-01,  1.7192e+00, -1.0184e+00,\n",
       "        -1.3437e+00,  1.5731e+00, -1.1144e+00, -6.6950e-01,  4.0702e-01,\n",
       "         1.3170e-01,  9.1815e-01, -2.6909e+00, -4.5219e-01,  6.0233e-01,\n",
       "        -3.2738e-01,  1.8966e-01,  1.8437e+00, -2.1189e-02,  9.4572e-01,\n",
       "        -4.4387e-01,  1.0059e+00,  2.5208e+00,  3.7720e-01, -8.9374e-01,\n",
       "        -8.3114e-01, -8.0392e-01,  1.7042e+00, -4.3475e-01,  4.9908e-01,\n",
       "         1.4850e+00,  5.6020e-01,  1.7246e+00,  4.0722e-01, -8.7076e-01,\n",
       "        -1.7496e-02, -3.2477e+00,  2.0313e+00, -4.8366e-01,  3.4388e+00,\n",
       "         2.0876e+00, -4.7705e-02, -6.3119e-01, -1.8969e+00,  5.6879e-01,\n",
       "         2.9475e-01, -1.9050e+00,  7.5816e-01,  5.8817e-01,  6.4082e-01,\n",
       "         5.9352e-01, -1.6257e+00, -6.5491e-01,  5.5867e-01, -2.4089e-02,\n",
       "         1.2752e+00,  1.6204e-01, -6.4148e-01, -3.0321e-01,  9.6095e-01,\n",
       "        -1.6788e+00,  6.3540e-01,  6.4139e-01, -6.4027e-01, -2.6407e-01,\n",
       "         1.0287e+00, -7.2458e-01,  3.5603e-01,  1.5152e+00, -2.1427e-01,\n",
       "        -2.1704e+00, -6.3470e-01,  1.2628e+00,  6.3457e-01,  1.8937e+00,\n",
       "        -8.2522e-01, -1.6955e+00,  3.6387e-02,  1.4016e-01,  1.2267e+00,\n",
       "        -1.9859e-01,  5.3177e-01,  1.0410e+00, -1.4603e+00, -1.4216e+00,\n",
       "         2.3809e-01,  6.5832e-01,  3.8004e-01,  9.1277e-02,  1.9421e+00,\n",
       "         2.6698e+00,  1.3322e+00, -6.2023e-01, -7.9065e-01, -2.9835e-01,\n",
       "         1.5127e+00,  8.8162e-02,  9.5541e-01,  9.8168e-01, -1.6649e+00,\n",
       "        -1.3250e+00,  8.7058e-01,  1.4741e+00,  3.1378e+00,  1.1252e+00,\n",
       "        -2.3705e+00, -8.1922e-03,  5.1796e-01,  7.7728e-01,  5.4964e-01,\n",
       "         2.3453e+00,  1.4711e+00, -9.0912e-01, -2.5259e+00, -8.0603e-01,\n",
       "         7.6199e-01, -1.6746e+00,  3.9893e+00, -1.2310e+00, -2.6408e-01,\n",
       "        -2.3648e-01,  4.2586e-01,  4.4140e-01,  5.9741e-01, -1.1115e+00,\n",
       "         1.5524e+00,  9.6835e-01, -1.2643e+00,  1.4603e+00, -1.7719e+00,\n",
       "        -3.2709e-01, -1.6314e+00,  9.8849e-01,  4.7407e-01, -1.0149e+00,\n",
       "        -1.6194e+00,  3.0638e-01,  7.2144e-01, -2.6713e-01,  2.0980e+00,\n",
       "         2.5871e-02, -3.6582e-01, -7.1100e-02,  7.8737e-01, -1.6258e+00,\n",
       "         4.8336e-01, -1.2268e+00, -1.0476e-01,  6.0065e-01,  1.6079e+00,\n",
       "         1.7270e+00,  3.2774e-01, -8.0868e-01, -1.7142e-01, -1.2872e+00,\n",
       "         1.0298e-01, -2.2146e+00, -8.0391e-01,  3.9708e-01, -1.0462e-01,\n",
       "        -3.8312e-01,  6.1720e-01,  1.8850e-01,  2.2357e-01, -3.9341e-01,\n",
       "         2.6570e-01, -5.1623e-01, -2.9508e-01,  2.9421e-01, -6.7561e-01,\n",
       "         2.6437e-01,  7.5594e-01,  2.8327e-01, -1.6081e+00,  9.0869e-01,\n",
       "        -1.1841e+00,  1.4492e-01, -7.2146e-01,  1.4255e-01,  6.1271e-01,\n",
       "         2.4523e-01, -2.9433e+00,  2.1364e+00,  1.1992e+00,  3.6500e-01,\n",
       "         1.9236e+00, -7.8407e-01, -6.9170e-01, -1.4585e+00,  2.2542e-02,\n",
       "         4.4012e-01, -8.5718e-01, -1.4533e+00,  1.9162e+00,  8.9887e-01,\n",
       "         6.5162e-01,  2.1413e+00, -1.0303e+00,  1.3952e+00, -1.6569e-02,\n",
       "        -2.2876e+00,  4.4326e-01, -1.3505e+00,  7.1150e-01,  1.8055e+00,\n",
       "        -1.1345e+00,  1.5641e-01,  1.4543e-01, -1.8595e+00,  2.8483e-01,\n",
       "         2.4809e-02,  3.7809e-01,  6.7778e-01,  3.9231e-01,  7.8879e-02,\n",
       "        -1.3849e+00, -1.6327e+00,  4.0974e-01,  5.6689e-01, -1.9085e+00,\n",
       "        -8.2378e-01,  1.3025e+00,  1.3466e+00,  7.7497e-01,  5.9033e-01,\n",
       "        -4.5209e-03,  8.2825e-01, -7.7769e-01,  8.6266e-01, -1.2725e+00,\n",
       "        -1.1099e+00,  5.7938e-01,  1.8283e+00,  1.1288e-01,  3.6022e-01,\n",
       "        -1.2152e+00,  7.4425e-01,  1.3016e+00, -6.8061e-01,  1.0312e+00,\n",
       "         9.4644e-01, -7.9745e-01,  1.0609e-01, -6.4978e-01, -2.4883e-01,\n",
       "         5.2072e-01, -1.0228e+00,  4.6520e-01, -2.5164e-01,  2.0270e-02,\n",
       "        -1.2389e+00, -1.3698e+00,  6.3027e-01, -1.3492e+00, -2.9408e-01,\n",
       "        -1.6755e+00, -1.5078e+00, -1.0490e+00, -1.4211e+00, -5.3608e-01,\n",
       "         3.7896e-01, -1.7671e+00,  1.0348e+00, -1.3347e+00, -5.6374e-01,\n",
       "         1.6911e+00, -7.8498e-01, -6.0146e-01,  1.0418e+00, -6.3011e-01,\n",
       "        -6.5595e-01, -6.1327e-02, -4.7111e-01,  8.0652e-01,  1.5620e+00,\n",
       "         7.6739e-01, -1.0646e+00,  2.6683e-01,  4.6320e-02,  7.8023e-03,\n",
       "        -4.4430e-01, -7.3762e-01,  1.6301e+00,  2.0041e-02, -1.6855e-01,\n",
       "        -6.4785e-01, -1.0755e+00,  7.1466e-01, -4.5888e-01,  9.8369e-01,\n",
       "        -2.7787e+00,  7.1492e-01,  3.7486e-01, -1.4603e+00, -5.4790e-01,\n",
       "        -2.4681e+00, -8.4242e-01,  3.9101e-01, -1.2767e+00,  2.3806e+00,\n",
       "        -2.9991e-01,  3.1396e+00, -2.8940e-02,  2.4354e-01,  1.1462e-01,\n",
       "        -4.0042e-01, -5.6181e-02,  4.8919e-01,  2.8275e-01, -1.4145e+00,\n",
       "         2.4548e-01,  4.5677e-01,  2.0370e+00,  2.9995e-01,  1.8374e-02,\n",
       "        -6.0111e-01,  7.3374e-01,  2.1672e+00, -1.9361e-01, -5.8089e-01,\n",
       "         7.6250e-01, -2.4074e-01, -1.5200e-01, -8.2686e-01,  6.0723e-01,\n",
       "        -3.6298e-01, -2.1114e+00, -2.4652e+00, -4.3291e-01, -1.0485e-01,\n",
       "        -1.1242e-01,  1.1603e+00, -2.9809e+00, -2.2575e-01, -4.2103e-01,\n",
       "         7.0651e-01, -9.7613e-01, -1.6064e+00,  5.4466e-01,  1.7366e+00,\n",
       "         4.5016e-02,  9.9673e-01, -3.9275e-01,  2.7177e-01,  2.2116e-01,\n",
       "        -3.1894e-01,  2.6669e-01, -6.1630e-02,  3.4812e-01, -4.9330e-01,\n",
       "        -3.2927e+00,  1.3155e+00, -2.1657e-01, -6.2757e+00,  1.9802e+00,\n",
       "         1.6053e+00,  9.3731e-02, -2.0573e-01, -6.6630e-01,  1.9238e-01,\n",
       "         1.6160e+00, -1.9099e+00, -1.0010e+00, -1.7911e+00,  5.4803e-01,\n",
       "        -9.6836e-01, -1.9733e+00,  5.8628e-01,  1.2589e+00,  1.2192e+00,\n",
       "        -2.1685e-01,  2.1706e+00, -6.4220e-01,  1.1609e-01, -1.5665e+00,\n",
       "        -1.6725e-01,  4.2234e-01, -3.1189e-01, -6.6792e-01,  4.3225e-01,\n",
       "         1.2195e+00, -4.1554e-01,  4.1963e-01, -2.6225e-01, -4.2144e-01,\n",
       "        -4.2837e-02,  2.4292e+00,  5.7853e-01,  4.8599e-01,  5.0313e-01,\n",
       "        -9.7433e-01, -6.5434e-01, -6.0187e-01,  1.0290e+00, -6.8097e-01,\n",
       "         2.0212e-01, -1.9012e+00,  1.2451e+00,  1.1217e+00,  2.2463e+00,\n",
       "        -9.9260e-01,  6.8870e-01,  6.2349e-01,  3.8008e-01, -1.5651e+00,\n",
       "        -1.8341e+00, -6.7699e-01, -1.1437e+00,  1.3638e+00, -2.4043e+00,\n",
       "        -6.8626e-01,  1.1216e+00, -1.2150e+00, -7.2887e-01, -7.3982e-01,\n",
       "         1.6231e+00,  7.1648e-01,  1.1171e-01,  2.1930e+00, -1.2066e+00,\n",
       "        -7.4817e-01, -1.0102e+00,  2.1487e-01,  1.5120e+00,  1.9354e+00,\n",
       "        -7.2393e-01, -1.9953e-01, -3.6748e-02,  1.2315e+00,  2.5282e-01,\n",
       "        -8.6758e-01, -1.4620e+00, -4.2234e-01,  2.4398e-01, -1.5650e+00,\n",
       "        -3.6865e-01, -3.0559e-02,  2.1647e+00, -9.0758e-01,  3.8720e-01,\n",
       "        -2.2449e-02,  8.5988e-01, -5.4331e-01,  1.9943e-02,  2.6942e-01,\n",
       "        -1.3354e+00,  1.1439e+00, -3.8571e-02, -1.5208e+00,  1.0122e+00,\n",
       "        -4.8512e-01,  3.9664e-01, -6.9623e-01,  2.0592e+00, -1.5385e+00,\n",
       "        -8.9846e-01, -2.5786e-02, -1.2530e+00, -4.5052e-01, -7.8082e-01,\n",
       "        -2.0691e-01, -1.7010e+00,  1.8722e+00,  5.4448e-01, -9.2262e-01,\n",
       "        -8.4348e-01,  5.2582e-01, -1.2856e+00, -2.3785e-02, -4.5013e-01,\n",
       "        -1.2750e+00, -8.2543e-01, -2.2799e-01,  9.3951e-01,  2.7002e+00,\n",
       "         4.9380e-01, -2.9153e-01,  3.8728e-01,  7.2510e-01,  4.1744e-01,\n",
       "        -7.3129e-01, -6.5553e-01, -2.3434e+00,  2.0235e+00,  6.9189e-01,\n",
       "         2.0339e+00, -8.2539e-01,  1.1865e+00, -3.1782e-02, -6.1196e-01,\n",
       "         3.2527e-01,  1.7672e+00,  1.3477e+00,  4.9095e-01,  5.4865e-01,\n",
       "        -3.0832e-01,  6.8134e-01, -5.0456e-01, -7.6331e-01, -2.1663e-01,\n",
       "        -1.1864e+00,  1.3061e+00,  2.4866e-01, -2.4093e+00, -7.2240e-01,\n",
       "         8.2600e-01,  1.8143e+00,  1.2178e+00, -4.9837e-01, -2.7453e+00,\n",
       "        -5.5059e-01, -2.0596e-01, -1.8802e+00,  1.0131e+00,  8.0586e-01,\n",
       "         2.1731e+00,  2.2265e-01, -6.8402e-01,  1.6092e-02, -1.9360e+00,\n",
       "        -1.3771e+00, -1.0943e-01, -8.7086e-01,  1.0814e+00,  1.5563e+00,\n",
       "         9.5886e-01, -1.1859e+00,  6.7664e-01,  2.6633e-01, -1.3383e+00,\n",
       "        -6.7502e-01,  3.8252e-01,  1.0305e+00, -2.0759e+00,  1.0520e+00,\n",
       "         4.3716e-01,  5.4479e-01, -7.7154e-02,  1.2043e+00,  4.6122e-01,\n",
       "         2.5389e-02,  6.1421e-01,  1.7500e+00,  2.1427e+00,  3.9853e-01,\n",
       "         5.3675e-01,  1.1022e+00,  9.0272e-02, -5.1603e-02, -9.7088e-01,\n",
       "         2.9755e-01, -1.3244e-01, -1.7798e+00,  6.7096e-01, -1.4988e+00,\n",
       "        -1.3018e+00,  1.1535e-01, -5.6314e-03,  2.3834e+00, -4.4242e-01,\n",
       "         2.3524e+00, -1.7489e-01, -6.9446e-01,  1.7999e+00, -5.7189e-01,\n",
       "        -8.6432e-01, -1.1043e-01, -1.9913e-01,  4.9369e-01,  6.3871e-03,\n",
       "         3.6636e-01, -2.7364e-01, -1.4179e+00,  1.4503e+00, -6.5686e-01,\n",
       "         3.9667e-01,  1.7615e+00,  9.2093e-01, -8.5004e-02,  8.1512e-01,\n",
       "         1.1484e+00,  2.2065e+00, -1.6917e+00,  2.2642e+00,  1.0708e+00,\n",
       "         9.6647e-02,  1.8225e+00,  7.4252e-01, -6.5981e-01, -1.6103e-01,\n",
       "        -1.7671e+00,  1.1960e-01, -4.7455e-01, -1.8538e-01,  3.7634e-01,\n",
       "        -7.8867e-01, -4.6954e-01, -9.9163e-01,  1.3245e+00,  9.4312e-01,\n",
       "        -3.9685e-02,  7.4513e-01, -1.5707e+00, -2.0826e+00,  4.4930e-01,\n",
       "        -3.0082e-01, -4.0882e-01,  1.2709e+00,  2.0518e+00, -1.2635e+00,\n",
       "        -1.1965e+00, -3.5537e+00, -1.0637e+00,  4.1269e-01, -1.1104e-01,\n",
       "        -1.0536e+00,  1.5836e+00, -6.4692e-02, -1.0315e-01, -7.6508e-01,\n",
       "         2.2053e-01,  1.2595e+00,  2.3300e+00,  9.4477e-01,  1.7819e+00,\n",
       "        -4.8260e-01,  9.8327e-01,  7.9237e-02, -6.4907e-01,  2.2273e+00,\n",
       "        -9.4577e-01, -1.5114e-01, -1.8602e-01, -1.5034e+00,  4.0253e-01,\n",
       "         2.0000e-01, -8.7629e-02, -1.4608e+00, -2.3224e-01,  2.7129e-01,\n",
       "         3.3354e+00,  2.1365e+00, -9.8744e-01, -1.0084e+00,  4.8614e-01,\n",
       "         4.1996e-01,  1.9468e+00, -1.5393e+00, -8.9710e-01, -7.0239e-01,\n",
       "         1.3596e+00, -2.3678e-01, -1.7946e+00, -7.7087e-01, -4.6480e-01,\n",
       "        -3.9035e-01, -5.5964e-01,  1.4483e+00, -2.9438e-01, -1.7290e-01,\n",
       "        -1.0114e-01, -1.7082e+00,  1.1194e+00,  1.1756e+00, -1.9267e+00,\n",
       "         8.0419e-01,  1.7878e+00,  2.1258e+00, -1.3908e+00,  1.4482e+00,\n",
       "         2.0742e-01, -1.3729e-01, -2.0497e-01, -2.4328e-01,  9.6933e-02,\n",
       "         1.3315e-01,  8.8646e-01, -9.9573e-01,  1.8193e+00,  1.0522e+00,\n",
       "         1.6777e+00, -1.7973e+00, -1.4897e+00, -1.8711e+00,  1.6881e-01,\n",
       "         8.8115e-01, -5.5090e-01,  2.1281e-01,  2.4886e-01, -4.0655e-01,\n",
       "        -1.3304e+00,  5.1598e-01, -1.2807e+00, -5.4001e-01,  1.2486e+00,\n",
       "        -4.1583e-02,  5.4429e-01,  2.3982e-01,  4.3237e-01, -6.3696e-01,\n",
       "        -9.3107e-01, -1.6405e+00, -1.2350e+00, -3.0175e+00, -2.3838e+00,\n",
       "         1.0977e+00,  2.6330e+00, -1.1052e+00])"
      ]
     },
     "execution_count": 59,
     "metadata": {},
     "output_type": "execute_result"
    }
   ],
   "source": [
    "embedding"
   ]
  },
  {
   "cell_type": "code",
   "execution_count": 49,
   "metadata": {},
   "outputs": [
    {
     "data": {
      "text/plain": [
       "tensor([-2.5153e+00,  7.9027e-02,  2.3276e-01,  5.0219e-01, -1.2233e+00,\n",
       "         8.4892e-01,  4.2895e-01, -9.0510e-01, -1.7267e+00, -2.5598e-01,\n",
       "        -2.1635e+00,  1.3284e+00, -3.6679e-01, -1.1590e+00,  3.0493e-01,\n",
       "        -1.0857e+00,  1.5692e+00, -4.5965e-01,  4.2346e-01,  1.1239e+00,\n",
       "        -9.6299e-01,  3.5491e-01,  9.1542e-01, -8.3450e-01, -2.3617e-01,\n",
       "        -2.5464e-01, -7.6568e-01,  1.1846e+00,  3.0013e-02, -1.7850e-01,\n",
       "        -1.8626e+00, -5.1124e-01, -4.3504e-01,  3.0020e-01,  2.0993e+00,\n",
       "        -1.5453e+00, -2.0496e+00,  1.2942e+00,  1.1990e+00, -1.3655e+00,\n",
       "        -1.5062e+00,  2.7977e-02,  7.2432e-01, -3.3029e-01, -1.2466e+00,\n",
       "         1.3549e+00,  7.7492e-01,  2.6575e-01,  8.3675e-01,  6.6842e-01,\n",
       "        -1.3062e+00,  1.0206e+00,  1.0181e+00, -1.5628e+00, -8.0260e-01,\n",
       "        -2.0211e-01,  1.8361e+00, -1.1098e-04, -1.0661e+00, -4.2372e-01,\n",
       "         2.8513e+00, -1.3714e+00,  8.4333e-01,  1.7192e+00, -1.0184e+00,\n",
       "        -1.3437e+00,  1.5731e+00, -1.1144e+00, -6.6950e-01,  4.0702e-01,\n",
       "         1.3170e-01,  9.1815e-01, -2.6909e+00, -4.5219e-01,  6.0233e-01,\n",
       "        -3.2738e-01,  1.8966e-01,  1.8437e+00, -2.1189e-02,  9.4572e-01,\n",
       "        -4.4387e-01,  1.0059e+00,  2.5208e+00,  3.7720e-01, -8.9374e-01,\n",
       "        -8.3114e-01, -8.0392e-01,  1.7042e+00, -4.3475e-01,  4.9908e-01,\n",
       "         1.4850e+00,  5.6020e-01,  1.7246e+00,  4.0722e-01, -8.7076e-01,\n",
       "        -1.7496e-02, -3.2477e+00,  2.0313e+00, -4.8366e-01,  3.4388e+00,\n",
       "         2.0876e+00, -4.7705e-02, -6.3119e-01, -1.8969e+00,  5.6879e-01,\n",
       "         2.9475e-01, -1.9050e+00,  7.5816e-01,  5.8817e-01,  6.4082e-01,\n",
       "         5.9352e-01, -1.6257e+00, -6.5491e-01,  5.5867e-01, -2.4089e-02,\n",
       "         1.2752e+00,  1.6204e-01, -6.4148e-01, -3.0321e-01,  9.6095e-01,\n",
       "        -1.6788e+00,  6.3540e-01,  6.4139e-01, -6.4027e-01, -2.6407e-01,\n",
       "         1.0287e+00, -7.2458e-01,  3.5603e-01,  1.5152e+00, -2.1427e-01,\n",
       "        -2.1704e+00, -6.3470e-01,  1.2628e+00,  6.3457e-01,  1.8937e+00,\n",
       "        -8.2522e-01, -1.6955e+00,  3.6387e-02,  1.4016e-01,  1.2267e+00,\n",
       "        -1.9859e-01,  5.3177e-01,  1.0410e+00, -1.4603e+00, -1.4216e+00,\n",
       "         2.3809e-01,  6.5832e-01,  3.8004e-01,  9.1277e-02,  1.9421e+00,\n",
       "         2.6698e+00,  1.3322e+00, -6.2023e-01, -7.9065e-01, -2.9835e-01,\n",
       "         1.5127e+00,  8.8162e-02,  9.5541e-01,  9.8168e-01, -1.6649e+00,\n",
       "        -1.3250e+00,  8.7058e-01,  1.4741e+00,  3.1378e+00,  1.1252e+00,\n",
       "        -2.3705e+00, -8.1922e-03,  5.1796e-01,  7.7728e-01,  5.4964e-01,\n",
       "         2.3453e+00,  1.4711e+00, -9.0912e-01, -2.5259e+00, -8.0603e-01,\n",
       "         7.6199e-01, -1.6746e+00,  3.9893e+00, -1.2310e+00, -2.6408e-01,\n",
       "        -2.3648e-01,  4.2586e-01,  4.4140e-01,  5.9741e-01, -1.1115e+00,\n",
       "         1.5524e+00,  9.6835e-01, -1.2643e+00,  1.4603e+00, -1.7719e+00,\n",
       "        -3.2709e-01, -1.6314e+00,  9.8849e-01,  4.7407e-01, -1.0149e+00,\n",
       "        -1.6194e+00,  3.0638e-01,  7.2144e-01, -2.6713e-01,  2.0980e+00,\n",
       "         2.5871e-02, -3.6582e-01, -7.1100e-02,  7.8737e-01, -1.6258e+00,\n",
       "         4.8336e-01, -1.2268e+00, -1.0476e-01,  6.0065e-01,  1.6079e+00,\n",
       "         1.7270e+00,  3.2774e-01, -8.0868e-01, -1.7142e-01, -1.2872e+00,\n",
       "         1.0298e-01, -2.2146e+00, -8.0391e-01,  3.9708e-01, -1.0462e-01,\n",
       "        -3.8312e-01,  6.1720e-01,  1.8850e-01,  2.2357e-01, -3.9341e-01,\n",
       "         2.6570e-01, -5.1623e-01, -2.9508e-01,  2.9421e-01, -6.7561e-01,\n",
       "         2.6437e-01,  7.5594e-01,  2.8327e-01, -1.6081e+00,  9.0869e-01,\n",
       "        -1.1841e+00,  1.4492e-01, -7.2146e-01,  1.4255e-01,  6.1271e-01,\n",
       "         2.4523e-01, -2.9433e+00,  2.1364e+00,  1.1992e+00,  3.6500e-01,\n",
       "         1.9236e+00, -7.8407e-01, -6.9170e-01, -1.4585e+00,  2.2542e-02,\n",
       "         4.4012e-01, -8.5718e-01, -1.4533e+00,  1.9162e+00,  8.9887e-01,\n",
       "         6.5162e-01,  2.1413e+00, -1.0303e+00,  1.3952e+00, -1.6569e-02,\n",
       "        -2.2876e+00,  4.4326e-01, -1.3505e+00,  7.1150e-01,  1.8055e+00,\n",
       "        -1.1345e+00,  1.5641e-01,  1.4543e-01, -1.8595e+00,  2.8483e-01,\n",
       "         2.4809e-02,  3.7809e-01,  6.7778e-01,  3.9231e-01,  7.8879e-02,\n",
       "        -1.3849e+00, -1.6327e+00,  4.0974e-01,  5.6689e-01, -1.9085e+00,\n",
       "        -8.2378e-01,  1.3025e+00,  1.3466e+00,  7.7497e-01,  5.9033e-01,\n",
       "        -4.5209e-03,  8.2825e-01, -7.7769e-01,  8.6266e-01, -1.2725e+00,\n",
       "        -1.1099e+00,  5.7938e-01,  1.8283e+00,  1.1288e-01,  3.6022e-01,\n",
       "        -1.2152e+00,  7.4425e-01,  1.3016e+00, -6.8061e-01,  1.0312e+00,\n",
       "         9.4644e-01, -7.9745e-01,  1.0609e-01, -6.4978e-01, -2.4883e-01,\n",
       "         5.2072e-01, -1.0228e+00,  4.6520e-01, -2.5164e-01,  2.0270e-02,\n",
       "        -1.2389e+00, -1.3698e+00,  6.3027e-01, -1.3492e+00, -2.9408e-01,\n",
       "        -1.6755e+00, -1.5078e+00, -1.0490e+00, -1.4211e+00, -5.3608e-01,\n",
       "         3.7896e-01, -1.7671e+00,  1.0348e+00, -1.3347e+00, -5.6374e-01,\n",
       "         1.6911e+00, -7.8498e-01, -6.0146e-01,  1.0418e+00, -6.3011e-01,\n",
       "        -6.5595e-01, -6.1327e-02, -4.7111e-01,  8.0652e-01,  1.5620e+00,\n",
       "         7.6739e-01, -1.0646e+00,  2.6683e-01,  4.6320e-02,  7.8023e-03,\n",
       "        -4.4430e-01, -7.3762e-01,  1.6301e+00,  2.0041e-02, -1.6855e-01,\n",
       "        -6.4785e-01, -1.0755e+00,  7.1466e-01, -4.5888e-01,  9.8369e-01,\n",
       "        -2.7787e+00,  7.1492e-01,  3.7486e-01, -1.4603e+00, -5.4790e-01,\n",
       "        -2.4681e+00, -8.4242e-01,  3.9101e-01, -1.2767e+00,  2.3806e+00,\n",
       "        -2.9991e-01,  3.1396e+00, -2.8940e-02,  2.4354e-01,  1.1462e-01,\n",
       "        -4.0042e-01, -5.6181e-02,  4.8919e-01,  2.8275e-01, -1.4145e+00,\n",
       "         2.4548e-01,  4.5677e-01,  2.0370e+00,  2.9995e-01,  1.8374e-02,\n",
       "        -6.0111e-01,  7.3374e-01,  2.1672e+00, -1.9361e-01, -5.8089e-01,\n",
       "         7.6250e-01, -2.4074e-01, -1.5200e-01, -8.2686e-01,  6.0723e-01,\n",
       "        -3.6298e-01, -2.1114e+00, -2.4652e+00, -4.3291e-01, -1.0485e-01,\n",
       "        -1.1242e-01,  1.1603e+00, -2.9809e+00, -2.2575e-01, -4.2103e-01,\n",
       "         7.0651e-01, -9.7613e-01, -1.6064e+00,  5.4466e-01,  1.7366e+00,\n",
       "         4.5016e-02,  9.9673e-01, -3.9275e-01,  2.7177e-01,  2.2116e-01,\n",
       "        -3.1894e-01,  2.6669e-01, -6.1630e-02,  3.4812e-01, -4.9330e-01,\n",
       "        -3.2927e+00,  1.3155e+00, -2.1657e-01, -6.2757e+00,  1.9802e+00,\n",
       "         1.6053e+00,  9.3731e-02, -2.0573e-01, -6.6630e-01,  1.9238e-01,\n",
       "         1.6160e+00, -1.9099e+00, -1.0010e+00, -1.7911e+00,  5.4803e-01,\n",
       "        -9.6836e-01, -1.9733e+00,  5.8628e-01,  1.2589e+00,  1.2192e+00,\n",
       "        -2.1685e-01,  2.1706e+00, -6.4220e-01,  1.1609e-01, -1.5665e+00,\n",
       "        -1.6725e-01,  4.2234e-01, -3.1189e-01, -6.6792e-01,  4.3225e-01,\n",
       "         1.2195e+00, -4.1554e-01,  4.1963e-01, -2.6225e-01, -4.2144e-01,\n",
       "        -4.2837e-02,  2.4292e+00,  5.7853e-01,  4.8599e-01,  5.0313e-01,\n",
       "        -9.7433e-01, -6.5434e-01, -6.0187e-01,  1.0290e+00, -6.8097e-01,\n",
       "         2.0212e-01, -1.9012e+00,  1.2451e+00,  1.1217e+00,  2.2463e+00,\n",
       "        -9.9260e-01,  6.8870e-01,  6.2349e-01,  3.8008e-01, -1.5651e+00,\n",
       "        -1.8341e+00, -6.7699e-01, -1.1437e+00,  1.3638e+00, -2.4043e+00,\n",
       "        -6.8626e-01,  1.1216e+00, -1.2150e+00, -7.2887e-01, -7.3982e-01,\n",
       "         1.6231e+00,  7.1648e-01,  1.1171e-01,  2.1930e+00, -1.2066e+00,\n",
       "        -7.4817e-01, -1.0102e+00,  2.1487e-01,  1.5120e+00,  1.9354e+00,\n",
       "        -7.2393e-01, -1.9953e-01, -3.6748e-02,  1.2315e+00,  2.5282e-01,\n",
       "        -8.6758e-01, -1.4620e+00, -4.2234e-01,  2.4398e-01, -1.5650e+00,\n",
       "        -3.6865e-01, -3.0559e-02,  2.1647e+00, -9.0758e-01,  3.8720e-01,\n",
       "        -2.2449e-02,  8.5988e-01, -5.4331e-01,  1.9943e-02,  2.6942e-01,\n",
       "        -1.3354e+00,  1.1439e+00, -3.8571e-02, -1.5208e+00,  1.0122e+00,\n",
       "        -4.8512e-01,  3.9664e-01, -6.9623e-01,  2.0592e+00, -1.5385e+00,\n",
       "        -8.9846e-01, -2.5786e-02, -1.2530e+00, -4.5052e-01, -7.8082e-01,\n",
       "        -2.0691e-01, -1.7010e+00,  1.8722e+00,  5.4448e-01, -9.2262e-01,\n",
       "        -8.4348e-01,  5.2582e-01, -1.2856e+00, -2.3785e-02, -4.5013e-01,\n",
       "        -1.2750e+00, -8.2543e-01, -2.2799e-01,  9.3951e-01,  2.7002e+00,\n",
       "         4.9380e-01, -2.9153e-01,  3.8728e-01,  7.2510e-01,  4.1744e-01,\n",
       "        -7.3129e-01, -6.5553e-01, -2.3434e+00,  2.0235e+00,  6.9189e-01,\n",
       "         2.0339e+00, -8.2539e-01,  1.1865e+00, -3.1782e-02, -6.1196e-01,\n",
       "         3.2527e-01,  1.7672e+00,  1.3477e+00,  4.9095e-01,  5.4865e-01,\n",
       "        -3.0832e-01,  6.8134e-01, -5.0456e-01, -7.6331e-01, -2.1663e-01,\n",
       "        -1.1864e+00,  1.3061e+00,  2.4866e-01, -2.4093e+00, -7.2240e-01,\n",
       "         8.2600e-01,  1.8143e+00,  1.2178e+00, -4.9837e-01, -2.7453e+00,\n",
       "        -5.5059e-01, -2.0596e-01, -1.8802e+00,  1.0131e+00,  8.0586e-01,\n",
       "         2.1731e+00,  2.2265e-01, -6.8402e-01,  1.6092e-02, -1.9360e+00,\n",
       "        -1.3771e+00, -1.0943e-01, -8.7086e-01,  1.0814e+00,  1.5563e+00,\n",
       "         9.5886e-01, -1.1859e+00,  6.7664e-01,  2.6633e-01, -1.3383e+00,\n",
       "        -6.7502e-01,  3.8252e-01,  1.0305e+00, -2.0759e+00,  1.0520e+00,\n",
       "         4.3716e-01,  5.4479e-01, -7.7154e-02,  1.2043e+00,  4.6122e-01,\n",
       "         2.5389e-02,  6.1421e-01,  1.7500e+00,  2.1427e+00,  3.9853e-01,\n",
       "         5.3675e-01,  1.1022e+00,  9.0272e-02, -5.1603e-02, -9.7088e-01,\n",
       "         2.9755e-01, -1.3244e-01, -1.7798e+00,  6.7096e-01, -1.4988e+00,\n",
       "        -1.3018e+00,  1.1535e-01, -5.6314e-03,  2.3834e+00, -4.4242e-01,\n",
       "         2.3524e+00, -1.7489e-01, -6.9446e-01,  1.7999e+00, -5.7189e-01,\n",
       "        -8.6432e-01, -1.1043e-01, -1.9913e-01,  4.9369e-01,  6.3871e-03,\n",
       "         3.6636e-01, -2.7364e-01, -1.4179e+00,  1.4503e+00, -6.5686e-01,\n",
       "         3.9667e-01,  1.7615e+00,  9.2093e-01, -8.5004e-02,  8.1512e-01,\n",
       "         1.1484e+00,  2.2065e+00, -1.6917e+00,  2.2642e+00,  1.0708e+00,\n",
       "         9.6647e-02,  1.8225e+00,  7.4252e-01, -6.5981e-01, -1.6103e-01,\n",
       "        -1.7671e+00,  1.1960e-01, -4.7455e-01, -1.8538e-01,  3.7634e-01,\n",
       "        -7.8867e-01, -4.6954e-01, -9.9163e-01,  1.3245e+00,  9.4312e-01,\n",
       "        -3.9685e-02,  7.4513e-01, -1.5707e+00, -2.0826e+00,  4.4930e-01,\n",
       "        -3.0082e-01, -4.0882e-01,  1.2709e+00,  2.0518e+00, -1.2635e+00,\n",
       "        -1.1965e+00, -3.5537e+00, -1.0637e+00,  4.1269e-01, -1.1104e-01,\n",
       "        -1.0536e+00,  1.5836e+00, -6.4692e-02, -1.0315e-01, -7.6508e-01,\n",
       "         2.2053e-01,  1.2595e+00,  2.3300e+00,  9.4477e-01,  1.7819e+00,\n",
       "        -4.8260e-01,  9.8327e-01,  7.9237e-02, -6.4907e-01,  2.2273e+00,\n",
       "        -9.4577e-01, -1.5114e-01, -1.8602e-01, -1.5034e+00,  4.0253e-01,\n",
       "         2.0000e-01, -8.7629e-02, -1.4608e+00, -2.3224e-01,  2.7129e-01,\n",
       "         3.3354e+00,  2.1365e+00, -9.8744e-01, -1.0084e+00,  4.8614e-01,\n",
       "         4.1996e-01,  1.9468e+00, -1.5393e+00, -8.9710e-01, -7.0239e-01,\n",
       "         1.3596e+00, -2.3678e-01, -1.7946e+00, -7.7087e-01, -4.6480e-01,\n",
       "        -3.9035e-01, -5.5964e-01,  1.4483e+00, -2.9438e-01, -1.7290e-01,\n",
       "        -1.0114e-01, -1.7082e+00,  1.1194e+00,  1.1756e+00, -1.9267e+00,\n",
       "         8.0419e-01,  1.7878e+00,  2.1258e+00, -1.3908e+00,  1.4482e+00,\n",
       "         2.0742e-01, -1.3729e-01, -2.0497e-01, -2.4328e-01,  9.6933e-02,\n",
       "         1.3315e-01,  8.8646e-01, -9.9573e-01,  1.8193e+00,  1.0522e+00,\n",
       "         1.6777e+00, -1.7973e+00, -1.4897e+00, -1.8711e+00,  1.6881e-01,\n",
       "         8.8115e-01, -5.5090e-01,  2.1281e-01,  2.4886e-01, -4.0655e-01,\n",
       "        -1.3304e+00,  5.1598e-01, -1.2807e+00, -5.4001e-01,  1.2486e+00,\n",
       "        -4.1583e-02,  5.4429e-01,  2.3982e-01,  4.3237e-01, -6.3696e-01,\n",
       "        -9.3107e-01, -1.6405e+00, -1.2350e+00, -3.0175e+00, -2.3838e+00,\n",
       "         1.0977e+00,  2.6330e+00, -1.1052e+00])"
      ]
     },
     "execution_count": 49,
     "metadata": {},
     "output_type": "execute_result"
    }
   ],
   "source": [
    "embedding2"
   ]
  },
  {
   "cell_type": "code",
   "execution_count": 69,
   "metadata": {},
   "outputs": [
    {
     "name": "stdout",
     "output_type": "stream",
     "text": [
      "▁akan a\n"
     ]
    }
   ],
   "source": [
    "embedding2 = get_word_embedding_with_bpe(model, tokenizer, 'akana', bpe_tokenizer, aggregation_method=\"sum\")"
   ]
  },
  {
   "cell_type": "code",
   "execution_count": null,
   "metadata": {},
   "outputs": [],
   "source": []
  },
  {
   "cell_type": "code",
   "execution_count": 54,
   "metadata": {},
   "outputs": [
    {
     "data": {
      "text/plain": [
       "['ashinka',\n",
       " 'merahonka',\n",
       " 'akana',\n",
       " 'hai',\n",
       " 'hatian',\n",
       " 'pakaronin',\n",
       " 'chokama',\n",
       " 'ikiribi',\n",
       " 'bakomara',\n",
       " 'él',\n",
       " 'askahon',\n",
       " 'okekairi',\n",
       " 'kapohon',\n",
       " 'mahkanike',\n",
       " 'materi',\n",
       " 'mapehaki',\n",
       " 'wewamisi',\n",
       " 'hacha',\n",
       " 'kake',\n",
       " 'onon']"
      ]
     },
     "execution_count": 54,
     "metadata": {},
     "output_type": "execute_result"
    }
   ],
   "source": [
    "selected_words"
   ]
  },
  {
   "cell_type": "markdown",
   "metadata": {},
   "source": [
    "# train test"
   ]
  },
  {
   "cell_type": "code",
   "execution_count": null,
   "metadata": {},
   "outputs": [
    {
     "name": "stderr",
     "output_type": "stream",
     "text": [
      "BertForMaskedLM has generative capabilities, as `prepare_inputs_for_generation` is explicitly overwritten. However, it doesn't directly inherit from `GenerationMixin`. From 👉v4.50👈 onwards, `PreTrainedModel` will NOT inherit from `GenerationMixin`, and this model will lose the ability to call `generate` and other related functions.\n",
      "  - If you're using `trust_remote_code=True`, you can get rid of this warning by loading the model with an auto class. See https://huggingface.co/docs/transformers/en/model_doc/auto#auto-classes\n",
      "  - If you are the owner of the model architecture code, please modify your model class such that it inherits from `GenerationMixin` (after `PreTrainedModel`, otherwise you'll get an exception).\n",
      "  - If you are not the owner of the model architecture class, please contact the model code owner to update it.\n",
      "Some weights of the model checkpoint at bert-base-multilingual-uncased were not used when initializing BertForMaskedLM: ['bert.pooler.dense.bias', 'bert.pooler.dense.weight', 'cls.seq_relationship.bias', 'cls.seq_relationship.weight']\n",
      "- This IS expected if you are initializing BertForMaskedLM from the checkpoint of a model trained on another task or with another architecture (e.g. initializing a BertForSequenceClassification model from a BertForPreTraining model).\n",
      "- This IS NOT expected if you are initializing BertForMaskedLM from the checkpoint of a model that you expect to be exactly identical (initializing a BertForSequenceClassification model from a BertForSequenceClassification model).\n",
      "/home/atrujillo/langmodels/lib/python3.12/site-packages/torch/nn/parallel/_functions.py:71: UserWarning: Was asked to gather along dimension 0, but all input tensors were scalars; will instead unsqueeze and return a vector.\n",
      "  warnings.warn(\n"
     ]
    },
    {
     "data": {
      "text/html": [
       "\n",
       "    <div>\n",
       "      \n",
       "      <progress value='1539' max='1539' style='width:300px; height:20px; vertical-align: middle;'></progress>\n",
       "      [1539/1539 06:08, Epoch 3/3]\n",
       "    </div>\n",
       "    <table border=\"1\" class=\"dataframe\">\n",
       "  <thead>\n",
       " <tr style=\"text-align: left;\">\n",
       "      <th>Step</th>\n",
       "      <th>Training Loss</th>\n",
       "    </tr>\n",
       "  </thead>\n",
       "  <tbody>\n",
       "    <tr>\n",
       "      <td>500</td>\n",
       "      <td>4.052300</td>\n",
       "    </tr>\n",
       "    <tr>\n",
       "      <td>1000</td>\n",
       "      <td>0.801400</td>\n",
       "    </tr>\n",
       "    <tr>\n",
       "      <td>1500</td>\n",
       "      <td>1.937000</td>\n",
       "    </tr>\n",
       "  </tbody>\n",
       "</table><p>"
      ],
      "text/plain": [
       "<IPython.core.display.HTML object>"
      ]
     },
     "metadata": {},
     "output_type": "display_data"
    },
    {
     "name": "stderr",
     "output_type": "stream",
     "text": [
      "/home/atrujillo/langmodels/lib/python3.12/site-packages/torch/nn/parallel/_functions.py:71: UserWarning: Was asked to gather along dimension 0, but all input tensors were scalars; will instead unsqueeze and return a vector.\n",
      "  warnings.warn(\n",
      "/home/atrujillo/langmodels/lib/python3.12/site-packages/torch/nn/parallel/_functions.py:71: UserWarning: Was asked to gather along dimension 0, but all input tensors were scalars; will instead unsqueeze and return a vector.\n",
      "  warnings.warn(\n",
      "/home/atrujillo/langmodels/lib/python3.12/site-packages/torch/nn/parallel/_functions.py:71: UserWarning: Was asked to gather along dimension 0, but all input tensors were scalars; will instead unsqueeze and return a vector.\n",
      "  warnings.warn(\n"
     ]
    },
    {
     "ename": "ValueError",
     "evalue": "Trainer: evaluation requires an eval_dataset.",
     "output_type": "error",
     "traceback": [
      "\u001b[0;31m---------------------------------------------------------------------------\u001b[0m",
      "\u001b[0;31mValueError\u001b[0m                                Traceback (most recent call last)",
      "Cell \u001b[0;32mIn[10], line 43\u001b[0m\n\u001b[1;32m     41\u001b[0m \u001b[38;5;66;03m# Step 7: Train and evaluate the model\u001b[39;00m\n\u001b[1;32m     42\u001b[0m trainer\u001b[38;5;241m.\u001b[39mtrain()\n\u001b[0;32m---> 43\u001b[0m \u001b[43mtrainer\u001b[49m\u001b[38;5;241;43m.\u001b[39;49m\u001b[43mevaluate\u001b[49m\u001b[43m(\u001b[49m\u001b[43m)\u001b[49m  \u001b[38;5;66;03m# This evaluates on test_dataset\u001b[39;00m\n\u001b[1;32m     45\u001b[0m \u001b[38;5;66;03m# Step 8: Save the final model and tokenizer\u001b[39;00m\n\u001b[1;32m     46\u001b[0m modelBPE\u001b[38;5;241m.\u001b[39msave_pretrained(\u001b[38;5;124m\"\u001b[39m\u001b[38;5;124m./mbert_BPE_t\u001b[39m\u001b[38;5;124m\"\u001b[39m)\n",
      "File \u001b[0;32m~/langmodels/lib/python3.12/site-packages/transformers/trainer.py:3968\u001b[0m, in \u001b[0;36mTrainer.evaluate\u001b[0;34m(self, eval_dataset, ignore_keys, metric_key_prefix)\u001b[0m\n\u001b[1;32m   3965\u001b[0m \u001b[38;5;66;03m# memory metrics - must set up as early as possible\u001b[39;00m\n\u001b[1;32m   3966\u001b[0m \u001b[38;5;28mself\u001b[39m\u001b[38;5;241m.\u001b[39m_memory_tracker\u001b[38;5;241m.\u001b[39mstart()\n\u001b[0;32m-> 3968\u001b[0m eval_dataloader \u001b[38;5;241m=\u001b[39m \u001b[38;5;28;43mself\u001b[39;49m\u001b[38;5;241;43m.\u001b[39;49m\u001b[43mget_eval_dataloader\u001b[49m\u001b[43m(\u001b[49m\u001b[43meval_dataset\u001b[49m\u001b[43m)\u001b[49m\n\u001b[1;32m   3969\u001b[0m \u001b[38;5;28;01mif\u001b[39;00m \u001b[38;5;28mself\u001b[39m\u001b[38;5;241m.\u001b[39mis_fsdp_xla_v2_enabled:\n\u001b[1;32m   3970\u001b[0m     eval_dataloader \u001b[38;5;241m=\u001b[39m tpu_spmd_dataloader(eval_dataloader)\n",
      "File \u001b[0;32m~/langmodels/lib/python3.12/site-packages/transformers/trainer.py:1032\u001b[0m, in \u001b[0;36mTrainer.get_eval_dataloader\u001b[0;34m(self, eval_dataset)\u001b[0m\n\u001b[1;32m   1022\u001b[0m \u001b[38;5;250m\u001b[39m\u001b[38;5;124;03m\"\"\"\u001b[39;00m\n\u001b[1;32m   1023\u001b[0m \u001b[38;5;124;03mReturns the evaluation [`~torch.utils.data.DataLoader`].\u001b[39;00m\n\u001b[1;32m   1024\u001b[0m \n\u001b[0;32m   (...)\u001b[0m\n\u001b[1;32m   1029\u001b[0m \u001b[38;5;124;03m        If a `str`, will use `self.eval_dataset[eval_dataset]` as the evaluation dataset. If a `Dataset`, will override `self.eval_dataset` and must implement `__len__`. If it is a [`~datasets.Dataset`], columns not accepted by the `model.forward()` method are automatically removed.\u001b[39;00m\n\u001b[1;32m   1030\u001b[0m \u001b[38;5;124;03m\"\"\"\u001b[39;00m\n\u001b[1;32m   1031\u001b[0m \u001b[38;5;28;01mif\u001b[39;00m eval_dataset \u001b[38;5;129;01mis\u001b[39;00m \u001b[38;5;28;01mNone\u001b[39;00m \u001b[38;5;129;01mand\u001b[39;00m \u001b[38;5;28mself\u001b[39m\u001b[38;5;241m.\u001b[39meval_dataset \u001b[38;5;129;01mis\u001b[39;00m \u001b[38;5;28;01mNone\u001b[39;00m:\n\u001b[0;32m-> 1032\u001b[0m     \u001b[38;5;28;01mraise\u001b[39;00m \u001b[38;5;167;01mValueError\u001b[39;00m(\u001b[38;5;124m\"\u001b[39m\u001b[38;5;124mTrainer: evaluation requires an eval_dataset.\u001b[39m\u001b[38;5;124m\"\u001b[39m)\n\u001b[1;32m   1034\u001b[0m \u001b[38;5;66;03m# If we have persistent workers, don't do a fork bomb especially as eval datasets\u001b[39;00m\n\u001b[1;32m   1035\u001b[0m \u001b[38;5;66;03m# don't change during training\u001b[39;00m\n\u001b[1;32m   1036\u001b[0m dataloader_key \u001b[38;5;241m=\u001b[39m eval_dataset \u001b[38;5;28;01mif\u001b[39;00m \u001b[38;5;28misinstance\u001b[39m(eval_dataset, \u001b[38;5;28mstr\u001b[39m) \u001b[38;5;28;01melse\u001b[39;00m \u001b[38;5;124m\"\u001b[39m\u001b[38;5;124meval\u001b[39m\u001b[38;5;124m\"\u001b[39m\n",
      "\u001b[0;31mValueError\u001b[0m: Trainer: evaluation requires an eval_dataset."
     ]
    }
   ],
   "source": [
    "from transformers import BertForMaskedLM, Trainer, TrainingArguments, DataCollatorForLanguageModeling\n",
    "from datasets import Dataset\n",
    "\n",
    "\n",
    "\n",
    "# Step 2: Convert train and test data to Hugging Face Dataset format\n",
    "train_dataset = Dataset.from_dict({\n",
    "    \"input_ids\": [data[\"input_ids\"].squeeze(0) for data in tokenized_bpe],\n",
    "    \"attention_mask\": [data[\"attention_mask\"].squeeze(0) for data in tokenized_bpe],\n",
    "})\n",
    "# Step 3: Use DataCollatorForLanguageModeling\n",
    "data_collator = DataCollatorForLanguageModeling(\n",
    "    tokenizer=mbert_tokenizerBPE,\n",
    "    mlm_probability=0.15,\n",
    ")\n",
    "\n",
    "# Step 4: Load mBERT model\n",
    "modelBPE = BertForMaskedLM.from_pretrained(\"bert-base-multilingual-uncased\")\n",
    "\n",
    "# Step 5: Define training arguments with evaluation\n",
    "training_args = TrainingArguments(\n",
    "    output_dir=\"./mbert_BPE_t\",\n",
    "    num_train_epochs=3,\n",
    "    per_device_train_batch_size=1,\n",
    "    gradient_accumulation_steps=2,  # Accumulate gradients over 2 steps\n",
    "    save_steps=500,\n",
    "    save_total_limit=2,\n",
    "    logging_dir='./logs',\n",
    "    fp16=True,\n",
    "    no_cuda=False,\n",
    ")\n",
    "\n",
    "# Step 6: Initialize Trainer for fine-tuning with eval_dataset\n",
    "trainer = Trainer(\n",
    "    model=modelBPE,\n",
    "    args=training_args,\n",
    "    train_dataset=train_dataset,\n",
    "    data_collator=data_collator,\n",
    ")\n",
    "\n",
    "# Step 7: Train and evaluate the model\n",
    "trainer.train()\n",
    "\n",
    "# Step 8: Save the final model and tokenizer\n",
    "modelBPE.save_pretrained(\"./mbert_BPE_t\")\n",
    "mbert_tokenizerBPE.save_pretrained(\"./mbert_BPE_t\")\n"
   ]
  },
  {
   "cell_type": "code",
   "execution_count": 11,
   "metadata": {},
   "outputs": [
    {
     "data": {
      "text/plain": [
       "('./mbert_BPE_t/tokenizer_config.json',\n",
       " './mbert_BPE_t/special_tokens_map.json',\n",
       " './mbert_BPE_t/vocab.txt',\n",
       " './mbert_BPE_t/added_tokens.json')"
      ]
     },
     "execution_count": 11,
     "metadata": {},
     "output_type": "execute_result"
    }
   ],
   "source": [
    "modelBPE.save_pretrained(\"./mbert_BPE_t\")\n",
    "mbert_tokenizerBPE.save_pretrained(\"./mbert_BPE_t\")"
   ]
  },
  {
   "cell_type": "markdown",
   "metadata": {},
   "source": [
    "# Pruebas"
   ]
  },
  {
   "cell_type": "code",
   "execution_count": 29,
   "metadata": {},
   "outputs": [
    {
     "name": "stderr",
     "output_type": "stream",
     "text": [
      "Hardware accelerator e.g. GPU is available in the environment, but no `device` argument is passed to the `Pipeline` object. Model will be on CPU.\n",
      "You seem to be using the pipelines sequentially on GPU. In order to maximize efficiency please use a dataset\n"
     ]
    },
    {
     "name": "stdout",
     "output_type": "stream",
     "text": [
      "Unexpected format for prediction at index 0: [{'score': 0.0659668892621994, 'token': 10237, 'token_str': 'ka', 'sequence': '[CLS] ka [UNK] paoni ka [UNK] [UNK] ho koa [UNK] [MASK] bi [UNK] [UNK] ma kana [UNK] [UNK] [SEP]'}, {'score': 0.05690357834100723, 'token': 10863, 'token_str': 'bi', 'sequence': '[CLS] bi [UNK] paoni ka [UNK] [UNK] ho koa [UNK] [MASK] bi [UNK] [UNK] ma kana [UNK] [UNK] [SEP]'}, {'score': 0.03714632987976074, 'token': 11279, 'token_str': 'ai', 'sequence': '[CLS] ai [UNK] paoni ka [UNK] [UNK] ho koa [UNK] [MASK] bi [UNK] [UNK] ma kana [UNK] [UNK] [SEP]'}, {'score': 0.03418014943599701, 'token': 143, 'token_str': 'a', 'sequence': '[CLS] a [UNK] paoni ka [UNK] [UNK] ho koa [UNK] [MASK] bi [UNK] [UNK] ma kana [UNK] [UNK] [SEP]'}, {'score': 0.03270101174712181, 'token': 10900, 'token_str': 'ki', 'sequence': '[CLS] ki [UNK] paoni ka [UNK] [UNK] ho koa [UNK] [MASK] bi [UNK] [UNK] ma kana [UNK] [UNK] [SEP]'}]\n",
      "Unexpected format for prediction at index 1: [{'score': 0.09395667910575867, 'token': 10507, 'token_str': 'ma', 'sequence': '[CLS] [MASK] [UNK] paoni ka [UNK] [UNK] ho koa [UNK] ma bi [UNK] [UNK] ma kana [UNK] [UNK] [SEP]'}, {'score': 0.03281894326210022, 'token': 10346, 'token_str': 'be', 'sequence': '[CLS] [MASK] [UNK] paoni ka [UNK] [UNK] ho koa [UNK] be bi [UNK] [UNK] ma kana [UNK] [UNK] [SEP]'}, {'score': 0.032563358545303345, 'token': 11117, 'token_str': 'bo', 'sequence': '[CLS] [MASK] [UNK] paoni ka [UNK] [UNK] ho koa [UNK] bo bi [UNK] [UNK] ma kana [UNK] [UNK] [SEP]'}, {'score': 0.029708005487918854, 'token': 10616, 'token_str': 'ho', 'sequence': '[CLS] [MASK] [UNK] paoni ka [UNK] [UNK] ho koa [UNK] ho bi [UNK] [UNK] ma kana [UNK] [UNK] [SEP]'}, {'score': 0.025456301867961884, 'token': 11742, 'token_str': 'ra', 'sequence': '[CLS] [MASK] [UNK] paoni ka [UNK] [UNK] ho koa [UNK] ra bi [UNK] [UNK] ma kana [UNK] [UNK] [SEP]'}]\n",
      "Unexpected format for prediction at index 0: [{'score': 0.04857339337468147, 'token': 143, 'token_str': 'a', 'sequence': '[CLS] [UNK] biribi [UNK] [UNK] [UNK] [UNK] a [MASK] in kin tana [UNK] ribi [UNK] kasi [SEP]'}, {'score': 0.03325185552239418, 'token': 161, 'token_str': 's', 'sequence': '[CLS] [UNK] biribi [UNK] [UNK] [UNK] [UNK] s [MASK] in kin tana [UNK] ribi [UNK] kasi [SEP]'}, {'score': 0.02759586088359356, 'token': 10237, 'token_str': 'ka', 'sequence': '[CLS] [UNK] biribi [UNK] [UNK] [UNK] [UNK] ka [MASK] in kin tana [UNK] ribi [UNK] kasi [SEP]'}, {'score': 0.02442042902112007, 'token': 151, 'token_str': 'i', 'sequence': '[CLS] [UNK] biribi [UNK] [UNK] [UNK] [UNK] i [MASK] in kin tana [UNK] ribi [UNK] kasi [SEP]'}, {'score': 0.023702826350927353, 'token': 10863, 'token_str': 'bi', 'sequence': '[CLS] [UNK] biribi [UNK] [UNK] [UNK] [UNK] bi [MASK] in kin tana [UNK] ribi [UNK] kasi [SEP]'}]\n",
      "Unexpected format for prediction at index 1: [{'score': 0.06734807044267654, 'token': 10116, 'token_str': '##i', 'sequence': '[CLS] [UNK] biribi [UNK] [UNK] [UNK] [UNK] [MASK]i in kin tana [UNK] ribi [UNK] kasi [SEP]'}, {'score': 0.04679876193404198, 'token': 161, 'token_str': 's', 'sequence': '[CLS] [UNK] biribi [UNK] [UNK] [UNK] [UNK] [MASK] s in kin tana [UNK] ribi [UNK] kasi [SEP]'}, {'score': 0.04138273373246193, 'token': 143, 'token_str': 'a', 'sequence': '[CLS] [UNK] biribi [UNK] [UNK] [UNK] [UNK] [MASK] a in kin tana [UNK] ribi [UNK] kasi [SEP]'}, {'score': 0.03622964397072792, 'token': 10115, 'token_str': '##n', 'sequence': '[CLS] [UNK] biribi [UNK] [UNK] [UNK] [UNK] [MASK]n in kin tana [UNK] ribi [UNK] kasi [SEP]'}, {'score': 0.0295871514827013, 'token': 10112, 'token_str': '##a', 'sequence': '[CLS] [UNK] biribi [UNK] [UNK] [UNK] [UNK] [MASK]a in kin tana [UNK] ribi [UNK] kasi [SEP]'}]\n",
      "Unexpected format for prediction at index 0: [{'score': 0.06742775440216064, 'token': 82714, 'token_str': 'mea', 'sequence': '[CLS] [UNK] [UNK] mea [UNK] [UNK] [MASK] [UNK] [UNK] [UNK] [UNK] [UNK] ya mea [UNK] [UNK] ya mea [MASK] [UNK] [UNK] [UNK] [SEP]'}, {'score': 0.062346115708351135, 'token': 10237, 'token_str': 'ka', 'sequence': '[CLS] [UNK] [UNK] ka [UNK] [UNK] [MASK] [UNK] [UNK] [UNK] [UNK] [UNK] ya mea [UNK] [UNK] ya mea [MASK] [UNK] [UNK] [UNK] [SEP]'}, {'score': 0.03722350671887398, 'token': 10900, 'token_str': 'ki', 'sequence': '[CLS] [UNK] [UNK] ki [UNK] [UNK] [MASK] [UNK] [UNK] [UNK] [UNK] [UNK] ya mea [UNK] [UNK] ya mea [MASK] [UNK] [UNK] [UNK] [SEP]'}, {'score': 0.03602562099695206, 'token': 143, 'token_str': 'a', 'sequence': '[CLS] [UNK] [UNK] a [UNK] [UNK] [MASK] [UNK] [UNK] [UNK] [UNK] [UNK] ya mea [UNK] [UNK] ya mea [MASK] [UNK] [UNK] [UNK] [SEP]'}, {'score': 0.0300558153539896, 'token': 11009, 'token_str': 'ke', 'sequence': '[CLS] [UNK] [UNK] ke [UNK] [UNK] [MASK] [UNK] [UNK] [UNK] [UNK] [UNK] ya mea [UNK] [UNK] ya mea [MASK] [UNK] [UNK] [UNK] [SEP]'}]\n",
      "Unexpected format for prediction at index 1: [{'score': 0.052500925958156586, 'token': 10237, 'token_str': 'ka', 'sequence': '[CLS] [UNK] [UNK] [MASK] [UNK] [UNK] ka [UNK] [UNK] [UNK] [UNK] [UNK] ya mea [UNK] [UNK] ya mea [MASK] [UNK] [UNK] [UNK] [SEP]'}, {'score': 0.043370574712753296, 'token': 82714, 'token_str': 'mea', 'sequence': '[CLS] [UNK] [UNK] [MASK] [UNK] [UNK] mea [UNK] [UNK] [UNK] [UNK] [UNK] ya mea [UNK] [UNK] ya mea [MASK] [UNK] [UNK] [UNK] [SEP]'}, {'score': 0.034994009882211685, 'token': 11279, 'token_str': 'ai', 'sequence': '[CLS] [UNK] [UNK] [MASK] [UNK] [UNK] ai [UNK] [UNK] [UNK] [UNK] [UNK] ya mea [UNK] [UNK] ya mea [MASK] [UNK] [UNK] [UNK] [SEP]'}, {'score': 0.032268594950437546, 'token': 10863, 'token_str': 'bi', 'sequence': '[CLS] [UNK] [UNK] [MASK] [UNK] [UNK] bi [UNK] [UNK] [UNK] [UNK] [UNK] ya mea [UNK] [UNK] ya mea [MASK] [UNK] [UNK] [UNK] [SEP]'}, {'score': 0.03203829377889633, 'token': 10900, 'token_str': 'ki', 'sequence': '[CLS] [UNK] [UNK] [MASK] [UNK] [UNK] ki [UNK] [UNK] [UNK] [UNK] [UNK] ya mea [UNK] [UNK] ya mea [MASK] [UNK] [UNK] [UNK] [SEP]'}]\n",
      "Unexpected format for prediction at index 2: [{'score': 0.17838844656944275, 'token': 10115, 'token_str': '##n', 'sequence': '[CLS] [UNK] [UNK] [MASK] [UNK] [UNK] [MASK] [UNK] [UNK] [UNK] [UNK] [UNK] ya mea [UNK] [UNK] ya mean [UNK] [UNK] [UNK] [SEP]'}, {'score': 0.08964016288518906, 'token': 10116, 'token_str': '##i', 'sequence': '[CLS] [UNK] [UNK] [MASK] [UNK] [UNK] [MASK] [UNK] [UNK] [UNK] [UNK] [UNK] ya mea [UNK] [UNK] ya meai [UNK] [UNK] [UNK] [SEP]'}, {'score': 0.05551338195800781, 'token': 11009, 'token_str': 'ke', 'sequence': '[CLS] [UNK] [UNK] [MASK] [UNK] [UNK] [MASK] [UNK] [UNK] [UNK] [UNK] [UNK] ya mea [UNK] [UNK] ya mea ke [UNK] [UNK] [UNK] [SEP]'}, {'score': 0.05495843663811684, 'token': 151, 'token_str': 'i', 'sequence': '[CLS] [UNK] [UNK] [MASK] [UNK] [UNK] [MASK] [UNK] [UNK] [UNK] [UNK] [UNK] ya mea [UNK] [UNK] ya mea i [UNK] [UNK] [UNK] [SEP]'}, {'score': 0.03514295071363449, 'token': 143, 'token_str': 'a', 'sequence': '[CLS] [UNK] [UNK] [MASK] [UNK] [UNK] [MASK] [UNK] [UNK] [UNK] [UNK] [UNK] ya mea [UNK] [UNK] ya mea a [UNK] [UNK] [UNK] [SEP]'}]\n",
      "Unexpected format for prediction at index 0: [{'score': 0.05928465723991394, 'token': 10237, 'token_str': 'ka', 'sequence': '[CLS] [UNK] mis ha [UNK] ka [UNK] [UNK] [UNK] [UNK] [UNK] [UNK] x oa [UNK] [MASK] [UNK] ke [SEP]'}, {'score': 0.04149317741394043, 'token': 143, 'token_str': 'a', 'sequence': '[CLS] [UNK] mis ha [UNK] a [UNK] [UNK] [UNK] [UNK] [UNK] [UNK] x oa [UNK] [MASK] [UNK] ke [SEP]'}, {'score': 0.04013291001319885, 'token': 11742, 'token_str': 'ra', 'sequence': '[CLS] [UNK] mis ha [UNK] ra [UNK] [UNK] [UNK] [UNK] [UNK] [UNK] x oa [UNK] [MASK] [UNK] ke [SEP]'}, {'score': 0.038755737245082855, 'token': 10900, 'token_str': 'ki', 'sequence': '[CLS] [UNK] mis ha [UNK] ki [UNK] [UNK] [UNK] [UNK] [UNK] [UNK] x oa [UNK] [MASK] [UNK] ke [SEP]'}, {'score': 0.027230776846408844, 'token': 11279, 'token_str': 'ai', 'sequence': '[CLS] [UNK] mis ha [UNK] ai [UNK] [UNK] [UNK] [UNK] [UNK] [UNK] x oa [UNK] [MASK] [UNK] ke [SEP]'}]\n",
      "Unexpected format for prediction at index 1: [{'score': 0.0897994339466095, 'token': 10237, 'token_str': 'ka', 'sequence': '[CLS] [UNK] mis ha [UNK] [MASK] [UNK] [UNK] [UNK] [UNK] [UNK] [UNK] x oa [UNK] ka [UNK] ke [SEP]'}, {'score': 0.04972955957055092, 'token': 11009, 'token_str': 'ke', 'sequence': '[CLS] [UNK] mis ha [UNK] [MASK] [UNK] [UNK] [UNK] [UNK] [UNK] [UNK] x oa [UNK] ke [UNK] ke [SEP]'}, {'score': 0.039111021906137466, 'token': 143, 'token_str': 'a', 'sequence': '[CLS] [UNK] mis ha [UNK] [MASK] [UNK] [UNK] [UNK] [UNK] [UNK] [UNK] x oa [UNK] a [UNK] ke [SEP]'}, {'score': 0.031259797513484955, 'token': 11742, 'token_str': 'ra', 'sequence': '[CLS] [UNK] mis ha [UNK] [MASK] [UNK] [UNK] [UNK] [UNK] [UNK] [UNK] x oa [UNK] ra [UNK] ke [SEP]'}, {'score': 0.03089873306453228, 'token': 10900, 'token_str': 'ki', 'sequence': '[CLS] [UNK] mis ha [UNK] [MASK] [UNK] [UNK] [UNK] [UNK] [UNK] [UNK] x oa [UNK] ki [UNK] ke [SEP]'}]\n",
      "Unexpected format for prediction at index 0: [{'score': 0.046713463962078094, 'token': 143, 'token_str': 'a', 'sequence': '[CLS] [UNK] [UNK] [UNK] tian [UNK] [UNK] a to r c en in [UNK] [UNK] ke [MASK] qui e ra [MASK] u di an kin [SEP]'}, {'score': 0.042512837797403336, 'token': 160, 'token_str': 'r', 'sequence': '[CLS] [UNK] [UNK] [UNK] tian [UNK] [UNK] r to r c en in [UNK] [UNK] ke [MASK] qui e ra [MASK] u di an kin [SEP]'}, {'score': 0.04098397493362427, 'token': 151, 'token_str': 'i', 'sequence': '[CLS] [UNK] [UNK] [UNK] tian [UNK] [UNK] i to r c en in [UNK] [UNK] ke [MASK] qui e ra [MASK] u di an kin [SEP]'}, {'score': 0.03878592327237129, 'token': 154, 'token_str': 'l', 'sequence': '[CLS] [UNK] [UNK] [UNK] tian [UNK] [UNK] l to r c en in [UNK] [UNK] ke [MASK] qui e ra [MASK] u di an kin [SEP]'}, {'score': 0.031544674187898636, 'token': 157, 'token_str': 'o', 'sequence': '[CLS] [UNK] [UNK] [UNK] tian [UNK] [UNK] o to r c en in [UNK] [UNK] ke [MASK] qui e ra [MASK] u di an kin [SEP]'}]\n",
      "Unexpected format for prediction at index 1: [{'score': 0.05732385441660881, 'token': 161, 'token_str': 's', 'sequence': '[CLS] [UNK] [UNK] [UNK] tian [UNK] [UNK] [MASK] to r c en in [UNK] [UNK] ke s qui e ra [MASK] u di an kin [SEP]'}, {'score': 0.0454537570476532, 'token': 157, 'token_str': 'o', 'sequence': '[CLS] [UNK] [UNK] [UNK] tian [UNK] [UNK] [MASK] to r c en in [UNK] [UNK] ke o qui e ra [MASK] u di an kin [SEP]'}, {'score': 0.04260771721601486, 'token': 143, 'token_str': 'a', 'sequence': '[CLS] [UNK] [UNK] [UNK] tian [UNK] [UNK] [MASK] to r c en in [UNK] [UNK] ke a qui e ra [MASK] u di an kin [SEP]'}, {'score': 0.04202679172158241, 'token': 154, 'token_str': 'l', 'sequence': '[CLS] [UNK] [UNK] [UNK] tian [UNK] [UNK] [MASK] to r c en in [UNK] [UNK] ke l qui e ra [MASK] u di an kin [SEP]'}, {'score': 0.03219561278820038, 'token': 151, 'token_str': 'i', 'sequence': '[CLS] [UNK] [UNK] [UNK] tian [UNK] [UNK] [MASK] to r c en in [UNK] [UNK] ke i qui e ra [MASK] u di an kin [SEP]'}]\n",
      "Unexpected format for prediction at index 2: [{'score': 0.06690340489149094, 'token': 10154, 'token_str': 'do', 'sequence': '[CLS] [UNK] [UNK] [UNK] tian [UNK] [UNK] [MASK] to r c en in [UNK] [UNK] ke [MASK] qui e ra do u di an kin [SEP]'}, {'score': 0.06443294137716293, 'token': 151, 'token_str': 'i', 'sequence': '[CLS] [UNK] [UNK] [UNK] tian [UNK] [UNK] [MASK] to r c en in [UNK] [UNK] ke [MASK] qui e ra i u di an kin [SEP]'}, {'score': 0.06264939904212952, 'token': 157, 'token_str': 'o', 'sequence': '[CLS] [UNK] [UNK] [UNK] tian [UNK] [UNK] [MASK] to r c en in [UNK] [UNK] ke [MASK] qui e ra o u di an kin [SEP]'}, {'score': 0.04370168223977089, 'token': 161, 'token_str': 's', 'sequence': '[CLS] [UNK] [UNK] [UNK] tian [UNK] [UNK] [MASK] to r c en in [UNK] [UNK] ke [MASK] qui e ra s u di an kin [SEP]'}, {'score': 0.04127418249845505, 'token': 143, 'token_str': 'a', 'sequence': '[CLS] [UNK] [UNK] [UNK] tian [UNK] [UNK] [MASK] to r c en in [UNK] [UNK] ke [MASK] qui e ra a u di an kin [SEP]'}]\n",
      "Unexpected format for prediction at index 0: [{'score': 0.08780542761087418, 'token': 10237, 'token_str': 'ka', 'sequence': '[CLS] [UNK] [UNK] kana [UNK] [UNK] [UNK] [UNK] [UNK] [UNK] ka ribi [UNK] [UNK] ka [UNK] [MASK] [UNK] [SEP]'}, {'score': 0.06406710296869278, 'token': 143, 'token_str': 'a', 'sequence': '[CLS] [UNK] [UNK] kana [UNK] [UNK] [UNK] [UNK] [UNK] [UNK] a ribi [UNK] [UNK] ka [UNK] [MASK] [UNK] [SEP]'}, {'score': 0.03161896765232086, 'token': 151, 'token_str': 'i', 'sequence': '[CLS] [UNK] [UNK] kana [UNK] [UNK] [UNK] [UNK] [UNK] [UNK] i ribi [UNK] [UNK] ka [UNK] [MASK] [UNK] [SEP]'}, {'score': 0.02914925292134285, 'token': 11009, 'token_str': 'ke', 'sequence': '[CLS] [UNK] [UNK] kana [UNK] [UNK] [UNK] [UNK] [UNK] [UNK] ke ribi [UNK] [UNK] ka [UNK] [MASK] [UNK] [SEP]'}, {'score': 0.022737188264727592, 'token': 10900, 'token_str': 'ki', 'sequence': '[CLS] [UNK] [UNK] kana [UNK] [UNK] [UNK] [UNK] [UNK] [UNK] ki ribi [UNK] [UNK] ka [UNK] [MASK] [UNK] [SEP]'}]\n",
      "Unexpected format for prediction at index 1: [{'score': 0.17511990666389465, 'token': 10237, 'token_str': 'ka', 'sequence': '[CLS] [UNK] [UNK] kana [UNK] [UNK] [UNK] [UNK] [UNK] [UNK] [MASK] ribi [UNK] [UNK] ka [UNK] ka [UNK] [SEP]'}, {'score': 0.03450019285082817, 'token': 11009, 'token_str': 'ke', 'sequence': '[CLS] [UNK] [UNK] kana [UNK] [UNK] [UNK] [UNK] [UNK] [UNK] [MASK] ribi [UNK] [UNK] ka [UNK] ke [UNK] [SEP]'}, {'score': 0.03291356563568115, 'token': 143, 'token_str': 'a', 'sequence': '[CLS] [UNK] [UNK] kana [UNK] [UNK] [UNK] [UNK] [UNK] [UNK] [MASK] ribi [UNK] [UNK] ka [UNK] a [UNK] [SEP]'}, {'score': 0.029750868678092957, 'token': 10900, 'token_str': 'ki', 'sequence': '[CLS] [UNK] [UNK] kana [UNK] [UNK] [UNK] [UNK] [UNK] [UNK] [MASK] ribi [UNK] [UNK] ka [UNK] ki [UNK] [SEP]'}, {'score': 0.026695072650909424, 'token': 10863, 'token_str': 'bi', 'sequence': '[CLS] [UNK] [UNK] kana [UNK] [UNK] [UNK] [UNK] [UNK] [UNK] [MASK] ribi [UNK] [UNK] ka [UNK] bi [UNK] [SEP]'}]\n",
      "Unexpected format for prediction at index 0: [{'score': 0.057255394756793976, 'token': 10237, 'token_str': 'ka', 'sequence': '[CLS] [UNK] man chon chon man [UNK] [UNK] [UNK] [UNK] [UNK] ka [UNK] [MASK] [UNK] [UNK] ribi [SEP]'}, {'score': 0.039798855781555176, 'token': 11009, 'token_str': 'ke', 'sequence': '[CLS] [UNK] man chon chon man [UNK] [UNK] [UNK] [UNK] [UNK] ke [UNK] [MASK] [UNK] [UNK] ribi [SEP]'}, {'score': 0.0396849662065506, 'token': 143, 'token_str': 'a', 'sequence': '[CLS] [UNK] man chon chon man [UNK] [UNK] [UNK] [UNK] [UNK] a [UNK] [MASK] [UNK] [UNK] ribi [SEP]'}, {'score': 0.03714245557785034, 'token': 10863, 'token_str': 'bi', 'sequence': '[CLS] [UNK] man chon chon man [UNK] [UNK] [UNK] [UNK] [UNK] bi [UNK] [MASK] [UNK] [UNK] ribi [SEP]'}, {'score': 0.03324608877301216, 'token': 10900, 'token_str': 'ki', 'sequence': '[CLS] [UNK] man chon chon man [UNK] [UNK] [UNK] [UNK] [UNK] ki [UNK] [MASK] [UNK] [UNK] ribi [SEP]'}]\n",
      "Unexpected format for prediction at index 1: [{'score': 0.0455818697810173, 'token': 10237, 'token_str': 'ka', 'sequence': '[CLS] [UNK] man chon chon man [UNK] [UNK] [UNK] [UNK] [UNK] [MASK] [UNK] ka [UNK] [UNK] ribi [SEP]'}, {'score': 0.04085453227162361, 'token': 143, 'token_str': 'a', 'sequence': '[CLS] [UNK] man chon chon man [UNK] [UNK] [UNK] [UNK] [UNK] [MASK] [UNK] a [UNK] [UNK] ribi [SEP]'}, {'score': 0.039935242384672165, 'token': 10863, 'token_str': 'bi', 'sequence': '[CLS] [UNK] man chon chon man [UNK] [UNK] [UNK] [UNK] [UNK] [MASK] [UNK] bi [UNK] [UNK] ribi [SEP]'}, {'score': 0.033029649406671524, 'token': 11009, 'token_str': 'ke', 'sequence': '[CLS] [UNK] man chon chon man [UNK] [UNK] [UNK] [UNK] [UNK] [MASK] [UNK] ke [UNK] [UNK] ribi [SEP]'}, {'score': 0.029048452153801918, 'token': 10900, 'token_str': 'ki', 'sequence': '[CLS] [UNK] man chon chon man [UNK] [UNK] [UNK] [UNK] [UNK] [MASK] [UNK] ki [UNK] [UNK] ribi [SEP]'}]\n",
      "Unexpected format for prediction at index 0: [{'score': 0.05393216013908386, 'token': 51252, 'token_str': 'sha', 'sequence': '[CLS] [UNK] sha [MASK] ba ina [UNK] [UNK] [UNK] [UNK] [UNK] [UNK] sha [UNK] ha koa [SEP]'}, {'score': 0.04776047170162201, 'token': 10593, 'token_str': 'ya', 'sequence': '[CLS] [UNK] ya [MASK] ba ina [UNK] [UNK] [UNK] [UNK] [UNK] [UNK] sha [UNK] ha koa [SEP]'}, {'score': 0.046316735446453094, 'token': 63135, 'token_str': 'yama', 'sequence': '[CLS] [UNK] yama [MASK] ba ina [UNK] [UNK] [UNK] [UNK] [UNK] [UNK] sha [UNK] ha koa [SEP]'}, {'score': 0.03789301961660385, 'token': 10237, 'token_str': 'ka', 'sequence': '[CLS] [UNK] ka [MASK] ba ina [UNK] [UNK] [UNK] [UNK] [UNK] [UNK] sha [UNK] ha koa [SEP]'}, {'score': 0.031514350324869156, 'token': 10863, 'token_str': 'bi', 'sequence': '[CLS] [UNK] bi [MASK] ba ina [UNK] [UNK] [UNK] [UNK] [UNK] [UNK] sha [UNK] ha koa [SEP]'}]\n",
      "Unexpected format for prediction at index 1: [{'score': 0.045853391289711, 'token': 10116, 'token_str': '##i', 'sequence': '[CLS] [UNK] [MASK]i ba ina [UNK] [UNK] [UNK] [UNK] [UNK] [UNK] sha [UNK] ha koa [SEP]'}, {'score': 0.04094194248318672, 'token': 143, 'token_str': 'a', 'sequence': '[CLS] [UNK] [MASK] a ba ina [UNK] [UNK] [UNK] [UNK] [UNK] [UNK] sha [UNK] ha koa [SEP]'}, {'score': 0.037459030747413635, 'token': 10115, 'token_str': '##n', 'sequence': '[CLS] [UNK] [MASK]n ba ina [UNK] [UNK] [UNK] [UNK] [UNK] [UNK] sha [UNK] ha koa [SEP]'}, {'score': 0.03126242011785507, 'token': 10112, 'token_str': '##a', 'sequence': '[CLS] [UNK] [MASK]a ba ina [UNK] [UNK] [UNK] [UNK] [UNK] [UNK] sha [UNK] ha koa [SEP]'}, {'score': 0.02921166643500328, 'token': 151, 'token_str': 'i', 'sequence': '[CLS] [UNK] [MASK] i ba ina [UNK] [UNK] [UNK] [UNK] [UNK] [UNK] sha [UNK] ha koa [SEP]'}]\n",
      "Unexpected format for prediction at index 0: [{'score': 0.11213719844818115, 'token': 11742, 'token_str': 'ra', 'sequence': '[CLS] [UNK] [UNK] ra [UNK] [UNK] [UNK] [UNK] [UNK] [UNK] [UNK] r g aka [MASK] g [MASK] [UNK] ra [UNK] ra be kin [SEP]'}, {'score': 0.051734428852796555, 'token': 10237, 'token_str': 'ka', 'sequence': '[CLS] [UNK] [UNK] ka [UNK] [UNK] [UNK] [UNK] [UNK] [UNK] [UNK] r g aka [MASK] g [MASK] [UNK] ra [UNK] ra be kin [SEP]'}, {'score': 0.038403548300266266, 'token': 10507, 'token_str': 'ma', 'sequence': '[CLS] [UNK] [UNK] ma [UNK] [UNK] [UNK] [UNK] [UNK] [UNK] [UNK] r g aka [MASK] g [MASK] [UNK] ra [UNK] ra be kin [SEP]'}, {'score': 0.03521319478750229, 'token': 143, 'token_str': 'a', 'sequence': '[CLS] [UNK] [UNK] a [UNK] [UNK] [UNK] [UNK] [UNK] [UNK] [UNK] r g aka [MASK] g [MASK] [UNK] ra [UNK] ra be kin [SEP]'}, {'score': 0.028728757053613663, 'token': 19716, 'token_str': 'ri', 'sequence': '[CLS] [UNK] [UNK] ri [UNK] [UNK] [UNK] [UNK] [UNK] [UNK] [UNK] r g aka [MASK] g [MASK] [UNK] ra [UNK] ra be kin [SEP]'}]\n",
      "Unexpected format for prediction at index 1: [{'score': 0.9425499439239502, 'token': 160, 'token_str': 'r', 'sequence': '[CLS] [UNK] [UNK] [MASK] [UNK] [UNK] [UNK] [UNK] [UNK] [UNK] [UNK] r g aka r g [MASK] [UNK] ra [UNK] ra be kin [SEP]'}, {'score': 0.006979383993893862, 'token': 10115, 'token_str': '##n', 'sequence': '[CLS] [UNK] [UNK] [MASK] [UNK] [UNK] [UNK] [UNK] [UNK] [UNK] [UNK] r g akan g [MASK] [UNK] ra [UNK] ra be kin [SEP]'}, {'score': 0.003675710177049041, 'token': 11742, 'token_str': 'ra', 'sequence': '[CLS] [UNK] [UNK] [MASK] [UNK] [UNK] [UNK] [UNK] [UNK] [UNK] [UNK] r g aka ra g [MASK] [UNK] ra [UNK] ra be kin [SEP]'}, {'score': 0.0033518413547426462, 'token': 19716, 'token_str': 'ri', 'sequence': '[CLS] [UNK] [UNK] [MASK] [UNK] [UNK] [UNK] [UNK] [UNK] [UNK] [UNK] r g aka ri g [MASK] [UNK] ra [UNK] ra be kin [SEP]'}, {'score': 0.0025699015241116285, 'token': 151, 'token_str': 'i', 'sequence': '[CLS] [UNK] [UNK] [MASK] [UNK] [UNK] [UNK] [UNK] [UNK] [UNK] [UNK] r g aka i g [MASK] [UNK] ra [UNK] ra be kin [SEP]'}]\n",
      "Unexpected format for prediction at index 2: [{'score': 0.9995137453079224, 'token': 36710, 'token_str': 'aka', 'sequence': '[CLS] [UNK] [UNK] [MASK] [UNK] [UNK] [UNK] [UNK] [UNK] [UNK] [UNK] r g aka [MASK] g aka [UNK] ra [UNK] ra be kin [SEP]'}, {'score': 8.803868695395067e-05, 'token': 61370, 'token_str': 'tima', 'sequence': '[CLS] [UNK] [UNK] [MASK] [UNK] [UNK] [UNK] [UNK] [UNK] [UNK] [UNK] r g aka [MASK] g tima [UNK] ra [UNK] ra be kin [SEP]'}, {'score': 4.1124698327621445e-05, 'token': 22079, 'token_str': 'ama', 'sequence': '[CLS] [UNK] [UNK] [MASK] [UNK] [UNK] [UNK] [UNK] [UNK] [UNK] [UNK] r g aka [MASK] g ama [UNK] ra [UNK] ra be kin [SEP]'}, {'score': 3.713850674103014e-05, 'token': 10593, 'token_str': 'ya', 'sequence': '[CLS] [UNK] [UNK] [MASK] [UNK] [UNK] [UNK] [UNK] [UNK] [UNK] [UNK] r g aka [MASK] g ya [UNK] ra [UNK] ra be kin [SEP]'}, {'score': 3.598197508836165e-05, 'token': 10115, 'token_str': '##n', 'sequence': '[CLS] [UNK] [UNK] [MASK] [UNK] [UNK] [UNK] [UNK] [UNK] [UNK] [UNK] r g aka [MASK] gn [UNK] ra [UNK] ra be kin [SEP]'}]\n",
      "Unexpected format for prediction at index 0: [{'score': 0.10330686718225479, 'token': 10237, 'token_str': 'ka', 'sequence': '[CLS] [UNK] [UNK] ra [UNK] ya ka [UNK] [UNK] ka ya [UNK] [MASK] bei betin [SEP]'}, {'score': 0.0763729065656662, 'token': 10116, 'token_str': '##i', 'sequence': '[CLS] [UNK] [UNK] ra [UNK] yai [UNK] [UNK] ka ya [UNK] [MASK] bei betin [SEP]'}, {'score': 0.07531598955392838, 'token': 11009, 'token_str': 'ke', 'sequence': '[CLS] [UNK] [UNK] ra [UNK] ya ke [UNK] [UNK] ka ya [UNK] [MASK] bei betin [SEP]'}, {'score': 0.04251360148191452, 'token': 151, 'token_str': 'i', 'sequence': '[CLS] [UNK] [UNK] ra [UNK] ya i [UNK] [UNK] ka ya [UNK] [MASK] bei betin [SEP]'}, {'score': 0.03569316491484642, 'token': 11742, 'token_str': 'ra', 'sequence': '[CLS] [UNK] [UNK] ra [UNK] ya ra [UNK] [UNK] ka ya [UNK] [MASK] bei betin [SEP]'}]\n",
      "Unexpected format for prediction at index 1: [{'score': 0.0451485700905323, 'token': 143, 'token_str': 'a', 'sequence': '[CLS] [UNK] [UNK] ra [UNK] ya [MASK] [UNK] [UNK] ka ya [UNK] a bei betin [SEP]'}, {'score': 0.03870762139558792, 'token': 10237, 'token_str': 'ka', 'sequence': '[CLS] [UNK] [UNK] ra [UNK] ya [MASK] [UNK] [UNK] ka ya [UNK] ka bei betin [SEP]'}, {'score': 0.033755917102098465, 'token': 10863, 'token_str': 'bi', 'sequence': '[CLS] [UNK] [UNK] ra [UNK] ya [MASK] [UNK] [UNK] ka ya [UNK] bi bei betin [SEP]'}, {'score': 0.027460407465696335, 'token': 11009, 'token_str': 'ke', 'sequence': '[CLS] [UNK] [UNK] ra [UNK] ya [MASK] [UNK] [UNK] ka ya [UNK] ke bei betin [SEP]'}, {'score': 0.02496730349957943, 'token': 11117, 'token_str': 'bo', 'sequence': '[CLS] [UNK] [UNK] ra [UNK] ya [MASK] [UNK] [UNK] ka ya [UNK] bo bei betin [SEP]'}]\n",
      "Unexpected format for prediction at index 0: [{'score': 0.10840415209531784, 'token': 151, 'token_str': 'i', 'sequence': '[CLS] [UNK] [UNK] osi [UNK] [UNK] shama i [UNK] [UNK] i [MASK] [UNK] ka [UNK] [UNK] [UNK] [UNK] [UNK] [UNK] [SEP]'}, {'score': 0.05937633290886879, 'token': 11009, 'token_str': 'ke', 'sequence': '[CLS] [UNK] [UNK] osi [UNK] [UNK] shama ke [UNK] [UNK] i [MASK] [UNK] ka [UNK] [UNK] [UNK] [UNK] [UNK] [UNK] [SEP]'}, {'score': 0.05602894350886345, 'token': 10237, 'token_str': 'ka', 'sequence': '[CLS] [UNK] [UNK] osi [UNK] [UNK] shama ka [UNK] [UNK] i [MASK] [UNK] ka [UNK] [UNK] [UNK] [UNK] [UNK] [UNK] [SEP]'}, {'score': 0.05389317125082016, 'token': 10900, 'token_str': 'ki', 'sequence': '[CLS] [UNK] [UNK] osi [UNK] [UNK] shama ki [UNK] [UNK] i [MASK] [UNK] ka [UNK] [UNK] [UNK] [UNK] [UNK] [UNK] [SEP]'}, {'score': 0.053382162004709244, 'token': 143, 'token_str': 'a', 'sequence': '[CLS] [UNK] [UNK] osi [UNK] [UNK] shama a [UNK] [UNK] i [MASK] [UNK] ka [UNK] [UNK] [UNK] [UNK] [UNK] [UNK] [SEP]'}]\n",
      "Unexpected format for prediction at index 1: [{'score': 0.12171497941017151, 'token': 10237, 'token_str': 'ka', 'sequence': '[CLS] [UNK] [UNK] osi [UNK] [UNK] shama [MASK] [UNK] [UNK] i ka [UNK] ka [UNK] [UNK] [UNK] [UNK] [UNK] [UNK] [SEP]'}, {'score': 0.05279859900474548, 'token': 143, 'token_str': 'a', 'sequence': '[CLS] [UNK] [UNK] osi [UNK] [UNK] shama [MASK] [UNK] [UNK] i a [UNK] ka [UNK] [UNK] [UNK] [UNK] [UNK] [UNK] [SEP]'}, {'score': 0.03823583573102951, 'token': 151, 'token_str': 'i', 'sequence': '[CLS] [UNK] [UNK] osi [UNK] [UNK] shama [MASK] [UNK] [UNK] i i [UNK] ka [UNK] [UNK] [UNK] [UNK] [UNK] [UNK] [SEP]'}, {'score': 0.032724201679229736, 'token': 11009, 'token_str': 'ke', 'sequence': '[CLS] [UNK] [UNK] osi [UNK] [UNK] shama [MASK] [UNK] [UNK] i ke [UNK] ka [UNK] [UNK] [UNK] [UNK] [UNK] [UNK] [SEP]'}, {'score': 0.0317080095410347, 'token': 10900, 'token_str': 'ki', 'sequence': '[CLS] [UNK] [UNK] osi [UNK] [UNK] shama [MASK] [UNK] [UNK] i ki [UNK] ka [UNK] [UNK] [UNK] [UNK] [UNK] [UNK] [SEP]'}]\n",
      "Unexpected format for prediction at index 0: [{'score': 0.5544123649597168, 'token': 157, 'token_str': 'o', 'sequence': '[CLS] [UNK] ris to bo [UNK] [UNK] [UNK] [UNK] [UNK] [UNK] ka [UNK] o hati [UNK] o hati [UNK] on [UNK] si [UNK] on [MASK] si [MASK] [SEP]'}, {'score': 0.02986866794526577, 'token': 10104, 'token_str': 'in', 'sequence': '[CLS] [UNK] ris to bo [UNK] [UNK] [UNK] [UNK] [UNK] [UNK] ka [UNK] in hati [UNK] o hati [UNK] on [UNK] si [UNK] on [MASK] si [MASK] [SEP]'}, {'score': 0.024249810725450516, 'token': 143, 'token_str': 'a', 'sequence': '[CLS] [UNK] ris to bo [UNK] [UNK] [UNK] [UNK] [UNK] [UNK] ka [UNK] a hati [UNK] o hati [UNK] on [UNK] si [UNK] on [MASK] si [MASK] [SEP]'}, {'score': 0.017275987192988396, 'token': 147, 'token_str': 'e', 'sequence': '[CLS] [UNK] ris to bo [UNK] [UNK] [UNK] [UNK] [UNK] [UNK] ka [UNK] e hati [UNK] o hati [UNK] on [UNK] si [UNK] on [MASK] si [MASK] [SEP]'}, {'score': 0.01554683968424797, 'token': 14114, 'token_str': 'ua', 'sequence': '[CLS] [UNK] ris to bo [UNK] [UNK] [UNK] [UNK] [UNK] [UNK] ka [UNK] ua hati [UNK] o hati [UNK] on [UNK] si [UNK] on [MASK] si [MASK] [SEP]'}]\n",
      "Unexpected format for prediction at index 1: [{'score': 0.22492489218711853, 'token': 157, 'token_str': 'o', 'sequence': '[CLS] [UNK] ris to bo [UNK] [UNK] [UNK] [UNK] [UNK] [UNK] ka [UNK] [MASK] hati [UNK] o hati [UNK] on [UNK] si [UNK] on o si [MASK] [SEP]'}, {'score': 0.07692152261734009, 'token': 151, 'token_str': 'i', 'sequence': '[CLS] [UNK] ris to bo [UNK] [UNK] [UNK] [UNK] [UNK] [UNK] ka [UNK] [MASK] hati [UNK] o hati [UNK] on [UNK] si [UNK] on i si [MASK] [SEP]'}, {'score': 0.06574904918670654, 'token': 143, 'token_str': 'a', 'sequence': '[CLS] [UNK] ris to bo [UNK] [UNK] [UNK] [UNK] [UNK] [UNK] ka [UNK] [MASK] hati [UNK] o hati [UNK] on [UNK] si [UNK] on a si [MASK] [SEP]'}, {'score': 0.03962356969714165, 'token': 10115, 'token_str': '##n', 'sequence': '[CLS] [UNK] ris to bo [UNK] [UNK] [UNK] [UNK] [UNK] [UNK] ka [UNK] [MASK] hati [UNK] o hati [UNK] on [UNK] si [UNK] onn si [MASK] [SEP]'}, {'score': 0.03937814384698868, 'token': 10457, 'token_str': '##ko', 'sequence': '[CLS] [UNK] ris to bo [UNK] [UNK] [UNK] [UNK] [UNK] [UNK] ka [UNK] [MASK] hati [UNK] o hati [UNK] on [UNK] si [UNK] onko si [MASK] [SEP]'}]\n",
      "Unexpected format for prediction at index 2: [{'score': 0.9622120261192322, 'token': 43414, 'token_str': 'hati', 'sequence': '[CLS] [UNK] ris to bo [UNK] [UNK] [UNK] [UNK] [UNK] [UNK] ka [UNK] [MASK] hati [UNK] o hati [UNK] on [UNK] si [UNK] on [MASK] si hati [SEP]'}, {'score': 0.008305891416966915, 'token': 11880, 'token_str': '##bi', 'sequence': '[CLS] [UNK] ris to bo [UNK] [UNK] [UNK] [UNK] [UNK] [UNK] ka [UNK] [MASK] hati [UNK] o hati [UNK] on [UNK] si [UNK] on [MASK] sibi [SEP]'}, {'score': 0.007948842830955982, 'token': 11117, 'token_str': 'bo', 'sequence': '[CLS] [UNK] ris to bo [UNK] [UNK] [UNK] [UNK] [UNK] [UNK] ka [UNK] [MASK] hati [UNK] o hati [UNK] on [UNK] si [UNK] on [MASK] si bo [SEP]'}, {'score': 0.0013708662008866668, 'token': 21854, 'token_str': 'pari', 'sequence': '[CLS] [UNK] ris to bo [UNK] [UNK] [UNK] [UNK] [UNK] [UNK] ka [UNK] [MASK] hati [UNK] o hati [UNK] on [UNK] si [UNK] on [MASK] si pari [SEP]'}, {'score': 0.0013509057462215424, 'token': 10346, 'token_str': 'be', 'sequence': '[CLS] [UNK] ris to bo [UNK] [UNK] [UNK] [UNK] [UNK] [UNK] ka [UNK] [MASK] hati [UNK] o hati [UNK] on [UNK] si [UNK] on [MASK] si be [SEP]'}]\n",
      "Unexpected format for prediction at index 0: [{'score': 0.999976396560669, 'token': 154, 'token_str': 'l', 'sequence': '[CLS] [UNK] [UNK] x p l ic o [UNK] [UNK] [MASK] x p l ic o [UNK] [UNK] [SEP]'}, {'score': 9.682489690021612e-06, 'token': 161, 'token_str': 's', 'sequence': '[CLS] [UNK] [UNK] x p s ic o [UNK] [UNK] [MASK] x p l ic o [UNK] [UNK] [SEP]'}, {'score': 4.1761190914257895e-06, 'token': 156, 'token_str': 'n', 'sequence': '[CLS] [UNK] [UNK] x p n ic o [UNK] [UNK] [MASK] x p l ic o [UNK] [UNK] [SEP]'}, {'score': 3.303582161606755e-06, 'token': 160, 'token_str': 'r', 'sequence': '[CLS] [UNK] [UNK] x p r ic o [UNK] [UNK] [MASK] x p l ic o [UNK] [UNK] [SEP]'}, {'score': 1.8164738548875903e-06, 'token': 155, 'token_str': 'm', 'sequence': '[CLS] [UNK] [UNK] x p m ic o [UNK] [UNK] [MASK] x p l ic o [UNK] [UNK] [SEP]'}]\n",
      "Unexpected format for prediction at index 1: [{'score': 0.04780297353863716, 'token': 143, 'token_str': 'a', 'sequence': '[CLS] [UNK] [UNK] x p [MASK] ic o [UNK] [UNK] a x p l ic o [UNK] [UNK] [SEP]'}, {'score': 0.04726380854845047, 'token': 151, 'token_str': 'i', 'sequence': '[CLS] [UNK] [UNK] x p [MASK] ic o [UNK] [UNK] i x p l ic o [UNK] [UNK] [SEP]'}, {'score': 0.034054096788167953, 'token': 161, 'token_str': 's', 'sequence': '[CLS] [UNK] [UNK] x p [MASK] ic o [UNK] [UNK] s x p l ic o [UNK] [UNK] [SEP]'}, {'score': 0.02958567999303341, 'token': 160, 'token_str': 'r', 'sequence': '[CLS] [UNK] [UNK] x p [MASK] ic o [UNK] [UNK] r x p l ic o [UNK] [UNK] [SEP]'}, {'score': 0.028625531122088432, 'token': 10237, 'token_str': 'ka', 'sequence': '[CLS] [UNK] [UNK] x p [MASK] ic o [UNK] [UNK] ka x p l ic o [UNK] [UNK] [SEP]'}]\n",
      "Unexpected format for prediction at index 0: [{'score': 0.04890846088528633, 'token': 10237, 'token_str': 'ka', 'sequence': '[CLS] [UNK] ka ke [UNK] [UNK] [UNK] ro ma ka [MASK] [UNK] tanwe [UNK] [UNK] [UNK] [SEP]'}, {'score': 0.03551628068089485, 'token': 11817, 'token_str': 'hon', 'sequence': '[CLS] [UNK] ka ke [UNK] [UNK] [UNK] ro ma hon [MASK] [UNK] tanwe [UNK] [UNK] [UNK] [SEP]'}, {'score': 0.03179621696472168, 'token': 11009, 'token_str': 'ke', 'sequence': '[CLS] [UNK] ka ke [UNK] [UNK] [UNK] ro ma ke [MASK] [UNK] tanwe [UNK] [UNK] [UNK] [SEP]'}, {'score': 0.03145861625671387, 'token': 143, 'token_str': 'a', 'sequence': '[CLS] [UNK] ka ke [UNK] [UNK] [UNK] ro ma a [MASK] [UNK] tanwe [UNK] [UNK] [UNK] [SEP]'}, {'score': 0.03035864420235157, 'token': 10900, 'token_str': 'ki', 'sequence': '[CLS] [UNK] ka ke [UNK] [UNK] [UNK] ro ma ki [MASK] [UNK] tanwe [UNK] [UNK] [UNK] [SEP]'}]\n",
      "Unexpected format for prediction at index 1: [{'score': 0.06391525268554688, 'token': 10116, 'token_str': '##i', 'sequence': '[CLS] [UNK] ka ke [UNK] [UNK] [UNK] ro ma [MASK]i [UNK] tanwe [UNK] [UNK] [UNK] [SEP]'}, {'score': 0.049637168645858765, 'token': 10112, 'token_str': '##a', 'sequence': '[CLS] [UNK] ka ke [UNK] [UNK] [UNK] ro ma [MASK]a [UNK] tanwe [UNK] [UNK] [UNK] [SEP]'}, {'score': 0.03621755167841911, 'token': 10237, 'token_str': 'ka', 'sequence': '[CLS] [UNK] ka ke [UNK] [UNK] [UNK] ro ma [MASK] ka [UNK] tanwe [UNK] [UNK] [UNK] [SEP]'}, {'score': 0.03474107384681702, 'token': 143, 'token_str': 'a', 'sequence': '[CLS] [UNK] ka ke [UNK] [UNK] [UNK] ro ma [MASK] a [UNK] tanwe [UNK] [UNK] [UNK] [SEP]'}, {'score': 0.03271569684147835, 'token': 151, 'token_str': 'i', 'sequence': '[CLS] [UNK] ka ke [UNK] [UNK] [UNK] ro ma [MASK] i [UNK] tanwe [UNK] [UNK] [UNK] [SEP]'}]\n",
      "Unexpected format for prediction at index 0: [{'score': 0.05199144408106804, 'token': 10900, 'token_str': 'ki', 'sequence': '[CLS] [UNK] [UNK] mi mera [UNK] [UNK] [UNK] riki ki [MASK] [UNK] [UNK] ronki [UNK] ki [UNK] i [MASK] [UNK] [UNK] [UNK] [SEP]'}, {'score': 0.046763502061367035, 'token': 151, 'token_str': 'i', 'sequence': '[CLS] [UNK] [UNK] mi mera [UNK] [UNK] [UNK] riki i [MASK] [UNK] [UNK] ronki [UNK] ki [UNK] i [MASK] [UNK] [UNK] [UNK] [SEP]'}, {'score': 0.045360784977674484, 'token': 10237, 'token_str': 'ka', 'sequence': '[CLS] [UNK] [UNK] mi mera [UNK] [UNK] [UNK] riki ka [MASK] [UNK] [UNK] ronki [UNK] ki [UNK] i [MASK] [UNK] [UNK] [UNK] [SEP]'}, {'score': 0.04038948938250542, 'token': 143, 'token_str': 'a', 'sequence': '[CLS] [UNK] [UNK] mi mera [UNK] [UNK] [UNK] riki a [MASK] [UNK] [UNK] ronki [UNK] ki [UNK] i [MASK] [UNK] [UNK] [UNK] [SEP]'}, {'score': 0.0324426032602787, 'token': 11009, 'token_str': 'ke', 'sequence': '[CLS] [UNK] [UNK] mi mera [UNK] [UNK] [UNK] riki ke [MASK] [UNK] [UNK] ronki [UNK] ki [UNK] i [MASK] [UNK] [UNK] [UNK] [SEP]'}]\n",
      "Unexpected format for prediction at index 1: [{'score': 0.08425706624984741, 'token': 10116, 'token_str': '##i', 'sequence': '[CLS] [UNK] [UNK] mi mera [UNK] [UNK] [UNK] riki [MASK]i [UNK] [UNK] ronki [UNK] ki [UNK] i [MASK] [UNK] [UNK] [UNK] [SEP]'}, {'score': 0.050001900643110275, 'token': 10237, 'token_str': 'ka', 'sequence': '[CLS] [UNK] [UNK] mi mera [UNK] [UNK] [UNK] riki [MASK] ka [UNK] [UNK] ronki [UNK] ki [UNK] i [MASK] [UNK] [UNK] [UNK] [SEP]'}, {'score': 0.0479850247502327, 'token': 10900, 'token_str': 'ki', 'sequence': '[CLS] [UNK] [UNK] mi mera [UNK] [UNK] [UNK] riki [MASK] ki [UNK] [UNK] ronki [UNK] ki [UNK] i [MASK] [UNK] [UNK] [UNK] [SEP]'}, {'score': 0.03682437166571617, 'token': 10112, 'token_str': '##a', 'sequence': '[CLS] [UNK] [UNK] mi mera [UNK] [UNK] [UNK] riki [MASK]a [UNK] [UNK] ronki [UNK] ki [UNK] i [MASK] [UNK] [UNK] [UNK] [SEP]'}, {'score': 0.02875898964703083, 'token': 143, 'token_str': 'a', 'sequence': '[CLS] [UNK] [UNK] mi mera [UNK] [UNK] [UNK] riki [MASK] a [UNK] [UNK] ronki [UNK] ki [UNK] i [MASK] [UNK] [UNK] [UNK] [SEP]'}]\n",
      "Unexpected format for prediction at index 2: [{'score': 0.061113279312849045, 'token': 10900, 'token_str': 'ki', 'sequence': '[CLS] [UNK] [UNK] mi mera [UNK] [UNK] [UNK] riki [MASK] [MASK] [UNK] [UNK] ronki [UNK] ki [UNK] i ki [UNK] [UNK] [UNK] [SEP]'}, {'score': 0.052845802158117294, 'token': 10237, 'token_str': 'ka', 'sequence': '[CLS] [UNK] [UNK] mi mera [UNK] [UNK] [UNK] riki [MASK] [MASK] [UNK] [UNK] ronki [UNK] ki [UNK] i ka [UNK] [UNK] [UNK] [SEP]'}, {'score': 0.049264442175626755, 'token': 11742, 'token_str': 'ra', 'sequence': '[CLS] [UNK] [UNK] mi mera [UNK] [UNK] [UNK] riki [MASK] [MASK] [UNK] [UNK] ronki [UNK] ki [UNK] i ra [UNK] [UNK] [UNK] [SEP]'}, {'score': 0.03425854817032814, 'token': 143, 'token_str': 'a', 'sequence': '[CLS] [UNK] [UNK] mi mera [UNK] [UNK] [UNK] riki [MASK] [MASK] [UNK] [UNK] ronki [UNK] ki [UNK] i a [UNK] [UNK] [UNK] [SEP]'}, {'score': 0.032772891223430634, 'token': 19716, 'token_str': 'ri', 'sequence': '[CLS] [UNK] [UNK] mi mera [UNK] [UNK] [UNK] riki [MASK] [MASK] [UNK] [UNK] ronki [UNK] ki [UNK] i ri [UNK] [UNK] [UNK] [SEP]'}]\n",
      "Unexpected format for prediction at index 0: [{'score': 0.05027846619486809, 'token': 10237, 'token_str': 'ka', 'sequence': '[CLS] [UNK] [UNK] sho koa [UNK] ka [UNK] ribi [UNK] chomabi [MASK] [UNK] chomabi [UNK] [SEP]'}, {'score': 0.036898717284202576, 'token': 10900, 'token_str': 'ki', 'sequence': '[CLS] [UNK] [UNK] sho koa [UNK] ki [UNK] ribi [UNK] chomabi [MASK] [UNK] chomabi [UNK] [SEP]'}, {'score': 0.03434092923998833, 'token': 11742, 'token_str': 'ra', 'sequence': '[CLS] [UNK] [UNK] sho koa [UNK] ra [UNK] ribi [UNK] chomabi [MASK] [UNK] chomabi [UNK] [SEP]'}, {'score': 0.02900269627571106, 'token': 11009, 'token_str': 'ke', 'sequence': '[CLS] [UNK] [UNK] sho koa [UNK] ke [UNK] ribi [UNK] chomabi [MASK] [UNK] chomabi [UNK] [SEP]'}, {'score': 0.027713336050510406, 'token': 143, 'token_str': 'a', 'sequence': '[CLS] [UNK] [UNK] sho koa [UNK] a [UNK] ribi [UNK] chomabi [MASK] [UNK] chomabi [UNK] [SEP]'}]\n",
      "Unexpected format for prediction at index 1: [{'score': 0.07143329083919525, 'token': 10116, 'token_str': '##i', 'sequence': '[CLS] [UNK] [UNK] sho koa [UNK] [MASK] [UNK] ribi [UNK] chomabii [UNK] chomabi [UNK] [SEP]'}, {'score': 0.06616641581058502, 'token': 10115, 'token_str': '##n', 'sequence': '[CLS] [UNK] [UNK] sho koa [UNK] [MASK] [UNK] ribi [UNK] chomabin [UNK] chomabi [UNK] [SEP]'}, {'score': 0.064344123005867, 'token': 10112, 'token_str': '##a', 'sequence': '[CLS] [UNK] [UNK] sho koa [UNK] [MASK] [UNK] ribi [UNK] chomabia [UNK] chomabi [UNK] [SEP]'}, {'score': 0.05443398654460907, 'token': 10237, 'token_str': 'ka', 'sequence': '[CLS] [UNK] [UNK] sho koa [UNK] [MASK] [UNK] ribi [UNK] chomabi ka [UNK] chomabi [UNK] [SEP]'}, {'score': 0.05341620370745659, 'token': 151, 'token_str': 'i', 'sequence': '[CLS] [UNK] [UNK] sho koa [UNK] [MASK] [UNK] ribi [UNK] chomabi i [UNK] chomabi [UNK] [SEP]'}]\n",
      "Unexpected format for prediction at index 0: [{'score': 0.13893727958202362, 'token': 10900, 'token_str': 'ki', 'sequence': '[CLS] [UNK] [UNK] wa [UNK] [UNK] ki [UNK] wa [MASK] ki [UNK] hon [UNK] r ka [SEP]'}, {'score': 0.09012774378061295, 'token': 10237, 'token_str': 'ka', 'sequence': '[CLS] [UNK] [UNK] wa [UNK] [UNK] ka [UNK] wa [MASK] ki [UNK] hon [UNK] r ka [SEP]'}, {'score': 0.03819787874817848, 'token': 10863, 'token_str': 'bi', 'sequence': '[CLS] [UNK] [UNK] wa [UNK] [UNK] bi [UNK] wa [MASK] ki [UNK] hon [UNK] r ka [SEP]'}, {'score': 0.030963292345404625, 'token': 11742, 'token_str': 'ra', 'sequence': '[CLS] [UNK] [UNK] wa [UNK] [UNK] ra [UNK] wa [MASK] ki [UNK] hon [UNK] r ka [SEP]'}, {'score': 0.027268271893262863, 'token': 19716, 'token_str': 'ri', 'sequence': '[CLS] [UNK] [UNK] wa [UNK] [UNK] ri [UNK] wa [MASK] ki [UNK] hon [UNK] r ka [SEP]'}]\n",
      "Unexpected format for prediction at index 1: [{'score': 0.07790476083755493, 'token': 10900, 'token_str': 'ki', 'sequence': '[CLS] [UNK] [UNK] wa [UNK] [UNK] [MASK] [UNK] wa ki ki [UNK] hon [UNK] r ka [SEP]'}, {'score': 0.05389094725251198, 'token': 11009, 'token_str': 'ke', 'sequence': '[CLS] [UNK] [UNK] wa [UNK] [UNK] [MASK] [UNK] wa ke ki [UNK] hon [UNK] r ka [SEP]'}, {'score': 0.03138132393360138, 'token': 143, 'token_str': 'a', 'sequence': '[CLS] [UNK] [UNK] wa [UNK] [UNK] [MASK] [UNK] wa a ki [UNK] hon [UNK] r ka [SEP]'}, {'score': 0.030887261033058167, 'token': 10237, 'token_str': 'ka', 'sequence': '[CLS] [UNK] [UNK] wa [UNK] [UNK] [MASK] [UNK] wa ka ki [UNK] hon [UNK] r ka [SEP]'}, {'score': 0.02867213450372219, 'token': 10863, 'token_str': 'bi', 'sequence': '[CLS] [UNK] [UNK] wa [UNK] [UNK] [MASK] [UNK] wa bi ki [UNK] hon [UNK] r ka [SEP]'}]\n",
      "Unexpected format for prediction at index 0: [{'score': 0.07458794862031937, 'token': 151, 'token_str': 'i', 'sequence': '[CLS] [UNK] hoko i [UNK] [UNK] [UNK] ria [UNK] [UNK] ri [UNK] [UNK] bi [UNK] [MASK] [MASK] [UNK] [UNK] [UNK] [UNK] [SEP]'}, {'score': 0.049557164311409, 'token': 11009, 'token_str': 'ke', 'sequence': '[CLS] [UNK] hoko ke [UNK] [UNK] [UNK] ria [UNK] [UNK] ri [UNK] [UNK] bi [UNK] [MASK] [MASK] [UNK] [UNK] [UNK] [UNK] [SEP]'}, {'score': 0.04105863720178604, 'token': 10237, 'token_str': 'ka', 'sequence': '[CLS] [UNK] hoko ka [UNK] [UNK] [UNK] ria [UNK] [UNK] ri [UNK] [UNK] bi [UNK] [MASK] [MASK] [UNK] [UNK] [UNK] [UNK] [SEP]'}, {'score': 0.03907465562224388, 'token': 10900, 'token_str': 'ki', 'sequence': '[CLS] [UNK] hoko ki [UNK] [UNK] [UNK] ria [UNK] [UNK] ri [UNK] [UNK] bi [UNK] [MASK] [MASK] [UNK] [UNK] [UNK] [UNK] [SEP]'}, {'score': 0.03859942778944969, 'token': 143, 'token_str': 'a', 'sequence': '[CLS] [UNK] hoko a [UNK] [UNK] [UNK] ria [UNK] [UNK] ri [UNK] [UNK] bi [UNK] [MASK] [MASK] [UNK] [UNK] [UNK] [UNK] [SEP]'}]\n",
      "Unexpected format for prediction at index 1: [{'score': 0.0558253712952137, 'token': 10863, 'token_str': 'bi', 'sequence': '[CLS] [UNK] hoko [MASK] [UNK] [UNK] [UNK] ria [UNK] [UNK] ri [UNK] [UNK] bi [UNK] bi [MASK] [UNK] [UNK] [UNK] [UNK] [SEP]'}, {'score': 0.03445345163345337, 'token': 10237, 'token_str': 'ka', 'sequence': '[CLS] [UNK] hoko [MASK] [UNK] [UNK] [UNK] ria [UNK] [UNK] ri [UNK] [UNK] bi [UNK] ka [MASK] [UNK] [UNK] [UNK] [UNK] [SEP]'}, {'score': 0.03154691308736801, 'token': 10900, 'token_str': 'ki', 'sequence': '[CLS] [UNK] hoko [MASK] [UNK] [UNK] [UNK] ria [UNK] [UNK] ri [UNK] [UNK] bi [UNK] ki [MASK] [UNK] [UNK] [UNK] [UNK] [SEP]'}, {'score': 0.023205522447824478, 'token': 63135, 'token_str': 'yama', 'sequence': '[CLS] [UNK] hoko [MASK] [UNK] [UNK] [UNK] ria [UNK] [UNK] ri [UNK] [UNK] bi [UNK] yama [MASK] [UNK] [UNK] [UNK] [UNK] [SEP]'}, {'score': 0.023000191897153854, 'token': 19716, 'token_str': 'ri', 'sequence': '[CLS] [UNK] hoko [MASK] [UNK] [UNK] [UNK] ria [UNK] [UNK] ri [UNK] [UNK] bi [UNK] ri [MASK] [UNK] [UNK] [UNK] [UNK] [SEP]'}]\n",
      "Unexpected format for prediction at index 2: [{'score': 0.1029597669839859, 'token': 10116, 'token_str': '##i', 'sequence': '[CLS] [UNK] hoko [MASK] [UNK] [UNK] [UNK] ria [UNK] [UNK] ri [UNK] [UNK] bi [UNK] [MASK]i [UNK] [UNK] [UNK] [UNK] [SEP]'}, {'score': 0.04790389537811279, 'token': 10112, 'token_str': '##a', 'sequence': '[CLS] [UNK] hoko [MASK] [UNK] [UNK] [UNK] ria [UNK] [UNK] ri [UNK] [UNK] bi [UNK] [MASK]a [UNK] [UNK] [UNK] [UNK] [SEP]'}, {'score': 0.035219457000494, 'token': 10457, 'token_str': '##ko', 'sequence': '[CLS] [UNK] hoko [MASK] [UNK] [UNK] [UNK] ria [UNK] [UNK] ri [UNK] [UNK] bi [UNK] [MASK]ko [UNK] [UNK] [UNK] [UNK] [SEP]'}, {'score': 0.031610164791345596, 'token': 10115, 'token_str': '##n', 'sequence': '[CLS] [UNK] hoko [MASK] [UNK] [UNK] [UNK] ria [UNK] [UNK] ri [UNK] [UNK] bi [UNK] [MASK]n [UNK] [UNK] [UNK] [UNK] [SEP]'}, {'score': 0.03085065819323063, 'token': 11009, 'token_str': 'ke', 'sequence': '[CLS] [UNK] hoko [MASK] [UNK] [UNK] [UNK] ria [UNK] [UNK] ri [UNK] [UNK] bi [UNK] [MASK] ke [UNK] [UNK] [UNK] [UNK] [SEP]'}]\n",
      "Unexpected format for prediction at index 0: [{'score': 0.05764740705490112, 'token': 143, 'token_str': 'a', 'sequence': '[CLS] [UNK] [UNK] [UNK] [UNK] [UNK] a [UNK] [UNK] [UNK] h [UNK] biribi [UNK] [UNK] [MASK] [SEP]'}, {'score': 0.05446266010403633, 'token': 10237, 'token_str': 'ka', 'sequence': '[CLS] [UNK] [UNK] [UNK] [UNK] [UNK] ka [UNK] [UNK] [UNK] h [UNK] biribi [UNK] [UNK] [MASK] [SEP]'}, {'score': 0.032581627368927, 'token': 10900, 'token_str': 'ki', 'sequence': '[CLS] [UNK] [UNK] [UNK] [UNK] [UNK] ki [UNK] [UNK] [UNK] h [UNK] biribi [UNK] [UNK] [MASK] [SEP]'}, {'score': 0.02984030172228813, 'token': 11009, 'token_str': 'ke', 'sequence': '[CLS] [UNK] [UNK] [UNK] [UNK] [UNK] ke [UNK] [UNK] [UNK] h [UNK] biribi [UNK] [UNK] [MASK] [SEP]'}, {'score': 0.029140295460820198, 'token': 11742, 'token_str': 'ra', 'sequence': '[CLS] [UNK] [UNK] [UNK] [UNK] [UNK] ra [UNK] [UNK] [UNK] h [UNK] biribi [UNK] [UNK] [MASK] [SEP]'}]\n",
      "Unexpected format for prediction at index 1: [{'score': 0.04513785243034363, 'token': 143, 'token_str': 'a', 'sequence': '[CLS] [UNK] [UNK] [UNK] [UNK] [UNK] [MASK] [UNK] [UNK] [UNK] h [UNK] biribi [UNK] [UNK] a [SEP]'}, {'score': 0.038637880235910416, 'token': 10237, 'token_str': 'ka', 'sequence': '[CLS] [UNK] [UNK] [UNK] [UNK] [UNK] [MASK] [UNK] [UNK] [UNK] h [UNK] biribi [UNK] [UNK] ka [SEP]'}, {'score': 0.028469283133745193, 'token': 11742, 'token_str': 'ra', 'sequence': '[CLS] [UNK] [UNK] [UNK] [UNK] [UNK] [MASK] [UNK] [UNK] [UNK] h [UNK] biribi [UNK] [UNK] ra [SEP]'}, {'score': 0.025814803317189217, 'token': 151, 'token_str': 'i', 'sequence': '[CLS] [UNK] [UNK] [UNK] [UNK] [UNK] [MASK] [UNK] [UNK] [UNK] h [UNK] biribi [UNK] [UNK] i [SEP]'}, {'score': 0.022995661944150925, 'token': 10900, 'token_str': 'ki', 'sequence': '[CLS] [UNK] [UNK] [UNK] [UNK] [UNK] [MASK] [UNK] [UNK] [UNK] h [UNK] biribi [UNK] [UNK] ki [SEP]'}]\n",
      "Unexpected format for prediction at index 0: [{'score': 0.3751455843448639, 'token': 10358, 'token_str': '##ka', 'sequence': '[CLS] [UNK] [UNK] [UNK] [UNK] [UNK] [UNK] ka tian [UNK] kinka [UNK] [UNK] i an [MASK] bo [SEP]'}, {'score': 0.36837655305862427, 'token': 10523, 'token_str': '##ki', 'sequence': '[CLS] [UNK] [UNK] [UNK] [UNK] [UNK] [UNK] ka tian [UNK] kinki [UNK] [UNK] i an [MASK] bo [SEP]'}, {'score': 0.03500226140022278, 'token': 10457, 'token_str': '##ko', 'sequence': '[CLS] [UNK] [UNK] [UNK] [UNK] [UNK] [UNK] ka tian [UNK] kinko [UNK] [UNK] i an [MASK] bo [SEP]'}, {'score': 0.029453333467245102, 'token': 10499, 'token_str': '##ke', 'sequence': '[CLS] [UNK] [UNK] [UNK] [UNK] [UNK] [UNK] ka tian [UNK] kinke [UNK] [UNK] i an [MASK] bo [SEP]'}, {'score': 0.01185709610581398, 'token': 10900, 'token_str': 'ki', 'sequence': '[CLS] [UNK] [UNK] [UNK] [UNK] [UNK] [UNK] ka tian [UNK] kin ki [UNK] [UNK] i an [MASK] bo [SEP]'}]\n",
      "Unexpected format for prediction at index 1: [{'score': 0.06980115920305252, 'token': 151, 'token_str': 'i', 'sequence': '[CLS] [UNK] [UNK] [UNK] [UNK] [UNK] [UNK] ka tian [UNK] kin [MASK] [UNK] [UNK] i an i bo [SEP]'}, {'score': 0.06767980754375458, 'token': 143, 'token_str': 'a', 'sequence': '[CLS] [UNK] [UNK] [UNK] [UNK] [UNK] [UNK] ka tian [UNK] kin [MASK] [UNK] [UNK] i an a bo [SEP]'}, {'score': 0.053090427070856094, 'token': 157, 'token_str': 'o', 'sequence': '[CLS] [UNK] [UNK] [UNK] [UNK] [UNK] [UNK] ka tian [UNK] kin [MASK] [UNK] [UNK] i an o bo [SEP]'}, {'score': 0.04474565014243126, 'token': 10144, 'token_str': 'an', 'sequence': '[CLS] [UNK] [UNK] [UNK] [UNK] [UNK] [UNK] ka tian [UNK] kin [MASK] [UNK] [UNK] i an an bo [SEP]'}, {'score': 0.025838760659098625, 'token': 147, 'token_str': 'e', 'sequence': '[CLS] [UNK] [UNK] [UNK] [UNK] [UNK] [UNK] ka tian [UNK] kin [MASK] [UNK] [UNK] i an e bo [SEP]'}]\n",
      "Unexpected format for prediction at index 0: [{'score': 0.0742085874080658, 'token': 143, 'token_str': 'a', 'sequence': '[CLS] a an ka [MASK] ti [UNK] [UNK] [UNK] [UNK] ai [UNK] [UNK] [UNK] [UNK] [SEP]'}, {'score': 0.042592793703079224, 'token': 10144, 'token_str': 'an', 'sequence': '[CLS] an an ka [MASK] ti [UNK] [UNK] [UNK] [UNK] ai [UNK] [UNK] [UNK] [UNK] [SEP]'}, {'score': 0.033834706991910934, 'token': 151, 'token_str': 'i', 'sequence': '[CLS] i an ka [MASK] ti [UNK] [UNK] [UNK] [UNK] ai [UNK] [UNK] [UNK] [UNK] [SEP]'}, {'score': 0.025411520153284073, 'token': 10237, 'token_str': 'ka', 'sequence': '[CLS] ka an ka [MASK] ti [UNK] [UNK] [UNK] [UNK] ai [UNK] [UNK] [UNK] [UNK] [SEP]'}, {'score': 0.021103598177433014, 'token': 10507, 'token_str': 'ma', 'sequence': '[CLS] ma an ka [MASK] ti [UNK] [UNK] [UNK] [UNK] ai [UNK] [UNK] [UNK] [UNK] [SEP]'}]\n",
      "Unexpected format for prediction at index 1: [{'score': 0.040560461580753326, 'token': 10237, 'token_str': 'ka', 'sequence': '[CLS] [MASK] an ka ka ti [UNK] [UNK] [UNK] [UNK] ai [UNK] [UNK] [UNK] [UNK] [SEP]'}, {'score': 0.0401720367372036, 'token': 143, 'token_str': 'a', 'sequence': '[CLS] [MASK] an ka a ti [UNK] [UNK] [UNK] [UNK] ai [UNK] [UNK] [UNK] [UNK] [SEP]'}, {'score': 0.03826288506388664, 'token': 161, 'token_str': 's', 'sequence': '[CLS] [MASK] an ka s ti [UNK] [UNK] [UNK] [UNK] ai [UNK] [UNK] [UNK] [UNK] [SEP]'}, {'score': 0.03116653859615326, 'token': 11009, 'token_str': 'ke', 'sequence': '[CLS] [MASK] an ka ke ti [UNK] [UNK] [UNK] [UNK] ai [UNK] [UNK] [UNK] [UNK] [SEP]'}, {'score': 0.02853686735033989, 'token': 151, 'token_str': 'i', 'sequence': '[CLS] [MASK] an ka i ti [UNK] [UNK] [UNK] [UNK] ai [UNK] [UNK] [UNK] [UNK] [SEP]'}]\n",
      "Unexpected format for prediction at index 0: [{'score': 0.08803217113018036, 'token': 10240, 'token_str': 'ha', 'sequence': '[CLS] [UNK] pe ha ha [UNK] [UNK] [UNK] iki [UNK] pon [UNK] [UNK] ka [UNK] [UNK] pon [MASK] [SEP]'}, {'score': 0.04859887808561325, 'token': 11817, 'token_str': 'hon', 'sequence': '[CLS] [UNK] pe ha hon [UNK] [UNK] [UNK] iki [UNK] pon [UNK] [UNK] ka [UNK] [UNK] pon [MASK] [SEP]'}, {'score': 0.04623500257730484, 'token': 151, 'token_str': 'i', 'sequence': '[CLS] [UNK] pe ha i [UNK] [UNK] [UNK] iki [UNK] pon [UNK] [UNK] ka [UNK] [UNK] pon [MASK] [SEP]'}, {'score': 0.03558412566781044, 'token': 143, 'token_str': 'a', 'sequence': '[CLS] [UNK] pe ha a [UNK] [UNK] [UNK] iki [UNK] pon [UNK] [UNK] ka [UNK] [UNK] pon [MASK] [SEP]'}, {'score': 0.031728990375995636, 'token': 11009, 'token_str': 'ke', 'sequence': '[CLS] [UNK] pe ha ke [UNK] [UNK] [UNK] iki [UNK] pon [UNK] [UNK] ka [UNK] [UNK] pon [MASK] [SEP]'}]\n",
      "Unexpected format for prediction at index 1: [{'score': 0.11884334683418274, 'token': 10116, 'token_str': '##i', 'sequence': '[CLS] [UNK] pe ha [MASK] [UNK] [UNK] [UNK] iki [UNK] pon [UNK] [UNK] ka [UNK] [UNK] poni [SEP]'}, {'score': 0.07017042487859726, 'token': 151, 'token_str': 'i', 'sequence': '[CLS] [UNK] pe ha [MASK] [UNK] [UNK] [UNK] iki [UNK] pon [UNK] [UNK] ka [UNK] [UNK] pon i [SEP]'}, {'score': 0.04665593057870865, 'token': 10523, 'token_str': '##ki', 'sequence': '[CLS] [UNK] pe ha [MASK] [UNK] [UNK] [UNK] iki [UNK] pon [UNK] [UNK] ka [UNK] [UNK] ponki [SEP]'}, {'score': 0.04332844167947769, 'token': 143, 'token_str': 'a', 'sequence': '[CLS] [UNK] pe ha [MASK] [UNK] [UNK] [UNK] iki [UNK] pon [UNK] [UNK] ka [UNK] [UNK] pon a [SEP]'}, {'score': 0.04203012213110924, 'token': 10900, 'token_str': 'ki', 'sequence': '[CLS] [UNK] pe ha [MASK] [UNK] [UNK] [UNK] iki [UNK] pon [UNK] [UNK] ka [UNK] [UNK] pon ki [SEP]'}]\n",
      "Unexpected format for prediction at index 0: [{'score': 0.26160579919815063, 'token': 10116, 'token_str': '##i', 'sequence': '[CLS] [UNK] [UNK] [UNK] [UNK] yai [UNK] we [UNK] [UNK] biribi [MASK] [UNK] we [UNK] [UNK] [UNK] biribi [SEP]'}, {'score': 0.050807300955057144, 'token': 11009, 'token_str': 'ke', 'sequence': '[CLS] [UNK] [UNK] [UNK] [UNK] ya ke [UNK] we [UNK] [UNK] biribi [MASK] [UNK] we [UNK] [UNK] [UNK] biribi [SEP]'}, {'score': 0.046021897345781326, 'token': 10112, 'token_str': '##a', 'sequence': '[CLS] [UNK] [UNK] [UNK] [UNK] yaa [UNK] we [UNK] [UNK] biribi [MASK] [UNK] we [UNK] [UNK] [UNK] biribi [SEP]'}, {'score': 0.03563385456800461, 'token': 10237, 'token_str': 'ka', 'sequence': '[CLS] [UNK] [UNK] [UNK] [UNK] ya ka [UNK] we [UNK] [UNK] biribi [MASK] [UNK] we [UNK] [UNK] [UNK] biribi [SEP]'}, {'score': 0.03533430024981499, 'token': 10863, 'token_str': 'bi', 'sequence': '[CLS] [UNK] [UNK] [UNK] [UNK] ya bi [UNK] we [UNK] [UNK] biribi [MASK] [UNK] we [UNK] [UNK] [UNK] biribi [SEP]'}]\n",
      "Unexpected format for prediction at index 1: [{'score': 0.06909732520580292, 'token': 10237, 'token_str': 'ka', 'sequence': '[CLS] [UNK] [UNK] [UNK] [UNK] ya [MASK] [UNK] we [UNK] [UNK] biribi ka [UNK] we [UNK] [UNK] [UNK] biribi [SEP]'}, {'score': 0.062418486922979355, 'token': 151, 'token_str': 'i', 'sequence': '[CLS] [UNK] [UNK] [UNK] [UNK] ya [MASK] [UNK] we [UNK] [UNK] biribi i [UNK] we [UNK] [UNK] [UNK] biribi [SEP]'}, {'score': 0.054279688745737076, 'token': 143, 'token_str': 'a', 'sequence': '[CLS] [UNK] [UNK] [UNK] [UNK] ya [MASK] [UNK] we [UNK] [UNK] biribi a [UNK] we [UNK] [UNK] [UNK] biribi [SEP]'}, {'score': 0.04889008030295372, 'token': 11312, 'token_str': 'we', 'sequence': '[CLS] [UNK] [UNK] [UNK] [UNK] ya [MASK] [UNK] we [UNK] [UNK] biribi we [UNK] we [UNK] [UNK] [UNK] biribi [SEP]'}, {'score': 0.04448222368955612, 'token': 10900, 'token_str': 'ki', 'sequence': '[CLS] [UNK] [UNK] [UNK] [UNK] ya [MASK] [UNK] we [UNK] [UNK] biribi ki [UNK] we [UNK] [UNK] [UNK] biribi [SEP]'}]\n",
      "Unexpected format for prediction at index 0: [{'score': 0.088142029941082, 'token': 16999, 'token_str': 'pi', 'sequence': '[CLS] [UNK] pi pi ama [MASK] [UNK] [UNK] yama [UNK] ita hako [UNK] [UNK] [UNK] [UNK] [UNK] [UNK] [UNK] [MASK] bo [UNK] [SEP]'}, {'score': 0.07265873998403549, 'token': 143, 'token_str': 'a', 'sequence': '[CLS] [UNK] a pi ama [MASK] [UNK] [UNK] yama [UNK] ita hako [UNK] [UNK] [UNK] [UNK] [UNK] [UNK] [UNK] [MASK] bo [UNK] [SEP]'}, {'score': 0.03499069809913635, 'token': 10507, 'token_str': 'ma', 'sequence': '[CLS] [UNK] ma pi ama [MASK] [UNK] [UNK] yama [UNK] ita hako [UNK] [UNK] [UNK] [UNK] [UNK] [UNK] [UNK] [MASK] bo [UNK] [SEP]'}, {'score': 0.03394511342048645, 'token': 151, 'token_str': 'i', 'sequence': '[CLS] [UNK] i pi ama [MASK] [UNK] [UNK] yama [UNK] ita hako [UNK] [UNK] [UNK] [UNK] [UNK] [UNK] [UNK] [MASK] bo [UNK] [SEP]'}, {'score': 0.022092550992965698, 'token': 19716, 'token_str': 'ri', 'sequence': '[CLS] [UNK] ri pi ama [MASK] [UNK] [UNK] yama [UNK] ita hako [UNK] [UNK] [UNK] [UNK] [UNK] [UNK] [UNK] [MASK] bo [UNK] [SEP]'}]\n",
      "Unexpected format for prediction at index 1: [{'score': 0.981391191482544, 'token': 11117, 'token_str': 'bo', 'sequence': '[CLS] [UNK] [MASK] pi ama bo [UNK] [UNK] yama [UNK] ita hako [UNK] [UNK] [UNK] [UNK] [UNK] [UNK] [UNK] [MASK] bo [UNK] [SEP]'}, {'score': 0.0013396249851211905, 'token': 10154, 'token_str': 'do', 'sequence': '[CLS] [UNK] [MASK] pi ama do [UNK] [UNK] yama [UNK] ita hako [UNK] [UNK] [UNK] [UNK] [UNK] [UNK] [UNK] [MASK] bo [UNK] [SEP]'}, {'score': 0.001127829891629517, 'token': 151, 'token_str': 'i', 'sequence': '[CLS] [UNK] [MASK] pi ama i [UNK] [UNK] yama [UNK] ita hako [UNK] [UNK] [UNK] [UNK] [UNK] [UNK] [UNK] [MASK] bo [UNK] [SEP]'}, {'score': 0.0009391056373715401, 'token': 143, 'token_str': 'a', 'sequence': '[CLS] [UNK] [MASK] pi ama a [UNK] [UNK] yama [UNK] ita hako [UNK] [UNK] [UNK] [UNK] [UNK] [UNK] [UNK] [MASK] bo [UNK] [SEP]'}, {'score': 0.0008745958912186325, 'token': 10202, 'token_str': 'pa', 'sequence': '[CLS] [UNK] [MASK] pi ama pa [UNK] [UNK] yama [UNK] ita hako [UNK] [UNK] [UNK] [UNK] [UNK] [UNK] [UNK] [MASK] bo [UNK] [SEP]'}]\n",
      "Unexpected format for prediction at index 2: [{'score': 0.1696675568819046, 'token': 22079, 'token_str': 'ama', 'sequence': '[CLS] [UNK] [MASK] pi ama [MASK] [UNK] [UNK] yama [UNK] ita hako [UNK] [UNK] [UNK] [UNK] [UNK] [UNK] [UNK] ama bo [UNK] [SEP]'}, {'score': 0.07388991862535477, 'token': 19716, 'token_str': 'ri', 'sequence': '[CLS] [UNK] [MASK] pi ama [MASK] [UNK] [UNK] yama [UNK] ita hako [UNK] [UNK] [UNK] [UNK] [UNK] [UNK] [UNK] ri bo [UNK] [SEP]'}, {'score': 0.04050687700510025, 'token': 11117, 'token_str': 'bo', 'sequence': '[CLS] [UNK] [MASK] pi ama [MASK] [UNK] [UNK] yama [UNK] ita hako [UNK] [UNK] [UNK] [UNK] [UNK] [UNK] [UNK] bo bo [UNK] [SEP]'}, {'score': 0.03094383142888546, 'token': 10507, 'token_str': 'ma', 'sequence': '[CLS] [UNK] [MASK] pi ama [MASK] [UNK] [UNK] yama [UNK] ita hako [UNK] [UNK] [UNK] [UNK] [UNK] [UNK] [UNK] ma bo [UNK] [SEP]'}, {'score': 0.026966288685798645, 'token': 16999, 'token_str': 'pi', 'sequence': '[CLS] [UNK] [MASK] pi ama [MASK] [UNK] [UNK] yama [UNK] ita hako [UNK] [UNK] [UNK] [UNK] [UNK] [UNK] [UNK] pi bo [UNK] [SEP]'}]\n",
      "Unexpected format for prediction at index 0: [{'score': 0.5846513509750366, 'token': 10116, 'token_str': '##i', 'sequence': '[CLS] [UNK] [UNK] tian [UNK] a [UNK] ki [UNK] ro kon ki [UNK] ki [UNK] peni [UNK] [UNK] [MASK] [UNK] [UNK] [MASK] [SEP]'}, {'score': 0.03811364248394966, 'token': 10111, 'token_str': '##e', 'sequence': '[CLS] [UNK] [UNK] tian [UNK] a [UNK] ki [UNK] ro kon ki [UNK] ki [UNK] pene [UNK] [UNK] [MASK] [UNK] [UNK] [MASK] [SEP]'}, {'score': 0.02686639130115509, 'token': 10132, 'token_str': '##o', 'sequence': '[CLS] [UNK] [UNK] tian [UNK] a [UNK] ki [UNK] ro kon ki [UNK] ki [UNK] peno [UNK] [UNK] [MASK] [UNK] [UNK] [MASK] [SEP]'}, {'score': 0.024593058973550797, 'token': 10273, 'token_str': '##on', 'sequence': '[CLS] [UNK] [UNK] tian [UNK] a [UNK] ki [UNK] ro kon ki [UNK] ki [UNK] penon [UNK] [UNK] [MASK] [UNK] [UNK] [MASK] [SEP]'}, {'score': 0.02405717968940735, 'token': 10112, 'token_str': '##a', 'sequence': '[CLS] [UNK] [UNK] tian [UNK] a [UNK] ki [UNK] ro kon ki [UNK] ki [UNK] pena [UNK] [UNK] [MASK] [UNK] [UNK] [MASK] [SEP]'}]\n",
      "Unexpected format for prediction at index 1: [{'score': 0.08926374465227127, 'token': 10900, 'token_str': 'ki', 'sequence': '[CLS] [UNK] [UNK] tian [UNK] a [UNK] ki [UNK] ro kon ki [UNK] ki [UNK] pen [MASK] [UNK] [UNK] ki [UNK] [UNK] [MASK] [SEP]'}, {'score': 0.04691534861922264, 'token': 10237, 'token_str': 'ka', 'sequence': '[CLS] [UNK] [UNK] tian [UNK] a [UNK] ki [UNK] ro kon ki [UNK] ki [UNK] pen [MASK] [UNK] [UNK] ka [UNK] [UNK] [MASK] [SEP]'}, {'score': 0.037063948810100555, 'token': 73845, 'token_str': 'tian', 'sequence': '[CLS] [UNK] [UNK] tian [UNK] a [UNK] ki [UNK] ro kon ki [UNK] ki [UNK] pen [MASK] [UNK] [UNK] tian [UNK] [UNK] [MASK] [SEP]'}, {'score': 0.030748125165700912, 'token': 11009, 'token_str': 'ke', 'sequence': '[CLS] [UNK] [UNK] tian [UNK] a [UNK] ki [UNK] ro kon ki [UNK] ki [UNK] pen [MASK] [UNK] [UNK] ke [UNK] [UNK] [MASK] [SEP]'}, {'score': 0.028574764728546143, 'token': 143, 'token_str': 'a', 'sequence': '[CLS] [UNK] [UNK] tian [UNK] a [UNK] ki [UNK] ro kon ki [UNK] ki [UNK] pen [MASK] [UNK] [UNK] a [UNK] [UNK] [MASK] [SEP]'}]\n",
      "Unexpected format for prediction at index 2: [{'score': 0.06418328732252121, 'token': 10900, 'token_str': 'ki', 'sequence': '[CLS] [UNK] [UNK] tian [UNK] a [UNK] ki [UNK] ro kon ki [UNK] ki [UNK] pen [MASK] [UNK] [UNK] [MASK] [UNK] [UNK] ki [SEP]'}, {'score': 0.049435265362262726, 'token': 10237, 'token_str': 'ka', 'sequence': '[CLS] [UNK] [UNK] tian [UNK] a [UNK] ki [UNK] ro kon ki [UNK] ki [UNK] pen [MASK] [UNK] [UNK] [MASK] [UNK] [UNK] ka [SEP]'}, {'score': 0.03733814135193825, 'token': 73845, 'token_str': 'tian', 'sequence': '[CLS] [UNK] [UNK] tian [UNK] a [UNK] ki [UNK] ro kon ki [UNK] ki [UNK] pen [MASK] [UNK] [UNK] [MASK] [UNK] [UNK] tian [SEP]'}, {'score': 0.031599849462509155, 'token': 143, 'token_str': 'a', 'sequence': '[CLS] [UNK] [UNK] tian [UNK] a [UNK] ki [UNK] ro kon ki [UNK] ki [UNK] pen [MASK] [UNK] [UNK] [MASK] [UNK] [UNK] a [SEP]'}, {'score': 0.027539033442735672, 'token': 11279, 'token_str': 'ai', 'sequence': '[CLS] [UNK] [UNK] tian [UNK] a [UNK] ki [UNK] ro kon ki [UNK] ki [UNK] pen [MASK] [UNK] [UNK] [MASK] [UNK] [UNK] ai [SEP]'}]\n",
      "Unexpected format for prediction at index 0: [{'score': 0.05040290579199791, 'token': 10237, 'token_str': 'ka', 'sequence': '[CLS] [UNK] [UNK] ka [UNK] ka tian [UNK] [UNK] konin [UNK] i v e res [UNK] ketian [MASK] [SEP]'}, {'score': 0.0384567528963089, 'token': 143, 'token_str': 'a', 'sequence': '[CLS] [UNK] [UNK] a [UNK] ka tian [UNK] [UNK] konin [UNK] i v e res [UNK] ketian [MASK] [SEP]'}, {'score': 0.03218044340610504, 'token': 11279, 'token_str': 'ai', 'sequence': '[CLS] [UNK] [UNK] ai [UNK] ka tian [UNK] [UNK] konin [UNK] i v e res [UNK] ketian [MASK] [SEP]'}, {'score': 0.029170701280236244, 'token': 73845, 'token_str': 'tian', 'sequence': '[CLS] [UNK] [UNK] tian [UNK] ka tian [UNK] [UNK] konin [UNK] i v e res [UNK] ketian [MASK] [SEP]'}, {'score': 0.028959166258573532, 'token': 151, 'token_str': 'i', 'sequence': '[CLS] [UNK] [UNK] i [UNK] ka tian [UNK] [UNK] konin [UNK] i v e res [UNK] ketian [MASK] [SEP]'}]\n",
      "Unexpected format for prediction at index 1: [{'score': 0.0999058187007904, 'token': 151, 'token_str': 'i', 'sequence': '[CLS] [UNK] [UNK] [MASK] [UNK] ka tian [UNK] [UNK] konin [UNK] i v e res [UNK] ketian i [SEP]'}, {'score': 0.043768540024757385, 'token': 143, 'token_str': 'a', 'sequence': '[CLS] [UNK] [UNK] [MASK] [UNK] ka tian [UNK] [UNK] konin [UNK] i v e res [UNK] ketian a [SEP]'}, {'score': 0.04275044426321983, 'token': 10115, 'token_str': '##n', 'sequence': '[CLS] [UNK] [UNK] [MASK] [UNK] ka tian [UNK] [UNK] konin [UNK] i v e res [UNK] ketiann [SEP]'}, {'score': 0.03231425955891609, 'token': 12351, 'token_str': '##we', 'sequence': '[CLS] [UNK] [UNK] [MASK] [UNK] ka tian [UNK] [UNK] konin [UNK] i v e res [UNK] ketianwe [SEP]'}, {'score': 0.029289109632372856, 'token': 10116, 'token_str': '##i', 'sequence': '[CLS] [UNK] [UNK] [MASK] [UNK] ka tian [UNK] [UNK] konin [UNK] i v e res [UNK] ketiani [SEP]'}]\n",
      "Unexpected format for prediction at index 0: [{'score': 0.057457856833934784, 'token': 19716, 'token_str': 'ri', 'sequence': '[CLS] [UNK] [UNK] ai [UNK] [UNK] ri mpan ai [UNK] [MASK] [UNK] ran ai [UNK] [UNK] [SEP]'}, {'score': 0.036718882620334625, 'token': 11742, 'token_str': 'ra', 'sequence': '[CLS] [UNK] [UNK] ai [UNK] [UNK] ra mpan ai [UNK] [MASK] [UNK] ran ai [UNK] [UNK] [SEP]'}, {'score': 0.034524839371442795, 'token': 143, 'token_str': 'a', 'sequence': '[CLS] [UNK] [UNK] ai [UNK] [UNK] a mpan ai [UNK] [MASK] [UNK] ran ai [UNK] [UNK] [SEP]'}, {'score': 0.030490241944789886, 'token': 160, 'token_str': 'r', 'sequence': '[CLS] [UNK] [UNK] ai [UNK] [UNK] r mpan ai [UNK] [MASK] [UNK] ran ai [UNK] [UNK] [SEP]'}, {'score': 0.024973316118121147, 'token': 151, 'token_str': 'i', 'sequence': '[CLS] [UNK] [UNK] ai [UNK] [UNK] i mpan ai [UNK] [MASK] [UNK] ran ai [UNK] [UNK] [SEP]'}]\n",
      "Unexpected format for prediction at index 1: [{'score': 0.13308627903461456, 'token': 11279, 'token_str': 'ai', 'sequence': '[CLS] [UNK] [UNK] ai [UNK] [UNK] [MASK] mpan ai [UNK] ai [UNK] ran ai [UNK] [UNK] [SEP]'}, {'score': 0.039284463971853256, 'token': 10237, 'token_str': 'ka', 'sequence': '[CLS] [UNK] [UNK] ai [UNK] [UNK] [MASK] mpan ai [UNK] ka [UNK] ran ai [UNK] [UNK] [SEP]'}, {'score': 0.035617176443338394, 'token': 10863, 'token_str': 'bi', 'sequence': '[CLS] [UNK] [UNK] ai [UNK] [UNK] [MASK] mpan ai [UNK] bi [UNK] ran ai [UNK] [UNK] [SEP]'}, {'score': 0.03387761488556862, 'token': 143, 'token_str': 'a', 'sequence': '[CLS] [UNK] [UNK] ai [UNK] [UNK] [MASK] mpan ai [UNK] a [UNK] ran ai [UNK] [UNK] [SEP]'}, {'score': 0.03286557272076607, 'token': 151, 'token_str': 'i', 'sequence': '[CLS] [UNK] [UNK] ai [UNK] [UNK] [MASK] mpan ai [UNK] i [UNK] ran ai [UNK] [UNK] [SEP]'}]\n",
      "Unexpected format for prediction at index 0: [{'score': 0.06881742924451828, 'token': 10237, 'token_str': 'ka', 'sequence': '[CLS] ka [UNK] [UNK] [UNK] [UNK] [UNK] [UNK] [MASK] anai [UNK] [UNK] [UNK] [UNK] [UNK] [UNK] k o [UNK] [SEP]'}, {'score': 0.03902840614318848, 'token': 10900, 'token_str': 'ki', 'sequence': '[CLS] ki [UNK] [UNK] [UNK] [UNK] [UNK] [UNK] [MASK] anai [UNK] [UNK] [UNK] [UNK] [UNK] [UNK] k o [UNK] [SEP]'}, {'score': 0.03833676129579544, 'token': 143, 'token_str': 'a', 'sequence': '[CLS] a [UNK] [UNK] [UNK] [UNK] [UNK] [UNK] [MASK] anai [UNK] [UNK] [UNK] [UNK] [UNK] [UNK] k o [UNK] [SEP]'}, {'score': 0.03581909090280533, 'token': 10507, 'token_str': 'ma', 'sequence': '[CLS] ma [UNK] [UNK] [UNK] [UNK] [UNK] [UNK] [MASK] anai [UNK] [UNK] [UNK] [UNK] [UNK] [UNK] k o [UNK] [SEP]'}, {'score': 0.03212698549032211, 'token': 11009, 'token_str': 'ke', 'sequence': '[CLS] ke [UNK] [UNK] [UNK] [UNK] [UNK] [UNK] [MASK] anai [UNK] [UNK] [UNK] [UNK] [UNK] [UNK] k o [UNK] [SEP]'}]\n",
      "Unexpected format for prediction at index 1: [{'score': 0.05617477744817734, 'token': 10237, 'token_str': 'ka', 'sequence': '[CLS] [MASK] [UNK] [UNK] [UNK] [UNK] [UNK] [UNK] ka anai [UNK] [UNK] [UNK] [UNK] [UNK] [UNK] k o [UNK] [SEP]'}, {'score': 0.04176456481218338, 'token': 143, 'token_str': 'a', 'sequence': '[CLS] [MASK] [UNK] [UNK] [UNK] [UNK] [UNK] [UNK] a anai [UNK] [UNK] [UNK] [UNK] [UNK] [UNK] k o [UNK] [SEP]'}, {'score': 0.03686064854264259, 'token': 11009, 'token_str': 'ke', 'sequence': '[CLS] [MASK] [UNK] [UNK] [UNK] [UNK] [UNK] [UNK] ke anai [UNK] [UNK] [UNK] [UNK] [UNK] [UNK] k o [UNK] [SEP]'}, {'score': 0.028176985681056976, 'token': 151, 'token_str': 'i', 'sequence': '[CLS] [MASK] [UNK] [UNK] [UNK] [UNK] [UNK] [UNK] i anai [UNK] [UNK] [UNK] [UNK] [UNK] [UNK] k o [UNK] [SEP]'}, {'score': 0.026250390335917473, 'token': 10507, 'token_str': 'ma', 'sequence': '[CLS] [MASK] [UNK] [UNK] [UNK] [UNK] [UNK] [UNK] ma anai [UNK] [UNK] [UNK] [UNK] [UNK] [UNK] k o [UNK] [SEP]'}]\n",
      "Unexpected format for prediction at index 0: [{'score': 0.052406731992959976, 'token': 10237, 'token_str': 'ka', 'sequence': '[CLS] [UNK] ka [UNK] u l c e [MASK] [UNK] [UNK] [UNK] [UNK] [UNK] [UNK] [UNK] [UNK] [UNK] shama [SEP]'}, {'score': 0.048707589507102966, 'token': 143, 'token_str': 'a', 'sequence': '[CLS] [UNK] a [UNK] u l c e [MASK] [UNK] [UNK] [UNK] [UNK] [UNK] [UNK] [UNK] [UNK] [UNK] shama [SEP]'}, {'score': 0.03442014753818512, 'token': 10863, 'token_str': 'bi', 'sequence': '[CLS] [UNK] bi [UNK] u l c e [MASK] [UNK] [UNK] [UNK] [UNK] [UNK] [UNK] [UNK] [UNK] [UNK] shama [SEP]'}, {'score': 0.03189323469996452, 'token': 10900, 'token_str': 'ki', 'sequence': '[CLS] [UNK] ki [UNK] u l c e [MASK] [UNK] [UNK] [UNK] [UNK] [UNK] [UNK] [UNK] [UNK] [UNK] shama [SEP]'}, {'score': 0.027404213324189186, 'token': 11009, 'token_str': 'ke', 'sequence': '[CLS] [UNK] ke [UNK] u l c e [MASK] [UNK] [UNK] [UNK] [UNK] [UNK] [UNK] [UNK] [UNK] [UNK] shama [SEP]'}]\n",
      "Unexpected format for prediction at index 1: [{'score': 0.07178516685962677, 'token': 143, 'token_str': 'a', 'sequence': '[CLS] [UNK] [MASK] [UNK] u l c e a [UNK] [UNK] [UNK] [UNK] [UNK] [UNK] [UNK] [UNK] [UNK] shama [SEP]'}, {'score': 0.04396441578865051, 'token': 151, 'token_str': 'i', 'sequence': '[CLS] [UNK] [MASK] [UNK] u l c e i [UNK] [UNK] [UNK] [UNK] [UNK] [UNK] [UNK] [UNK] [UNK] shama [SEP]'}, {'score': 0.02887585200369358, 'token': 10237, 'token_str': 'ka', 'sequence': '[CLS] [UNK] [MASK] [UNK] u l c e ka [UNK] [UNK] [UNK] [UNK] [UNK] [UNK] [UNK] [UNK] [UNK] shama [SEP]'}, {'score': 0.02585187740623951, 'token': 11279, 'token_str': 'ai', 'sequence': '[CLS] [UNK] [MASK] [UNK] u l c e ai [UNK] [UNK] [UNK] [UNK] [UNK] [UNK] [UNK] [UNK] [UNK] shama [SEP]'}, {'score': 0.0245562382042408, 'token': 11009, 'token_str': 'ke', 'sequence': '[CLS] [UNK] [MASK] [UNK] u l c e ke [UNK] [UNK] [UNK] [UNK] [UNK] [UNK] [UNK] [UNK] [UNK] shama [SEP]'}]\n",
      "Unexpected format for prediction at index 0: [{'score': 0.13145698606967926, 'token': 15695, 'token_str': 'ran', 'sequence': '[CLS] [UNK] [UNK] [UNK] [UNK] [UNK] [UNK] [UNK] [UNK] [UNK] ran ika [UNK] [UNK] ran ran i [UNK] [MASK] [SEP]'}, {'score': 0.04166515916585922, 'token': 143, 'token_str': 'a', 'sequence': '[CLS] [UNK] [UNK] [UNK] [UNK] [UNK] [UNK] [UNK] [UNK] [UNK] ran ika [UNK] [UNK] a ran i [UNK] [MASK] [SEP]'}, {'score': 0.039975766092538834, 'token': 160, 'token_str': 'r', 'sequence': '[CLS] [UNK] [UNK] [UNK] [UNK] [UNK] [UNK] [UNK] [UNK] [UNK] ran ika [UNK] [UNK] r ran i [UNK] [MASK] [SEP]'}, {'score': 0.032885972410440445, 'token': 11742, 'token_str': 'ra', 'sequence': '[CLS] [UNK] [UNK] [UNK] [UNK] [UNK] [UNK] [UNK] [UNK] [UNK] ran ika [UNK] [UNK] ra ran i [UNK] [MASK] [SEP]'}, {'score': 0.029860906302928925, 'token': 151, 'token_str': 'i', 'sequence': '[CLS] [UNK] [UNK] [UNK] [UNK] [UNK] [UNK] [UNK] [UNK] [UNK] ran ika [UNK] [UNK] i ran i [UNK] [MASK] [SEP]'}]\n",
      "Unexpected format for prediction at index 1: [{'score': 0.043639086186885834, 'token': 10237, 'token_str': 'ka', 'sequence': '[CLS] [UNK] [UNK] [UNK] [UNK] [UNK] [UNK] [UNK] [UNK] [UNK] ran ika [UNK] [UNK] [MASK] ran i [UNK] ka [SEP]'}, {'score': 0.038687776774168015, 'token': 143, 'token_str': 'a', 'sequence': '[CLS] [UNK] [UNK] [UNK] [UNK] [UNK] [UNK] [UNK] [UNK] [UNK] ran ika [UNK] [UNK] [MASK] ran i [UNK] a [SEP]'}, {'score': 0.03278162330389023, 'token': 11009, 'token_str': 'ke', 'sequence': '[CLS] [UNK] [UNK] [UNK] [UNK] [UNK] [UNK] [UNK] [UNK] [UNK] ran ika [UNK] [UNK] [MASK] ran i [UNK] ke [SEP]'}, {'score': 0.02830953523516655, 'token': 151, 'token_str': 'i', 'sequence': '[CLS] [UNK] [UNK] [UNK] [UNK] [UNK] [UNK] [UNK] [UNK] [UNK] ran ika [UNK] [UNK] [MASK] ran i [UNK] i [SEP]'}, {'score': 0.028057128190994263, 'token': 11742, 'token_str': 'ra', 'sequence': '[CLS] [UNK] [UNK] [UNK] [UNK] [UNK] [UNK] [UNK] [UNK] [UNK] ran ika [UNK] [UNK] [MASK] ran i [UNK] ra [SEP]'}]\n",
      "Unexpected format for prediction at index 0: [{'score': 0.24308864772319794, 'token': 10900, 'token_str': 'ki', 'sequence': '[CLS] [UNK] ki [UNK] [UNK] [UNK] [UNK] banon [UNK] [UNK] [MASK] [UNK] [UNK] [UNK] ki [UNK] [SEP]'}, {'score': 0.07403814792633057, 'token': 10237, 'token_str': 'ka', 'sequence': '[CLS] [UNK] ka [UNK] [UNK] [UNK] [UNK] banon [UNK] [UNK] [MASK] [UNK] [UNK] [UNK] ki [UNK] [SEP]'}, {'score': 0.03910215571522713, 'token': 10863, 'token_str': 'bi', 'sequence': '[CLS] [UNK] bi [UNK] [UNK] [UNK] [UNK] banon [UNK] [UNK] [MASK] [UNK] [UNK] [UNK] ki [UNK] [SEP]'}, {'score': 0.030510347336530685, 'token': 11117, 'token_str': 'bo', 'sequence': '[CLS] [UNK] bo [UNK] [UNK] [UNK] [UNK] banon [UNK] [UNK] [MASK] [UNK] [UNK] [UNK] ki [UNK] [SEP]'}, {'score': 0.025776639580726624, 'token': 11009, 'token_str': 'ke', 'sequence': '[CLS] [UNK] ke [UNK] [UNK] [UNK] [UNK] banon [UNK] [UNK] [MASK] [UNK] [UNK] [UNK] ki [UNK] [SEP]'}]\n",
      "Unexpected format for prediction at index 1: [{'score': 0.22662615776062012, 'token': 10900, 'token_str': 'ki', 'sequence': '[CLS] [UNK] [MASK] [UNK] [UNK] [UNK] [UNK] banon [UNK] [UNK] ki [UNK] [UNK] [UNK] ki [UNK] [SEP]'}, {'score': 0.04275714233517647, 'token': 10863, 'token_str': 'bi', 'sequence': '[CLS] [UNK] [MASK] [UNK] [UNK] [UNK] [UNK] banon [UNK] [UNK] bi [UNK] [UNK] [UNK] ki [UNK] [SEP]'}, {'score': 0.04121282696723938, 'token': 10237, 'token_str': 'ka', 'sequence': '[CLS] [UNK] [MASK] [UNK] [UNK] [UNK] [UNK] banon [UNK] [UNK] ka [UNK] [UNK] [UNK] ki [UNK] [SEP]'}, {'score': 0.038454845547676086, 'token': 11117, 'token_str': 'bo', 'sequence': '[CLS] [UNK] [MASK] [UNK] [UNK] [UNK] [UNK] banon [UNK] [UNK] bo [UNK] [UNK] [UNK] ki [UNK] [SEP]'}, {'score': 0.028476404026150703, 'token': 143, 'token_str': 'a', 'sequence': '[CLS] [UNK] [MASK] [UNK] [UNK] [UNK] [UNK] banon [UNK] [UNK] a [UNK] [UNK] [UNK] ki [UNK] [SEP]'}]\n",
      "Accuracy on masked tokens: 2.00%\n"
     ]
    }
   ],
   "source": [
    "import numpy as np\n",
    "from transformers import pipeline\n",
    "\n",
    "mask_token = mbert_tokenizerBPE.mask_token\n",
    "if mask_token is None:\n",
    "    raise ValueError(\"Tokenizer does not have a mask token.\")\n",
    "\n",
    "# Initialize masked language modeling pipeline\n",
    "fill_mask = pipeline(\"fill-mask\", model=modelBPE, tokenizer=mbert_tokenizerBPE)\n",
    "\n",
    "def evaluate_model(tokenized_sentences):\n",
    "    total, correct = 0, 0\n",
    "\n",
    "    for sentence_tokens in tokenized_sentences:\n",
    "        # Ensure there are enough tokens to mask (at least 1 token)\n",
    "        if len(sentence_tokens) < 2:\n",
    "            continue  # Skip very short sentences\n",
    "\n",
    "        # Mask a percentage (15%) of tokens in the sentence\n",
    "        # Ensure at least 1 token is masked\n",
    "        mask_count = max(1, int(0.15 * len(sentence_tokens)))\n",
    "        masked_idx = np.random.choice(len(sentence_tokens), size=mask_count, replace=False)\n",
    "        \n",
    "        # Create a copy of the tokens to preserve the original tokens\n",
    "        original_tokens = sentence_tokens.copy()\n",
    "        \n",
    "        # Mask the selected tokens\n",
    "        for idx in masked_idx:\n",
    "            original_tokens[idx] = mask_token  # Insert the mask token\n",
    "\n",
    "        # print(f\"original sentence: {original_tokens}\")  # Debugging line\n",
    "\n",
    "        # Convert back to string (reconstructed sentence)\n",
    "        masked_sentence = mbert_tokenizerBPE.convert_tokens_to_string(original_tokens)\n",
    "\n",
    "        # Ensure the mask token is included\n",
    "        # print(f\"Masked sentence: {masked_sentence}\")  # Debugging line\n",
    "\n",
    "        # Get model predictions for the masked tokens\n",
    "        try:\n",
    "            predictions = fill_mask(masked_sentence)\n",
    "        except Exception as e:\n",
    "            print(f\"Error with masked sentence: {masked_sentence}\")\n",
    "            print(e)\n",
    "            continue\n",
    "\n",
    "        # Check if predictions match the original tokens\n",
    "        for i, idx in enumerate(masked_idx):\n",
    "                    # Handle unexpected cases where predictions might be empty or misformatted\n",
    "                    if len(predictions) > i and isinstance(predictions[i], dict):\n",
    "                        predicted_token = predictions[i].get(\"token_str\", \"\")\n",
    "                        original_token = sentence_tokens[idx]\n",
    "                        if predicted_token == original_token:\n",
    "                            correct += 1\n",
    "                        total += 1\n",
    "                    else:\n",
    "                        print(f\"Unexpected format for prediction at index {i}: {predictions[i]}\")\n",
    "\n",
    "    accuracy = correct / total if total > 0 else 0\n",
    "    print(f\"Accuracy on masked tokens: {accuracy * 100:.2f}%\")\n",
    "\n",
    "# Sample test data (tokenized sentences)\n",
    "evaluate_model(test_data)\n"
   ]
  },
  {
   "cell_type": "code",
   "execution_count": 13,
   "metadata": {},
   "outputs": [],
   "source": [
    "# Ensure the mask token is defined\n",
    "mask_token = mbert_tokenizerBPE.mask_token\n",
    "if mask_token is None:\n",
    "    raise ValueError(\"Tokenizer does not have a mask token.\")"
   ]
  },
  {
   "cell_type": "code",
   "execution_count": 17,
   "metadata": {},
   "outputs": [
    {
     "data": {
      "text/plain": [
       "'[MASK]'"
      ]
     },
     "execution_count": 17,
     "metadata": {},
     "output_type": "execute_result"
    }
   ],
   "source": [
    "mask_token"
   ]
  }
 ],
 "metadata": {
  "kernelspec": {
   "display_name": "langmodels",
   "language": "python",
   "name": "python3"
  },
  "language_info": {
   "codemirror_mode": {
    "name": "ipython",
    "version": 3
   },
   "file_extension": ".py",
   "mimetype": "text/x-python",
   "name": "python",
   "nbconvert_exporter": "python",
   "pygments_lexer": "ipython3",
   "version": "3.12.3"
  }
 },
 "nbformat": 4,
 "nbformat_minor": 2
}
