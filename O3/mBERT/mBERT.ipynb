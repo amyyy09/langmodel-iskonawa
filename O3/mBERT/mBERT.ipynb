{
 "cells": [
  {
   "cell_type": "code",
   "execution_count": 1,
   "metadata": {},
   "outputs": [
    {
     "data": {
      "text/plain": [
       "True"
      ]
     },
     "execution_count": 1,
     "metadata": {},
     "output_type": "execute_result"
    }
   ],
   "source": [
    "import sentencepiece as spm\n",
    "\n",
    "# Load the trained BPE tokenizer\n",
    "bpe_tokenizer = spm.SentencePieceProcessor()\n",
    "bpe_tokenizer.load('../tokenizer/spbpe_isc.model')"
   ]
  },
  {
   "cell_type": "code",
   "execution_count": 2,
   "metadata": {},
   "outputs": [],
   "source": [
    "import morfessor\n",
    "\n",
    "io = morfessor.MorfessorIO()\n",
    "morfessor_model = morfessor.BaselineModel()\n",
    "\n",
    "# load Morfessor model \n",
    "morfessor_model = io.read_binary_model_file('../morfessor/morf_isc_model.bin')"
   ]
  },
  {
   "cell_type": "code",
   "execution_count": 3,
   "metadata": {},
   "outputs": [],
   "source": [
    "def segment_bpe(sentence, tokenizer):\n",
    "    # SentencePiece BPE segmentation\n",
    "    return tokenizer.encode(sentence, out_type=str)\n",
    "\n",
    "def segment_morfessor(sentence, model):\n",
    "    # Morfessor segmentation\n",
    "    words = sentence.split()\n",
    "    segmented_words = []\n",
    "    for word in words:\n",
    "        segments = model.viterbi_segment(word)[0]\n",
    "        segmented_words.extend(segments)\n",
    "    return segmented_words"
   ]
  },
  {
   "cell_type": "code",
   "execution_count": 4,
   "metadata": {},
   "outputs": [],
   "source": [
    "sentences = []\n",
    "\n",
    "with open('../data/isc_sentences.txt', 'r') as f:\n",
    "    sentences = f.readlines()"
   ]
  },
  {
   "cell_type": "code",
   "execution_count": 5,
   "metadata": {},
   "outputs": [],
   "source": [
    "sentences_bpe = [segment_bpe(sentence, bpe_tokenizer) for sentence in sentences]\n",
    "sentences_morfessor = [segment_morfessor(sentence, morfessor_model) for sentence in sentences]"
   ]
  },
  {
   "cell_type": "code",
   "execution_count": 6,
   "metadata": {},
   "outputs": [
    {
     "name": "stderr",
     "output_type": "stream",
     "text": [
      "/home/atrujillo/langmodels/lib/python3.12/site-packages/tqdm/auto.py:21: TqdmWarning: IProgress not found. Please update jupyter and ipywidgets. See https://ipywidgets.readthedocs.io/en/stable/user_install.html\n",
      "  from .autonotebook import tqdm as notebook_tqdm\n"
     ]
    }
   ],
   "source": [
    "from transformers import BertTokenizer\n",
    "\n",
    "# Initialize mBERT tokenizer\n",
    "mbert_tokenizerBPE = BertTokenizer.from_pretrained(\"bert-base-multilingual-uncased\")\n",
    "\n",
    "# Tokenize segmented sentences for mBERT\n",
    "def prepare_tokenized_inputs(sentences_segmented):\n",
    "    tokenized_data = []\n",
    "    for sentence in sentences_segmented:\n",
    "        # Join segments with space (as if reconstructing sentence with segmented tokens)\n",
    "        segmented_text = \" \".join(sentence)\n",
    "        tokenized_data.append(mbert_tokenizerBPE(segmented_text, padding=\"max_length\", truncation=True, max_length=128, return_tensors=\"pt\"))\n",
    "    return tokenized_data\n",
    "\n",
    "# Apply tokenization\n",
    "tokenized_bpe = prepare_tokenized_inputs(sentences_bpe)\n",
    "# tokenized_morfessor = prepare_tokenized_inputs(sentences_morfessor)"
   ]
  },
  {
   "cell_type": "code",
   "execution_count": 10,
   "metadata": {},
   "outputs": [
    {
     "name": "stderr",
     "output_type": "stream",
     "text": [
      "Some weights of the model checkpoint at bert-base-multilingual-uncased were not used when initializing BertForMaskedLM: ['bert.pooler.dense.bias', 'bert.pooler.dense.weight', 'cls.seq_relationship.bias', 'cls.seq_relationship.weight']\n",
      "- This IS expected if you are initializing BertForMaskedLM from the checkpoint of a model trained on another task or with another architecture (e.g. initializing a BertForSequenceClassification model from a BertForPreTraining model).\n",
      "- This IS NOT expected if you are initializing BertForMaskedLM from the checkpoint of a model that you expect to be exactly identical (initializing a BertForSequenceClassification model from a BertForSequenceClassification model).\n",
      "/home/atrujillo/langmodels/lib/python3.12/site-packages/torch/nn/parallel/_functions.py:71: UserWarning: Was asked to gather along dimension 0, but all input tensors were scalars; will instead unsqueeze and return a vector.\n",
      "  warnings.warn(\n"
     ]
    },
    {
     "data": {
      "text/html": [
       "\n",
       "    <div>\n",
       "      \n",
       "      <progress value='1923' max='1923' style='width:300px; height:20px; vertical-align: middle;'></progress>\n",
       "      [1923/1923 18:24, Epoch 3/3]\n",
       "    </div>\n",
       "    <table border=\"1\" class=\"dataframe\">\n",
       "  <thead>\n",
       " <tr style=\"text-align: left;\">\n",
       "      <th>Step</th>\n",
       "      <th>Training Loss</th>\n",
       "    </tr>\n",
       "  </thead>\n",
       "  <tbody>\n",
       "    <tr>\n",
       "      <td>500</td>\n",
       "      <td>1.779300</td>\n",
       "    </tr>\n",
       "    <tr>\n",
       "      <td>1000</td>\n",
       "      <td>0.291300</td>\n",
       "    </tr>\n",
       "    <tr>\n",
       "      <td>1500</td>\n",
       "      <td>0.010900</td>\n",
       "    </tr>\n",
       "  </tbody>\n",
       "</table><p>"
      ],
      "text/plain": [
       "<IPython.core.display.HTML object>"
      ]
     },
     "metadata": {},
     "output_type": "display_data"
    },
    {
     "name": "stderr",
     "output_type": "stream",
     "text": [
      "/home/atrujillo/langmodels/lib/python3.12/site-packages/torch/nn/parallel/_functions.py:71: UserWarning: Was asked to gather along dimension 0, but all input tensors were scalars; will instead unsqueeze and return a vector.\n",
      "  warnings.warn(\n",
      "/home/atrujillo/langmodels/lib/python3.12/site-packages/torch/nn/parallel/_functions.py:71: UserWarning: Was asked to gather along dimension 0, but all input tensors were scalars; will instead unsqueeze and return a vector.\n",
      "  warnings.warn(\n",
      "/home/atrujillo/langmodels/lib/python3.12/site-packages/torch/nn/parallel/_functions.py:71: UserWarning: Was asked to gather along dimension 0, but all input tensors were scalars; will instead unsqueeze and return a vector.\n",
      "  warnings.warn(\n"
     ]
    },
    {
     "data": {
      "text/plain": [
       "('./mbert_BPE/tokenizer_config.json',\n",
       " './mbert_BPE/special_tokens_map.json',\n",
       " './mbert_BPE/vocab.txt',\n",
       " './mbert_BPE/added_tokens.json')"
      ]
     },
     "execution_count": 10,
     "metadata": {},
     "output_type": "execute_result"
    }
   ],
   "source": [
    "from transformers import BertForMaskedLM, Trainer, TrainingArguments, DataCollatorForLanguageModeling\n",
    "from datasets import Dataset\n",
    "\n",
    "# Convert data to Hugging Face Dataset format for training\n",
    "dataset = Dataset.from_dict({\n",
    "    \"input_ids\": [data[\"input_ids\"].squeeze(0) for data in tokenized_bpe],\n",
    "    \"attention_mask\": [data[\"attention_mask\"].squeeze(0) for data in tokenized_bpe],\n",
    "})\n",
    "\n",
    "# Use DataCollatorForLanguageModeling\n",
    "data_collator = DataCollatorForLanguageModeling(\n",
    "    tokenizer=mbert_tokenizerBPE,\n",
    "    mlm_probability=0.15,  # 15% masking probability\n",
    ")\n",
    "\n",
    "# Load mBERT model\n",
    "modelBPE = BertForMaskedLM.from_pretrained(\"bert-base-multilingual-uncased\")\n",
    "\n",
    "# Define training arguments, with checkpoint-saving configurations\n",
    "training_args = TrainingArguments(\n",
    "    output_dir=\"./mbert_BPE\",\n",
    "    num_train_epochs=3,\n",
    "    per_device_train_batch_size=1,\n",
    "    gradient_accumulation_steps=2,  # Accumulate gradients over 2 steps\n",
    "    save_steps=500,\n",
    "    save_total_limit=2,\n",
    "    logging_dir='./logs',\n",
    "    fp16=True,\n",
    "    no_cuda=False  # This allows GPU if available, otherwise fall back to CPU\n",
    ")\n",
    "\n",
    "# Initialize the Trainer for fine-tuning\n",
    "trainer = Trainer(\n",
    "    model=modelBPE,\n",
    "    args=training_args,\n",
    "    train_dataset=dataset,\n",
    "    data_collator=data_collator,\n",
    ")\n",
    "\n",
    "# Fine-tune the model (checkpoints will automatically be saved at specified steps)\n",
    "trainer.train()\n",
    "\n",
    "# Save the final model and tokenizer\n",
    "modelBPE.save_pretrained(\"./mbert_BPE\")\n",
    "mbert_tokenizerBPE.save_pretrained(\"./mbert_BPE\")"
   ]
  },
  {
   "cell_type": "code",
   "execution_count": 8,
   "metadata": {},
   "outputs": [
    {
     "data": {
      "text/plain": [
       "0"
      ]
     },
     "execution_count": 8,
     "metadata": {},
     "output_type": "execute_result"
    }
   ],
   "source": [
    "import torch\n",
    "torch.cuda.memory_allocated()"
   ]
  },
  {
   "cell_type": "code",
   "execution_count": null,
   "metadata": {},
   "outputs": [],
   "source": []
  }
 ],
 "metadata": {
  "kernelspec": {
   "display_name": "langmodels",
   "language": "python",
   "name": "python3"
  },
  "language_info": {
   "codemirror_mode": {
    "name": "ipython",
    "version": 3
   },
   "file_extension": ".py",
   "mimetype": "text/x-python",
   "name": "python",
   "nbconvert_exporter": "python",
   "pygments_lexer": "ipython3",
   "version": "3.12.3"
  }
 },
 "nbformat": 4,
 "nbformat_minor": 2
}
