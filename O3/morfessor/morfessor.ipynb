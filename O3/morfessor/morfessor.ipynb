{
 "cells": [
  {
   "cell_type": "code",
   "execution_count": null,
   "metadata": {},
   "outputs": [],
   "source": [
    "from morfessor import BaselineModel, MorfessorIO"
   ]
  },
  {
   "cell_type": "code",
   "execution_count": 17,
   "metadata": {},
   "outputs": [],
   "source": [
    "# Initialize the Morfessor model\n",
    "model = BaselineModel()\n",
    "io_handler = MorfessorIO()\n",
    "\n",
    "# Load the corpus data\n",
    "data = io_handler.read_corpus_file(\"isc_words.txt\")\n"
   ]
  },
  {
   "cell_type": "code",
   "execution_count": 20,
   "metadata": {},
   "outputs": [
    {
     "name": "stderr",
     "output_type": "stream",
     "text": [
      "...........................................................\n",
      "...........................................................\n",
      "...........................................................\n",
      "...........................................................\n",
      "...........................................................\n"
     ]
    },
    {
     "data": {
      "text/plain": [
       "(5, 79660.39216288399)"
      ]
     },
     "execution_count": 20,
     "metadata": {},
     "output_type": "execute_result"
    }
   ],
   "source": [
    "# Load the data into the model and train\n",
    "model.load_data(data)\n",
    "model.train_batch(finish_threshold=0.05)"
   ]
  },
  {
   "cell_type": "code",
   "execution_count": 41,
   "metadata": {},
   "outputs": [
    {
     "name": "stdout",
     "output_type": "stream",
     "text": [
      "yo i paoni ke\n"
     ]
    }
   ],
   "source": [
    "segmentation= model.segment(\"yoipaonike\")\n",
    "segmented_word = \" \".join(segmentation)\n",
    "\n",
    "print(segmented_word)"
   ]
  },
  {
   "cell_type": "code",
   "execution_count": 43,
   "metadata": {},
   "outputs": [],
   "source": [
    "io_handler.write_binary_model_file(file_name=\"morf_isc_model.bin\", model=model)"
   ]
  },
  {
   "cell_type": "code",
   "execution_count": 49,
   "metadata": {},
   "outputs": [],
   "source": [
    "segmentations = model.get_segmentations()\n",
    "io_handler.write_segmentation_file(file_name=\"morf_isc_segm\",segmentations=segmentations)"
   ]
  },
  {
   "cell_type": "code",
   "execution_count": 50,
   "metadata": {},
   "outputs": [],
   "source": [
    "constructions = model.get_constructions()\n",
    "io_handler.write_lexicon_file(file_name=\"morf_isc_lex\", lexicon=constructions)"
   ]
  },
  {
   "cell_type": "code",
   "execution_count": null,
   "metadata": {},
   "outputs": [],
   "source": []
  }
 ],
 "metadata": {
  "kernelspec": {
   "display_name": "langmodels",
   "language": "python",
   "name": "python3"
  },
  "language_info": {
   "codemirror_mode": {
    "name": "ipython",
    "version": 3
   },
   "file_extension": ".py",
   "mimetype": "text/x-python",
   "name": "python",
   "nbconvert_exporter": "python",
   "pygments_lexer": "ipython3",
   "version": "3.10.12"
  }
 },
 "nbformat": 4,
 "nbformat_minor": 2
}
