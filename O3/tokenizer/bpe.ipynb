{
 "cells": [
  {
   "cell_type": "code",
   "execution_count": 1,
   "metadata": {},
   "outputs": [],
   "source": [
    "import sentencepiece as spm"
   ]
  },
  {
   "cell_type": "code",
   "execution_count": null,
   "metadata": {},
   "outputs": [],
   "source": [
    "# Train SentencePiece model\n",
    "spm.SentencePieceTrainer.Train('--input=../data/isc_sentences.txt --model_prefix=../models/spbpe_isc --vocab_size=2000 --model_type=bpe')\n",
    "sp_bpe = spm.SentencePieceProcessor()\n",
    "sp_bpe.load('../models/spbpe_isc.model')\n",
    "\n",
    "# test"
   ]
  },
  {
   "cell_type": "code",
   "execution_count": 4,
   "metadata": {},
   "outputs": [
    {
     "name": "stdout",
     "output_type": "stream",
     "text": [
      "Training and validation sets created.\n"
     ]
    }
   ],
   "source": [
    "import random\n",
    "\n",
    "# Read the entire dataset\n",
    "with open('../data/isc_sentences.txt', 'r', encoding='utf-8') as f:\n",
    "    sentences = f.readlines()\n",
    "\n",
    "# Shuffle the sentences\n",
    "random.seed(42)  # For reproducibility\n",
    "random.shuffle(sentences)\n",
    "\n",
    "# Split into training and validation sets (e.g., 90% train, 10% validation)\n",
    "split_ratio = 0.9\n",
    "split_index = int(len(sentences) * split_ratio)\n",
    "\n",
    "train_sentences = sentences[:split_index]\n",
    "validation_sentences = sentences[split_index:]\n",
    "\n",
    "# Write the training set to a file\n",
    "with open('../data/train_sentences.txt', 'w', encoding='utf-8') as f:\n",
    "    f.writelines(train_sentences)\n",
    "\n",
    "# Write the validation set to a file\n",
    "with open('../data/validation_sentences.txt', 'w', encoding='utf-8') as f:\n",
    "    f.writelines(validation_sentences)\n",
    "\n",
    "print(\"Training and validation sets created.\")\n"
   ]
  },
  {
   "cell_type": "code",
   "execution_count": 14,
   "metadata": {},
   "outputs": [
    {
     "name": "stdout",
     "output_type": "stream",
     "text": [
      "Vocab Size: 1000, Log-Perplexity: 278.2530888800319\n",
      "Vocab Size: 2000, Log-Perplexity: 472.85989894350024\n",
      "Vocab Size: 2048, Log-Perplexity: 480.88162137263936\n",
      "Vocab Size: 3000, Log-Perplexity: 607.6451301832209\n",
      "Vocab Size: 4000, Log-Perplexity: 738.2452452452452\n",
      "Vocab Size: 5000, Log-Perplexity: 914.4640082858623\n"
     ]
    }
   ],
   "source": [
    "import sentencepiece as spm\n",
    "\n",
    "training_data = '../data/train_sentences.txt'\n",
    "validation_data = '../data/validation_sentences.txt'\n",
    "\n",
    "fallback_log_prob = -10.0  # Default for unknown tokens\n",
    "max_length = 50  # Limit sentence length for validation\n",
    "\n",
    "for vocab_size in [1000, 2000, 2048, 3000, 4000, 5000]:\n",
    "    model_prefix = f'./spbpe_isc_{vocab_size}'\n",
    "    spm.SentencePieceTrainer.Train(\n",
    "        f'--input={training_data} --model_prefix={model_prefix} --vocab_size={vocab_size} --model_type=bpe --character_coverage=0.995'\n",
    "    )\n",
    "    \n",
    "    sp = spm.SentencePieceProcessor()\n",
    "    sp.load(f'{model_prefix}.model')\n",
    "    \n",
    "    with open(validation_data, 'r', encoding='utf-8') as f:\n",
    "        validation_sentences = [line.strip() for line in f if line.strip()]\n",
    "        validation_sentences = [s for s in validation_sentences if len(s.split()) <= max_length]\n",
    "    \n",
    "    total_log_prob = 0.0\n",
    "    total_tokens = 0\n",
    "    \n",
    "    for sentence in validation_sentences:\n",
    "        pieces = sp.encode(sentence, out_type=str)\n",
    "        log_prob = sum(\n",
    "            sp.get_score(sp.piece_to_id(piece)) if sp.piece_to_id(piece) != sp.unk_id() else fallback_log_prob\n",
    "            for piece in pieces\n",
    "        )\n",
    "        total_log_prob += log_prob\n",
    "        total_tokens += len(pieces)\n",
    "    \n",
    "    avg_log_prob = total_log_prob / total_tokens  # Normalize by total tokens\n",
    "    log_perplexity = -avg_log_prob\n",
    "    print(f\"Vocab Size: {vocab_size}, Log-Perplexity: {log_perplexity}\")\n"
   ]
  },
  {
   "cell_type": "code",
   "execution_count": null,
   "metadata": {},
   "outputs": [],
   "source": []
  }
 ],
 "metadata": {
  "kernelspec": {
   "display_name": "langmodels",
   "language": "python",
   "name": "python3"
  },
  "language_info": {
   "codemirror_mode": {
    "name": "ipython",
    "version": 3
   },
   "file_extension": ".py",
   "mimetype": "text/x-python",
   "name": "python",
   "nbconvert_exporter": "python",
   "pygments_lexer": "ipython3",
   "version": "3.12.3"
  }
 },
 "nbformat": 4,
 "nbformat_minor": 2
}
