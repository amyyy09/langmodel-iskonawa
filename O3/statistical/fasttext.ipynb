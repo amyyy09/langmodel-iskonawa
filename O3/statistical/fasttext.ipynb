{
 "cells": [
  {
   "cell_type": "code",
   "execution_count": null,
   "metadata": {},
   "outputs": [],
   "source": [
    "import fasttext\n",
    "\n",
    "model = fasttext.train_unsupervised('corpus.txt', model='skipgram', dim=64, ws=3)\n",
    "\n",
    "model.save_model('fasttext_model.bin')\n",
    "model.save_model('fasttext_model.vec')"
   ]
  }
 ],
 "metadata": {
  "language_info": {
   "name": "python"
  }
 },
 "nbformat": 4,
 "nbformat_minor": 2
}
