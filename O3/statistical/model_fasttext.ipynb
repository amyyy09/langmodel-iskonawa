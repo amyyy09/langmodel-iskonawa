{
 "cells": [
  {
   "cell_type": "code",
   "execution_count": 1,
   "metadata": {},
   "outputs": [
    {
     "ename": "ValueError",
     "evalue": "corpus.txt cannot be opened for training!",
     "output_type": "error",
     "traceback": [
      "\u001b[0;31m---------------------------------------------------------------------------\u001b[0m",
      "\u001b[0;31mValueError\u001b[0m                                Traceback (most recent call last)",
      "Cell \u001b[0;32mIn[1], line 3\u001b[0m\n\u001b[1;32m      1\u001b[0m \u001b[38;5;28;01mimport\u001b[39;00m \u001b[38;5;21;01mfasttext\u001b[39;00m\n\u001b[0;32m----> 3\u001b[0m model \u001b[38;5;241m=\u001b[39m \u001b[43mfasttext\u001b[49m\u001b[38;5;241;43m.\u001b[39;49m\u001b[43mtrain_unsupervised\u001b[49m\u001b[43m(\u001b[49m\u001b[38;5;124;43m'\u001b[39;49m\u001b[38;5;124;43mcorpus.txt\u001b[39;49m\u001b[38;5;124;43m'\u001b[39;49m\u001b[43m,\u001b[49m\u001b[43m \u001b[49m\u001b[43mmodel\u001b[49m\u001b[38;5;241;43m=\u001b[39;49m\u001b[38;5;124;43m'\u001b[39;49m\u001b[38;5;124;43mskipgram\u001b[39;49m\u001b[38;5;124;43m'\u001b[39;49m\u001b[43m,\u001b[49m\u001b[43m \u001b[49m\u001b[43mdim\u001b[49m\u001b[38;5;241;43m=\u001b[39;49m\u001b[38;5;241;43m64\u001b[39;49m\u001b[43m,\u001b[49m\u001b[43m \u001b[49m\u001b[43mws\u001b[49m\u001b[38;5;241;43m=\u001b[39;49m\u001b[38;5;241;43m3\u001b[39;49m\u001b[43m)\u001b[49m\n\u001b[1;32m      5\u001b[0m model\u001b[38;5;241m.\u001b[39msave_model(\u001b[38;5;124m'\u001b[39m\u001b[38;5;124mfasttext_model.bin\u001b[39m\u001b[38;5;124m'\u001b[39m)\n\u001b[1;32m      6\u001b[0m model\u001b[38;5;241m.\u001b[39msave_model(\u001b[38;5;124m'\u001b[39m\u001b[38;5;124mfasttext_model.vec\u001b[39m\u001b[38;5;124m'\u001b[39m)\n",
      "File \u001b[0;32m~/langmodels/lib/python3.12/site-packages/fasttext/FastText.py:604\u001b[0m, in \u001b[0;36mtrain_unsupervised\u001b[0;34m(*kargs, **kwargs)\u001b[0m\n\u001b[1;32m    602\u001b[0m a \u001b[38;5;241m=\u001b[39m _build_args(args, manually_set_args)\n\u001b[1;32m    603\u001b[0m ft \u001b[38;5;241m=\u001b[39m _FastText(args\u001b[38;5;241m=\u001b[39ma)\n\u001b[0;32m--> 604\u001b[0m \u001b[43mfasttext\u001b[49m\u001b[38;5;241;43m.\u001b[39;49m\u001b[43mtrain\u001b[49m\u001b[43m(\u001b[49m\u001b[43mft\u001b[49m\u001b[38;5;241;43m.\u001b[39;49m\u001b[43mf\u001b[49m\u001b[43m,\u001b[49m\u001b[43m \u001b[49m\u001b[43ma\u001b[49m\u001b[43m)\u001b[49m\n\u001b[1;32m    605\u001b[0m ft\u001b[38;5;241m.\u001b[39mset_args(ft\u001b[38;5;241m.\u001b[39mf\u001b[38;5;241m.\u001b[39mgetArgs())\n\u001b[1;32m    606\u001b[0m \u001b[38;5;28;01mreturn\u001b[39;00m ft\n",
      "\u001b[0;31mValueError\u001b[0m: corpus.txt cannot be opened for training!"
     ]
    }
   ],
   "source": [
    "import fasttext\n",
    "\n",
    "model = fasttext.train_unsupervised('corpus.txt', model='skipgram', dim=64, ws=3)\n",
    "\n",
    "model.save_model('fasttext_model.bin')\n",
    "model.save_model('fasttext_model.vec')"
   ]
  },
  {
   "cell_type": "code",
   "execution_count": 2,
   "metadata": {},
   "outputs": [
    {
     "name": "stdout",
     "output_type": "stream",
     "text": [
      "['__builtins__', '__cached__', '__doc__', '__file__', '__loader__', '__name__', '__package__', '__spec__']\n"
     ]
    }
   ],
   "source": [
    "import fasttext\n",
    "print(dir(fasttext))"
   ]
  },
  {
   "cell_type": "code",
   "execution_count": 2,
   "metadata": {},
   "outputs": [
    {
     "ename": "AttributeError",
     "evalue": "module 'fasttext' has no attribute 'train_unsupervised'",
     "output_type": "error",
     "traceback": [
      "\u001b[0;31m---------------------------------------------------------------------------\u001b[0m",
      "\u001b[0;31mAttributeError\u001b[0m                            Traceback (most recent call last)",
      "Cell \u001b[0;32mIn[2], line 1\u001b[0m\n\u001b[0;32m----> 1\u001b[0m model \u001b[38;5;241m=\u001b[39m \u001b[43mfasttext\u001b[49m\u001b[38;5;241;43m.\u001b[39;49m\u001b[43mtrain_unsupervised\u001b[49m(\u001b[38;5;124m'\u001b[39m\u001b[38;5;124m../data/isc_sentences.txt\u001b[39m\u001b[38;5;124m'\u001b[39m, model\u001b[38;5;241m=\u001b[39m\u001b[38;5;124m'\u001b[39m\u001b[38;5;124mskipgram\u001b[39m\u001b[38;5;124m'\u001b[39m)\n",
      "\u001b[0;31mAttributeError\u001b[0m: module 'fasttext' has no attribute 'train_unsupervised'"
     ]
    }
   ],
   "source": [
    "model = fasttext.train_unsupervised('../data/isc_sentences.txt', model='skipgram')"
   ]
  },
  {
   "cell_type": "code",
   "execution_count": 1,
   "metadata": {},
   "outputs": [
    {
     "name": "stdout",
     "output_type": "stream",
     "text": [
      "{'dim': 128, 'epoch': 50, 'lr': 0.1, 'minCount': 1, 'ws': 5}\n"
     ]
    },
    {
     "name": "stderr",
     "output_type": "stream",
     "text": [
      "Read 0M words\n",
      "Number of words:  4185\n",
      "Number of labels: 0\n",
      "Progress: 100.0% words/sec/thread:   99216 lr:  0.000000 avg.loss:  1.677166 ETA:   0h 0m 0s\n"
     ]
    },
    {
     "name": "stdout",
     "output_type": "stream",
     "text": [
      "Average Loss: 0\n",
      "{'dim': 128, 'epoch': 50, 'lr': 0.1, 'minCount': 1, 'ws': 7}\n"
     ]
    },
    {
     "name": "stderr",
     "output_type": "stream",
     "text": [
      "Read 0M words\n",
      "Number of words:  4185\n",
      "Number of labels: 0\n",
      "Progress: 100.0% words/sec/thread:   99196 lr: -0.000025 avg.loss:  1.624594 ETA:   0h 0m 0s lr:  0.000000 avg.loss:  1.624594 ETA:   0h 0m 0s\n",
      "Read 0M words\n",
      "Number of words:  4185\n",
      "Number of labels: 0\n"
     ]
    },
    {
     "name": "stdout",
     "output_type": "stream",
     "text": [
      "Average Loss: 0\n",
      "{'dim': 128, 'epoch': 50, 'lr': 0.1, 'minCount': 1, 'ws': 10}\n"
     ]
    },
    {
     "name": "stderr",
     "output_type": "stream",
     "text": [
      "Progress: 100.0% words/sec/thread:   99614 lr:  0.000000 avg.loss:  1.622450 ETA:   0h 0m 0s\n",
      "Read 0M words\n",
      "Number of words:  1713\n",
      "Number of labels: 0\n"
     ]
    },
    {
     "name": "stdout",
     "output_type": "stream",
     "text": [
      "Average Loss: 0\n",
      "{'dim': 128, 'epoch': 50, 'lr': 0.1, 'minCount': 2, 'ws': 5}\n"
     ]
    },
    {
     "name": "stderr",
     "output_type": "stream",
     "text": [
      "Progress: 100.0% words/sec/thread:  148429 lr:  0.000000 avg.loss:  1.507561 ETA:   0h 0m 0s\n"
     ]
    },
    {
     "name": "stdout",
     "output_type": "stream",
     "text": [
      "Average Loss: 0\n",
      "{'dim': 128, 'epoch': 50, 'lr': 0.1, 'minCount': 2, 'ws': 7}\n"
     ]
    },
    {
     "name": "stderr",
     "output_type": "stream",
     "text": [
      "Read 0M words\n",
      "Number of words:  1713\n",
      "Number of labels: 0\n",
      "Progress: 100.0% words/sec/thread:  149202 lr:  0.000000 avg.loss:  1.484511 ETA:   0h 0m 0s\n"
     ]
    },
    {
     "name": "stdout",
     "output_type": "stream",
     "text": [
      "Average Loss: 0\n",
      "{'dim': 128, 'epoch': 50, 'lr': 0.1, 'minCount': 2, 'ws': 10}\n"
     ]
    },
    {
     "name": "stderr",
     "output_type": "stream",
     "text": [
      "Read 0M words\n",
      "Number of words:  1713\n",
      "Number of labels: 0\n",
      "Progress: 100.0% words/sec/thread:  148697 lr:  0.000000 avg.loss:  1.465348 ETA:   0h 0m 0s\n"
     ]
    },
    {
     "name": "stdout",
     "output_type": "stream",
     "text": [
      "Average Loss: 0\n",
      "{'dim': 128, 'epoch': 50, 'lr': 0.1, 'minCount': 3, 'ws': 5}\n"
     ]
    },
    {
     "name": "stderr",
     "output_type": "stream",
     "text": [
      "Read 0M words\n",
      "Number of words:  1020\n",
      "Number of labels: 0\n",
      "Progress: 100.0% words/sec/thread:  149804 lr:  0.000000 avg.loss:  1.553438 ETA:   0h 0m 0s\n"
     ]
    },
    {
     "name": "stdout",
     "output_type": "stream",
     "text": [
      "Average Loss: 0\n",
      "{'dim': 128, 'epoch': 50, 'lr': 0.1, 'minCount': 3, 'ws': 7}\n"
     ]
    },
    {
     "name": "stderr",
     "output_type": "stream",
     "text": [
      "Read 0M words\n",
      "Number of words:  1020\n",
      "Number of labels: 0\n",
      "Progress: 100.0% words/sec/thread:  149571 lr:  0.000000 avg.loss:  1.527185 ETA:   0h 0m 0s\n"
     ]
    },
    {
     "name": "stdout",
     "output_type": "stream",
     "text": [
      "Average Loss: 0\n",
      "{'dim': 128, 'epoch': 50, 'lr': 0.1, 'minCount': 3, 'ws': 10}\n"
     ]
    },
    {
     "name": "stderr",
     "output_type": "stream",
     "text": [
      "Read 0M words\n",
      "Number of words:  1020\n",
      "Number of labels: 0\n",
      "Progress: 100.0% words/sec/thread:  149827 lr:  0.000000 avg.loss:  1.534781 ETA:   0h 0m 0s\n"
     ]
    },
    {
     "name": "stdout",
     "output_type": "stream",
     "text": [
      "Average Loss: 0\n",
      "{'dim': 128, 'epoch': 50, 'lr': 0.5, 'minCount': 1, 'ws': 5}\n"
     ]
    },
    {
     "name": "stderr",
     "output_type": "stream",
     "text": [
      "Read 0M words\n",
      "Number of words:  4185\n",
      "Number of labels: 0\n",
      "Progress: 100.0% words/sec/thread:  100046 lr:  0.000000 avg.loss: 10.605794 ETA:   0h 0m 0s\n",
      "Read 0M words\n",
      "Number of words:  4185\n",
      "Number of labels: 0\n"
     ]
    },
    {
     "name": "stdout",
     "output_type": "stream",
     "text": [
      "Average Loss: 0\n",
      "{'dim': 128, 'epoch': 50, 'lr': 0.5, 'minCount': 1, 'ws': 7}\n"
     ]
    },
    {
     "name": "stderr",
     "output_type": "stream",
     "text": [
      "Progress: 100.0% words/sec/thread:  100150 lr: -0.000070 avg.loss: 11.157005 ETA:   0h 0m 0s 0.000000 avg.loss: 11.157005 ETA:   0h 0m 0s\n",
      "Read 0M words\n",
      "Number of words:  4185\n",
      "Number of labels: 0\n"
     ]
    },
    {
     "name": "stdout",
     "output_type": "stream",
     "text": [
      "Average Loss: 0\n",
      "{'dim': 128, 'epoch': 50, 'lr': 0.5, 'minCount': 1, 'ws': 10}\n"
     ]
    },
    {
     "name": "stderr",
     "output_type": "stream",
     "text": [
      "Progress: 100.0% words/sec/thread:  100148 lr:  0.000000 avg.loss: 11.300758 ETA:   0h 0m 0s\n",
      "Read 0M words\n",
      "Number of words:  1713\n",
      "Number of labels: 0\n"
     ]
    },
    {
     "name": "stdout",
     "output_type": "stream",
     "text": [
      "Average Loss: 0\n",
      "{'dim': 128, 'epoch': 50, 'lr': 0.5, 'minCount': 2, 'ws': 5}\n"
     ]
    },
    {
     "name": "stderr",
     "output_type": "stream",
     "text": [
      "Progress: 100.0% words/sec/thread:  149782 lr:  0.000000 avg.loss: 13.171593 ETA:   0h 0m 0s\n"
     ]
    },
    {
     "name": "stdout",
     "output_type": "stream",
     "text": [
      "Average Loss: 0\n",
      "{'dim': 128, 'epoch': 50, 'lr': 0.5, 'minCount': 2, 'ws': 7}\n"
     ]
    },
    {
     "name": "stderr",
     "output_type": "stream",
     "text": [
      "Read 0M words\n",
      "Number of words:  1713\n",
      "Number of labels: 0\n",
      "Progress: 100.0% words/sec/thread:  149883 lr:  0.000000 avg.loss: 13.579659 ETA:   0h 0m 0s\n"
     ]
    },
    {
     "name": "stdout",
     "output_type": "stream",
     "text": [
      "Average Loss: 0\n",
      "{'dim': 128, 'epoch': 50, 'lr': 0.5, 'minCount': 2, 'ws': 10}\n"
     ]
    },
    {
     "name": "stderr",
     "output_type": "stream",
     "text": [
      "Read 0M words\n",
      "Number of words:  1713\n",
      "Number of labels: 0\n",
      "Progress: 100.0% words/sec/thread:  149755 lr:  0.000000 avg.loss: 13.207193 ETA:   0h 0m 0s\n"
     ]
    },
    {
     "name": "stdout",
     "output_type": "stream",
     "text": [
      "Average Loss: 0\n",
      "{'dim': 128, 'epoch': 50, 'lr': 0.5, 'minCount': 3, 'ws': 5}\n"
     ]
    },
    {
     "name": "stderr",
     "output_type": "stream",
     "text": [
      "Read 0M words\n",
      "Number of words:  1020\n",
      "Number of labels: 0\n",
      "Progress: 100.0% words/sec/thread:  149879 lr:  0.000000 avg.loss: 14.645668 ETA:   0h 0m 0s\n"
     ]
    },
    {
     "name": "stdout",
     "output_type": "stream",
     "text": [
      "Average Loss: 0\n",
      "{'dim': 128, 'epoch': 50, 'lr': 0.5, 'minCount': 3, 'ws': 7}\n"
     ]
    },
    {
     "name": "stderr",
     "output_type": "stream",
     "text": [
      "Read 0M words\n",
      "Number of words:  1020\n",
      "Number of labels: 0\n",
      "Progress: 100.0% words/sec/thread:  149803 lr:  0.000000 avg.loss: 14.834615 ETA:   0h 0m 0s\n"
     ]
    },
    {
     "name": "stdout",
     "output_type": "stream",
     "text": [
      "Average Loss: 0\n",
      "{'dim': 128, 'epoch': 50, 'lr': 0.5, 'minCount': 3, 'ws': 10}\n"
     ]
    },
    {
     "name": "stderr",
     "output_type": "stream",
     "text": [
      "Read 0M words\n",
      "Number of words:  1020\n",
      "Number of labels: 0\n",
      "Progress: 100.0% words/sec/thread:  149886 lr:  0.000000 avg.loss: 15.108127 ETA:   0h 0m 0s\n"
     ]
    },
    {
     "name": "stdout",
     "output_type": "stream",
     "text": [
      "Average Loss: 0\n",
      "{'dim': 128, 'epoch': 50, 'lr': 1, 'minCount': 1, 'ws': 5}\n"
     ]
    },
    {
     "name": "stderr",
     "output_type": "stream",
     "text": [
      "Read 0M words\n",
      "Number of words:  4185\n",
      "Number of labels: 0\n",
      "Read 0M words.4% words/sec/thread:   28235 lr:  0.905580 avg.loss: 39.685017 ETA:   0h 0m 0s\n",
      "Number of words:  4185\n",
      "Number of labels: 0\n"
     ]
    },
    {
     "name": "stdout",
     "output_type": "stream",
     "text": [
      "Error encountered with parameters {'dim': 128, 'epoch': 50, 'lr': 1, 'minCount': 1, 'ws': 5}: Encountered NaN.\n",
      "{'dim': 128, 'epoch': 50, 'lr': 1, 'minCount': 1, 'ws': 7}\n"
     ]
    },
    {
     "name": "stderr",
     "output_type": "stream",
     "text": [
      "Read 0M words.4% words/sec/thread:   25015 lr:  0.916337 avg.loss: 40.891865 ETA:   0h 0m 1s\n",
      "Number of words:  4185\n",
      "Number of labels: 0\n"
     ]
    },
    {
     "name": "stdout",
     "output_type": "stream",
     "text": [
      "Error encountered with parameters {'dim': 128, 'epoch': 50, 'lr': 1, 'minCount': 1, 'ws': 7}: Encountered NaN.\n",
      "{'dim': 128, 'epoch': 50, 'lr': 1, 'minCount': 1, 'ws': 10}\n"
     ]
    },
    {
     "name": "stderr",
     "output_type": "stream",
     "text": [
      "Read 0M words.4% words/sec/thread:   25205 lr:  0.915694 avg.loss: 38.797649 ETA:   0h 0m 1s\n",
      "Number of words:  1713\n",
      "Number of labels: 0\n"
     ]
    },
    {
     "name": "stdout",
     "output_type": "stream",
     "text": [
      "Error encountered with parameters {'dim': 128, 'epoch': 50, 'lr': 1, 'minCount': 1, 'ws': 10}: Encountered NaN.\n",
      "{'dim': 128, 'epoch': 50, 'lr': 1, 'minCount': 2, 'ws': 5}\n"
     ]
    },
    {
     "name": "stderr",
     "output_type": "stream",
     "text": [
      "Read 0M words.3% words/sec/thread:   18955 lr:  0.936613 avg.loss: 41.112072 ETA:   0h 0m 1s\n",
      "Number of words:  1713\n",
      "Number of labels: 0\n"
     ]
    },
    {
     "name": "stdout",
     "output_type": "stream",
     "text": [
      "Error encountered with parameters {'dim': 128, 'epoch': 50, 'lr': 1, 'minCount': 2, 'ws': 5}: Encountered NaN.\n",
      "{'dim': 128, 'epoch': 50, 'lr': 1, 'minCount': 2, 'ws': 7}\n"
     ]
    },
    {
     "name": "stderr",
     "output_type": "stream",
     "text": [
      "Read 0M words.2% words/sec/thread:   18695 lr:  0.937501 avg.loss: 38.157776 ETA:   0h 0m 1s\n",
      "Number of words:  1713\n",
      "Number of labels: 0\n"
     ]
    },
    {
     "name": "stdout",
     "output_type": "stream",
     "text": [
      "Error encountered with parameters {'dim': 128, 'epoch': 50, 'lr': 1, 'minCount': 2, 'ws': 7}: Encountered NaN.\n",
      "{'dim': 128, 'epoch': 50, 'lr': 1, 'minCount': 2, 'ws': 10}\n"
     ]
    },
    {
     "name": "stderr",
     "output_type": "stream",
     "text": [
      "Read 0M words.9% words/sec/thread:   17701 lr:  0.940809 avg.loss: 40.591473 ETA:   0h 0m 1s\n",
      "Number of words:  1020\n",
      "Number of labels: 0\n"
     ]
    },
    {
     "name": "stdout",
     "output_type": "stream",
     "text": [
      "Error encountered with parameters {'dim': 128, 'epoch': 50, 'lr': 1, 'minCount': 2, 'ws': 10}: Encountered NaN.\n",
      "{'dim': 128, 'epoch': 50, 'lr': 1, 'minCount': 3, 'ws': 5}\n"
     ]
    },
    {
     "name": "stderr",
     "output_type": "stream",
     "text": [
      "Read 0M words.9% words/sec/thread:   17719 lr:  0.940724 avg.loss: 39.852112 ETA:   0h 0m 1s\n",
      "Number of words:  1020\n",
      "Number of labels: 0\n"
     ]
    },
    {
     "name": "stdout",
     "output_type": "stream",
     "text": [
      "Error encountered with parameters {'dim': 128, 'epoch': 50, 'lr': 1, 'minCount': 3, 'ws': 5}: Encountered NaN.\n",
      "{'dim': 128, 'epoch': 50, 'lr': 1, 'minCount': 3, 'ws': 7}\n"
     ]
    },
    {
     "name": "stderr",
     "output_type": "stream",
     "text": [
      "Read 0M words.6% words/sec/thread:   16675 lr:  0.944249 avg.loss: 41.564392 ETA:   0h 0m 1s\n",
      "Number of words:  1020\n",
      "Number of labels: 0\n"
     ]
    },
    {
     "name": "stdout",
     "output_type": "stream",
     "text": [
      "Error encountered with parameters {'dim': 128, 'epoch': 50, 'lr': 1, 'minCount': 3, 'ws': 7}: Encountered NaN.\n",
      "{'dim': 128, 'epoch': 50, 'lr': 1, 'minCount': 3, 'ws': 10}\n"
     ]
    },
    {
     "name": "stderr",
     "output_type": "stream",
     "text": [
      "Read 0M words.7% words/sec/thread:   17130 lr:  0.942709 avg.loss: 41.781155 ETA:   0h 0m 1s\n",
      "Number of words:  4185\n",
      "Number of labels: 0\n"
     ]
    },
    {
     "name": "stdout",
     "output_type": "stream",
     "text": [
      "Error encountered with parameters {'dim': 128, 'epoch': 50, 'lr': 1, 'minCount': 3, 'ws': 10}: Encountered NaN.\n",
      "{'dim': 128, 'epoch': 100, 'lr': 0.1, 'minCount': 1, 'ws': 5}\n"
     ]
    },
    {
     "name": "stderr",
     "output_type": "stream",
     "text": [
      "Progress: 100.0% words/sec/thread:  120336 lr:  0.000000 avg.loss:  0.964470 ETA:   0h 0m 0s\n"
     ]
    },
    {
     "name": "stdout",
     "output_type": "stream",
     "text": [
      "Average Loss: 0\n",
      "{'dim': 128, 'epoch': 100, 'lr': 0.1, 'minCount': 1, 'ws': 7}\n"
     ]
    },
    {
     "name": "stderr",
     "output_type": "stream",
     "text": [
      "Read 0M words\n",
      "Number of words:  4185\n",
      "Number of labels: 0\n",
      "Progress: 100.0% words/sec/thread:  100304 lr:  0.000000 avg.loss:  0.949390 ETA:   0h 0m 0s\n",
      "Read 0M words\n",
      "Number of words:  4185\n",
      "Number of labels: 0\n"
     ]
    },
    {
     "name": "stdout",
     "output_type": "stream",
     "text": [
      "Average Loss: 0\n",
      "{'dim': 128, 'epoch': 100, 'lr': 0.1, 'minCount': 1, 'ws': 10}\n"
     ]
    },
    {
     "name": "stderr",
     "output_type": "stream",
     "text": [
      "Progress: 100.0% words/sec/thread:  100275 lr:  0.000000 avg.loss:  0.935435 ETA:   0h 0m 0s\n",
      "Read 0M words\n",
      "Number of words:  1713\n",
      "Number of labels: 0\n"
     ]
    },
    {
     "name": "stdout",
     "output_type": "stream",
     "text": [
      "Average Loss: 0\n",
      "{'dim': 128, 'epoch': 100, 'lr': 0.1, 'minCount': 2, 'ws': 5}\n"
     ]
    },
    {
     "name": "stderr",
     "output_type": "stream",
     "text": [
      "Progress: 100.0% words/sec/thread:  150246 lr:  0.000000 avg.loss:  0.931879 ETA:   0h 0m 0s\n",
      "Read 0M words\n",
      "Number of words:  1713\n",
      "Number of labels: 0\n"
     ]
    },
    {
     "name": "stdout",
     "output_type": "stream",
     "text": [
      "Average Loss: 0\n",
      "{'dim': 128, 'epoch': 100, 'lr': 0.1, 'minCount': 2, 'ws': 7}\n"
     ]
    },
    {
     "name": "stderr",
     "output_type": "stream",
     "text": [
      "Progress: 100.0% words/sec/thread:  150166 lr:  0.000000 avg.loss:  0.918782 ETA:   0h 0m 0s\n",
      "Read 0M words\n",
      "Number of words:  1713\n",
      "Number of labels: 0\n"
     ]
    },
    {
     "name": "stdout",
     "output_type": "stream",
     "text": [
      "Average Loss: 0\n",
      "{'dim': 128, 'epoch': 100, 'lr': 0.1, 'minCount': 2, 'ws': 10}\n"
     ]
    },
    {
     "name": "stderr",
     "output_type": "stream",
     "text": [
      "Progress: 100.0% words/sec/thread:  150240 lr:  0.000000 avg.loss:  0.916582 ETA:   0h 0m 0s\n",
      "Read 0M words\n",
      "Number of words:  1020\n",
      "Number of labels: 0\n"
     ]
    },
    {
     "name": "stdout",
     "output_type": "stream",
     "text": [
      "Average Loss: 0\n",
      "{'dim': 128, 'epoch': 100, 'lr': 0.1, 'minCount': 3, 'ws': 5}\n"
     ]
    },
    {
     "name": "stderr",
     "output_type": "stream",
     "text": [
      "Progress: 100.0% words/sec/thread:  200148 lr:  0.000000 avg.loss:  0.997951 ETA:   0h 0m 0s\n",
      "Read 0M words\n",
      "Number of words:  1020\n",
      "Number of labels: 0\n"
     ]
    },
    {
     "name": "stdout",
     "output_type": "stream",
     "text": [
      "Average Loss: 0\n",
      "{'dim': 128, 'epoch': 100, 'lr': 0.1, 'minCount': 3, 'ws': 7}\n"
     ]
    },
    {
     "name": "stderr",
     "output_type": "stream",
     "text": [
      "Progress: 100.0% words/sec/thread:  200161 lr:  0.000000 avg.loss:  1.008513 ETA:   0h 0m 0s\n",
      "Read 0M words\n",
      "Number of words:  1020\n",
      "Number of labels: 0\n"
     ]
    },
    {
     "name": "stdout",
     "output_type": "stream",
     "text": [
      "Average Loss: 0\n",
      "{'dim': 128, 'epoch': 100, 'lr': 0.1, 'minCount': 3, 'ws': 10}\n"
     ]
    },
    {
     "name": "stderr",
     "output_type": "stream",
     "text": [
      "Progress: 100.0% words/sec/thread:  198671 lr:  0.000000 avg.loss:  0.992800 ETA:   0h 0m 0s\n"
     ]
    },
    {
     "name": "stdout",
     "output_type": "stream",
     "text": [
      "Average Loss: 0\n",
      "{'dim': 128, 'epoch': 100, 'lr': 0.5, 'minCount': 1, 'ws': 5}\n"
     ]
    },
    {
     "name": "stderr",
     "output_type": "stream",
     "text": [
      "Read 0M words\n",
      "Number of words:  4185\n",
      "Number of labels: 0\n",
      "Progress: 100.0% words/sec/thread:  119659 lr:  0.000000 avg.loss: 12.449898 ETA:   0h 0m 0s\n"
     ]
    },
    {
     "name": "stdout",
     "output_type": "stream",
     "text": [
      "Average Loss: 0\n",
      "{'dim': 128, 'epoch': 100, 'lr': 0.5, 'minCount': 1, 'ws': 7}\n"
     ]
    },
    {
     "name": "stderr",
     "output_type": "stream",
     "text": [
      "Read 0M words\n",
      "Number of words:  4185\n",
      "Number of labels: 0\n",
      "Progress: 100.0% words/sec/thread:  100277 lr:  0.000000 avg.loss: 12.563116 ETA:   0h 0m 0s\n",
      "Read 0M words\n",
      "Number of words:  4185\n",
      "Number of labels: 0\n"
     ]
    },
    {
     "name": "stdout",
     "output_type": "stream",
     "text": [
      "Average Loss: 0\n",
      "{'dim': 128, 'epoch': 100, 'lr': 0.5, 'minCount': 1, 'ws': 10}\n"
     ]
    },
    {
     "name": "stderr",
     "output_type": "stream",
     "text": [
      "Progress: 100.0% words/sec/thread:  100152 lr:  0.000000 avg.loss: 12.604785 ETA:   0h 0m 0s\n",
      "Read 0M words\n",
      "Number of words:  1713\n",
      "Number of labels: 0\n"
     ]
    },
    {
     "name": "stdout",
     "output_type": "stream",
     "text": [
      "Average Loss: 0\n",
      "{'dim': 128, 'epoch': 100, 'lr': 0.5, 'minCount': 2, 'ws': 5}\n"
     ]
    },
    {
     "name": "stderr",
     "output_type": "stream",
     "text": [
      "Progress: 100.0% words/sec/thread:  150275 lr:  0.000000 avg.loss: 13.144320 ETA:   0h 0m 0s\n",
      "Read 0M words\n",
      "Number of words:  1713\n",
      "Number of labels: 0\n"
     ]
    },
    {
     "name": "stdout",
     "output_type": "stream",
     "text": [
      "Average Loss: 0\n",
      "{'dim': 128, 'epoch': 100, 'lr': 0.5, 'minCount': 2, 'ws': 7}\n"
     ]
    },
    {
     "name": "stderr",
     "output_type": "stream",
     "text": [
      "Progress: 100.0% words/sec/thread:  150277 lr:  0.000000 avg.loss: 13.587481 ETA:   0h 0m 0s\n",
      "Read 0M words\n",
      "Number of words:  1713\n",
      "Number of labels: 0\n"
     ]
    },
    {
     "name": "stdout",
     "output_type": "stream",
     "text": [
      "Average Loss: 0\n",
      "{'dim': 128, 'epoch': 100, 'lr': 0.5, 'minCount': 2, 'ws': 10}\n"
     ]
    },
    {
     "name": "stderr",
     "output_type": "stream",
     "text": [
      "Progress: 100.0% words/sec/thread:  150413 lr:  0.000000 avg.loss: 14.146687 ETA:   0h 0m 0s\n",
      "Read 0M words\n",
      "Number of words:  1020\n",
      "Number of labels: 0\n"
     ]
    },
    {
     "name": "stdout",
     "output_type": "stream",
     "text": [
      "Average Loss: 0\n",
      "{'dim': 128, 'epoch': 100, 'lr': 0.5, 'minCount': 3, 'ws': 5}\n"
     ]
    },
    {
     "name": "stderr",
     "output_type": "stream",
     "text": [
      "Progress: 100.0% words/sec/thread:  200154 lr:  0.000000 avg.loss: 15.222038 ETA:   0h 0m 0s\n",
      "Read 0M words\n",
      "Number of words:  1020\n",
      "Number of labels: 0\n"
     ]
    },
    {
     "name": "stdout",
     "output_type": "stream",
     "text": [
      "Average Loss: 0\n",
      "{'dim': 128, 'epoch': 100, 'lr': 0.5, 'minCount': 3, 'ws': 7}\n"
     ]
    },
    {
     "name": "stderr",
     "output_type": "stream",
     "text": [
      "Progress: 100.0% words/sec/thread:  200139 lr:  0.000000 avg.loss: 15.314713 ETA:   0h 0m 0s\n",
      "Read 0M words\n",
      "Number of words:  1020\n",
      "Number of labels: 0\n"
     ]
    },
    {
     "name": "stdout",
     "output_type": "stream",
     "text": [
      "Average Loss: 0\n",
      "{'dim': 128, 'epoch': 100, 'lr': 0.5, 'minCount': 3, 'ws': 10}\n"
     ]
    },
    {
     "name": "stderr",
     "output_type": "stream",
     "text": [
      "Progress: 100.0% words/sec/thread:  200001 lr:  0.000000 avg.loss: 15.299335 ETA:   0h 0m 0s\n",
      "Read 0M words\n",
      "Number of words:  4185\n",
      "Number of labels: 0\n"
     ]
    },
    {
     "name": "stdout",
     "output_type": "stream",
     "text": [
      "Average Loss: 0\n",
      "{'dim': 128, 'epoch': 100, 'lr': 1, 'minCount': 1, 'ws': 5}\n"
     ]
    },
    {
     "name": "stderr",
     "output_type": "stream",
     "text": [
      "Read 0M words.3% words/sec/thread:   25551 lr:  0.957284 avg.loss: 40.205502 ETA:   0h 0m 2s\n",
      "Number of words:  4185\n",
      "Number of labels: 0\n"
     ]
    },
    {
     "name": "stdout",
     "output_type": "stream",
     "text": [
      "Error encountered with parameters {'dim': 128, 'epoch': 100, 'lr': 1, 'minCount': 1, 'ws': 5}: Encountered NaN.\n",
      "{'dim': 128, 'epoch': 100, 'lr': 1, 'minCount': 1, 'ws': 7}\n"
     ]
    },
    {
     "name": "stderr",
     "output_type": "stream",
     "text": [
      "Read 0M words.1% words/sec/thread:   24329 lr:  0.959333 avg.loss: 40.420963 ETA:   0h 0m 2s\n",
      "Number of words:  4185\n",
      "Number of labels: 0\n"
     ]
    },
    {
     "name": "stdout",
     "output_type": "stream",
     "text": [
      "Error encountered with parameters {'dim': 128, 'epoch': 100, 'lr': 1, 'minCount': 1, 'ws': 7}: Encountered NaN.\n",
      "{'dim': 128, 'epoch': 100, 'lr': 1, 'minCount': 1, 'ws': 10}\n"
     ]
    },
    {
     "name": "stderr",
     "output_type": "stream",
     "text": [
      "Read 0M words.8% words/sec/thread:   23028 lr:  0.961503 avg.loss: 41.392475 ETA:   0h 0m 2s\n",
      "Number of words:  1713\n",
      "Number of labels: 0\n"
     ]
    },
    {
     "name": "stdout",
     "output_type": "stream",
     "text": [
      "Error encountered with parameters {'dim': 128, 'epoch': 100, 'lr': 1, 'minCount': 1, 'ws': 10}: Encountered NaN.\n",
      "{'dim': 128, 'epoch': 100, 'lr': 1, 'minCount': 2, 'ws': 5}\n"
     ]
    },
    {
     "name": "stderr",
     "output_type": "stream",
     "text": [
      "Read 0M words.9% words/sec/thread:   17582 lr:  0.970613 avg.loss: 39.167633 ETA:   0h 0m 3s\n",
      "Number of words:  1713\n",
      "Number of labels: 0\n"
     ]
    },
    {
     "name": "stdout",
     "output_type": "stream",
     "text": [
      "Error encountered with parameters {'dim': 128, 'epoch': 100, 'lr': 1, 'minCount': 2, 'ws': 5}: Encountered NaN.\n",
      "{'dim': 128, 'epoch': 100, 'lr': 1, 'minCount': 2, 'ws': 7}\n"
     ]
    },
    {
     "name": "stderr",
     "output_type": "stream",
     "text": [
      "Read 0M words.0% words/sec/thread:   17833 lr:  0.970182 avg.loss: 38.695251 ETA:   0h 0m 3s\n",
      "Number of words:  1713\n",
      "Number of labels: 0\n"
     ]
    },
    {
     "name": "stdout",
     "output_type": "stream",
     "text": [
      "Error encountered with parameters {'dim': 128, 'epoch': 100, 'lr': 1, 'minCount': 2, 'ws': 7}: Encountered NaN.\n",
      "{'dim': 128, 'epoch': 100, 'lr': 1, 'minCount': 2, 'ws': 10}\n"
     ]
    },
    {
     "name": "stderr",
     "output_type": "stream",
     "text": [
      "Read 0M words.8% words/sec/thread:   16974 lr:  0.971625 avg.loss: 39.769989 ETA:   0h 0m 3s\n",
      "Number of words:  1020\n",
      "Number of labels: 0\n"
     ]
    },
    {
     "name": "stdout",
     "output_type": "stream",
     "text": [
      "Error encountered with parameters {'dim': 128, 'epoch': 100, 'lr': 1, 'minCount': 2, 'ws': 10}: Encountered NaN.\n",
      "{'dim': 128, 'epoch': 100, 'lr': 1, 'minCount': 3, 'ws': 5}\n"
     ]
    },
    {
     "name": "stderr",
     "output_type": "stream",
     "text": [
      "Read 0M words.8% words/sec/thread:   17004 lr:  0.971565 avg.loss: 42.303127 ETA:   0h 0m 3s\n",
      "Number of words:  1020\n",
      "Number of labels: 0\n"
     ]
    },
    {
     "name": "stdout",
     "output_type": "stream",
     "text": [
      "Error encountered with parameters {'dim': 128, 'epoch': 100, 'lr': 1, 'minCount': 3, 'ws': 5}: Encountered NaN.\n",
      "{'dim': 128, 'epoch': 100, 'lr': 1, 'minCount': 3, 'ws': 7}\n"
     ]
    },
    {
     "name": "stderr",
     "output_type": "stream",
     "text": [
      "Read 0M words.7% words/sec/thread:   16311 lr:  0.972729 avg.loss: 41.126247 ETA:   0h 0m 3s\n",
      "Number of words:  1020\n",
      "Number of labels: 0\n"
     ]
    },
    {
     "name": "stdout",
     "output_type": "stream",
     "text": [
      "Error encountered with parameters {'dim': 128, 'epoch': 100, 'lr': 1, 'minCount': 3, 'ws': 7}: Encountered NaN.\n",
      "{'dim': 128, 'epoch': 100, 'lr': 1, 'minCount': 3, 'ws': 10}\n"
     ]
    },
    {
     "name": "stderr",
     "output_type": "stream",
     "text": [
      "Read 0M words.5% words/sec/thread:   15103 lr:  0.974751 avg.loss: 38.863415 ETA:   0h 0m 3s\n",
      "Number of words:  4185\n",
      "Number of labels: 0\n"
     ]
    },
    {
     "name": "stdout",
     "output_type": "stream",
     "text": [
      "Error encountered with parameters {'dim': 128, 'epoch': 100, 'lr': 1, 'minCount': 3, 'ws': 10}: Encountered NaN.\n",
      "{'dim': 128, 'epoch': 200, 'lr': 0.1, 'minCount': 1, 'ws': 5}\n"
     ]
    },
    {
     "name": "stderr",
     "output_type": "stream",
     "text": [
      "Progress: 100.0% words/sec/thread:  120367 lr:  0.000000 avg.loss:  0.589124 ETA:   0h 0m 0s\n",
      "Read 0M words\n",
      "Number of words:  4185\n",
      "Number of labels: 0\n"
     ]
    },
    {
     "name": "stdout",
     "output_type": "stream",
     "text": [
      "Average Loss: 0\n",
      "{'dim': 128, 'epoch': 200, 'lr': 0.1, 'minCount': 1, 'ws': 7}\n"
     ]
    },
    {
     "name": "stderr",
     "output_type": "stream",
     "text": [
      "Progress: 100.0% words/sec/thread:  109461 lr:  0.000000 avg.loss:  0.584318 ETA:   0h 0m 0s\n"
     ]
    },
    {
     "name": "stdout",
     "output_type": "stream",
     "text": [
      "Average Loss: 0\n",
      "{'dim': 128, 'epoch': 200, 'lr': 0.1, 'minCount': 1, 'ws': 10}\n"
     ]
    },
    {
     "name": "stderr",
     "output_type": "stream",
     "text": [
      "Read 0M words\n",
      "Number of words:  4185\n",
      "Number of labels: 0\n",
      "Progress: 100.0% words/sec/thread:  109360 lr:  0.000000 avg.loss:  0.582344 ETA:   0h 0m 0s\n",
      "Read 0M words\n",
      "Number of words:  1713\n",
      "Number of labels: 0\n"
     ]
    },
    {
     "name": "stdout",
     "output_type": "stream",
     "text": [
      "Average Loss: 0\n",
      "{'dim': 128, 'epoch': 200, 'lr': 0.1, 'minCount': 2, 'ws': 5}\n"
     ]
    },
    {
     "name": "stderr",
     "output_type": "stream",
     "text": [
      "Progress: 100.0% words/sec/thread:  171992 lr:  0.000000 avg.loss:  0.649794 ETA:   0h 0m 0s\n",
      "Read 0M words\n",
      "Number of words:  1713\n",
      "Number of labels: 0\n"
     ]
    },
    {
     "name": "stdout",
     "output_type": "stream",
     "text": [
      "Average Loss: 0\n",
      "{'dim': 128, 'epoch': 200, 'lr': 0.1, 'minCount': 2, 'ws': 7}\n"
     ]
    },
    {
     "name": "stderr",
     "output_type": "stream",
     "text": [
      "Progress: 100.0% words/sec/thread:  171940 lr:  0.000000 avg.loss:  0.635669 ETA:   0h 0m 0s\n",
      "Read 0M words\n",
      "Number of words:  1713\n",
      "Number of labels: 0\n"
     ]
    },
    {
     "name": "stdout",
     "output_type": "stream",
     "text": [
      "Average Loss: 0\n",
      "{'dim': 128, 'epoch': 200, 'lr': 0.1, 'minCount': 2, 'ws': 10}\n"
     ]
    },
    {
     "name": "stderr",
     "output_type": "stream",
     "text": [
      "Progress: 100.0% words/sec/thread:  171937 lr:  0.000000 avg.loss:  0.625821 ETA:   0h 0m 0s\n",
      "Read 0M words\n",
      "Number of words:  1020\n",
      "Number of labels: 0\n"
     ]
    },
    {
     "name": "stdout",
     "output_type": "stream",
     "text": [
      "Average Loss: 0\n",
      "{'dim': 128, 'epoch': 200, 'lr': 0.1, 'minCount': 3, 'ws': 5}\n"
     ]
    },
    {
     "name": "stderr",
     "output_type": "stream",
     "text": [
      "Progress: 100.0% words/sec/thread:  240507 lr:  0.000000 avg.loss:  0.739037 ETA:   0h 0m 0s\n"
     ]
    },
    {
     "name": "stdout",
     "output_type": "stream",
     "text": [
      "Average Loss: 0\n",
      "{'dim': 128, 'epoch': 200, 'lr': 0.1, 'minCount': 3, 'ws': 7}\n"
     ]
    },
    {
     "name": "stderr",
     "output_type": "stream",
     "text": [
      "Read 0M words\n",
      "Number of words:  1020\n",
      "Number of labels: 0\n",
      "Progress: 100.0% words/sec/thread:  239810 lr:  0.000000 avg.loss:  0.749818 ETA:   0h 0m 0s\n"
     ]
    },
    {
     "name": "stdout",
     "output_type": "stream",
     "text": [
      "Average Loss: 0\n",
      "{'dim': 128, 'epoch': 200, 'lr': 0.1, 'minCount': 3, 'ws': 10}\n"
     ]
    },
    {
     "name": "stderr",
     "output_type": "stream",
     "text": [
      "Read 0M words\n",
      "Number of words:  1020\n",
      "Number of labels: 0\n",
      "Progress: 100.0% words/sec/thread:  240701 lr:  0.000000 avg.loss:  0.726378 ETA:   0h 0m 0s\n"
     ]
    },
    {
     "name": "stdout",
     "output_type": "stream",
     "text": [
      "Average Loss: 0\n",
      "{'dim': 128, 'epoch': 200, 'lr': 0.5, 'minCount': 1, 'ws': 5}\n"
     ]
    },
    {
     "name": "stderr",
     "output_type": "stream",
     "text": [
      "Read 0M words\n",
      "Number of words:  4185\n",
      "Number of labels: 0\n",
      "Read 0M words.2% words/sec/thread:  123900 lr:  0.294140 avg.loss: 23.601860 ETA:   0h 0m 0s\n",
      "Number of words:  4185\n",
      "Number of labels: 0\n"
     ]
    },
    {
     "name": "stdout",
     "output_type": "stream",
     "text": [
      "Error encountered with parameters {'dim': 128, 'epoch': 200, 'lr': 0.5, 'minCount': 1, 'ws': 5}: Encountered NaN.\n",
      "{'dim': 128, 'epoch': 200, 'lr': 0.5, 'minCount': 1, 'ws': 7}\n"
     ]
    },
    {
     "name": "stderr",
     "output_type": "stream",
     "text": [
      "Read 0M words.5% words/sec/thread:  106908 lr:  0.322386 avg.loss: 23.903992 ETA:   0h 0m 0s\n",
      "Number of words:  4185\n",
      "Number of labels: 0\n"
     ]
    },
    {
     "name": "stdout",
     "output_type": "stream",
     "text": [
      "Error encountered with parameters {'dim': 128, 'epoch': 200, 'lr': 0.5, 'minCount': 1, 'ws': 7}: Encountered NaN.\n",
      "{'dim': 128, 'epoch': 200, 'lr': 0.5, 'minCount': 1, 'ws': 10}\n"
     ]
    },
    {
     "name": "stderr",
     "output_type": "stream",
     "text": [
      "Read 0M words.7% words/sec/thread:   95509 lr:  0.341321 avg.loss: 25.668591 ETA:   0h 0m 0s\n",
      "Number of words:  1713\n",
      "Number of labels: 0\n"
     ]
    },
    {
     "name": "stdout",
     "output_type": "stream",
     "text": [
      "Error encountered with parameters {'dim': 128, 'epoch': 200, 'lr': 0.5, 'minCount': 1, 'ws': 10}: Encountered NaN.\n",
      "{'dim': 128, 'epoch': 200, 'lr': 0.5, 'minCount': 2, 'ws': 5}\n"
     ]
    },
    {
     "name": "stderr",
     "output_type": "stream",
     "text": [
      "Progress:  24.3% words/sec/thread:  145840 lr:  0.378575 avg.loss: 24.215498 ETA:   0h 0m 0s"
     ]
    },
    {
     "name": "stdout",
     "output_type": "stream",
     "text": [
      "Error encountered with parameters {'dim': 128, 'epoch': 200, 'lr': 0.5, 'minCount': 2, 'ws': 5}: Encountered NaN.\n",
      "{'dim': 128, 'epoch': 200, 'lr': 0.5, 'minCount': 2, 'ws': 7}\n"
     ]
    },
    {
     "name": "stderr",
     "output_type": "stream",
     "text": [
      "Read 0M words\n",
      "Number of words:  1713\n",
      "Number of labels: 0\n",
      "Progress:  22.7% words/sec/thread:  136477 lr:  0.386406 avg.loss: 24.335554 ETA:   0h 0m 0s"
     ]
    },
    {
     "name": "stdout",
     "output_type": "stream",
     "text": [
      "Error encountered with parameters {'dim': 128, 'epoch': 200, 'lr': 0.5, 'minCount': 2, 'ws': 7}: Encountered NaN.\n",
      "{'dim': 128, 'epoch': 200, 'lr': 0.5, 'minCount': 2, 'ws': 10}\n"
     ]
    },
    {
     "name": "stderr",
     "output_type": "stream",
     "text": [
      "Read 0M words\n",
      "Number of words:  1713\n",
      "Number of labels: 0\n",
      "Progress:  21.3% words/sec/thread:  127689 lr:  0.393721 avg.loss: 26.078615 ETA:   0h 0m 0s"
     ]
    },
    {
     "name": "stdout",
     "output_type": "stream",
     "text": [
      "Error encountered with parameters {'dim': 128, 'epoch': 200, 'lr': 0.5, 'minCount': 2, 'ws': 10}: Encountered NaN.\n",
      "{'dim': 128, 'epoch': 200, 'lr': 0.5, 'minCount': 3, 'ws': 5}\n"
     ]
    },
    {
     "name": "stderr",
     "output_type": "stream",
     "text": [
      "Read 0M words\n",
      "Number of words:  1020\n",
      "Number of labels: 0\n",
      "Read 0M words.1% words/sec/thread:  252447 lr:  0.394519 avg.loss: 27.435966 ETA:   0h 0m 0s\n",
      "Number of words:  1020\n",
      "Number of labels: 0\n"
     ]
    },
    {
     "name": "stdout",
     "output_type": "stream",
     "text": [
      "Error encountered with parameters {'dim': 128, 'epoch': 200, 'lr': 0.5, 'minCount': 3, 'ws': 5}: Encountered NaN.\n",
      "{'dim': 128, 'epoch': 200, 'lr': 0.5, 'minCount': 3, 'ws': 7}\n"
     ]
    },
    {
     "name": "stderr",
     "output_type": "stream",
     "text": [
      "Read 0M words.6% words/sec/thread:  235036 lr:  0.401753 avg.loss: 27.331263 ETA:   0h 0m 0s\n",
      "Number of words:  1020\n",
      "Number of labels: 0\n"
     ]
    },
    {
     "name": "stdout",
     "output_type": "stream",
     "text": [
      "Error encountered with parameters {'dim': 128, 'epoch': 200, 'lr': 0.5, 'minCount': 3, 'ws': 7}: Encountered NaN.\n",
      "{'dim': 128, 'epoch': 200, 'lr': 0.5, 'minCount': 3, 'ws': 10}\n"
     ]
    },
    {
     "name": "stderr",
     "output_type": "stream",
     "text": [
      "Read 0M words.1% words/sec/thread:  228021 lr:  0.404669 avg.loss: 27.037945 ETA:   0h 0m 0s\n",
      "Number of words:  4185\n",
      "Number of labels: 0\n"
     ]
    },
    {
     "name": "stdout",
     "output_type": "stream",
     "text": [
      "Error encountered with parameters {'dim': 128, 'epoch': 200, 'lr': 0.5, 'minCount': 3, 'ws': 10}: Encountered NaN.\n",
      "{'dim': 128, 'epoch': 200, 'lr': 1, 'minCount': 1, 'ws': 5}\n"
     ]
    },
    {
     "name": "stderr",
     "output_type": "stream",
     "text": [
      "Read 0M words.1% words/sec/thread:   24690 lr:  0.979360 avg.loss: 40.440987 ETA:   0h 0m 4s\n",
      "Number of words:  4185\n",
      "Number of labels: 0\n"
     ]
    },
    {
     "name": "stdout",
     "output_type": "stream",
     "text": [
      "Error encountered with parameters {'dim': 128, 'epoch': 200, 'lr': 1, 'minCount': 1, 'ws': 5}: Encountered NaN.\n",
      "{'dim': 128, 'epoch': 200, 'lr': 1, 'minCount': 1, 'ws': 7}\n"
     ]
    },
    {
     "name": "stderr",
     "output_type": "stream",
     "text": [
      "Read 0M words.9% words/sec/thread:   22528 lr:  0.981167 avg.loss: 40.525436 ETA:   0h 0m 5s\n",
      "Number of words:  4185\n",
      "Number of labels: 0\n"
     ]
    },
    {
     "name": "stdout",
     "output_type": "stream",
     "text": [
      "Error encountered with parameters {'dim': 128, 'epoch': 200, 'lr': 1, 'minCount': 1, 'ws': 7}: Encountered NaN.\n",
      "{'dim': 128, 'epoch': 200, 'lr': 1, 'minCount': 1, 'ws': 10}\n"
     ]
    },
    {
     "name": "stderr",
     "output_type": "stream",
     "text": [
      "Read 0M words.9% words/sec/thread:   22295 lr:  0.981362 avg.loss: 40.924438 ETA:   0h 0m 5s\n",
      "Number of words:  1713\n",
      "Number of labels: 0\n"
     ]
    },
    {
     "name": "stdout",
     "output_type": "stream",
     "text": [
      "Error encountered with parameters {'dim': 128, 'epoch': 200, 'lr': 1, 'minCount': 1, 'ws': 10}: Encountered NaN.\n",
      "{'dim': 128, 'epoch': 200, 'lr': 1, 'minCount': 2, 'ws': 5}\n"
     ]
    },
    {
     "name": "stderr",
     "output_type": "stream",
     "text": [
      "Read 0M words.5% words/sec/thread:   18063 lr:  0.984897 avg.loss: 38.307438 ETA:   0h 0m 6s\n",
      "Number of words:  1713\n",
      "Number of labels: 0\n"
     ]
    },
    {
     "name": "stdout",
     "output_type": "stream",
     "text": [
      "Error encountered with parameters {'dim': 128, 'epoch': 200, 'lr': 1, 'minCount': 2, 'ws': 5}: Encountered NaN.\n",
      "{'dim': 128, 'epoch': 200, 'lr': 1, 'minCount': 2, 'ws': 7}\n"
     ]
    },
    {
     "name": "stderr",
     "output_type": "stream",
     "text": [
      "Read 0M words.4% words/sec/thread:   16542 lr:  0.986172 avg.loss: 42.134079 ETA:   0h 0m 7s\n",
      "Number of words:  1713\n",
      "Number of labels: 0\n"
     ]
    },
    {
     "name": "stdout",
     "output_type": "stream",
     "text": [
      "Error encountered with parameters {'dim': 128, 'epoch': 200, 'lr': 1, 'minCount': 2, 'ws': 7}: Encountered NaN.\n",
      "{'dim': 128, 'epoch': 200, 'lr': 1, 'minCount': 2, 'ws': 10}\n"
     ]
    },
    {
     "name": "stderr",
     "output_type": "stream",
     "text": [
      "Read 0M words.4% words/sec/thread:   16206 lr:  0.986447 avg.loss: 39.181820 ETA:   0h 0m 7s\n",
      "Number of words:  1020\n",
      "Number of labels: 0\n"
     ]
    },
    {
     "name": "stdout",
     "output_type": "stream",
     "text": [
      "Error encountered with parameters {'dim': 128, 'epoch': 200, 'lr': 1, 'minCount': 2, 'ws': 10}: Encountered NaN.\n",
      "{'dim': 128, 'epoch': 200, 'lr': 1, 'minCount': 3, 'ws': 5}\n"
     ]
    },
    {
     "name": "stderr",
     "output_type": "stream",
     "text": [
      "Read 0M words.3% words/sec/thread:   16017 lr:  0.986608 avg.loss: 42.864826 ETA:   0h 0m 7s\n",
      "Number of words:  1020\n",
      "Number of labels: 0\n"
     ]
    },
    {
     "name": "stdout",
     "output_type": "stream",
     "text": [
      "Error encountered with parameters {'dim': 128, 'epoch': 200, 'lr': 1, 'minCount': 3, 'ws': 5}: Encountered NaN.\n",
      "{'dim': 128, 'epoch': 200, 'lr': 1, 'minCount': 3, 'ws': 7}\n"
     ]
    },
    {
     "name": "stderr",
     "output_type": "stream",
     "text": [
      "Read 0M words.4% words/sec/thread:   16277 lr:  0.986390 avg.loss: 40.817402 ETA:   0h 0m 7s\n",
      "Number of words:  1020\n",
      "Number of labels: 0\n"
     ]
    },
    {
     "name": "stdout",
     "output_type": "stream",
     "text": [
      "Error encountered with parameters {'dim': 128, 'epoch': 200, 'lr': 1, 'minCount': 3, 'ws': 7}: Encountered NaN.\n",
      "{'dim': 128, 'epoch': 200, 'lr': 1, 'minCount': 3, 'ws': 10}\n"
     ]
    },
    {
     "name": "stderr",
     "output_type": "stream",
     "text": [
      "Read 0M words.3% words/sec/thread:   15096 lr:  0.987376 avg.loss: 39.314667 ETA:   0h 0m 7s\n",
      "Number of words:  4185\n",
      "Number of labels: 0\n"
     ]
    },
    {
     "name": "stdout",
     "output_type": "stream",
     "text": [
      "Error encountered with parameters {'dim': 128, 'epoch': 200, 'lr': 1, 'minCount': 3, 'ws': 10}: Encountered NaN.\n",
      "{'dim': 254, 'epoch': 50, 'lr': 0.1, 'minCount': 1, 'ws': 5}\n"
     ]
    },
    {
     "name": "stderr",
     "output_type": "stream",
     "text": [
      "Progress: 100.0% words/sec/thread:   74618 lr:  0.000000 avg.loss:  1.732229 ETA:   0h 0m 0s\n"
     ]
    },
    {
     "name": "stdout",
     "output_type": "stream",
     "text": [
      "Average Loss: 0\n",
      "{'dim': 254, 'epoch': 50, 'lr': 0.1, 'minCount': 1, 'ws': 7}\n"
     ]
    },
    {
     "name": "stderr",
     "output_type": "stream",
     "text": [
      "Read 0M words\n",
      "Number of words:  4185\n",
      "Number of labels: 0\n",
      "Progress: 100.0% words/sec/thread:   60250 lr: -0.000069 avg.loss:  1.693215 ETA:   0h 0m 0s  60184 lr:  0.000000 avg.loss:  1.693215 ETA:   0h 0m 0s\n",
      "Read 0M words\n",
      "Number of words:  4185\n",
      "Number of labels: 0\n"
     ]
    },
    {
     "name": "stdout",
     "output_type": "stream",
     "text": [
      "Average Loss: 0\n",
      "{'dim': 254, 'epoch': 50, 'lr': 0.1, 'minCount': 1, 'ws': 10}\n"
     ]
    },
    {
     "name": "stderr",
     "output_type": "stream",
     "text": [
      "Progress: 100.0% words/sec/thread:   60025 lr: -0.000017 avg.loss:  1.673484 ETA:   0h 0m 0s words/sec/thread:   59958 lr:  0.000000 avg.loss:  1.673484 ETA:   0h 0m 0s\n",
      "Read 0M words\n",
      "Number of words:  1713\n",
      "Number of labels: 0\n"
     ]
    },
    {
     "name": "stdout",
     "output_type": "stream",
     "text": [
      "Average Loss: 0\n",
      "{'dim': 254, 'epoch': 50, 'lr': 0.1, 'minCount': 2, 'ws': 5}\n"
     ]
    },
    {
     "name": "stderr",
     "output_type": "stream",
     "text": [
      "Progress: 100.0% words/sec/thread:  100076 lr:  0.000000 avg.loss:  1.575176 ETA:   0h 0m 0s\n",
      "Read 0M words\n",
      "Number of words:  1713\n",
      "Number of labels: 0\n"
     ]
    },
    {
     "name": "stdout",
     "output_type": "stream",
     "text": [
      "Average Loss: 0\n",
      "{'dim': 254, 'epoch': 50, 'lr': 0.1, 'minCount': 2, 'ws': 7}\n"
     ]
    },
    {
     "name": "stderr",
     "output_type": "stream",
     "text": [
      "Progress: 100.0% words/sec/thread:  100090 lr:  0.000000 avg.loss:  1.551367 ETA:   0h 0m 0s\n",
      "Read 0M words\n",
      "Number of words:  1713\n",
      "Number of labels: 0\n"
     ]
    },
    {
     "name": "stdout",
     "output_type": "stream",
     "text": [
      "Average Loss: 0\n",
      "{'dim': 254, 'epoch': 50, 'lr': 0.1, 'minCount': 2, 'ws': 10}\n"
     ]
    },
    {
     "name": "stderr",
     "output_type": "stream",
     "text": [
      "Progress: 100.0% words/sec/thread:  100116 lr:  0.000000 avg.loss:  1.567178 ETA:   0h 0m 0s\n",
      "Read 0M words\n",
      "Number of words:  1020\n",
      "Number of labels: 0\n"
     ]
    },
    {
     "name": "stdout",
     "output_type": "stream",
     "text": [
      "Average Loss: 0\n",
      "{'dim': 254, 'epoch': 50, 'lr': 0.1, 'minCount': 3, 'ws': 5}\n"
     ]
    },
    {
     "name": "stderr",
     "output_type": "stream",
     "text": [
      "Progress: 100.0% words/sec/thread:  149828 lr:  0.000000 avg.loss:  1.589567 ETA:   0h 0m 0s avg.loss:  1.589567 ETA:   0h 0m 0s\n",
      "Read 0M words\n",
      "Number of words:  1020\n",
      "Number of labels: 0\n"
     ]
    },
    {
     "name": "stdout",
     "output_type": "stream",
     "text": [
      "Average Loss: 0\n",
      "{'dim': 254, 'epoch': 50, 'lr': 0.1, 'minCount': 3, 'ws': 7}\n"
     ]
    },
    {
     "name": "stderr",
     "output_type": "stream",
     "text": [
      "Progress: 100.0% words/sec/thread:   99088 lr: -0.000057 avg.loss:  1.560239 ETA:   0h 0m 0s"
     ]
    },
    {
     "name": "stdout",
     "output_type": "stream",
     "text": [
      "Average Loss: 0\n",
      "{'dim': 254, 'epoch': 50, 'lr': 0.1, 'minCount': 3, 'ws': 10}\n"
     ]
    },
    {
     "name": "stderr",
     "output_type": "stream",
     "text": [
      " lr:  0.000000 avg.loss:  1.560239 ETA:   0h 0m 0s\n",
      "Read 0M words\n",
      "Number of words:  1020\n",
      "Number of labels: 0\n",
      "Progress: 100.0% words/sec/thread:  150072 lr: -0.000048 avg.loss:  1.559533 ETA:   0h 0m 0s"
     ]
    },
    {
     "name": "stdout",
     "output_type": "stream",
     "text": [
      "Average Loss: 0\n",
      "{'dim': 254, 'epoch': 50, 'lr': 0.5, 'minCount': 1, 'ws': 5}\n"
     ]
    },
    {
     "name": "stderr",
     "output_type": "stream",
     "text": [
      " 0.000000 avg.loss:  1.559533 ETA:   0h 0m 0s\n",
      "Read 0M words\n",
      "Number of words:  4185\n",
      "Number of labels: 0\n",
      "Progress: 100.0% words/sec/thread:   60154 lr:  0.000000 avg.loss: 10.542131 ETA:   0h 0m 0ss\n",
      "Read 0M words\n",
      "Number of words:  4185\n",
      "Number of labels: 0\n"
     ]
    },
    {
     "name": "stdout",
     "output_type": "stream",
     "text": [
      "Average Loss: 0\n",
      "{'dim': 254, 'epoch': 50, 'lr': 0.5, 'minCount': 1, 'ws': 7}\n"
     ]
    },
    {
     "name": "stderr",
     "output_type": "stream",
     "text": [
      "Progress: 100.0% words/sec/thread:   60166 lr:  0.000000 avg.loss: 11.267149 ETA:   0h 0m 0s\n"
     ]
    },
    {
     "name": "stdout",
     "output_type": "stream",
     "text": [
      "Average Loss: 0\n",
      "{'dim': 254, 'epoch': 50, 'lr': 0.5, 'minCount': 1, 'ws': 10}\n"
     ]
    },
    {
     "name": "stderr",
     "output_type": "stream",
     "text": [
      "Read 0M words\n",
      "Number of words:  4185\n",
      "Number of labels: 0\n",
      "Progress: 100.0% words/sec/thread:   60169 lr:  0.000000 avg.loss: 11.250332 ETA:   0h 0m 0s\n"
     ]
    },
    {
     "name": "stdout",
     "output_type": "stream",
     "text": [
      "Average Loss: 0\n",
      "{'dim': 254, 'epoch': 50, 'lr': 0.5, 'minCount': 2, 'ws': 5}\n"
     ]
    },
    {
     "name": "stderr",
     "output_type": "stream",
     "text": [
      "Read 0M words\n",
      "Number of words:  1713\n",
      "Number of labels: 0\n",
      "Progress: 100.0% words/sec/thread:   99198 lr:  0.000000 avg.loss: 12.913713 ETA:   0h 0m 0s\n"
     ]
    },
    {
     "name": "stdout",
     "output_type": "stream",
     "text": [
      "Average Loss: 0\n",
      "{'dim': 254, 'epoch': 50, 'lr': 0.5, 'minCount': 2, 'ws': 7}\n"
     ]
    },
    {
     "name": "stderr",
     "output_type": "stream",
     "text": [
      "Read 0M words\n",
      "Number of words:  1713\n",
      "Number of labels: 0\n",
      "Progress: 100.0% words/sec/thread:  100144 lr:  0.000000 avg.loss: 13.626764 ETA:   0h 0m 0s\n"
     ]
    },
    {
     "name": "stdout",
     "output_type": "stream",
     "text": [
      "Average Loss: 0\n",
      "{'dim': 254, 'epoch': 50, 'lr': 0.5, 'minCount': 2, 'ws': 10}\n"
     ]
    },
    {
     "name": "stderr",
     "output_type": "stream",
     "text": [
      "Read 0M words\n",
      "Number of words:  1713\n",
      "Number of labels: 0\n",
      "Progress: 100.0% words/sec/thread:  100140 lr: -0.000074 avg.loss: 13.565398 ETA:   0h 0m 0s"
     ]
    },
    {
     "name": "stdout",
     "output_type": "stream",
     "text": [
      "Average Loss: 0\n",
      "{'dim': 254, 'epoch': 50, 'lr': 0.5, 'minCount': 3, 'ws': 5}\n"
     ]
    },
    {
     "name": "stderr",
     "output_type": "stream",
     "text": [
      " 0.000000 avg.loss: 13.565398 ETA:   0h 0m 0s\n",
      "Read 0M words\n",
      "Number of words:  1020\n",
      "Number of labels: 0\n",
      "Progress: 100.0% words/sec/thread:  149781 lr:  0.000000 avg.loss: 14.727187 ETA:   0h 0m 0s avg.loss: 14.727187 ETA:   0h 0m 0s\n",
      "Read 0M words\n",
      "Number of words:  1020\n",
      "Number of labels: 0\n"
     ]
    },
    {
     "name": "stdout",
     "output_type": "stream",
     "text": [
      "Average Loss: 0\n",
      "{'dim': 254, 'epoch': 50, 'lr': 0.5, 'minCount': 3, 'ws': 7}\n"
     ]
    },
    {
     "name": "stderr",
     "output_type": "stream",
     "text": [
      "Progress: 100.0% words/sec/thread:  149848 lr:  0.000000 avg.loss: 14.810923 ETA:   0h 0m 0s\n"
     ]
    },
    {
     "name": "stdout",
     "output_type": "stream",
     "text": [
      "Average Loss: 0\n",
      "{'dim': 254, 'epoch': 50, 'lr': 0.5, 'minCount': 3, 'ws': 10}\n"
     ]
    },
    {
     "name": "stderr",
     "output_type": "stream",
     "text": [
      "Read 0M words\n",
      "Number of words:  1020\n",
      "Number of labels: 0\n",
      "Progress: 100.0% words/sec/thread:  149812 lr: -0.000018 avg.loss: 15.097474 ETA:   0h 0m 0s"
     ]
    },
    {
     "name": "stdout",
     "output_type": "stream",
     "text": [
      "Average Loss: 0\n",
      "{'dim': 254, 'epoch': 50, 'lr': 1, 'minCount': 1, 'ws': 5}\n"
     ]
    },
    {
     "name": "stderr",
     "output_type": "stream",
     "text": [
      "% words/sec/thread:  149420 lr:  0.000000 avg.loss: 15.097474 ETA:   0h 0m 0s\n",
      "Read 0M words\n",
      "Number of words:  4185\n",
      "Number of labels: 0\n",
      "Read 0M words.9% words/sec/thread:   26621 lr:  0.911024 avg.loss: 42.484833 ETA:   0h 0m 1s\n",
      "Number of words:  4185\n",
      "Number of labels: 0\n"
     ]
    },
    {
     "name": "stdout",
     "output_type": "stream",
     "text": [
      "Error encountered with parameters {'dim': 254, 'epoch': 50, 'lr': 1, 'minCount': 1, 'ws': 5}: Encountered NaN.\n",
      "{'dim': 254, 'epoch': 50, 'lr': 1, 'minCount': 1, 'ws': 7}\n"
     ]
    },
    {
     "name": "stderr",
     "output_type": "stream",
     "text": [
      "Read 0M words.9% words/sec/thread:   26653 lr:  0.910909 avg.loss: 40.917767 ETA:   0h 0m 1s\n",
      "Number of words:  4185\n",
      "Number of labels: 0\n"
     ]
    },
    {
     "name": "stdout",
     "output_type": "stream",
     "text": [
      "Error encountered with parameters {'dim': 254, 'epoch': 50, 'lr': 1, 'minCount': 1, 'ws': 7}: Encountered NaN.\n",
      "{'dim': 254, 'epoch': 50, 'lr': 1, 'minCount': 1, 'ws': 10}\n"
     ]
    },
    {
     "name": "stderr",
     "output_type": "stream",
     "text": [
      "Read 0M words.4% words/sec/thread:   25123 lr:  0.916011 avg.loss: 41.491123 ETA:   0h 0m 1s\n",
      "Number of words:  1713\n",
      "Number of labels: 0\n"
     ]
    },
    {
     "name": "stdout",
     "output_type": "stream",
     "text": [
      "Error encountered with parameters {'dim': 254, 'epoch': 50, 'lr': 1, 'minCount': 1, 'ws': 10}: Encountered NaN.\n",
      "{'dim': 254, 'epoch': 50, 'lr': 1, 'minCount': 2, 'ws': 5}\n"
     ]
    },
    {
     "name": "stderr",
     "output_type": "stream",
     "text": [
      "Read 0M words.6% words/sec/thread:   19687 lr:  0.934187 avg.loss: 39.869209 ETA:   0h 0m 1s\n",
      "Number of words:  1713\n",
      "Number of labels: 0\n"
     ]
    },
    {
     "name": "stdout",
     "output_type": "stream",
     "text": [
      "Error encountered with parameters {'dim': 254, 'epoch': 50, 'lr': 1, 'minCount': 2, 'ws': 5}: Encountered NaN.\n",
      "{'dim': 254, 'epoch': 50, 'lr': 1, 'minCount': 2, 'ws': 7}\n"
     ]
    },
    {
     "name": "stderr",
     "output_type": "stream",
     "text": [
      "Read 0M words.3% words/sec/thread:   18988 lr:  0.936521 avg.loss: 40.055820 ETA:   0h 0m 1s\n",
      "Number of words:  1713\n",
      "Number of labels: 0\n"
     ]
    },
    {
     "name": "stdout",
     "output_type": "stream",
     "text": [
      "Error encountered with parameters {'dim': 254, 'epoch': 50, 'lr': 1, 'minCount': 2, 'ws': 7}: Encountered NaN.\n",
      "{'dim': 254, 'epoch': 50, 'lr': 1, 'minCount': 2, 'ws': 10}\n"
     ]
    },
    {
     "name": "stderr",
     "output_type": "stream",
     "text": [
      "Read 0M words.0% words/sec/thread:   18035 lr:  0.939709 avg.loss: 41.025280 ETA:   0h 0m 1s\n",
      "Number of words:  1020\n",
      "Number of labels: 0\n"
     ]
    },
    {
     "name": "stdout",
     "output_type": "stream",
     "text": [
      "Error encountered with parameters {'dim': 254, 'epoch': 50, 'lr': 1, 'minCount': 2, 'ws': 10}: Encountered NaN.\n",
      "{'dim': 254, 'epoch': 50, 'lr': 1, 'minCount': 3, 'ws': 5}\n"
     ]
    },
    {
     "name": "stderr",
     "output_type": "stream",
     "text": [
      "Read 0M words.0% words/sec/thread:   18069 lr:  0.939599 avg.loss: 41.823841 ETA:   0h 0m 1s\n",
      "Number of words:  1020\n",
      "Number of labels: 0\n"
     ]
    },
    {
     "name": "stdout",
     "output_type": "stream",
     "text": [
      "Error encountered with parameters {'dim': 254, 'epoch': 50, 'lr': 1, 'minCount': 3, 'ws': 5}: Encountered NaN.\n",
      "{'dim': 254, 'epoch': 50, 'lr': 1, 'minCount': 3, 'ws': 7}\n"
     ]
    },
    {
     "name": "stderr",
     "output_type": "stream",
     "text": [
      "Read 0M words.7% words/sec/thread:   17181 lr:  0.942591 avg.loss: 41.232391 ETA:   0h 0m 1s\n",
      "Number of words:  1020\n",
      "Number of labels: 0\n"
     ]
    },
    {
     "name": "stdout",
     "output_type": "stream",
     "text": [
      "Error encountered with parameters {'dim': 254, 'epoch': 50, 'lr': 1, 'minCount': 3, 'ws': 7}: Encountered NaN.\n",
      "{'dim': 254, 'epoch': 50, 'lr': 1, 'minCount': 3, 'ws': 10}\n"
     ]
    },
    {
     "name": "stderr",
     "output_type": "stream",
     "text": [
      "Read 0M words.3% words/sec/thread:   15790 lr:  0.947215 avg.loss: 40.833427 ETA:   0h 0m 1s\n",
      "Number of words:  4185\n",
      "Number of labels: 0\n"
     ]
    },
    {
     "name": "stdout",
     "output_type": "stream",
     "text": [
      "Error encountered with parameters {'dim': 254, 'epoch': 50, 'lr': 1, 'minCount': 3, 'ws': 10}: Encountered NaN.\n",
      "{'dim': 254, 'epoch': 100, 'lr': 0.1, 'minCount': 1, 'ws': 5}\n"
     ]
    },
    {
     "name": "stderr",
     "output_type": "stream",
     "text": [
      "Progress: 100.0% words/sec/thread:   75300 lr: -0.000009 avg.loss:  0.987192 ETA:   0h 0m 0s"
     ]
    },
    {
     "name": "stdout",
     "output_type": "stream",
     "text": [
      "Average Loss: 0\n",
      "{'dim': 254, 'epoch': 100, 'lr': 0.1, 'minCount': 1, 'ws': 7}\n"
     ]
    },
    {
     "name": "stderr",
     "output_type": "stream",
     "text": [
      "  75258 lr:  0.000000 avg.loss:  0.987192 ETA:   0h 0m 0s\n",
      "Read 0M words\n",
      "Number of words:  4185\n",
      "Number of labels: 0\n",
      "Progress: 100.0% words/sec/thread:   66881 lr:  0.000000 avg.loss:  0.974126 ETA:   0h 0m 0s\n",
      "Read 0M words\n",
      "Number of words:  4185\n",
      "Number of labels: 0\n"
     ]
    },
    {
     "name": "stdout",
     "output_type": "stream",
     "text": [
      "Average Loss: 0\n",
      "{'dim': 254, 'epoch': 100, 'lr': 0.1, 'minCount': 1, 'ws': 10}\n"
     ]
    },
    {
     "name": "stderr",
     "output_type": "stream",
     "text": [
      "Progress: 100.0% words/sec/thread:   66817 lr:  0.000000 avg.loss:  0.951660 ETA:   0h 0m 0s\n"
     ]
    },
    {
     "name": "stdout",
     "output_type": "stream",
     "text": [
      "Average Loss: 0\n",
      "{'dim': 254, 'epoch': 100, 'lr': 0.1, 'minCount': 2, 'ws': 5}\n"
     ]
    },
    {
     "name": "stderr",
     "output_type": "stream",
     "text": [
      "Read 0M words\n",
      "Number of words:  1713\n",
      "Number of labels: 0\n",
      "Progress: 100.0% words/sec/thread:   99996 lr:  0.000000 avg.loss:  0.947533 ETA:   0h 0m 0s\n"
     ]
    },
    {
     "name": "stdout",
     "output_type": "stream",
     "text": [
      "Average Loss: 0\n",
      "{'dim': 254, 'epoch': 100, 'lr': 0.1, 'minCount': 2, 'ws': 7}\n"
     ]
    },
    {
     "name": "stderr",
     "output_type": "stream",
     "text": [
      "Read 0M words\n",
      "Number of words:  1713\n",
      "Number of labels: 0\n",
      "Progress: 100.0% words/sec/thread:  100259 lr:  0.000000 avg.loss:  0.941009 ETA:   0h 0m 0s\n",
      "Read 0M words\n",
      "Number of words:  1713\n",
      "Number of labels: 0\n"
     ]
    },
    {
     "name": "stdout",
     "output_type": "stream",
     "text": [
      "Average Loss: 0\n",
      "{'dim': 254, 'epoch': 100, 'lr': 0.1, 'minCount': 2, 'ws': 10}\n"
     ]
    },
    {
     "name": "stderr",
     "output_type": "stream",
     "text": [
      "Progress: 100.0% words/sec/thread:  100295 lr:  0.000000 avg.loss:  0.939774 ETA:   0h 0m 0s\n",
      "Read 0M words\n",
      "Number of words:  1020\n",
      "Number of labels: 0\n"
     ]
    },
    {
     "name": "stdout",
     "output_type": "stream",
     "text": [
      "Average Loss: 0\n",
      "{'dim': 254, 'epoch': 100, 'lr': 0.1, 'minCount': 3, 'ws': 5}\n"
     ]
    },
    {
     "name": "stderr",
     "output_type": "stream",
     "text": [
      "Progress: 100.0% words/sec/thread:  150289 lr:  0.000000 avg.loss:  1.024276 ETA:   0h 0m 0s\n"
     ]
    },
    {
     "name": "stdout",
     "output_type": "stream",
     "text": [
      "Average Loss: 0\n",
      "{'dim': 254, 'epoch': 100, 'lr': 0.1, 'minCount': 3, 'ws': 7}\n"
     ]
    },
    {
     "name": "stderr",
     "output_type": "stream",
     "text": [
      "Read 0M words\n",
      "Number of words:  1020\n",
      "Number of labels: 0\n",
      "Progress: 100.0% words/sec/thread:  150320 lr:  0.000000 avg.loss:  1.016013 ETA:   0h 0m 0s\n"
     ]
    },
    {
     "name": "stdout",
     "output_type": "stream",
     "text": [
      "Average Loss: 0\n",
      "{'dim': 254, 'epoch': 100, 'lr': 0.1, 'minCount': 3, 'ws': 10}\n"
     ]
    },
    {
     "name": "stderr",
     "output_type": "stream",
     "text": [
      "Read 0M words\n",
      "Number of words:  1020\n",
      "Number of labels: 0\n",
      "Progress: 100.0% words/sec/thread:  120328 lr: -0.000007 avg.loss:  1.007135 ETA:   0h 0m 0s"
     ]
    },
    {
     "name": "stdout",
     "output_type": "stream",
     "text": [
      "Average Loss: 0\n",
      "{'dim': 254, 'epoch': 100, 'lr': 0.5, 'minCount': 1, 'ws': 5}\n"
     ]
    },
    {
     "name": "stderr",
     "output_type": "stream",
     "text": [
      " 0.000000 avg.loss:  1.007135 ETA:   0h 0m 0s\n",
      "Read 0M words\n",
      "Number of words:  4185\n",
      "Number of labels: 0\n",
      "Progress: 100.0% words/sec/thread:   66870 lr:  0.000000 avg.loss: 12.543676 ETA:   0h 0m 0s\n",
      "Read 0M words\n",
      "Number of words:  4185\n",
      "Number of labels: 0\n"
     ]
    },
    {
     "name": "stdout",
     "output_type": "stream",
     "text": [
      "Average Loss: 0\n",
      "{'dim': 254, 'epoch': 100, 'lr': 0.5, 'minCount': 1, 'ws': 7}\n"
     ]
    },
    {
     "name": "stderr",
     "output_type": "stream",
     "text": [
      "Progress: 100.0% words/sec/thread:   66547 lr:  0.000000 avg.loss: 12.668289 ETA:   0h 0m 0s\n"
     ]
    },
    {
     "name": "stdout",
     "output_type": "stream",
     "text": [
      "Average Loss: 0\n",
      "{'dim': 254, 'epoch': 100, 'lr': 0.5, 'minCount': 1, 'ws': 10}\n"
     ]
    },
    {
     "name": "stderr",
     "output_type": "stream",
     "text": [
      "Read 0M words\n",
      "Number of words:  4185\n",
      "Number of labels: 0\n",
      "Progress: 100.0% words/sec/thread:   66879 lr:  0.000000 avg.loss: 12.705215 ETA:   0h 0m 0s\n",
      "Read 0M words\n",
      "Number of words:  1713\n",
      "Number of labels: 0\n"
     ]
    },
    {
     "name": "stdout",
     "output_type": "stream",
     "text": [
      "Average Loss: 0\n",
      "{'dim': 254, 'epoch': 100, 'lr': 0.5, 'minCount': 2, 'ws': 5}\n"
     ]
    },
    {
     "name": "stderr",
     "output_type": "stream",
     "text": [
      "Progress: 100.0% words/sec/thread:  100331 lr:  0.000000 avg.loss: 13.703859 ETA:   0h 0m 0s\n"
     ]
    },
    {
     "name": "stdout",
     "output_type": "stream",
     "text": [
      "Average Loss: 0\n",
      "{'dim': 254, 'epoch': 100, 'lr': 0.5, 'minCount': 2, 'ws': 7}\n"
     ]
    },
    {
     "name": "stderr",
     "output_type": "stream",
     "text": [
      "Read 0M words\n",
      "Number of words:  1713\n",
      "Number of labels: 0\n",
      "Progress: 100.0% words/sec/thread:  100299 lr:  0.000000 avg.loss: 14.161321 ETA:   0h 0m 0s\n",
      "Read 0M words\n",
      "Number of words:  1713\n",
      "Number of labels: 0\n"
     ]
    },
    {
     "name": "stdout",
     "output_type": "stream",
     "text": [
      "Average Loss: 0\n",
      "{'dim': 254, 'epoch': 100, 'lr': 0.5, 'minCount': 2, 'ws': 10}\n"
     ]
    },
    {
     "name": "stderr",
     "output_type": "stream",
     "text": [
      "Progress: 100.0% words/sec/thread:   99739 lr:  0.000000 avg.loss: 14.938519 ETA:   0h 0m 0s\n",
      "Read 0M words\n",
      "Number of words:  1020\n",
      "Number of labels: 0\n"
     ]
    },
    {
     "name": "stdout",
     "output_type": "stream",
     "text": [
      "Average Loss: 0\n",
      "{'dim': 254, 'epoch': 100, 'lr': 0.5, 'minCount': 3, 'ws': 5}\n"
     ]
    },
    {
     "name": "stderr",
     "output_type": "stream",
     "text": [
      "Progress: 100.0% words/sec/thread:  150268 lr:  0.000000 avg.loss: 14.930693 ETA:   0h 0m 0s\n"
     ]
    },
    {
     "name": "stdout",
     "output_type": "stream",
     "text": [
      "Average Loss: 0\n",
      "{'dim': 254, 'epoch': 100, 'lr': 0.5, 'minCount': 3, 'ws': 7}\n"
     ]
    },
    {
     "name": "stderr",
     "output_type": "stream",
     "text": [
      "Read 0M words\n",
      "Number of words:  1020\n",
      "Number of labels: 0\n",
      "Progress: 100.0% words/sec/thread:  149112 lr:  0.000000 avg.loss: 14.903261 ETA:   0h 0m 0s\n",
      "Read 0M words\n",
      "Number of words:  1020\n",
      "Number of labels: 0\n"
     ]
    },
    {
     "name": "stdout",
     "output_type": "stream",
     "text": [
      "Average Loss: 0\n",
      "{'dim': 254, 'epoch': 100, 'lr': 0.5, 'minCount': 3, 'ws': 10}\n"
     ]
    },
    {
     "name": "stderr",
     "output_type": "stream",
     "text": [
      "Progress: 100.0% words/sec/thread:  120298 lr:  0.000000 avg.loss: 15.540727 ETA:   0h 0m 0s\n"
     ]
    },
    {
     "name": "stdout",
     "output_type": "stream",
     "text": [
      "Average Loss: 0\n",
      "{'dim': 254, 'epoch': 100, 'lr': 1, 'minCount': 1, 'ws': 5}\n"
     ]
    },
    {
     "name": "stderr",
     "output_type": "stream",
     "text": [
      "Read 0M words\n",
      "Number of words:  4185\n",
      "Number of labels: 0\n",
      "Read 0M words.2% words/sec/thread:   25089 lr:  0.958058 avg.loss: 41.449436 ETA:   0h 0m 2s\n",
      "Number of words:  4185\n",
      "Number of labels: 0\n"
     ]
    },
    {
     "name": "stdout",
     "output_type": "stream",
     "text": [
      "Error encountered with parameters {'dim': 254, 'epoch': 100, 'lr': 1, 'minCount': 1, 'ws': 5}: Encountered NaN.\n",
      "{'dim': 254, 'epoch': 100, 'lr': 1, 'minCount': 1, 'ws': 7}\n"
     ]
    },
    {
     "name": "stderr",
     "output_type": "stream",
     "text": [
      "Read 0M words.1% words/sec/thread:   24697 lr:  0.958713 avg.loss: 40.815323 ETA:   0h 0m 2s\n",
      "Number of words:  4185\n",
      "Number of labels: 0\n"
     ]
    },
    {
     "name": "stdout",
     "output_type": "stream",
     "text": [
      "Error encountered with parameters {'dim': 254, 'epoch': 100, 'lr': 1, 'minCount': 1, 'ws': 7}: Encountered NaN.\n",
      "{'dim': 254, 'epoch': 100, 'lr': 1, 'minCount': 1, 'ws': 10}\n"
     ]
    },
    {
     "name": "stderr",
     "output_type": "stream",
     "text": [
      "Read 0M words.8% words/sec/thread:   22890 lr:  0.961719 avg.loss: 39.944305 ETA:   0h 0m 2s\n",
      "Number of words:  1713\n",
      "Number of labels: 0\n"
     ]
    },
    {
     "name": "stdout",
     "output_type": "stream",
     "text": [
      "Error encountered with parameters {'dim': 254, 'epoch': 100, 'lr': 1, 'minCount': 1, 'ws': 10}: Encountered NaN.\n",
      "{'dim': 254, 'epoch': 100, 'lr': 1, 'minCount': 2, 'ws': 5}\n"
     ]
    },
    {
     "name": "stderr",
     "output_type": "stream",
     "text": [
      "Read 0M words.1% words/sec/thread:   18819 lr:  0.968533 avg.loss: 38.286846 ETA:   0h 0m 3s\n",
      "Number of words:  1713\n",
      "Number of labels: 0\n"
     ]
    },
    {
     "name": "stdout",
     "output_type": "stream",
     "text": [
      "Error encountered with parameters {'dim': 254, 'epoch': 100, 'lr': 1, 'minCount': 2, 'ws': 5}: Encountered NaN.\n",
      "{'dim': 254, 'epoch': 100, 'lr': 1, 'minCount': 2, 'ws': 7}\n"
     ]
    },
    {
     "name": "stderr",
     "output_type": "stream",
     "text": [
      "Read 0M words.9% words/sec/thread:   17199 lr:  0.971236 avg.loss: 38.812321 ETA:   0h 0m 3s\n",
      "Number of words:  1713\n",
      "Number of labels: 0\n"
     ]
    },
    {
     "name": "stdout",
     "output_type": "stream",
     "text": [
      "Error encountered with parameters {'dim': 254, 'epoch': 100, 'lr': 1, 'minCount': 2, 'ws': 7}: Encountered NaN.\n",
      "{'dim': 254, 'epoch': 100, 'lr': 1, 'minCount': 2, 'ws': 10}\n"
     ]
    },
    {
     "name": "stderr",
     "output_type": "stream",
     "text": [
      "Read 0M words.9% words/sec/thread:   17466 lr:  0.970796 avg.loss: 38.927631 ETA:   0h 0m 3s\n",
      "Number of words:  1020\n",
      "Number of labels: 0\n"
     ]
    },
    {
     "name": "stdout",
     "output_type": "stream",
     "text": [
      "Error encountered with parameters {'dim': 254, 'epoch': 100, 'lr': 1, 'minCount': 2, 'ws': 10}: Encountered NaN.\n",
      "{'dim': 254, 'epoch': 100, 'lr': 1, 'minCount': 3, 'ws': 5}\n"
     ]
    },
    {
     "name": "stderr",
     "output_type": "stream",
     "text": [
      "Read 0M words.9% words/sec/thread:   17142 lr:  0.971350 avg.loss: 40.002304 ETA:   0h 0m 3s\n",
      "Number of words:  1020\n",
      "Number of labels: 0\n"
     ]
    },
    {
     "name": "stdout",
     "output_type": "stream",
     "text": [
      "Error encountered with parameters {'dim': 254, 'epoch': 100, 'lr': 1, 'minCount': 3, 'ws': 5}: Encountered NaN.\n",
      "{'dim': 254, 'epoch': 100, 'lr': 1, 'minCount': 3, 'ws': 7}\n"
     ]
    },
    {
     "name": "stderr",
     "output_type": "stream",
     "text": [
      "Read 0M words.8% words/sec/thread:   16477 lr:  0.972451 avg.loss: 43.946625 ETA:   0h 0m 3s\n",
      "Number of words:  1020\n",
      "Number of labels: 0\n"
     ]
    },
    {
     "name": "stdout",
     "output_type": "stream",
     "text": [
      "Error encountered with parameters {'dim': 254, 'epoch': 100, 'lr': 1, 'minCount': 3, 'ws': 7}: Encountered NaN.\n",
      "{'dim': 254, 'epoch': 100, 'lr': 1, 'minCount': 3, 'ws': 10}\n"
     ]
    },
    {
     "name": "stderr",
     "output_type": "stream",
     "text": [
      "Read 0M words.6% words/sec/thread:   15460 lr:  0.974154 avg.loss: 40.969803 ETA:   0h 0m 3s\n",
      "Number of words:  4185\n",
      "Number of labels: 0\n"
     ]
    },
    {
     "name": "stdout",
     "output_type": "stream",
     "text": [
      "Error encountered with parameters {'dim': 254, 'epoch': 100, 'lr': 1, 'minCount': 3, 'ws': 10}: Encountered NaN.\n",
      "{'dim': 254, 'epoch': 200, 'lr': 0.1, 'minCount': 1, 'ws': 5}\n"
     ]
    },
    {
     "name": "stderr",
     "output_type": "stream",
     "text": [
      "Progress: 100.0% words/sec/thread:   70666 lr:  0.000000 avg.loss:  0.602635 ETA:   0h 0m 0s\n",
      "Read 0M words\n",
      "Number of words:  4185\n",
      "Number of labels: 0\n"
     ]
    },
    {
     "name": "stdout",
     "output_type": "stream",
     "text": [
      "Average Loss: 0\n",
      "{'dim': 254, 'epoch': 200, 'lr': 0.1, 'minCount': 1, 'ws': 7}\n"
     ]
    },
    {
     "name": "stderr",
     "output_type": "stream",
     "text": [
      "Progress: 100.0% words/sec/thread:   70781 lr:  0.000000 avg.loss:  0.596661 ETA:   0h 0m 0s\n"
     ]
    },
    {
     "name": "stdout",
     "output_type": "stream",
     "text": [
      "Average Loss: 0\n",
      "{'dim': 254, 'epoch': 200, 'lr': 0.1, 'minCount': 1, 'ws': 10}\n"
     ]
    },
    {
     "name": "stderr",
     "output_type": "stream",
     "text": [
      "Read 0M words\n",
      "Number of words:  4185\n",
      "Number of labels: 0\n",
      "Progress: 100.0% words/sec/thread:   66898 lr:  0.000000 avg.loss:  0.591388 ETA:   0h 0m 0s"
     ]
    },
    {
     "name": "stdout",
     "output_type": "stream",
     "text": [
      "Average Loss: 0\n",
      "{'dim': 254, 'epoch': 200, 'lr': 0.1, 'minCount': 2, 'ws': 5}\n"
     ]
    },
    {
     "name": "stderr",
     "output_type": "stream",
     "text": [
      " avg.loss:  0.591388 ETA:   0h 0m 0s\n",
      "Read 0M words\n",
      "Number of words:  1713\n",
      "Number of labels: 0\n",
      "Progress: 100.0% words/sec/thread:  109468 lr:  0.000000 avg.loss:  0.650093 ETA:   0h 0m 0s\n"
     ]
    },
    {
     "name": "stdout",
     "output_type": "stream",
     "text": [
      "Average Loss: 0\n",
      "{'dim': 254, 'epoch': 200, 'lr': 0.1, 'minCount': 2, 'ws': 7}\n"
     ]
    },
    {
     "name": "stderr",
     "output_type": "stream",
     "text": [
      "Read 0M words\n",
      "Number of words:  1713\n",
      "Number of labels: 0\n",
      "Progress: 100.0% words/sec/thread:  109476 lr:  0.000000 avg.loss:  0.642008 ETA:   0h 0m 0s\n"
     ]
    },
    {
     "name": "stdout",
     "output_type": "stream",
     "text": [
      "Average Loss: 0\n",
      "{'dim': 254, 'epoch': 200, 'lr': 0.1, 'minCount': 2, 'ws': 10}\n"
     ]
    },
    {
     "name": "stderr",
     "output_type": "stream",
     "text": [
      "Read 0M words\n",
      "Number of words:  1713\n",
      "Number of labels: 0\n",
      "Progress: 100.0% words/sec/thread:  100352 lr:  0.000000 avg.loss:  0.638650 ETA:   0h 0m 0s\n",
      "Read 0M words\n",
      "Number of words:  1020\n",
      "Number of labels: 0\n"
     ]
    },
    {
     "name": "stdout",
     "output_type": "stream",
     "text": [
      "Average Loss: 0\n",
      "{'dim': 254, 'epoch': 200, 'lr': 0.1, 'minCount': 3, 'ws': 5}\n"
     ]
    },
    {
     "name": "stderr",
     "output_type": "stream",
     "text": [
      "Progress: 100.0% words/sec/thread:  150479 lr:  0.000000 avg.loss:  0.748499 ETA:   0h 0m 0s\n"
     ]
    },
    {
     "name": "stdout",
     "output_type": "stream",
     "text": [
      "Average Loss: 0\n",
      "{'dim': 254, 'epoch': 200, 'lr': 0.1, 'minCount': 3, 'ws': 7}\n"
     ]
    },
    {
     "name": "stderr",
     "output_type": "stream",
     "text": [
      "Read 0M words\n",
      "Number of words:  1020\n",
      "Number of labels: 0\n",
      "Progress: 100.0% words/sec/thread:  144789 lr: -0.000010 avg.loss:  0.736848 ETA:   0h 0m 0s 0.000000 avg.loss:  0.736848 ETA:   0h 0m 0s\n",
      "Read 0M words\n",
      "Number of words:  1020\n",
      "Number of labels: 0\n"
     ]
    },
    {
     "name": "stdout",
     "output_type": "stream",
     "text": [
      "Average Loss: 0\n",
      "{'dim': 254, 'epoch': 200, 'lr': 0.1, 'minCount': 3, 'ws': 10}\n"
     ]
    },
    {
     "name": "stderr",
     "output_type": "stream",
     "text": [
      "Progress: 100.0% words/sec/thread:  133819 lr:  0.000000 avg.loss:  0.733666 ETA:   0h 0m 0s\n",
      "Read 0M words\n",
      "Number of words:  4185\n",
      "Number of labels: 0\n"
     ]
    },
    {
     "name": "stdout",
     "output_type": "stream",
     "text": [
      "Average Loss: 0\n",
      "{'dim': 254, 'epoch': 200, 'lr': 0.5, 'minCount': 1, 'ws': 5}\n"
     ]
    },
    {
     "name": "stderr",
     "output_type": "stream",
     "text": [
      "Progress:  40.7% words/sec/thread:   70024 lr:  0.296447 avg.loss: 22.213913 ETA:   0h 0m 1s"
     ]
    },
    {
     "name": "stdout",
     "output_type": "stream",
     "text": [
      "Error encountered with parameters {'dim': 254, 'epoch': 200, 'lr': 0.5, 'minCount': 1, 'ws': 5}: Encountered NaN.\n",
      "{'dim': 254, 'epoch': 200, 'lr': 0.5, 'minCount': 1, 'ws': 7}\n"
     ]
    },
    {
     "name": "stderr",
     "output_type": "stream",
     "text": [
      "Read 0M words\n",
      "Number of words:  4185\n",
      "Number of labels: 0\n",
      "Progress:  35.2% words/sec/thread:   60639 lr:  0.323825 avg.loss: 25.295172 ETA:   0h 0m 1s"
     ]
    },
    {
     "name": "stdout",
     "output_type": "stream",
     "text": [
      "Error encountered with parameters {'dim': 254, 'epoch': 200, 'lr': 0.5, 'minCount': 1, 'ws': 7}: Encountered NaN.\n",
      "{'dim': 254, 'epoch': 200, 'lr': 0.5, 'minCount': 1, 'ws': 10}\n"
     ]
    },
    {
     "name": "stderr",
     "output_type": "stream",
     "text": [
      "Read 0M words\n",
      "Number of words:  4185\n",
      "Number of labels: 0\n",
      "Progress:  32.3% words/sec/thread:   64860 lr:  0.338435 avg.loss: 25.030142 ETA:   0h 0m 1s"
     ]
    },
    {
     "name": "stdout",
     "output_type": "stream",
     "text": [
      "Error encountered with parameters {'dim': 254, 'epoch': 200, 'lr': 0.5, 'minCount': 1, 'ws': 10}: Encountered NaN.\n",
      "{'dim': 254, 'epoch': 200, 'lr': 0.5, 'minCount': 2, 'ws': 5}\n"
     ]
    },
    {
     "name": "stderr",
     "output_type": "stream",
     "text": [
      "Read 0M words\n",
      "Number of words:  1713\n",
      "Number of labels: 0\n",
      "Progress:  24.3% words/sec/thread:   97355 lr:  0.378592 avg.loss: 26.891186 ETA:   0h 0m 0s"
     ]
    },
    {
     "name": "stdout",
     "output_type": "stream",
     "text": [
      "Error encountered with parameters {'dim': 254, 'epoch': 200, 'lr': 0.5, 'minCount': 2, 'ws': 5}: Encountered NaN.\n",
      "{'dim': 254, 'epoch': 200, 'lr': 0.5, 'minCount': 2, 'ws': 7}\n"
     ]
    },
    {
     "name": "stderr",
     "output_type": "stream",
     "text": [
      "Read 0M words\n",
      "Number of words:  1713\n",
      "Number of labels: 0\n",
      "Progress:  22.5% words/sec/thread:   90222 lr:  0.387481 avg.loss: 25.829103 ETA:   0h 0m 1s"
     ]
    },
    {
     "name": "stdout",
     "output_type": "stream",
     "text": [
      "Error encountered with parameters {'dim': 254, 'epoch': 200, 'lr': 0.5, 'minCount': 2, 'ws': 7}: Encountered NaN.\n",
      "{'dim': 254, 'epoch': 200, 'lr': 0.5, 'minCount': 2, 'ws': 10}\n"
     ]
    },
    {
     "name": "stderr",
     "output_type": "stream",
     "text": [
      "Read 0M words\n",
      "Number of words:  1713\n",
      "Number of labels: 0\n",
      "Progress:  21.4% words/sec/thread:   85803 lr:  0.392983 avg.loss: 27.581326 ETA:   0h 0m 1s"
     ]
    },
    {
     "name": "stdout",
     "output_type": "stream",
     "text": [
      "Error encountered with parameters {'dim': 254, 'epoch': 200, 'lr': 0.5, 'minCount': 2, 'ws': 10}: Encountered NaN.\n",
      "{'dim': 254, 'epoch': 200, 'lr': 0.5, 'minCount': 3, 'ws': 5}\n"
     ]
    },
    {
     "name": "stderr",
     "output_type": "stream",
     "text": [
      "Read 0M words\n",
      "Number of words:  1020\n",
      "Number of labels: 0\n",
      "Progress:  21.4% words/sec/thread:  128366 lr:  0.393121 avg.loss: 26.469673 ETA:   0h 0m 0s"
     ]
    },
    {
     "name": "stdout",
     "output_type": "stream",
     "text": [
      "Error encountered with parameters {'dim': 254, 'epoch': 200, 'lr': 0.5, 'minCount': 3, 'ws': 5}: Encountered NaN.\n",
      "{'dim': 254, 'epoch': 200, 'lr': 0.5, 'minCount': 3, 'ws': 7}\n"
     ]
    },
    {
     "name": "stderr",
     "output_type": "stream",
     "text": [
      "Read 0M words\n",
      "Number of words:  1020\n",
      "Number of labels: 0\n",
      "Progress:  20.2% words/sec/thread:  121310 lr:  0.398981 avg.loss: 26.714878 ETA:   0h 0m 0s"
     ]
    },
    {
     "name": "stdout",
     "output_type": "stream",
     "text": [
      "Error encountered with parameters {'dim': 254, 'epoch': 200, 'lr': 0.5, 'minCount': 3, 'ws': 7}: Encountered NaN.\n",
      "{'dim': 254, 'epoch': 200, 'lr': 0.5, 'minCount': 3, 'ws': 10}\n"
     ]
    },
    {
     "name": "stderr",
     "output_type": "stream",
     "text": [
      "Read 0M words\n",
      "Number of words:  1020\n",
      "Number of labels: 0\n",
      "Progress:  19.2% words/sec/thread:  115071 lr:  0.404205 avg.loss: 27.822025 ETA:   0h 0m 0s"
     ]
    },
    {
     "name": "stdout",
     "output_type": "stream",
     "text": [
      "Error encountered with parameters {'dim': 254, 'epoch': 200, 'lr': 0.5, 'minCount': 3, 'ws': 10}: Encountered NaN.\n",
      "{'dim': 254, 'epoch': 200, 'lr': 1, 'minCount': 1, 'ws': 5}\n"
     ]
    },
    {
     "name": "stderr",
     "output_type": "stream",
     "text": [
      "Read 0M words\n",
      "Number of words:  4185\n",
      "Number of labels: 0\n",
      "Read 0M words.1% words/sec/thread:   25014 lr:  0.979083 avg.loss: 39.872223 ETA:   0h 0m 4s\n",
      "Number of words:  4185\n",
      "Number of labels: 0\n"
     ]
    },
    {
     "name": "stdout",
     "output_type": "stream",
     "text": [
      "Error encountered with parameters {'dim': 254, 'epoch': 200, 'lr': 1, 'minCount': 1, 'ws': 5}: Encountered NaN.\n",
      "{'dim': 254, 'epoch': 200, 'lr': 1, 'minCount': 1, 'ws': 7}\n"
     ]
    },
    {
     "name": "stderr",
     "output_type": "stream",
     "text": [
      "Read 0M words.0% words/sec/thread:   24050 lr:  0.979893 avg.loss: 40.697105 ETA:   0h 0m 4s\n",
      "Number of words:  4185\n",
      "Number of labels: 0\n"
     ]
    },
    {
     "name": "stdout",
     "output_type": "stream",
     "text": [
      "Error encountered with parameters {'dim': 254, 'epoch': 200, 'lr': 1, 'minCount': 1, 'ws': 7}: Encountered NaN.\n",
      "{'dim': 254, 'epoch': 200, 'lr': 1, 'minCount': 1, 'ws': 10}\n"
     ]
    },
    {
     "name": "stderr",
     "output_type": "stream",
     "text": [
      "Read 0M words.8% words/sec/thread:   21923 lr:  0.981669 avg.loss: 42.310059 ETA:   0h 0m 5s\n",
      "Number of words:  1713\n",
      "Number of labels: 0\n"
     ]
    },
    {
     "name": "stdout",
     "output_type": "stream",
     "text": [
      "Error encountered with parameters {'dim': 254, 'epoch': 200, 'lr': 1, 'minCount': 1, 'ws': 10}: Encountered NaN.\n",
      "{'dim': 254, 'epoch': 200, 'lr': 1, 'minCount': 2, 'ws': 5}\n"
     ]
    },
    {
     "name": "stderr",
     "output_type": "stream",
     "text": [
      "Read 0M words.5% words/sec/thread:   18484 lr:  0.984541 avg.loss: 38.847260 ETA:   0h 0m 6s\n",
      "Number of words:  1713\n",
      "Number of labels: 0\n"
     ]
    },
    {
     "name": "stdout",
     "output_type": "stream",
     "text": [
      "Error encountered with parameters {'dim': 254, 'epoch': 200, 'lr': 1, 'minCount': 2, 'ws': 5}: Encountered NaN.\n",
      "{'dim': 254, 'epoch': 200, 'lr': 1, 'minCount': 2, 'ws': 7}\n"
     ]
    },
    {
     "name": "stderr",
     "output_type": "stream",
     "text": [
      "Read 0M words.5% words/sec/thread:   17367 lr:  0.985480 avg.loss: 40.551857 ETA:   0h 0m 6s\n",
      "Number of words:  1713\n",
      "Number of labels: 0\n"
     ]
    },
    {
     "name": "stdout",
     "output_type": "stream",
     "text": [
      "Error encountered with parameters {'dim': 254, 'epoch': 200, 'lr': 1, 'minCount': 2, 'ws': 7}: Encountered NaN.\n",
      "{'dim': 254, 'epoch': 200, 'lr': 1, 'minCount': 2, 'ws': 10}\n"
     ]
    },
    {
     "name": "stderr",
     "output_type": "stream",
     "text": [
      "Read 0M words.4% words/sec/thread:   16174 lr:  0.986475 avg.loss: 40.622837 ETA:   0h 0m 7s\n",
      "Number of words:  1020\n",
      "Number of labels: 0\n"
     ]
    },
    {
     "name": "stdout",
     "output_type": "stream",
     "text": [
      "Error encountered with parameters {'dim': 254, 'epoch': 200, 'lr': 1, 'minCount': 2, 'ws': 10}: Encountered NaN.\n",
      "{'dim': 254, 'epoch': 200, 'lr': 1, 'minCount': 3, 'ws': 5}\n"
     ]
    },
    {
     "name": "stderr",
     "output_type": "stream",
     "text": [
      "Read 0M words.4% words/sec/thread:   16903 lr:  0.985869 avg.loss: 43.754604 ETA:   0h 0m 7s\n",
      "Number of words:  1020\n",
      "Number of labels: 0\n"
     ]
    },
    {
     "name": "stdout",
     "output_type": "stream",
     "text": [
      "Error encountered with parameters {'dim': 254, 'epoch': 200, 'lr': 1, 'minCount': 3, 'ws': 5}: Encountered NaN.\n",
      "{'dim': 254, 'epoch': 200, 'lr': 1, 'minCount': 3, 'ws': 7}\n"
     ]
    },
    {
     "name": "stderr",
     "output_type": "stream",
     "text": [
      "Read 0M words.3% words/sec/thread:   15818 lr:  0.986775 avg.loss: 40.222496 ETA:   0h 0m 7s\n",
      "Number of words:  1020\n",
      "Number of labels: 0\n"
     ]
    },
    {
     "name": "stdout",
     "output_type": "stream",
     "text": [
      "Error encountered with parameters {'dim': 254, 'epoch': 200, 'lr': 1, 'minCount': 3, 'ws': 7}: Encountered NaN.\n",
      "{'dim': 254, 'epoch': 200, 'lr': 1, 'minCount': 3, 'ws': 10}\n"
     ]
    },
    {
     "name": "stderr",
     "output_type": "stream",
     "text": [
      "Read 0M words.2% words/sec/thread:   14902 lr:  0.987539 avg.loss: 40.776001 ETA:   0h 0m 8s\n",
      "Number of words:  4185\n",
      "Number of labels: 0\n"
     ]
    },
    {
     "name": "stdout",
     "output_type": "stream",
     "text": [
      "Error encountered with parameters {'dim': 254, 'epoch': 200, 'lr': 1, 'minCount': 3, 'ws': 10}: Encountered NaN.\n",
      "{'dim': 300, 'epoch': 50, 'lr': 0.1, 'minCount': 1, 'ws': 5}\n"
     ]
    },
    {
     "name": "stderr",
     "output_type": "stream",
     "text": [
      "Progress: 100.0% words/sec/thread:   60203 lr: -0.000037 avg.loss:  1.752809 ETA:   0h 0m 0s% words/sec/thread:   60138 lr:  0.000000 avg.loss:  1.752809 ETA:   0h 0m 0s\n",
      "Read 0M words\n",
      "Number of words:  4185\n",
      "Number of labels: 0\n"
     ]
    },
    {
     "name": "stdout",
     "output_type": "stream",
     "text": [
      "Average Loss: 0\n",
      "{'dim': 300, 'epoch': 50, 'lr': 0.1, 'minCount': 1, 'ws': 7}\n"
     ]
    },
    {
     "name": "stderr",
     "output_type": "stream",
     "text": [
      "Progress: 100.0% words/sec/thread:   60169 lr: -0.000023 avg.loss:  1.709847 ETA:   0h 0m 0s  60105 lr:  0.000000 avg.loss:  1.709847 ETA:   0h 0m 0s\n",
      "Read 0M words\n",
      "Number of words:  4185\n",
      "Number of labels: 0\n"
     ]
    },
    {
     "name": "stdout",
     "output_type": "stream",
     "text": [
      "Average Loss: 0\n",
      "{'dim': 300, 'epoch': 50, 'lr': 0.1, 'minCount': 1, 'ws': 10}\n"
     ]
    },
    {
     "name": "stderr",
     "output_type": "stream",
     "text": [
      "Progress: 100.0% words/sec/thread:   50142 lr:  0.000000 avg.loss:  1.683302 ETA:   0h 0m 0s\n",
      "Read 0M words\n",
      "Number of words:  1713\n",
      "Number of labels: 0\n"
     ]
    },
    {
     "name": "stdout",
     "output_type": "stream",
     "text": [
      "Average Loss: 0\n",
      "{'dim': 300, 'epoch': 50, 'lr': 0.1, 'minCount': 2, 'ws': 5}\n"
     ]
    },
    {
     "name": "stderr",
     "output_type": "stream",
     "text": [
      "Progress: 100.0% words/sec/thread:  100053 lr:  0.000000 avg.loss:  1.588246 ETA:   0h 0m 0s\n",
      "Read 0M words\n",
      "Number of words:  1713\n",
      "Number of labels: 0\n"
     ]
    },
    {
     "name": "stdout",
     "output_type": "stream",
     "text": [
      "Average Loss: 0\n",
      "{'dim': 300, 'epoch': 50, 'lr': 0.1, 'minCount': 2, 'ws': 7}\n"
     ]
    },
    {
     "name": "stderr",
     "output_type": "stream",
     "text": [
      "Progress: 100.0% words/sec/thread:   75156 lr:  0.000000 avg.loss:  1.567841 ETA:   0h 0m 0s\n"
     ]
    },
    {
     "name": "stdout",
     "output_type": "stream",
     "text": [
      "Average Loss: 0\n",
      "{'dim': 300, 'epoch': 50, 'lr': 0.1, 'minCount': 2, 'ws': 10}\n"
     ]
    },
    {
     "name": "stderr",
     "output_type": "stream",
     "text": [
      "Read 0M words\n",
      "Number of words:  1713\n",
      "Number of labels: 0\n",
      "Progress: 100.0% words/sec/thread:   75145 lr:  0.000000 avg.loss:  1.552438 ETA:   0h 0m 0s\n"
     ]
    },
    {
     "name": "stdout",
     "output_type": "stream",
     "text": [
      "Average Loss: 0\n",
      "{'dim': 300, 'epoch': 50, 'lr': 0.1, 'minCount': 3, 'ws': 5}\n"
     ]
    },
    {
     "name": "stderr",
     "output_type": "stream",
     "text": [
      "Read 0M words\n",
      "Number of words:  1020\n",
      "Number of labels: 0\n",
      "Progress: 100.0% words/sec/thread:  100038 lr:  0.000000 avg.loss:  1.598883 ETA:   0h 0m 0s\n",
      "Read 0M words\n",
      "Number of words:  1020\n",
      "Number of labels: 0\n"
     ]
    },
    {
     "name": "stdout",
     "output_type": "stream",
     "text": [
      "Average Loss: 0\n",
      "{'dim': 300, 'epoch': 50, 'lr': 0.1, 'minCount': 3, 'ws': 7}\n"
     ]
    },
    {
     "name": "stderr",
     "output_type": "stream",
     "text": [
      "Progress: 100.0% words/sec/thread:  100122 lr:  0.000000 avg.loss:  1.583256 ETA:   0h 0m 0s\n",
      "Read 0M words\n",
      "Number of words:  1020\n",
      "Number of labels: 0\n"
     ]
    },
    {
     "name": "stdout",
     "output_type": "stream",
     "text": [
      "Average Loss: 0\n",
      "{'dim': 300, 'epoch': 50, 'lr': 0.1, 'minCount': 3, 'ws': 10}\n"
     ]
    },
    {
     "name": "stderr",
     "output_type": "stream",
     "text": [
      "Progress: 100.0% words/sec/thread:  100053 lr:  0.000000 avg.loss:  1.576193 ETA:   0h 0m 0s\n",
      "Read 0M words\n",
      "Number of words:  4185\n",
      "Number of labels: 0\n"
     ]
    },
    {
     "name": "stdout",
     "output_type": "stream",
     "text": [
      "Average Loss: 0\n",
      "{'dim': 300, 'epoch': 50, 'lr': 0.5, 'minCount': 1, 'ws': 5}\n"
     ]
    },
    {
     "name": "stderr",
     "output_type": "stream",
     "text": [
      "Progress: 100.0% words/sec/thread:   59941 lr: -0.000191 avg.loss: 10.929813 ETA:   0h 0m 0s  59876 lr:  0.000000 avg.loss: 10.929813 ETA:   0h 0m 0s\n",
      "Read 0M words\n",
      "Number of words:  4185\n",
      "Number of labels: 0\n"
     ]
    },
    {
     "name": "stdout",
     "output_type": "stream",
     "text": [
      "Average Loss: 0\n",
      "{'dim': 300, 'epoch': 50, 'lr': 0.5, 'minCount': 1, 'ws': 7}\n"
     ]
    },
    {
     "name": "stderr",
     "output_type": "stream",
     "text": [
      "Progress: 100.0% words/sec/thread:   60165 lr:  0.000000 avg.loss: 11.127249 ETA:   0h 0m 0s\n"
     ]
    },
    {
     "name": "stdout",
     "output_type": "stream",
     "text": [
      "Average Loss: 0\n",
      "{'dim': 300, 'epoch': 50, 'lr': 0.5, 'minCount': 1, 'ws': 10}\n"
     ]
    },
    {
     "name": "stderr",
     "output_type": "stream",
     "text": [
      "Read 0M words\n",
      "Number of words:  4185\n",
      "Number of labels: 0\n",
      "Progress: 100.0% words/sec/thread:   50172 lr:  0.000000 avg.loss: 11.291182 ETA:   0h 0m 0s\n",
      "Read 0M words\n",
      "Number of words:  1713\n",
      "Number of labels: 0\n"
     ]
    },
    {
     "name": "stdout",
     "output_type": "stream",
     "text": [
      "Average Loss: 0\n",
      "{'dim': 300, 'epoch': 50, 'lr': 0.5, 'minCount': 2, 'ws': 5}\n"
     ]
    },
    {
     "name": "stderr",
     "output_type": "stream",
     "text": [
      "Progress: 100.0% words/sec/thread:  100058 lr:  0.000000 avg.loss: 13.112356 ETA:   0h 0m 0s\n"
     ]
    },
    {
     "name": "stdout",
     "output_type": "stream",
     "text": [
      "Average Loss: 0\n",
      "{'dim': 300, 'epoch': 50, 'lr': 0.5, 'minCount': 2, 'ws': 7}\n"
     ]
    },
    {
     "name": "stderr",
     "output_type": "stream",
     "text": [
      "Read 0M words\n",
      "Number of words:  1713\n",
      "Number of labels: 0\n",
      "Progress: 100.0% words/sec/thread:   75110 lr:  0.000000 avg.loss: 13.669436 ETA:   0h 0m 0s\n"
     ]
    },
    {
     "name": "stdout",
     "output_type": "stream",
     "text": [
      "Average Loss: 0\n",
      "{'dim': 300, 'epoch': 50, 'lr': 0.5, 'minCount': 2, 'ws': 10}\n"
     ]
    },
    {
     "name": "stderr",
     "output_type": "stream",
     "text": [
      "Read 0M words\n",
      "Number of words:  1713\n",
      "Number of labels: 0\n",
      "Progress: 100.0% words/sec/thread:   74740 lr:  0.000000 avg.loss: 13.957968 ETA:   0h 0m 0s\n"
     ]
    },
    {
     "name": "stdout",
     "output_type": "stream",
     "text": [
      "Average Loss: 0\n",
      "{'dim': 300, 'epoch': 50, 'lr': 0.5, 'minCount': 3, 'ws': 5}\n"
     ]
    },
    {
     "name": "stderr",
     "output_type": "stream",
     "text": [
      "Read 0M words\n",
      "Number of words:  1020\n",
      "Number of labels: 0\n",
      "Progress: 100.0% words/sec/thread:  100040 lr:  0.000000 avg.loss: 14.376739 ETA:   0h 0m 0s\n",
      "Read 0M words\n",
      "Number of words:  1020\n",
      "Number of labels: 0\n"
     ]
    },
    {
     "name": "stdout",
     "output_type": "stream",
     "text": [
      "Average Loss: 0\n",
      "{'dim': 300, 'epoch': 50, 'lr': 0.5, 'minCount': 3, 'ws': 7}\n"
     ]
    },
    {
     "name": "stderr",
     "output_type": "stream",
     "text": [
      "Progress: 100.0% words/sec/thread:   99804 lr: -0.000143 avg.loss: 15.173006 ETA:   0h 0m 0s"
     ]
    },
    {
     "name": "stdout",
     "output_type": "stream",
     "text": [
      "Average Loss: 0\n",
      "{'dim': 300, 'epoch': 50, 'lr': 0.5, 'minCount': 3, 'ws': 10}\n"
     ]
    },
    {
     "name": "stderr",
     "output_type": "stream",
     "text": [
      "  99618 lr:  0.000000 avg.loss: 15.173006 ETA:   0h 0m 0s\n",
      "Read 0M words\n",
      "Number of words:  1020\n",
      "Number of labels: 0\n",
      "Progress: 100.0% words/sec/thread:  100113 lr:  0.000000 avg.loss: 15.116023 ETA:   0h 0m 0s\n",
      "Read 0M words\n",
      "Number of words:  4185\n",
      "Number of labels: 0\n"
     ]
    },
    {
     "name": "stdout",
     "output_type": "stream",
     "text": [
      "Average Loss: 0\n",
      "{'dim': 300, 'epoch': 50, 'lr': 1, 'minCount': 1, 'ws': 5}\n"
     ]
    },
    {
     "name": "stderr",
     "output_type": "stream",
     "text": [
      "Progress:   9.1% words/sec/thread:   27301 lr:  0.908695 avg.loss: 41.502033 ETA:   0h 0m 1s"
     ]
    },
    {
     "name": "stdout",
     "output_type": "stream",
     "text": [
      "Error encountered with parameters {'dim': 300, 'epoch': 50, 'lr': 1, 'minCount': 1, 'ws': 5}: Encountered NaN.\n",
      "{'dim': 300, 'epoch': 50, 'lr': 1, 'minCount': 1, 'ws': 7}\n"
     ]
    },
    {
     "name": "stderr",
     "output_type": "stream",
     "text": [
      "Read 0M words\n",
      "Number of words:  4185\n",
      "Number of labels: 0\n",
      "Progress:   8.9% words/sec/thread:   26567 lr:  0.911137 avg.loss: 39.971382 ETA:   0h 0m 1s"
     ]
    },
    {
     "name": "stdout",
     "output_type": "stream",
     "text": [
      "Error encountered with parameters {'dim': 300, 'epoch': 50, 'lr': 1, 'minCount': 1, 'ws': 7}: Encountered NaN.\n",
      "{'dim': 300, 'epoch': 50, 'lr': 1, 'minCount': 1, 'ws': 10}\n"
     ]
    },
    {
     "name": "stderr",
     "output_type": "stream",
     "text": [
      "Read 0M words\n",
      "Number of words:  4185\n",
      "Number of labels: 0\n",
      "Progress:   8.6% words/sec/thread:   25608 lr:  0.914355 avg.loss: 41.618587 ETA:   0h 0m 1s"
     ]
    },
    {
     "name": "stdout",
     "output_type": "stream",
     "text": [
      "Error encountered with parameters {'dim': 300, 'epoch': 50, 'lr': 1, 'minCount': 1, 'ws': 10}: Encountered NaN.\n",
      "{'dim': 300, 'epoch': 50, 'lr': 1, 'minCount': 2, 'ws': 5}\n"
     ]
    },
    {
     "name": "stderr",
     "output_type": "stream",
     "text": [
      "Read 0M words\n",
      "Number of words:  1713\n",
      "Number of labels: 0\n",
      "Progress:   6.6% words/sec/thread:   19743 lr:  0.933961 avg.loss: 39.470493 ETA:   0h 0m 1s"
     ]
    },
    {
     "name": "stdout",
     "output_type": "stream",
     "text": [
      "Error encountered with parameters {'dim': 300, 'epoch': 50, 'lr': 1, 'minCount': 2, 'ws': 5}: Encountered NaN.\n",
      "{'dim': 300, 'epoch': 50, 'lr': 1, 'minCount': 2, 'ws': 7}\n"
     ]
    },
    {
     "name": "stderr",
     "output_type": "stream",
     "text": [
      "Read 0M words\n",
      "Number of words:  1713\n",
      "Number of labels: 0\n",
      "Progress:   6.1% words/sec/thread:   18359 lr:  0.938603 avg.loss: 40.155701 ETA:   0h 0m 1s"
     ]
    },
    {
     "name": "stdout",
     "output_type": "stream",
     "text": [
      "Error encountered with parameters {'dim': 300, 'epoch': 50, 'lr': 1, 'minCount': 2, 'ws': 7}: Encountered NaN.\n",
      "{'dim': 300, 'epoch': 50, 'lr': 1, 'minCount': 2, 'ws': 10}\n"
     ]
    },
    {
     "name": "stderr",
     "output_type": "stream",
     "text": [
      "Read 0M words\n",
      "Number of words:  1713\n",
      "Number of labels: 0\n",
      "Progress:   5.9% words/sec/thread:   17649 lr:  0.940906 avg.loss: 40.551807 ETA:   0h 0m 1s"
     ]
    },
    {
     "name": "stdout",
     "output_type": "stream",
     "text": [
      "Error encountered with parameters {'dim': 300, 'epoch': 50, 'lr': 1, 'minCount': 2, 'ws': 10}: Encountered NaN.\n",
      "{'dim': 300, 'epoch': 50, 'lr': 1, 'minCount': 3, 'ws': 5}\n"
     ]
    },
    {
     "name": "stderr",
     "output_type": "stream",
     "text": [
      "Read 0M words\n",
      "Number of words:  1020\n",
      "Number of labels: 0\n",
      "Progress:   6.0% words/sec/thread:   17893 lr:  0.940167 avg.loss: 41.605019 ETA:   0h 0m 1s"
     ]
    },
    {
     "name": "stdout",
     "output_type": "stream",
     "text": [
      "Error encountered with parameters {'dim': 300, 'epoch': 50, 'lr': 1, 'minCount': 3, 'ws': 5}: Encountered NaN.\n",
      "{'dim': 300, 'epoch': 50, 'lr': 1, 'minCount': 3, 'ws': 7}\n"
     ]
    },
    {
     "name": "stderr",
     "output_type": "stream",
     "text": [
      "Read 0M words\n",
      "Number of words:  1020\n",
      "Number of labels: 0\n",
      "Progress:   5.8% words/sec/thread:   17363 lr:  0.941935 avg.loss: 38.589520 ETA:   0h 0m 1s"
     ]
    },
    {
     "name": "stdout",
     "output_type": "stream",
     "text": [
      "Error encountered with parameters {'dim': 300, 'epoch': 50, 'lr': 1, 'minCount': 3, 'ws': 7}: Encountered NaN.\n",
      "{'dim': 300, 'epoch': 50, 'lr': 1, 'minCount': 3, 'ws': 10}\n"
     ]
    },
    {
     "name": "stderr",
     "output_type": "stream",
     "text": [
      "Read 0M words\n",
      "Number of words:  1020\n",
      "Number of labels: 0\n",
      "Progress:   5.5% words/sec/thread:   16506 lr:  0.944799 avg.loss: 40.983242 ETA:   0h 0m 1s"
     ]
    },
    {
     "name": "stdout",
     "output_type": "stream",
     "text": [
      "Error encountered with parameters {'dim': 300, 'epoch': 50, 'lr': 1, 'minCount': 3, 'ws': 10}: Encountered NaN.\n",
      "{'dim': 300, 'epoch': 100, 'lr': 0.1, 'minCount': 1, 'ws': 5}\n"
     ]
    },
    {
     "name": "stderr",
     "output_type": "stream",
     "text": [
      "Read 0M words\n",
      "Number of words:  4185\n",
      "Number of labels: 0\n",
      "Progress: 100.0% words/sec/thread:   60194 lr:  0.000000 avg.loss:  0.994723 ETA:   0h 0m 0s\n"
     ]
    },
    {
     "name": "stdout",
     "output_type": "stream",
     "text": [
      "Average Loss: 0\n",
      "{'dim': 300, 'epoch': 100, 'lr': 0.1, 'minCount': 1, 'ws': 7}\n"
     ]
    },
    {
     "name": "stderr",
     "output_type": "stream",
     "text": [
      "Read 0M words\n",
      "Number of words:  4185\n",
      "Number of labels: 0\n",
      "Progress: 100.0% words/sec/thread:   59981 lr:  0.000000 avg.loss:  0.975403 ETA:   0h 0m 0s 31.2% words/sec/thread:   62034 lr:  0.068779 avg.loss:  2.149415 ETA:   0h 0m 0s\n",
      "Read 0M words\n",
      "Number of words:  4185\n",
      "Number of labels: 0\n"
     ]
    },
    {
     "name": "stdout",
     "output_type": "stream",
     "text": [
      "Average Loss: 0\n",
      "{'dim': 300, 'epoch': 100, 'lr': 0.1, 'minCount': 1, 'ws': 10}\n"
     ]
    },
    {
     "name": "stderr",
     "output_type": "stream",
     "text": [
      "Progress: 100.0% words/sec/thread:   54719 lr:  0.000000 avg.loss:  0.954485 ETA:   0h 0m 0s\n"
     ]
    },
    {
     "name": "stdout",
     "output_type": "stream",
     "text": [
      "Average Loss: 0\n",
      "{'dim': 300, 'epoch': 100, 'lr': 0.1, 'minCount': 2, 'ws': 5}\n"
     ]
    },
    {
     "name": "stderr",
     "output_type": "stream",
     "text": [
      "Read 0M words\n",
      "Number of words:  1713\n",
      "Number of labels: 0\n",
      "Progress: 100.0% words/sec/thread:  100129 lr:  0.000000 avg.loss:  0.960984 ETA:   0h 0m 0s\n",
      "Read 0M words\n",
      "Number of words:  1713\n",
      "Number of labels: 0\n"
     ]
    },
    {
     "name": "stdout",
     "output_type": "stream",
     "text": [
      "Average Loss: 0\n",
      "{'dim': 300, 'epoch': 100, 'lr': 0.1, 'minCount': 2, 'ws': 7}\n"
     ]
    },
    {
     "name": "stderr",
     "output_type": "stream",
     "text": [
      "Progress: 100.0% words/sec/thread:   85037 lr: -0.000021 avg.loss:  0.945243 ETA:   0h 0m 0s"
     ]
    },
    {
     "name": "stdout",
     "output_type": "stream",
     "text": [
      "Average Loss: 0\n",
      "{'dim': 300, 'epoch': 100, 'lr': 0.1, 'minCount': 2, 'ws': 10}\n"
     ]
    },
    {
     "name": "stderr",
     "output_type": "stream",
     "text": [
      "100.0% words/sec/thread:   84959 lr:  0.000000 avg.loss:  0.945243 ETA:   0h 0m 0s\n",
      "Read 0M words\n",
      "Number of words:  1713\n",
      "Number of labels: 0\n",
      "Progress: 100.0% words/sec/thread:   85936 lr:  0.000000 avg.loss:  0.948612 ETA:   0h 0m 0s\n"
     ]
    },
    {
     "name": "stdout",
     "output_type": "stream",
     "text": [
      "Average Loss: 0\n",
      "{'dim': 300, 'epoch': 100, 'lr': 0.1, 'minCount': 3, 'ws': 5}\n"
     ]
    },
    {
     "name": "stderr",
     "output_type": "stream",
     "text": [
      "Read 0M words\n",
      "Number of words:  1020\n",
      "Number of labels: 0\n",
      "Progress: 100.0% words/sec/thread:  119866 lr: -0.000009 avg.loss:  1.032746 ETA:   0h 0m 0s"
     ]
    },
    {
     "name": "stdout",
     "output_type": "stream",
     "text": [
      "Average Loss: 0\n",
      "{'dim': 300, 'epoch': 100, 'lr': 0.1, 'minCount': 3, 'ws': 7}\n"
     ]
    },
    {
     "name": "stderr",
     "output_type": "stream",
     "text": [
      " lr:  0.000000 avg.loss:  1.032746 ETA:   0h 0m 0s\n",
      "Read 0M words\n",
      "Number of words:  1020\n",
      "Number of labels: 0\n",
      "Progress: 100.0% words/sec/thread:  120355 lr:  0.000000 avg.loss:  1.024863 ETA:   0h 0m 0s\n"
     ]
    },
    {
     "name": "stdout",
     "output_type": "stream",
     "text": [
      "Average Loss: 0\n",
      "{'dim': 300, 'epoch': 100, 'lr': 0.1, 'minCount': 3, 'ws': 10}\n"
     ]
    },
    {
     "name": "stderr",
     "output_type": "stream",
     "text": [
      "Read 0M words\n",
      "Number of words:  1020\n",
      "Number of labels: 0\n",
      "Progress: 100.0% words/sec/thread:  120457 lr: -0.000027 avg.loss:  1.013155 ETA:   0h 0m 0s"
     ]
    },
    {
     "name": "stdout",
     "output_type": "stream",
     "text": [
      "Average Loss: 0\n",
      "{'dim': 300, 'epoch': 100, 'lr': 0.5, 'minCount': 1, 'ws': 5}\n"
     ]
    },
    {
     "name": "stderr",
     "output_type": "stream",
     "text": [
      " 120322 lr:  0.000000 avg.loss:  1.013155 ETA:   0h 0m 0s\n",
      "Read 0M words\n",
      "Number of words:  4185\n",
      "Number of labels: 0\n",
      "Progress: 100.0% words/sec/thread:   60035 lr: -0.000192 avg.loss: 12.278616 ETA:   0h 0m 0s"
     ]
    },
    {
     "name": "stdout",
     "output_type": "stream",
     "text": [
      "Average Loss: 0\n",
      "{'dim': 300, 'epoch': 100, 'lr': 0.5, 'minCount': 1, 'ws': 7}\n"
     ]
    },
    {
     "name": "stderr",
     "output_type": "stream",
     "text": [
      " 0.000000 avg.loss: 12.278616 ETA:   0h 0m 0s\n",
      "Read 0M words\n",
      "Number of words:  4185\n",
      "Number of labels: 0\n",
      "Progress: 100.0% words/sec/thread:   60018 lr:  0.000000 avg.loss: 12.383497 ETA:   0h 0m 0s\n"
     ]
    },
    {
     "name": "stdout",
     "output_type": "stream",
     "text": [
      "Average Loss: 0\n",
      "{'dim': 300, 'epoch': 100, 'lr': 0.5, 'minCount': 1, 'ws': 10}\n"
     ]
    },
    {
     "name": "stderr",
     "output_type": "stream",
     "text": [
      "Read 0M words\n",
      "Number of words:  4185\n",
      "Number of labels: 0\n",
      "Progress: 100.0% words/sec/thread:   54675 lr:  0.000000 avg.loss: 12.725949 ETA:   0h 0m 0s\n"
     ]
    },
    {
     "name": "stdout",
     "output_type": "stream",
     "text": [
      "Average Loss: 0\n",
      "{'dim': 300, 'epoch': 100, 'lr': 0.5, 'minCount': 2, 'ws': 5}\n"
     ]
    },
    {
     "name": "stderr",
     "output_type": "stream",
     "text": [
      "Read 0M words\n",
      "Number of words:  1713\n",
      "Number of labels: 0\n",
      "Progress: 100.0% words/sec/thread:  100259 lr:  0.000000 avg.loss: 14.782374 ETA:   0h 0m 0s\n"
     ]
    },
    {
     "name": "stdout",
     "output_type": "stream",
     "text": [
      "Average Loss: 0\n",
      "{'dim': 300, 'epoch': 100, 'lr': 0.5, 'minCount': 2, 'ws': 7}\n"
     ]
    },
    {
     "name": "stderr",
     "output_type": "stream",
     "text": [
      "Read 0M words\n",
      "Number of words:  1713\n",
      "Number of labels: 0\n",
      "Progress: 100.0% words/sec/thread:   85973 lr:  0.000000 avg.loss: 14.491100 ETA:   0h 0m 0s\n"
     ]
    },
    {
     "name": "stdout",
     "output_type": "stream",
     "text": [
      "Average Loss: 0\n",
      "{'dim': 300, 'epoch': 100, 'lr': 0.5, 'minCount': 2, 'ws': 10}\n"
     ]
    },
    {
     "name": "stderr",
     "output_type": "stream",
     "text": [
      "Read 0M words\n",
      "Number of words:  1713\n",
      "Number of labels: 0\n",
      "Progress: 100.0% words/sec/thread:   85853 lr:  0.000000 avg.loss: 14.521154 ETA:   0h 0m 0s\n"
     ]
    },
    {
     "name": "stdout",
     "output_type": "stream",
     "text": [
      "Average Loss: 0\n",
      "{'dim': 300, 'epoch': 100, 'lr': 0.5, 'minCount': 3, 'ws': 5}\n"
     ]
    },
    {
     "name": "stderr",
     "output_type": "stream",
     "text": [
      "Read 0M words\n",
      "Number of words:  1020\n",
      "Number of labels: 0\n",
      "Progress: 100.0% words/sec/thread:  120068 lr: -0.000139 avg.loss: 14.864429 ETA:   0h 0m 0s"
     ]
    },
    {
     "name": "stdout",
     "output_type": "stream",
     "text": [
      "Average Loss: 0\n",
      "{'dim': 300, 'epoch': 100, 'lr': 0.5, 'minCount': 3, 'ws': 7}\n"
     ]
    },
    {
     "name": "stderr",
     "output_type": "stream",
     "text": [
      " 0.000000 avg.loss: 14.864429 ETA:   0h 0m 0s\n",
      "Read 0M words\n",
      "Number of words:  1020\n",
      "Number of labels: 0\n",
      "Progress: 100.0% words/sec/thread:  120082 lr:  0.000000 avg.loss: 13.000267 ETA:   0h 0m 0s\n"
     ]
    },
    {
     "name": "stdout",
     "output_type": "stream",
     "text": [
      "Average Loss: 0\n",
      "{'dim': 300, 'epoch': 100, 'lr': 0.5, 'minCount': 3, 'ws': 10}\n"
     ]
    },
    {
     "name": "stderr",
     "output_type": "stream",
     "text": [
      "Read 0M words\n",
      "Number of words:  1020\n",
      "Number of labels: 0\n",
      "Progress: 100.0% words/sec/thread:  120321 lr:  0.000000 avg.loss: 15.091991 ETA:   0h 0m 0s\n"
     ]
    },
    {
     "name": "stdout",
     "output_type": "stream",
     "text": [
      "Average Loss: 0\n",
      "{'dim': 300, 'epoch': 100, 'lr': 1, 'minCount': 1, 'ws': 5}\n"
     ]
    },
    {
     "name": "stderr",
     "output_type": "stream",
     "text": [
      "Read 0M words\n",
      "Number of words:  4185\n",
      "Number of labels: 0\n",
      "Progress:   4.3% words/sec/thread:   25907 lr:  0.956679 avg.loss: 40.275005 ETA:   0h 0m 2s"
     ]
    },
    {
     "name": "stdout",
     "output_type": "stream",
     "text": [
      "Error encountered with parameters {'dim': 300, 'epoch': 100, 'lr': 1, 'minCount': 1, 'ws': 5}: Encountered NaN.\n",
      "{'dim': 300, 'epoch': 100, 'lr': 1, 'minCount': 1, 'ws': 7}\n"
     ]
    },
    {
     "name": "stderr",
     "output_type": "stream",
     "text": [
      "Read 0M words\n",
      "Number of words:  4185\n",
      "Number of labels: 0\n",
      "Progress:   4.0% words/sec/thread:   24217 lr:  0.959500 avg.loss: 40.122143 ETA:   0h 0m 2s"
     ]
    },
    {
     "name": "stdout",
     "output_type": "stream",
     "text": [
      "Error encountered with parameters {'dim': 300, 'epoch': 100, 'lr': 1, 'minCount': 1, 'ws': 7}: Encountered NaN.\n",
      "{'dim': 300, 'epoch': 100, 'lr': 1, 'minCount': 1, 'ws': 10}\n"
     ]
    },
    {
     "name": "stderr",
     "output_type": "stream",
     "text": [
      "Read 0M words\n",
      "Number of words:  4185\n",
      "Number of labels: 0\n",
      "Progress:   3.9% words/sec/thread:   23218 lr:  0.961167 avg.loss: 39.627090 ETA:   0h 0m 2s"
     ]
    },
    {
     "name": "stdout",
     "output_type": "stream",
     "text": [
      "Error encountered with parameters {'dim': 300, 'epoch': 100, 'lr': 1, 'minCount': 1, 'ws': 10}: Encountered NaN.\n",
      "{'dim': 300, 'epoch': 100, 'lr': 1, 'minCount': 2, 'ws': 5}\n"
     ]
    },
    {
     "name": "stderr",
     "output_type": "stream",
     "text": [
      "Read 0M words\n",
      "Number of words:  1713\n",
      "Number of labels: 0\n",
      "Progress:   3.0% words/sec/thread:   17798 lr:  0.970239 avg.loss: 40.335865 ETA:   0h 0m 3s"
     ]
    },
    {
     "name": "stdout",
     "output_type": "stream",
     "text": [
      "Error encountered with parameters {'dim': 300, 'epoch': 100, 'lr': 1, 'minCount': 2, 'ws': 5}: Encountered NaN.\n",
      "{'dim': 300, 'epoch': 100, 'lr': 1, 'minCount': 2, 'ws': 7}\n"
     ]
    },
    {
     "name": "stderr",
     "output_type": "stream",
     "text": [
      "Read 0M words\n",
      "Number of words:  1713\n",
      "Number of labels: 0\n",
      "Progress:   3.0% words/sec/thread:   17801 lr:  0.970239 avg.loss: 39.966187 ETA:   0h 0m 3s"
     ]
    },
    {
     "name": "stdout",
     "output_type": "stream",
     "text": [
      "Error encountered with parameters {'dim': 300, 'epoch': 100, 'lr': 1, 'minCount': 2, 'ws': 7}: Encountered NaN.\n",
      "{'dim': 300, 'epoch': 100, 'lr': 1, 'minCount': 2, 'ws': 10}\n"
     ]
    },
    {
     "name": "stderr",
     "output_type": "stream",
     "text": [
      "Read 0M words\n",
      "Number of words:  1713\n",
      "Number of labels: 0\n",
      "Progress:   2.9% words/sec/thread:   17199 lr:  0.971237 avg.loss: 39.910030 ETA:   0h 0m 3s"
     ]
    },
    {
     "name": "stdout",
     "output_type": "stream",
     "text": [
      "Error encountered with parameters {'dim': 300, 'epoch': 100, 'lr': 1, 'minCount': 2, 'ws': 10}: Encountered NaN.\n",
      "{'dim': 300, 'epoch': 100, 'lr': 1, 'minCount': 3, 'ws': 5}\n"
     ]
    },
    {
     "name": "stderr",
     "output_type": "stream",
     "text": [
      "Read 0M words\n",
      "Number of words:  1020\n",
      "Number of labels: 0\n",
      "Progress:   3.0% words/sec/thread:   17725 lr:  0.970364 avg.loss: 41.152843 ETA:   0h 0m 3s"
     ]
    },
    {
     "name": "stdout",
     "output_type": "stream",
     "text": [
      "Error encountered with parameters {'dim': 300, 'epoch': 100, 'lr': 1, 'minCount': 3, 'ws': 5}: Encountered NaN.\n",
      "{'dim': 300, 'epoch': 100, 'lr': 1, 'minCount': 3, 'ws': 7}\n"
     ]
    },
    {
     "name": "stderr",
     "output_type": "stream",
     "text": [
      "Read 0M words\n",
      "Number of words:  1020\n",
      "Number of labels: 0\n",
      "Progress:   2.7% words/sec/thread:   16375 lr:  0.972617 avg.loss: 41.288479 ETA:   0h 0m 3s"
     ]
    },
    {
     "name": "stdout",
     "output_type": "stream",
     "text": [
      "Error encountered with parameters {'dim': 300, 'epoch': 100, 'lr': 1, 'minCount': 3, 'ws': 7}: Encountered NaN.\n",
      "{'dim': 300, 'epoch': 100, 'lr': 1, 'minCount': 3, 'ws': 10}\n"
     ]
    },
    {
     "name": "stderr",
     "output_type": "stream",
     "text": [
      "Read 0M words\n",
      "Number of words:  1020\n",
      "Number of labels: 0\n",
      "Progress:   2.8% words/sec/thread:   16539 lr:  0.972344 avg.loss: 39.984951 ETA:   0h 0m 3s"
     ]
    },
    {
     "name": "stdout",
     "output_type": "stream",
     "text": [
      "Error encountered with parameters {'dim': 300, 'epoch': 100, 'lr': 1, 'minCount': 3, 'ws': 10}: Encountered NaN.\n",
      "{'dim': 300, 'epoch': 200, 'lr': 0.1, 'minCount': 1, 'ws': 5}\n"
     ]
    },
    {
     "name": "stderr",
     "output_type": "stream",
     "text": [
      "Read 0M words\n",
      "Number of words:  4185\n",
      "Number of labels: 0\n",
      "Progress: 100.0% words/sec/thread:   63048 lr:  0.000000 avg.loss:  0.613313 ETA:   0h 0m 0s avg.loss:  0.701412 ETA:   0h 0m 0s\n"
     ]
    },
    {
     "name": "stdout",
     "output_type": "stream",
     "text": [
      "Average Loss: 0\n",
      "{'dim': 300, 'epoch': 200, 'lr': 0.1, 'minCount': 1, 'ws': 7}\n"
     ]
    },
    {
     "name": "stderr",
     "output_type": "stream",
     "text": [
      "Read 0M words\n",
      "Number of words:  4185\n",
      "Number of labels: 0\n",
      "Progress: 100.0% words/sec/thread:   60224 lr:  0.000000 avg.loss:  0.605830 ETA:   0h 0m 0s\n",
      "Read 0M words\n",
      "Number of words:  4185\n",
      "Number of labels: 0\n"
     ]
    },
    {
     "name": "stdout",
     "output_type": "stream",
     "text": [
      "Average Loss: 0\n",
      "{'dim': 300, 'epoch': 200, 'lr': 0.1, 'minCount': 1, 'ws': 10}\n"
     ]
    },
    {
     "name": "stderr",
     "output_type": "stream",
     "text": [
      "Progress: 100.0% words/sec/thread:   57336 lr:  0.000000 avg.loss:  0.592078 ETA:   0h 0m 0s\n",
      "Read 0M words\n",
      "Number of words:  1713\n",
      "Number of labels: 0\n"
     ]
    },
    {
     "name": "stdout",
     "output_type": "stream",
     "text": [
      "Average Loss: 0\n",
      "{'dim': 300, 'epoch': 200, 'lr': 0.1, 'minCount': 2, 'ws': 5}\n"
     ]
    },
    {
     "name": "stderr",
     "output_type": "stream",
     "text": [
      "Progress: 100.0% words/sec/thread:   92637 lr: -0.000011 avg.loss:  0.649376 ETA:   0h 0m 0s words/sec/thread:   92599 lr:  0.000000 avg.loss:  0.649376 ETA:   0h 0m 0s\n",
      "Read 0M words\n",
      "Number of words:  1713\n",
      "Number of labels: 0\n"
     ]
    },
    {
     "name": "stdout",
     "output_type": "stream",
     "text": [
      "Average Loss: 0\n",
      "{'dim': 300, 'epoch': 200, 'lr': 0.1, 'minCount': 2, 'ws': 7}\n"
     ]
    },
    {
     "name": "stderr",
     "output_type": "stream",
     "text": [
      "Progress: 100.0% words/sec/thread:   92618 lr:  0.000000 avg.loss:  0.644252 ETA:   0h 0m 0s\n"
     ]
    },
    {
     "name": "stdout",
     "output_type": "stream",
     "text": [
      "Average Loss: 0\n",
      "{'dim': 300, 'epoch': 200, 'lr': 0.1, 'minCount': 2, 'ws': 10}\n"
     ]
    },
    {
     "name": "stderr",
     "output_type": "stream",
     "text": [
      "Read 0M words\n",
      "Number of words:  1713\n",
      "Number of labels: 0\n",
      "Progress: 100.0% words/sec/thread:   92632 lr:  0.000000 avg.loss:  0.644126 ETA:   0h 0m 0s\n"
     ]
    },
    {
     "name": "stdout",
     "output_type": "stream",
     "text": [
      "Average Loss: 0\n",
      "{'dim': 300, 'epoch': 200, 'lr': 0.1, 'minCount': 3, 'ws': 5}\n"
     ]
    },
    {
     "name": "stderr",
     "output_type": "stream",
     "text": [
      "Read 0M words\n",
      "Number of words:  1020\n",
      "Number of labels: 0\n",
      "Progress: 100.0% words/sec/thread:  133754 lr:  0.000000 avg.loss:  0.744135 ETA:   0h 0m 0s\n"
     ]
    },
    {
     "name": "stdout",
     "output_type": "stream",
     "text": [
      "Average Loss: 0\n",
      "{'dim': 300, 'epoch': 200, 'lr': 0.1, 'minCount': 3, 'ws': 7}\n"
     ]
    },
    {
     "name": "stderr",
     "output_type": "stream",
     "text": [
      "Read 0M words\n",
      "Number of words:  1020\n",
      "Number of labels: 0\n",
      "Progress: 100.0% words/sec/thread:  120427 lr:  0.000000 avg.loss:  0.745133 ETA:   0h 0m 0s\n"
     ]
    },
    {
     "name": "stdout",
     "output_type": "stream",
     "text": [
      "Average Loss: 0\n",
      "{'dim': 300, 'epoch': 200, 'lr': 0.1, 'minCount': 3, 'ws': 10}\n"
     ]
    },
    {
     "name": "stderr",
     "output_type": "stream",
     "text": [
      "Read 0M words\n",
      "Number of words:  1020\n",
      "Number of labels: 0\n",
      "Progress: 100.0% words/sec/thread:  120426 lr:  0.000000 avg.loss:  0.738074 ETA:   0h 0m 0s\n"
     ]
    },
    {
     "name": "stdout",
     "output_type": "stream",
     "text": [
      "Average Loss: 0\n",
      "{'dim': 300, 'epoch': 200, 'lr': 0.5, 'minCount': 1, 'ws': 5}\n"
     ]
    },
    {
     "name": "stderr",
     "output_type": "stream",
     "text": [
      "Read 0M words\n",
      "Number of words:  4185\n",
      "Number of labels: 0\n",
      "Progress:  41.4% words/sec/thread:   62402 lr:  0.292769 avg.loss: 22.560165 ETA:   0h 0m 1s"
     ]
    },
    {
     "name": "stdout",
     "output_type": "stream",
     "text": [
      "Error encountered with parameters {'dim': 300, 'epoch': 200, 'lr': 0.5, 'minCount': 1, 'ws': 5}: Encountered NaN.\n",
      "{'dim': 300, 'epoch': 200, 'lr': 0.5, 'minCount': 1, 'ws': 7}\n"
     ]
    },
    {
     "name": "stderr",
     "output_type": "stream",
     "text": [
      "Read 0M words\n",
      "Number of words:  4185\n",
      "Number of labels: 0\n",
      "Progress:  34.9% words/sec/thread:   60037 lr:  0.325534 avg.loss: 24.869392 ETA:   0h 0m 1s"
     ]
    },
    {
     "name": "stdout",
     "output_type": "stream",
     "text": [
      "Error encountered with parameters {'dim': 300, 'epoch': 200, 'lr': 0.5, 'minCount': 1, 'ws': 7}: Encountered NaN.\n",
      "{'dim': 300, 'epoch': 200, 'lr': 0.5, 'minCount': 1, 'ws': 10}\n"
     ]
    },
    {
     "name": "stderr",
     "output_type": "stream",
     "text": [
      "Read 0M words\n",
      "Number of words:  4185\n",
      "Number of labels: 0\n",
      "Progress:  32.0% words/sec/thread:   54686 lr:  0.340245 avg.loss: 24.676559 ETA:   0h 0m 1s"
     ]
    },
    {
     "name": "stdout",
     "output_type": "stream",
     "text": [
      "Error encountered with parameters {'dim': 300, 'epoch': 200, 'lr': 0.5, 'minCount': 1, 'ws': 10}: Encountered NaN.\n",
      "{'dim': 300, 'epoch': 200, 'lr': 0.5, 'minCount': 2, 'ws': 5}\n"
     ]
    },
    {
     "name": "stderr",
     "output_type": "stream",
     "text": [
      "Read 0M words\n",
      "Number of words:  1713\n",
      "Number of labels: 0\n",
      "Progress:  24.7% words/sec/thread:   98952 lr:  0.376603 avg.loss: 25.718815 ETA:   0h 0m 0s"
     ]
    },
    {
     "name": "stdout",
     "output_type": "stream",
     "text": [
      "Error encountered with parameters {'dim': 300, 'epoch': 200, 'lr': 0.5, 'minCount': 2, 'ws': 5}: Encountered NaN.\n",
      "{'dim': 300, 'epoch': 200, 'lr': 0.5, 'minCount': 2, 'ws': 7}\n"
     ]
    },
    {
     "name": "stderr",
     "output_type": "stream",
     "text": [
      "Read 0M words\n",
      "Number of words:  1713\n",
      "Number of labels: 0\n",
      "Progress:  23.0% words/sec/thread:   92066 lr:  0.385192 avg.loss: 26.124166 ETA:   0h 0m 1s"
     ]
    },
    {
     "name": "stdout",
     "output_type": "stream",
     "text": [
      "Error encountered with parameters {'dim': 300, 'epoch': 200, 'lr': 0.5, 'minCount': 2, 'ws': 7}: Encountered NaN.\n",
      "{'dim': 300, 'epoch': 200, 'lr': 0.5, 'minCount': 2, 'ws': 10}\n"
     ]
    },
    {
     "name": "stderr",
     "output_type": "stream",
     "text": [
      "Read 0M words\n",
      "Number of words:  1713\n",
      "Number of labels: 0\n",
      "Progress:  21.5% words/sec/thread:   86375 lr:  0.392281 avg.loss: 27.457512 ETA:   0h 0m 1s"
     ]
    },
    {
     "name": "stdout",
     "output_type": "stream",
     "text": [
      "Error encountered with parameters {'dim': 300, 'epoch': 200, 'lr': 0.5, 'minCount': 2, 'ws': 10}: Encountered NaN.\n",
      "{'dim': 300, 'epoch': 200, 'lr': 0.5, 'minCount': 3, 'ws': 5}\n"
     ]
    },
    {
     "name": "stderr",
     "output_type": "stream",
     "text": [
      "Read 0M words\n",
      "Number of words:  1020\n",
      "Number of labels: 0\n",
      "Progress:  21.5% words/sec/thread:  129329 lr:  0.392322 avg.loss: 27.042625 ETA:   0h 0m 0s"
     ]
    },
    {
     "name": "stdout",
     "output_type": "stream",
     "text": [
      "Error encountered with parameters {'dim': 300, 'epoch': 200, 'lr': 0.5, 'minCount': 3, 'ws': 5}: Encountered NaN.\n",
      "{'dim': 300, 'epoch': 200, 'lr': 0.5, 'minCount': 3, 'ws': 7}\n"
     ]
    },
    {
     "name": "stderr",
     "output_type": "stream",
     "text": [
      "Read 0M words\n",
      "Number of words:  1020\n",
      "Number of labels: 0\n",
      "Progress:  20.3% words/sec/thread:  121923 lr:  0.398445 avg.loss: 26.831640 ETA:   0h 0m 0s"
     ]
    },
    {
     "name": "stdout",
     "output_type": "stream",
     "text": [
      "Error encountered with parameters {'dim': 300, 'epoch': 200, 'lr': 0.5, 'minCount': 3, 'ws': 7}: Encountered NaN.\n",
      "{'dim': 300, 'epoch': 200, 'lr': 0.5, 'minCount': 3, 'ws': 10}\n"
     ]
    },
    {
     "name": "stderr",
     "output_type": "stream",
     "text": [
      "Read 0M words\n",
      "Number of words:  1020\n",
      "Number of labels: 0\n",
      "Progress:  19.3% words/sec/thread:  116171 lr:  0.403294 avg.loss: 27.521156 ETA:   0h 0m 0s"
     ]
    },
    {
     "name": "stdout",
     "output_type": "stream",
     "text": [
      "Error encountered with parameters {'dim': 300, 'epoch': 200, 'lr': 0.5, 'minCount': 3, 'ws': 10}: Encountered NaN.\n",
      "{'dim': 300, 'epoch': 200, 'lr': 1, 'minCount': 1, 'ws': 5}\n"
     ]
    },
    {
     "name": "stderr",
     "output_type": "stream",
     "text": [
      "Read 0M words\n",
      "Number of words:  4185\n",
      "Number of labels: 0\n",
      "Progress:   2.1% words/sec/thread:   24982 lr:  0.979112 avg.loss: 40.889652 ETA:   0h 0m 4s"
     ]
    },
    {
     "name": "stdout",
     "output_type": "stream",
     "text": [
      "Error encountered with parameters {'dim': 300, 'epoch': 200, 'lr': 1, 'minCount': 1, 'ws': 5}: Encountered NaN.\n",
      "{'dim': 300, 'epoch': 200, 'lr': 1, 'minCount': 1, 'ws': 7}\n"
     ]
    },
    {
     "name": "stderr",
     "output_type": "stream",
     "text": [
      "Read 0M words\n",
      "Number of words:  4185\n",
      "Number of labels: 0\n",
      "Progress:   2.0% words/sec/thread:   23752 lr:  0.980142 avg.loss: 41.187683 ETA:   0h 0m 4s"
     ]
    },
    {
     "name": "stdout",
     "output_type": "stream",
     "text": [
      "Error encountered with parameters {'dim': 300, 'epoch': 200, 'lr': 1, 'minCount': 1, 'ws': 7}: Encountered NaN.\n",
      "{'dim': 300, 'epoch': 200, 'lr': 1, 'minCount': 1, 'ws': 10}\n"
     ]
    },
    {
     "name": "stderr",
     "output_type": "stream",
     "text": [
      "Read 0M words\n",
      "Number of words:  4185\n",
      "Number of labels: 0\n",
      "Progress:   1.9% words/sec/thread:   22291 lr:  0.981362 avg.loss: 40.476269 ETA:   0h 0m 5s"
     ]
    },
    {
     "name": "stdout",
     "output_type": "stream",
     "text": [
      "Error encountered with parameters {'dim': 300, 'epoch': 200, 'lr': 1, 'minCount': 1, 'ws': 10}: Encountered NaN.\n",
      "{'dim': 300, 'epoch': 200, 'lr': 1, 'minCount': 2, 'ws': 5}\n"
     ]
    },
    {
     "name": "stderr",
     "output_type": "stream",
     "text": [
      "Read 0M words\n",
      "Number of words:  1713\n",
      "Number of labels: 0\n",
      "Progress:   1.5% words/sec/thread:   17657 lr:  0.985231 avg.loss: 39.369370 ETA:   0h 0m 6s"
     ]
    },
    {
     "name": "stdout",
     "output_type": "stream",
     "text": [
      "Error encountered with parameters {'dim': 300, 'epoch': 200, 'lr': 1, 'minCount': 2, 'ws': 5}: Encountered NaN.\n",
      "{'dim': 300, 'epoch': 200, 'lr': 1, 'minCount': 2, 'ws': 7}\n"
     ]
    },
    {
     "name": "stderr",
     "output_type": "stream",
     "text": [
      "Read 0M words\n",
      "Number of words:  1713\n",
      "Number of labels: 0\n",
      "Progress:   1.5% words/sec/thread:   17401 lr:  0.985449 avg.loss: 40.207703 ETA:   0h 0m 6s"
     ]
    },
    {
     "name": "stdout",
     "output_type": "stream",
     "text": [
      "Error encountered with parameters {'dim': 300, 'epoch': 200, 'lr': 1, 'minCount': 2, 'ws': 7}: Encountered NaN.\n",
      "{'dim': 300, 'epoch': 200, 'lr': 1, 'minCount': 2, 'ws': 10}\n"
     ]
    },
    {
     "name": "stderr",
     "output_type": "stream",
     "text": [
      "Read 0M words\n",
      "Number of words:  1713\n",
      "Number of labels: 0\n",
      "Progress:   1.4% words/sec/thread:   17000 lr:  0.985785 avg.loss: 40.152496 ETA:   0h 0m 7s"
     ]
    },
    {
     "name": "stdout",
     "output_type": "stream",
     "text": [
      "Error encountered with parameters {'dim': 300, 'epoch': 200, 'lr': 1, 'minCount': 2, 'ws': 10}: Encountered NaN.\n",
      "{'dim': 300, 'epoch': 200, 'lr': 1, 'minCount': 3, 'ws': 5}\n"
     ]
    },
    {
     "name": "stderr",
     "output_type": "stream",
     "text": [
      "Read 0M words\n",
      "Number of words:  1020\n",
      "Number of labels: 0\n",
      "Progress:   1.5% words/sec/thread:   17535 lr:  0.985341 avg.loss: 42.185642 ETA:   0h 0m 6s"
     ]
    },
    {
     "name": "stdout",
     "output_type": "stream",
     "text": [
      "Error encountered with parameters {'dim': 300, 'epoch': 200, 'lr': 1, 'minCount': 3, 'ws': 5}: Encountered NaN.\n",
      "{'dim': 300, 'epoch': 200, 'lr': 1, 'minCount': 3, 'ws': 7}\n"
     ]
    },
    {
     "name": "stderr",
     "output_type": "stream",
     "text": [
      "Read 0M words\n",
      "Number of words:  1020\n",
      "Number of labels: 0\n",
      "Progress:   1.3% words/sec/thread:   16082 lr:  0.986557 avg.loss: 40.477501 ETA:   0h 0m 7s"
     ]
    },
    {
     "name": "stdout",
     "output_type": "stream",
     "text": [
      "Error encountered with parameters {'dim': 300, 'epoch': 200, 'lr': 1, 'minCount': 3, 'ws': 7}: Encountered NaN.\n",
      "{'dim': 300, 'epoch': 200, 'lr': 1, 'minCount': 3, 'ws': 10}\n"
     ]
    },
    {
     "name": "stderr",
     "output_type": "stream",
     "text": [
      "Read 0M words\n",
      "Number of words:  1020\n",
      "Number of labels: 0\n"
     ]
    },
    {
     "name": "stdout",
     "output_type": "stream",
     "text": [
      "Error encountered with parameters {'dim': 300, 'epoch': 200, 'lr': 1, 'minCount': 3, 'ws': 10}: Encountered NaN.\n",
      "Best loss: 0\n",
      "Best parameters: {'dim': 128, 'epoch': 50, 'lr': 0.1, 'minCount': 1, 'ws': 5}\n"
     ]
    },
    {
     "name": "stderr",
     "output_type": "stream",
     "text": [
      "Progress:   1.2% words/sec/thread:   14773 lr:  0.987651 avg.loss: 41.580391 ETA:   0h 0m 8s"
     ]
    }
   ],
   "source": [
    "import fasttext\n",
    "from sklearn.model_selection import ParameterGrid\n",
    "import numpy as np\n",
    "\n",
    "# Define the parameter grid\n",
    "grid = {\n",
    "    'dim': [128, 254, 300],\n",
    "    'ws': [5, 7, 10],\n",
    "    'lr': [0.1, 0.5, 1],\n",
    "    'epoch': [50, 100, 200],\n",
    "    'minCount': [1, 2, 3]\n",
    "}\n",
    "\n",
    "best_loss = float('inf')\n",
    "best_params = None\n",
    "\n",
    "# Perform grid search\n",
    "for params in ParameterGrid(grid):\n",
    "    try:\n",
    "        print(params)\n",
    "        model = fasttext.train_unsupervised('../data/isc_sentences.txt', model='cbow', **params)\n",
    "        avg_loss = model.test('../data/isc_sentences.txt')  # Get the average loss\n",
    "        print(f\"Average Loss: {avg_loss[0]}\")\n",
    "        if avg_loss[0] < best_loss:\n",
    "            best_loss = avg_loss[0]\n",
    "            best_params = params\n",
    "    except RuntimeError as e:\n",
    "        print(f\"Error encountered with parameters {params}: {e}\")\n",
    "\n",
    "print(f\"Best loss: {best_loss}\")\n",
    "print(f\"Best parameters: {best_params}\")"
   ]
  },
  {
   "cell_type": "markdown",
   "metadata": {},
   "source": [
    "{'dim': 100, 'epoch': 200, 'lr': 0.1, 'minCount': 1, 'ws': 10}\n",
    "Progress: 100.0% words/sec/thread:  133498 lr:  0.000000 avg.loss:  0.580317 ETA:   0h 0m 0s\n",
    "\n",
    "{'dim': 128, 'epoch': 200, 'lr': 0.1, 'minCount': 1, 'ws': 5}\n",
    "Progress: 100.0% words/sec/thread:  120367 lr:  0.000000 avg.loss:  0.589124 ETA:   0h 0m 0s"
   ]
  },
  {
   "cell_type": "code",
   "execution_count": 17,
   "metadata": {},
   "outputs": [
    {
     "name": "stderr",
     "output_type": "stream",
     "text": [
      "Read 0M words\n",
      "Number of words:  4185\n",
      "Number of labels: 0\n",
      "Progress: 100.0% words/sec/thread:  109350 lr:  0.000000 avg.loss:  0.494360 ETA:   0h 0m 0s\n"
     ]
    }
   ],
   "source": [
    "model = fasttext.train_unsupervised('../data/isc_sentences.txt', dim=100, epoch= 200, lr=0.1, minCount=1, ws=10)"
   ]
  },
  {
   "cell_type": "code",
   "execution_count": 19,
   "metadata": {},
   "outputs": [],
   "source": [
    "model.save_model('../../../O3/models/fasttext_model.bin')\n",
    "model.save_model('../../../O3/models/fasttext_model.vec')"
   ]
  },
  {
   "cell_type": "code",
   "execution_count": null,
   "metadata": {},
   "outputs": [],
   "source": [
    "import numpy as np\n",
    "import random\n",
    "import matplotlib.pyplot as plt\n",
    "from sklearn.manifold import TSNE"
   ]
  },
  {
   "cell_type": "code",
   "execution_count": null,
   "metadata": {},
   "outputs": [],
   "source": [
    "def get_random_word_vectors(model, num_samples=20):\n",
    "    \"\"\"Get random word vectors from the FastText model.\"\"\"\n",
    "    # Get the list of words in the vocabulary\n",
    "    words = model.get_words()\n",
    "    \n",
    "    # Randomly sample words\n",
    "    sampled_words = random.sample(words, num_samples)\n",
    "    \n",
    "    # Retrieve corresponding vectors\n",
    "    vectors = np.array([model.get_word_vector(word) for word in sampled_words])\n",
    "    \n",
    "    return sampled_words, vectors"
   ]
  },
  {
   "cell_type": "code",
   "execution_count": 18,
   "metadata": {},
   "outputs": [],
   "source": [
    "def visualize_embeddings_2D(words, vectors, dimension='tsne'):\n",
    "    \"\"\"Visualize word vectors in 2D using t-SNE or PCA.\"\"\"\n",
    "    # Reduce dimensionality using t-SNE\n",
    "    if dimension == 'tsne':\n",
    "        perplexity = min(30, len(words) - 1)  # Ensure perplexity is less than the number of samples\n",
    "        tsne = TSNE(n_components=2, perplexity=perplexity, random_state=0)\n",
    "        reduced_vectors = tsne.fit_transform(vectors)\n",
    "    # Reduce dimensionality using PCA\n",
    "    # elif dimension == 'pca':\n",
    "    #     pca = PCA(n_components=2)\n",
    "    #     reduced_vectors = pca.fit_transform(vectors)\n",
    "    else:\n",
    "        raise ValueError(\"Invalid dimension specified. Use 'tsne' or 'pca'.\")\n",
    "\n",
    "    # Create a scatter plot\n",
    "    plt.figure(figsize=(10, 8))\n",
    "    plt.scatter(reduced_vectors[:, 0], reduced_vectors[:, 1])\n",
    "\n",
    "    # Annotate each point with the corresponding word\n",
    "    for i, word in enumerate(words):\n",
    "        plt.annotate(word, (reduced_vectors[i, 0], reduced_vectors[i, 1]), fontsize=9)\n",
    "\n",
    "    plt.title(f'Visualización 2D de los embeddings - FastText (t-SNE)')\n",
    "    plt.xlabel('Componente 1')\n",
    "    plt.ylabel('Componente 2')\n",
    "    plt.grid()\n",
    "    plt.show()"
   ]
  },
  {
   "cell_type": "code",
   "execution_count": null,
   "metadata": {},
   "outputs": [],
   "source": [
    "model = fasttext.load_model(\"models/fasttext_32model.bin\")"
   ]
  },
  {
   "cell_type": "code",
   "execution_count": null,
   "metadata": {},
   "outputs": [],
   "source": [
    "words, vectors = get_random_word_vectors(model,num_samples=20)\n",
    "visualize_embeddings_2D(words,vectors)"
   ]
  },
  {
   "cell_type": "code",
   "execution_count": 20,
   "metadata": {},
   "outputs": [],
   "source": [
    "words = model.get_words()\n",
    "\n",
    "# Retrieve corresponding vectors\n",
    "vectors = np.array([model.get_word_vector(word) for word in words])"
   ]
  },
  {
   "cell_type": "code",
   "execution_count": 82,
   "metadata": {},
   "outputs": [
    {
     "data": {
      "image/png": "[encoded data removed]",
      "text/plain": [
       "<Figure size 1000x800 with 1 Axes>"
      ]
     },
     "metadata": {},
     "output_type": "display_data"
    }
   ],
   "source": [
    "import matplotlib.pyplot as plt\n",
    "from sklearn.manifold import TSNE\n",
    "from sklearn.cluster import KMeans\n",
    "import numpy as np\n",
    "# cluster the vectors, plot 2 clusters in 2D with t-SNE, and color the points accordingly, and annotate them with the word\n",
    "def cluster_embeddings(vectors, words, n_clusters=5, clusters_to_plot=[0, 1], max_words_per_cluster=10):\n",
    "    \"\"\"\n",
    "    Cluster the vectors, plot 2 clusters in 2D with t-SNE, and color the points accordingly, and annotate them with the word.\n",
    "    Plot a maximum of 10 words per cluster.\n",
    "\n",
    "    Args:\n",
    "        vectors (list): List of word vectors.\n",
    "        words (list): List of words corresponding to the vectors.\n",
    "        n_clusters (int): Number of clusters to identify.\n",
    "        clusters_to_plot (list): List of cluster indices to plot.\n",
    "        max_words_per_cluster (int): Maximum number of words to plot per cluster.\n",
    "    \"\"\"\n",
    "    # Convert vectors to a NumPy array\n",
    "    vectors = np.array(vectors)\n",
    "    \n",
    "    # Cluster the vectors using KMeans\n",
    "    kmeans = KMeans(n_clusters=n_clusters, random_state=0).fit(vectors)\n",
    "    clusters = kmeans.labels_\n",
    "    \n",
    "    # Reduce dimensionality using t-SNE\n",
    "    perplexity = min(30, len(words) - 1)  # Ensure perplexity is less than the number of samples\n",
    "    tsne = TSNE(n_components=2, perplexity=perplexity, random_state=0)\n",
    "    reduced_vectors = tsne.fit_transform(vectors)\n",
    "    \n",
    "    # Create a scatter plot\n",
    "    plt.figure(figsize=(10, 8))\n",
    "    for cluster in clusters_to_plot:\n",
    "        indices = [i for i, c in enumerate(clusters) if c == cluster]\n",
    "        # Limit the number of words plotted per cluster\n",
    "        indices = indices[:max_words_per_cluster]\n",
    "        plt.scatter(reduced_vectors[indices, 0], reduced_vectors[indices, 1], label=f'Grupo {cluster}')\n",
    "        for i in indices:\n",
    "            plt.annotate(words[i], (reduced_vectors[i, 0], reduced_vectors[i, 1]), fontsize=9)\n",
    "    \n",
    "    plt.title('Visualización 2D de los embeddings - FastText (t-SNE)')\n",
    "    plt.xlabel('Componente 1')\n",
    "    plt.ylabel('Componente 2')\n",
    "    plt.legend()\n",
    "    plt.grid()\n",
    "    plt.show()\n",
    "\n",
    "cluster_embeddings(np.array(vectors), words, n_clusters=100, clusters_to_plot=[57])"
   ]
  },
  {
   "cell_type": "code",
   "execution_count": null,
   "metadata": {},
   "outputs": [],
   "source": [
    "words, vectors = load_vec_file('models/fasttext_32model.vec', num_samples=20)\n",
    "visualize_embeddings_2D(words, vectors)"
   ]
  },
  {
   "cell_type": "markdown",
   "metadata": {},
   "source": [
    "## Notas"
   ]
  },
  {
   "cell_type": "markdown",
   "metadata": {},
   "source": [
    "- fasttext.train_unsupervised('data/isc_sentences.txt', model='skipgram', dim=100, ws=3, lr=0.1, epoch=10, minCount=1)\n",
    "   - Progress: 100.0% words/sec/thread:   59718 lr: -0.000162 avg.loss:  2.933889 ETA:   0h 0m 0s%\n",
    "- fasttext.train_unsupervised('data/isc_sentences.txt', model='skipgram', dim=32, ws=3, lr=0.1, epoch=10, minCount=1)\n",
    "   - Progress: 100.0% words/sec/thread:   59890 lr: -0.000275 avg.loss:  2.932989 ETA:   0h 0m 0s\n",
    "- fasttext.train_unsupervised('data/isc_sentences.txt', model='skipgram', dim=64, ws=3, lr=0.1, epoch=10, minCount=1)\n",
    "   - Progress: 100.0% words/sec/thread:   59352 lr:  0.000000 avg.loss:  2.936122 ETA:   0h 0m 0s\n",
    "- fasttext.train_unsupervised('data/isc_sentences.txt', model='skipgram', dim=16, ws=3, lr=0.1, epoch=10, minCount=1)\n",
    "   - Progress: 100.0% words/sec/thread:   59578 lr:  0.000000 avg.loss:  2.876869 ETA:   0h 0m 0s\n",
    "- fasttext.train_unsupervised('data/isc_sentences.txt', model='skipgram', dim=16, ws=3, lr=0.05, epoch=10, minCount=1)\n",
    "   - Progress: 100.0% words/sec/thread:   59471 lr:  0.000000 avg.loss:  3.276145 ETA:   0h 0m 0s"
   ]
  },
  {
   "cell_type": "markdown",
   "metadata": {},
   "source": [
    "- fasttext.train_unsupervised('data/isc_sentences.txt', model='cbow', dim=100, ws=3, lr=0.1, epoch=10, minCount=1)\n",
    "   - Progress: 100.0% words/sec/thread:   58820 lr:  0.000000 avg.loss:  3.199011 ETA:   0h 0m 0s\n",
    "- fasttext.train_unsupervised('data/isc_sentences.txt', model='cbow', dim=32, ws=3, lr=0.1, epoch=10, minCount=1)\n",
    "   - Progress: 100.0% words/sec/thread:   59630 lr: -0.000108 avg.loss:  3.182995 ETA:   0h 0m 0ss\n",
    "- fasttext.train_unsupervised('data/isc_sentences.txt', model='cbow', dim=64, ws=3, lr=0.1, epoch=10, minCount=1)\n",
    "   - Progress: 100.0% words/sec/thread:   59718 lr: -0.000181 avg.loss:  3.207726 ETA:   0h 0m 0s\n",
    "- fasttext.train_unsupervised('data/isc_sentences.txt', model='cbow', dim=16, ws=3, lr=0.1, epoch=10, minCount=1)\n",
    "   - Progress: 100.0% words/sec/thread:   59288 lr: -0.000107 avg.loss:  3.229246 ETA:   0h 0m 0s\n",
    "- fasttext.train_unsupervised('data/isc_sentences.txt', model='cbow', dim=16, ws=3, lr=0.05, epoch=10, minCount=1)\n",
    "   - Progress: 100.0% words/sec/thread:   59624 lr: -0.000054 avg.loss:  3.624382 ETA:   0h 0m 0s"
   ]
  },
  {
   "cell_type": "markdown",
   "metadata": {},
   "source": [
    "- fasttext.train_unsupervised('data/isc_sentences.txt', model='cbow', dim=100, ws=5, lr=0.1, epoch=50, minCount=1)\n",
    "   - Progress: 100.0% words/sec/thread:  149359 lr:  0.000000 avg.loss:  1.709613 ETA:   0h 0m 0s\n",
    "- fasttext.train_unsupervised('data/isc_sentences.txt', model='cbow', dim=32, ws=5, lr=0.1, epoch=50, minCount=1)\n",
    "   - Progress: 100.0% words/sec/thread:  296740 lr:  0.000000 avg.loss:  1.673889 ETA:   0h 0m 0s\n",
    "- fasttext.train_unsupervised('data/isc_sentences.txt', model='cbow', dim=64, ws=5, lr=0.1, epoch=50, minCount=1)\n",
    "   - Progress: 100.0% words/sec/thread:  149585 lr:  0.000000 avg.loss:  1.661034 ETA:   0h 0m 0s\n",
    "- fasttext.train_unsupervised('data/isc_sentences.txt', model='cbow', dim=16, ws=5, lr=0.1, epoch=50, minCount=1)\n",
    "   - Progress: 100.0% words/sec/thread:  295987 lr:  0.000000 avg.loss:  1.800488 ETA:   0h 0m 0s\n",
    "- fasttext.train_unsupervised('data/isc_sentences.txt', model='cbow', dim=16, ws=5, lr=0.05, epoch=50, minCount=1)\n",
    "   - Progress: 100.0% words/sec/thread:  294007 lr:  0.000000 avg.loss:  2.609519 ETA:   0h 0m 0s"
   ]
  },
  {
   "cell_type": "markdown",
   "metadata": {},
   "source": [
    "- fasttext.train_unsupervised('data/isc_sentences.txt', model='cbow', dim=32, ws=7, lr=0.1, epoch=50, minCount=1)\n",
    "   - Progress: 100.0% words/sec/thread:  296381 lr:  0.000000 avg.loss:  1.644967 ETA:   0h 0m 0s\n",
    "- fasttext.train_unsupervised('data/isc_sentences.txt', model='cbow', dim=64, ws=7, lr=0.1, epoch=50, minCount=1)\n",
    "   - Progress: 100.0% words/sec/thread:  149516 lr:  0.000000 avg.loss:  1.670575 ETA:   0h 0m 0s"
   ]
  },
  {
   "cell_type": "markdown",
   "metadata": {},
   "source": [
    "**Configuración final**\n",
    "- Modelo: cbow\n",
    "- Dimensión: 32\n",
    "- Window size: 7\n",
    "\n",
    "**Configuración alternativa**\n",
    "- Modelo: cbow\n",
    "- Dimensión: 64\n",
    "- Window size: 5\n",
    "\n",
    "**Entrenamiento**\n",
    "- Epochs: 50\n",
    "- Learning rate: 0.1\n",
    "- Min count: 1"
   ]
  },
  {
   "cell_type": "markdown",
   "metadata": {},
   "source": [
    "**Observaciones**\n",
    "- cbow es mejor que skipgram para el tamaño de datos que se tiene\n",
    "- Las mejores configuraciones son con dimensiones de 32 y 64. Las dimensiones de 16 y 100 no son tan buenas.\n",
    "- El window size de 7 es mejor con dimensiones más pequeñas y el window size de 5 es mejor con dimensiones más grandes. Porque con dimensiones más grandes, ya se tiene más información de contexto."
   ]
  }
 ],
 "metadata": {
  "kernelspec": {
   "display_name": "langmodels",
   "language": "python",
   "name": "python3"
  },
  "language_info": {
   "codemirror_mode": {
    "name": "ipython",
    "version": 3
   },
   "file_extension": ".py",
   "mimetype": "text/x-python",
   "name": "python",
   "nbconvert_exporter": "python",
   "pygments_lexer": "ipython3",
   "version": "3.12.3"
  }
 },
 "nbformat": 4,
 "nbformat_minor": 2
}
